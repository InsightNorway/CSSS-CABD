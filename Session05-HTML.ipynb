{
 "cells": [
  {
   "cell_type": "markdown",
   "metadata": {
    "slideshow": {
     "slide_type": "slide"
    }
   },
   "source": [
    "## Scraping websites"
   ]
  },
  {
   "cell_type": "markdown",
   "metadata": {
    "slideshow": {
     "slide_type": "slide"
    }
   },
   "source": [
    "<div class=\"alert alert-info\"> \n",
    "<h1> Your turn</h1>\n",
    "<p>Find the email addresses for the [NYU Sociology faculty](http://as.nyu.edu/sociology/people/faculty.html). \n",
    "<p> <em> Remember to put things in functions as soon as possible. </em>\n",
    "<p>Then try your script on the politics faculty page. Did it work? If not, fix it.\n",
    "</div>\n",
    "\n"
   ]
  },
  {
   "cell_type": "code",
   "execution_count": 99,
   "metadata": {
    "collapsed": true,
    "slideshow": {
     "slide_type": "slide"
    }
   },
   "outputs": [],
   "source": [
    "import requests\n",
    "import re\n",
    "import pandas as pd"
   ]
  },
  {
   "cell_type": "code",
   "execution_count": 100,
   "metadata": {
    "slideshow": {
     "slide_type": "fragment"
    }
   },
   "outputs": [
    {
     "data": {
      "text/plain": [
       "['mailto:neal.caren@gmail.com so']"
      ]
     },
     "execution_count": 100,
     "metadata": {},
     "output_type": "execute_result"
    }
   ],
   "source": [
    "text = 'My email address is mailto:neal.caren@gmail.com so be sure to send me notes.'\n",
    "\n",
    "re.findall('mailto:neal.caren@gmail.com so', text)"
   ]
  },
  {
   "cell_type": "code",
   "execution_count": 101,
   "metadata": {
    "slideshow": {
     "slide_type": "fragment"
    }
   },
   "outputs": [
    {
     "data": {
      "text/plain": [
       "['neal.caren@gmail.com']"
      ]
     },
     "execution_count": 101,
     "metadata": {},
     "output_type": "execute_result"
    }
   ],
   "source": [
    "re.findall('mailto:(.*?) so', text)"
   ]
  },
  {
   "cell_type": "code",
   "execution_count": 102,
   "metadata": {
    "slideshow": {
     "slide_type": "slide"
    }
   },
   "outputs": [
    {
     "data": {
      "text/html": [
       "<div>\n",
       "<style>\n",
       "    .dataframe thead tr:only-child th {\n",
       "        text-align: right;\n",
       "    }\n",
       "\n",
       "    .dataframe thead th {\n",
       "        text-align: left;\n",
       "    }\n",
       "\n",
       "    .dataframe tbody tr th {\n",
       "        vertical-align: top;\n",
       "    }\n",
       "</style>\n",
       "<table border=\"1\" class=\"dataframe\">\n",
       "  <thead>\n",
       "    <tr style=\"text-align: right;\">\n",
       "      <th></th>\n",
       "      <th>email_address</th>\n",
       "      <th>department</th>\n",
       "    </tr>\n",
       "  </thead>\n",
       "  <tbody>\n",
       "    <tr>\n",
       "      <th>0</th>\n",
       "      <td>neal.caren@gmail.com</td>\n",
       "      <td>Sociology</td>\n",
       "    </tr>\n",
       "  </tbody>\n",
       "</table>\n",
       "</div>"
      ],
      "text/plain": [
       "          email_address department\n",
       "0  neal.caren@gmail.com  Sociology"
      ]
     },
     "execution_count": 102,
     "metadata": {},
     "output_type": "execute_result"
    }
   ],
   "source": [
    "emails = re.findall('mailto:(.*?) so', text)\n",
    "df = pd.DataFrame(emails, columns = ['email_address'])\n",
    "df['department'] = 'Sociology'\n",
    "df"
   ]
  },
  {
   "cell_type": "code",
   "execution_count": 103,
   "metadata": {
    "collapsed": true,
    "slideshow": {
     "slide_type": "fragment"
    }
   },
   "outputs": [],
   "source": [
    "df.to_csv('emails.csv')"
   ]
  },
  {
   "cell_type": "code",
   "execution_count": 113,
   "metadata": {
    "collapsed": true,
    "slideshow": {
     "slide_type": "slide"
    }
   },
   "outputs": [],
   "source": [
    "url = 'http://as.nyu.edu/sociology/people/faculty.html'\n",
    "html = requests.get(url).text\n",
    "emails = re.findall('mailto:(.*?)\"', html)"
   ]
  },
  {
   "cell_type": "code",
   "execution_count": 114,
   "metadata": {
    "slideshow": {
     "slide_type": "fragment"
    }
   },
   "outputs": [
    {
     "data": {
      "text/plain": [
       "[u'delia.b@nyu.edu',\n",
       " u'siwei.cheng@nyu.edu',\n",
       " u'vivek.chibber@nyu.edu',\n",
       " u'sarahkcowan@nyu.edu',\n",
       " u'pd1092@nyu.edu',\n",
       " u'jo.dixon@nyu.edu',\n",
       " u'pengland@nyu.edu',\n",
       " u'thomas.ertman@nyu.edu',\n",
       " u'David.Garland@nyu.edu',\n",
       " u'amanda.geller@nyu.edu',\n",
       " u'kathleen.gerson@nyu.edu',\n",
       " u'jgoodwin.nyu@gmail.com',\n",
       " u'david.greenberg@nyu.edu',\n",
       " u'lynne.haney@nyu.edu',\n",
       " u'ruth.horowitz@nyu.edu',\n",
       " u'mikehout@nyu.edu',\n",
       " u'mary.beth.hunzaker@nyu.edu',\n",
       " u'robert.max.jackson@nyu.edu',\n",
       " u'gj1@nyu.edu',\n",
       " u'jerolmack@nyu.edu',\n",
       " u'nahoko.kameo@nyu.edu',\n",
       " u'eric.klinenberg@nyu.edu',\n",
       " u'sl53@nyu.edu',\n",
       " u'manza@nyu.edu',\n",
       " u'harvey.molotch@nyu.edu',\n",
       " u'ann.morning@nyu.edu',\n",
       " u'dr101@nyu.edu',\n",
       " u'pts1@nyu.edu',\n",
       " u'iddo.tavory@nyu.edu',\n",
       " u'lawrence.wu@nyu.edu']"
      ]
     },
     "execution_count": 114,
     "metadata": {},
     "output_type": "execute_result"
    }
   ],
   "source": [
    "emails"
   ]
  },
  {
   "cell_type": "code",
   "execution_count": 115,
   "metadata": {
    "collapsed": true,
    "slideshow": {
     "slide_type": "slide"
    }
   },
   "outputs": [],
   "source": [
    "url = 'http://as.nyu.edu/politics/people.html'\n",
    "html = requests.get(url).text\n"
   ]
  },
  {
   "cell_type": "code",
   "execution_count": 123,
   "metadata": {
    "slideshow": {
     "slide_type": "fragment"
    }
   },
   "outputs": [],
   "source": [
    "emails = re.findall('theme__text--light\">(.*?)<', html)"
   ]
  },
  {
   "cell_type": "code",
   "execution_count": 126,
   "metadata": {
    "slideshow": {
     "slide_type": "slide"
    }
   },
   "outputs": [
    {
     "data": {
      "text/plain": [
       "[u'bernd.beber@nyu.edu',\n",
       " u'nathaniel.beck@nyu.edu',\n",
       " u'steven.brams@nyu.edu',\n",
       " u'bruce.buenodemesquita@nyu.edu',\n",
       " u'amy.catalinac@nyu.edu',\n",
       " u'kanchan.chandra [@] gmail.com',\n",
       " u'cdawes@nyu.edu',\n",
       " u'David.Denoon@nyu.edu',\n",
       " u'eric.dickson@nyu.edu',\n",
       " u'tiberiu.dragu@nyu.edu',\n",
       " u'patrick.egan@nyu.edu',\n",
       " u'john.ferejohn [@] nyu.edu',\n",
       " u'michael.gilligan@nyu.edu',\n",
       " u'sanford.gordon@nyu.edu',\n",
       " u'catherine.hafer@nyu.edu',\n",
       " u'christine.harrington@nyu.edu',\n",
       " u'anna.harvey@nyu.edu',\n",
       " u'stephen.holmes@nyu.edu',\n",
       " u'jch2@nyu.edu',\n",
       " u'dimitri.landa@nyu.edu',\n",
       " u'jenn.larson@nyu.edu',\n",
       " u'michael.laver@nyu.edu',\n",
       " u'bernard.manin@nyu.edu',\n",
       " u'lmm1@nyu.edu',\n",
       " u'rebecca.morton@nyu.edu',\n",
       " u'jonathan.nagler@nyu.edu',\n",
       " u'obertell@netscape.net',\n",
       " u'pp14@nyu.edu',\n",
       " u'ryan.pevnick@nyu.edu',\n",
       " u'adam.przeworski@nyu.edu',\n",
       " u'pablo.querubin@gmail.com',\n",
       " u'peter.rosendorff@nyu.edu',\n",
       " u'hr31@nyu.edu',\n",
       " u'arturas.rozenas@nyu.edu',\n",
       " u'cds2083@nyu.edu',\n",
       " u'shanker.satyanath@nyu.edu',\n",
       " u'ms5@nyu.edu',\n",
       " u'ms268@nyu.edu',\n",
       " u'nms234@nyu.edu',\n",
       " u'alastair.smith@nyu.edu',\n",
       " u'arthur.spirling@nyu.edu',\n",
       " u'david.stasavage@nyu.edu',\n",
       " u'joshua.tucker@nyu.edu']"
      ]
     },
     "execution_count": 126,
     "metadata": {},
     "output_type": "execute_result"
    }
   ],
   "source": [
    "re.findall('theme__text--light\">(.*?)<', html.replace(' [at] ','@') )"
   ]
  },
  {
   "cell_type": "markdown",
   "metadata": {
    "slideshow": {
     "slide_type": "slide"
    }
   },
   "source": [
    "Tip 1: You can split the HTML and process each section"
   ]
  },
  {
   "cell_type": "code",
   "execution_count": 229,
   "metadata": {
    "slideshow": {
     "slide_type": "fragment"
    }
   },
   "outputs": [
    {
     "data": {
      "text/plain": [
       "['Remember', 'when', 'we', 'learned', 'about', 'split?']"
      ]
     },
     "execution_count": 229,
     "metadata": {},
     "output_type": "execute_result"
    }
   ],
   "source": [
    "'Remember when we learned about split?'.split()"
   ]
  },
  {
   "cell_type": "code",
   "execution_count": 230,
   "metadata": {
    "slideshow": {
     "slide_type": "fragment"
    }
   },
   "outputs": [
    {
     "data": {
      "text/plain": [
       "['Remember when ', ' learned about split?']"
      ]
     },
     "execution_count": 230,
     "metadata": {},
     "output_type": "execute_result"
    }
   ],
   "source": [
    "'Remember when we learned about split?'.split('we')"
   ]
  },
  {
   "cell_type": "code",
   "execution_count": 139,
   "metadata": {
    "collapsed": true,
    "slideshow": {
     "slide_type": "slide"
    }
   },
   "outputs": [],
   "source": [
    "html = requests.get('http://as.nyu.edu/sociology/people/faculty.html').text\n",
    "\n",
    "slices = html.split('filtered-items-item js-filter-item')"
   ]
  },
  {
   "cell_type": "code",
   "execution_count": 129,
   "metadata": {
    "slideshow": {
     "slide_type": "fragment"
    }
   },
   "outputs": [
    {
     "data": {
      "text/plain": [
       "33"
      ]
     },
     "execution_count": 129,
     "metadata": {},
     "output_type": "execute_result"
    }
   ],
   "source": [
    "len(slices)"
   ]
  },
  {
   "cell_type": "code",
   "execution_count": 130,
   "metadata": {
    "slideshow": {
     "slide_type": "slide"
    }
   },
   "outputs": [
    {
     "data": {
      "text/plain": [
       "u'\" data-filter-keys=\"letter,department\" data-filter-letter=\"Chibber\" data-filter-department=\"Department of Sociology\">\\n                <a class=\"facultydirectorybio-person__name theme__text--dark\" href=\"/sociology/people/faculty.vivek-a-chibber.html\" title=\"Vivek Chibber\">Vivek Chibber</a>\\n                <span class=\"facultydirectorybio-person__position\">Professor Of Sociology</span>\\n                <span class=\"facultydirectorybio-person__department\">Department of Sociology</span>\\n                <br/>\\n                <span class=\"facultydirectorybio-person__email\">\\n                    <a href=\"mailto:vivek.chibber@nyu.edu\" title=\"Email Vivek A Chibber\" class=\"theme__text--light\">vivek.chibber@nyu.edu</a>\\n                </span>\\n                \\n                <span class=\"facultydirectorybio-person__address\">Puck Building, Room 4120, 295 Lafayette Street New York, NY 10012</span>\\n                \\n                \\n                <span class=\"facultydirectorybio-person__address\">Phone: (212) 998-3541 </span>\\n                <br/>\\n            </div>\\n\\n            \\n        \\n            \\n            \\n            <div class=\"'"
      ]
     },
     "execution_count": 130,
     "metadata": {},
     "output_type": "execute_result"
    }
   ],
   "source": [
    "slices[4]"
   ]
  },
  {
   "cell_type": "code",
   "execution_count": 134,
   "metadata": {
    "slideshow": {
     "slide_type": "fragment"
    }
   },
   "outputs": [
    {
     "data": {
      "text/plain": [
       "[u'Vivek Chibber', u'Email Vivek A Chibber']"
      ]
     },
     "execution_count": 134,
     "metadata": {},
     "output_type": "execute_result"
    }
   ],
   "source": [
    "re.findall('title=\"(.*?)\"', slices[4])"
   ]
  },
  {
   "cell_type": "code",
   "execution_count": 135,
   "metadata": {
    "slideshow": {
     "slide_type": "fragment"
    }
   },
   "outputs": [
    {
     "data": {
      "text/plain": [
       "[u'Delia Baldassarri', u'Email Delia Baldassarri']"
      ]
     },
     "execution_count": 135,
     "metadata": {},
     "output_type": "execute_result"
    }
   ],
   "source": [
    "re.findall('title=\"(.*?)\"', slices[2])"
   ]
  },
  {
   "cell_type": "code",
   "execution_count": 136,
   "metadata": {
    "slideshow": {
     "slide_type": "fragment"
    }
   },
   "outputs": [
    {
     "data": {
      "text/plain": [
       "u'Jo Dixon'"
      ]
     },
     "execution_count": 136,
     "metadata": {},
     "output_type": "execute_result"
    }
   ],
   "source": [
    "re.findall('title=\"(.*?)\"', slices[7])[0]"
   ]
  },
  {
   "cell_type": "code",
   "execution_count": 146,
   "metadata": {
    "collapsed": true,
    "slideshow": {
     "slide_type": "slide"
    }
   },
   "outputs": [],
   "source": [
    "def find_name(slice):\n",
    "    return re.findall('title=\"(.*?)\"', slice)[0]"
   ]
  },
  {
   "cell_type": "code",
   "execution_count": 147,
   "metadata": {
    "slideshow": {
     "slide_type": "fragment"
    }
   },
   "outputs": [
    {
     "data": {
      "text/plain": [
       "u'Lynne Haney'"
      ]
     },
     "execution_count": 147,
     "metadata": {},
     "output_type": "execute_result"
    }
   ],
   "source": [
    "find_name(slices[15])"
   ]
  },
  {
   "cell_type": "code",
   "execution_count": 143,
   "metadata": {
    "collapsed": true,
    "slideshow": {
     "slide_type": "slide"
    }
   },
   "outputs": [],
   "source": [
    "def find_email(slice):\n",
    "    return re.findall('mailto:(.*?)\"', slice)[0]"
   ]
  },
  {
   "cell_type": "code",
   "execution_count": 144,
   "metadata": {
    "slideshow": {
     "slide_type": "fragment"
    }
   },
   "outputs": [
    {
     "data": {
      "text/plain": [
       "u'lynne.haney@nyu.edu'"
      ]
     },
     "execution_count": 144,
     "metadata": {},
     "output_type": "execute_result"
    }
   ],
   "source": [
    "find_email(slices[15])"
   ]
  },
  {
   "cell_type": "code",
   "execution_count": 153,
   "metadata": {
    "collapsed": true,
    "slideshow": {
     "slide_type": "slide"
    }
   },
   "outputs": [],
   "source": [
    "def scrape_person(slice):\n",
    "    name = find_name(slice)\n",
    "    email = find_email(slice)\n",
    "    entry = {'name' : name,\n",
    "             'email': email }\n",
    "    return entry"
   ]
  },
  {
   "cell_type": "code",
   "execution_count": 154,
   "metadata": {
    "slideshow": {
     "slide_type": "fragment"
    }
   },
   "outputs": [
    {
     "data": {
      "text/plain": [
       "{'email': u'mikehout@nyu.edu', 'name': u'Michael Hout'}"
      ]
     },
     "execution_count": 154,
     "metadata": {},
     "output_type": "execute_result"
    }
   ],
   "source": [
    "scrape_person(slices[17])"
   ]
  },
  {
   "cell_type": "code",
   "execution_count": 156,
   "metadata": {
    "slideshow": {
     "slide_type": "slide"
    }
   },
   "outputs": [
    {
     "ename": "IndexError",
     "evalue": "list index out of range",
     "output_type": "error",
     "traceback": [
      "\u001b[0;31m---------------------------------------------------------------------------\u001b[0m",
      "\u001b[0;31mIndexError\u001b[0m                                Traceback (most recent call last)",
      "\u001b[0;32m<ipython-input-156-6859458505c1>\u001b[0m in \u001b[0;36m<module>\u001b[0;34m()\u001b[0m\n\u001b[1;32m      1\u001b[0m \u001b[0;32mfor\u001b[0m \u001b[0mslice\u001b[0m \u001b[0;32min\u001b[0m \u001b[0mslices\u001b[0m\u001b[0;34m:\u001b[0m\u001b[0;34m\u001b[0m\u001b[0m\n\u001b[0;32m----> 2\u001b[0;31m     \u001b[0;32mprint\u001b[0m\u001b[0;34m(\u001b[0m\u001b[0mscrape_person\u001b[0m\u001b[0;34m(\u001b[0m\u001b[0mslice\u001b[0m\u001b[0;34m)\u001b[0m\u001b[0;34m)\u001b[0m\u001b[0;34m\u001b[0m\u001b[0m\n\u001b[0m",
      "\u001b[0;32m<ipython-input-153-26b3dd89776c>\u001b[0m in \u001b[0;36mscrape_person\u001b[0;34m(slice)\u001b[0m\n\u001b[1;32m      1\u001b[0m \u001b[0;32mdef\u001b[0m \u001b[0mscrape_person\u001b[0m\u001b[0;34m(\u001b[0m\u001b[0mslice\u001b[0m\u001b[0;34m)\u001b[0m\u001b[0;34m:\u001b[0m\u001b[0;34m\u001b[0m\u001b[0m\n\u001b[1;32m      2\u001b[0m     \u001b[0mname\u001b[0m \u001b[0;34m=\u001b[0m \u001b[0mfind_name\u001b[0m\u001b[0;34m(\u001b[0m\u001b[0mslice\u001b[0m\u001b[0;34m)\u001b[0m\u001b[0;34m\u001b[0m\u001b[0m\n\u001b[0;32m----> 3\u001b[0;31m     \u001b[0memail\u001b[0m \u001b[0;34m=\u001b[0m \u001b[0mfind_email\u001b[0m\u001b[0;34m(\u001b[0m\u001b[0mslice\u001b[0m\u001b[0;34m)\u001b[0m\u001b[0;34m\u001b[0m\u001b[0m\n\u001b[0m\u001b[1;32m      4\u001b[0m     entry = {'name' : name,\n\u001b[1;32m      5\u001b[0m              'email': email }\n",
      "\u001b[0;32m<ipython-input-143-0548c39b537a>\u001b[0m in \u001b[0;36mfind_email\u001b[0;34m(slice)\u001b[0m\n\u001b[1;32m      1\u001b[0m \u001b[0;32mdef\u001b[0m \u001b[0mfind_email\u001b[0m\u001b[0;34m(\u001b[0m\u001b[0mslice\u001b[0m\u001b[0;34m)\u001b[0m\u001b[0;34m:\u001b[0m\u001b[0;34m\u001b[0m\u001b[0m\n\u001b[0;32m----> 2\u001b[0;31m     \u001b[0;32mreturn\u001b[0m \u001b[0mre\u001b[0m\u001b[0;34m.\u001b[0m\u001b[0mfindall\u001b[0m\u001b[0;34m(\u001b[0m\u001b[0;34m'mailto:(.*?)\"'\u001b[0m\u001b[0;34m,\u001b[0m \u001b[0mslice\u001b[0m\u001b[0;34m)\u001b[0m\u001b[0;34m[\u001b[0m\u001b[0;36m0\u001b[0m\u001b[0;34m]\u001b[0m\u001b[0;34m\u001b[0m\u001b[0m\n\u001b[0m",
      "\u001b[0;31mIndexError\u001b[0m: list index out of range"
     ]
    }
   ],
   "source": [
    "for slice in slices:\n",
    "    print(scrape_person(slice))"
   ]
  },
  {
   "cell_type": "code",
   "execution_count": 158,
   "metadata": {
    "slideshow": {
     "slide_type": "slide"
    }
   },
   "outputs": [
    {
     "name": "stdout",
     "output_type": "stream",
     "text": [
      "<!DOCTYPE HTML>\n",
      "<html>\n",
      "    <head><meta name=\"viewport\" content=\"width=device-width, initial-scale=1\">\n",
      "<meta http-equiv=\"X-UA-Compatible\" content=\"IE=edge,chrome=1\"/>\n",
      "<meta http-equiv=\"content-type\" content=\"text/html; charset=UTF-8\">\n",
      "<meta name=\"keywords\">\n",
      "<meta name=\"description\">\n",
      "\n",
      "    \n",
      "        <meta name=\"dateCreated\" content=\"2017-06-27\">\n",
      "    \n",
      "\n",
      "\n",
      "    \n",
      "    \n",
      "<link rel=\"stylesheet\" href=\"/etc/clientlibs/foundation/main.css\" type=\"text/css\">\n",
      "<script type=\"text/javascript\" src=\"/etc/clientlibs/granite/jquery.js\"></script>\n",
      "<script type=\"text/javascript\" src=\"/etc/clientlibs/granite/utils.js\"></script>\n",
      "<script type=\"text/javascript\" src=\"/etc/clientlibs/granite/jquery/granite.js\"></script>\n",
      "<script type=\"text/javascript\" src=\"/etc/clientlibs/foundation/jquery.js\"></script>\n",
      "<script type=\"text/javascript\" src=\"/etc/clientlibs/foundation/main.js\"></script>\n",
      "\n",
      "\n",
      "\n",
      "    \n",
      "    <link href=\"/etc/designs/nyu-as.css\" rel=\"stylesheet\" type=\"text/css\"/>\n",
      "\n",
      "\n",
      "\n",
      "\n",
      "\n",
      "\n",
      "\n",
      "\n",
      "\n",
      "<!-- Gotham/Mercury Font Key -->\n",
      "<link rel=\"stylesheet\" type=\"text/css\" href=\"//cloud.typography.com/7436432/7555752/css/fonts.css\"/>\n",
      "\n",
      "\n",
      "    \n",
      "    \n",
      "<script type=\"text/javascript\" src=\"/etc/designs/nyu-as/clientlibs/nyu-as/headlibs.js\"></script>\n",
      "\n",
      "\n",
      "\n",
      "    \n",
      "    \n",
      "<link rel=\"stylesheet\" href=\"/etc/designs/nyu-as/clientlibs/nyu-as.css\" type=\"text/css\">\n",
      "\n",
      "\n",
      "\n",
      "\n",
      "\n",
      "<!-- *******Begin Global Nav Snippet************* -->\n",
      "<link rel=\"stylesheet\" href=\"//globalnav.digicomm.home.nyu.edu/v1.0.8/global-nav.css\">\n",
      "<script src=\"//globalnav.digicomm.home.nyu.edu/v1.0.8/global-nav.js\"></script>\n",
      "<!-- *******End Global Nav Snippet************* -->\n",
      "\n",
      "    <link rel=\"icon\" type=\"image/vnd.microsoft.icon\" href=\"/etc/designs/nyu-as/favicon.ico\">\n",
      "    <link rel=\"shortcut icon\" type=\"image/vnd.microsoft.icon\" href=\"/etc/designs/nyu-as/favicon.ico\">\n",
      "\n",
      "<link rel=\"canonical\" href=\"/content/nyu-as/as/departments/sociology/people/faculty.html\">\n",
      "<title>Faculty</title>\n",
      "\n",
      "<script>\n",
      "    dataLayer = [{\n",
      "        'schoolName': 'as',\n",
      "        'siteName': 'sociology'\n",
      "    }];\n",
      "\n",
      "    (function(w,d,s,l,i){w[l]=w[l]||[];w[l].push({'gtm.start':\r\n",
      "new Date().getTime(),event:'gtm.js'});var f=d.getElementsByTagName(s)[0],\r\n",
      "j=d.createElement(s),dl=l!='dataLayer'?'&l='+l:'';j.async=true;j.src=\r\n",
      "'https://www.googletagmanager.com/gtm.js?id='+i+dl;f.parentNode.insertBefore(j,f);\r\n",
      "})(window,document,'script','dataLayer','GTM-NXHRQG');\n",
      "</script>\n",
      "\n",
      "</head>\n",
      "    <body data-current-page-path=\"/content/nyu-as/as/departments/sociology/people/faculty\" data-resource-type=\"nyu-as/components/page/directory\" data-template-path=\"/apps/nyu-as/templates/directory\" data-template-title=\"Directory Page\"><noscript><iframe src=\"https://www.googletagmanager.com/ns.html?id=GTM-NXHRQG\"\r\n",
      "height=\"0\" width=\"0\" style=\"display:none;visibility:hidden\"></iframe></noscript>\n",
      "\n",
      "<div class=\"wrapper theme__color--purple\">\n",
      "    <header id=\"header\" role=\"banner\"><section id=\"nyu-global-header\"></section>\n",
      "\n",
      "<script>\n",
      "    var components = [],\n",
      "        nyuGlobalHeaderContainerID = 'nyu-global-header';\n",
      "\n",
      "    // NYUAS alerts banner needs to render below the global header so target it for both components\n",
      "\n",
      "    components.push({ name: 'header', data: {\n",
      "        site: 'as',\n",
      "        siteLink: 'http://as.nyu.edu/',\n",
      "        logoAlt: 'NYU Arts & Science',\n",
      "        searchPlaceholder: 'SEARCH ARTS & SCIENCE',\n",
      "        searchPath: 'http://as.nyu.edu/sociology/search.html',\n",
      "        nyuGlobalHeaderID: nyuGlobalHeaderContainerID\n",
      "    }});\n",
      "\n",
      "    components.push({ name: 'alertBanner', data: {\n",
      "        pagePath: document.body.getAttribute('data-current-page-path'),\n",
      "        nyuGlobalHeaderID: nyuGlobalHeaderContainerID\n",
      "    }});\n",
      "\n",
      "    Nyuas.loadComponent(components);\n",
      "</script>\n",
      "</header>\n",
      "<div id=\"standardnavigation\" role=\"navigation\">\n",
      "\n",
      "<nav class=\"standard-navigation-wrap\" id=\"global-navigation\">\n",
      "    <div class=\"standard-navigation department\">\n",
      "        <div class=\"container\">\n",
      "            <div class=\"standard-navigation__departmentTitle\">\n",
      "                <a class=\"standard-navigation__departmentTitle--link theme__text--dark\" href=\"http://as.nyu.edu/sociology.html\">Department of Sociology</a>\n",
      "            </div>\n",
      "            <ul class=\"standard-navigation__list row\">\n",
      "                <li class=\"standard-navigation__item\">\n",
      "                    <a href=\"http://as.nyu.edu/sociology/about/about-us.html\" class=\"standard-navigation__link\">\n",
      "                        About\n",
      "                    </a>\n",
      "                    <div class=\"standard-navigation__submenu\">\n",
      "                        <div class=\"container\">\n",
      "                            <div class=\"standard-navigation__submenu--main\">\n",
      "                                <ul class=\"standard-navigation__submenu--list\">\n",
      "                                    <li class=\"standard-navigation__submenu--item\">\n",
      "                                        <a class=\"standard-navigation__submenu--link\">\n",
      "                                            About Us\n",
      "                                        </a>\n",
      "                                    </li>\n",
      "                                \n",
      "                                    <li class=\"standard-navigation__submenu--item\">\n",
      "                                        <a class=\"standard-navigation__submenu--link\">\n",
      "                                            News\n",
      "                                        </a>\n",
      "                                    </li>\n",
      "                                \n",
      "                                    <li class=\"standard-navigation__submenu--item\">\n",
      "                                        <a class=\"standard-navigation__submenu--link\">\n",
      "                                            Policies and Procedures\n",
      "                                        </a>\n",
      "                                    </li>\n",
      "                                \n",
      "                                    <li class=\"standard-navigation__submenu--item\">\n",
      "                                        <a class=\"standard-navigation__submenu--link\">\n",
      "                                            Faculty Employment \n",
      "                                        </a>\n",
      "                                    </li>\n",
      "                                </ul>\n",
      "                            </div>\n",
      "                            <div class=\"standard-navigation__submenu--global\">\n",
      "                                <ul class=\"standard-navigation__siteLinks\">\n",
      "                                    <li class=\"standard-navigation__siteLinks--item\">\n",
      "                                        <a class=\"standard-navigation__siteLinks--link\" href=\"http://as.nyu.edu/\">\n",
      "                                            Arts &amp; Science\n",
      "                                        </a>\n",
      "                                    </li>\n",
      "                                \n",
      "                                    <li class=\"standard-navigation__siteLinks--item\">\n",
      "                                        <a class=\"standard-navigation__siteLinks--link\" href=\"http://cas.nyu.edu/\">\n",
      "                                            CAS\n",
      "                                        </a>\n",
      "                                    </li>\n",
      "                                \n",
      "                                    <li class=\"standard-navigation__siteLinks--item\">\n",
      "                                        <a class=\"standard-navigation__siteLinks--link\" href=\"http://gsas.nyu.edu/\">\n",
      "                                            GSAS\n",
      "                                        </a>\n",
      "                                    </li>\n",
      "                                \n",
      "                                    <li class=\"standard-navigation__siteLinks--item\">\n",
      "                                        <a class=\"standard-navigation__siteLinks--link\" href=\"http://liberalstudies.nyu.edu/\">\n",
      "                                            Liberal Studies\n",
      "                                        </a>\n",
      "                                    </li>\n",
      "                                </ul>\n",
      "                            </div>\n",
      "                        </div>\n",
      "                    </div>\n",
      "                </li>\n",
      "            \n",
      "                <li class=\"standard-navigation__item\">\n",
      "                    <a href=\"http://as.nyu.edu/sociology/events.html\" class=\"standard-navigation__link\">\n",
      "                        Events\n",
      "                    </a>\n",
      "                    <div class=\"standard-navigation__submenu\">\n",
      "                        <div class=\"container\">\n",
      "                            <div class=\"standard-navigation__submenu--main\">\n",
      "                                <ul class=\"standard-navigation__submenu--list\">\n",
      "                                    <li class=\"standard-navigation__submenu--item\">\n",
      "                                        <a class=\"standard-navigation__submenu--link\">\n",
      "                                            Fall 2017\n",
      "                                        </a>\n",
      "                                    </li>\n",
      "                                \n",
      "                                    <li class=\"standard-navigation__submenu--item\">\n",
      "                                        <a class=\"standard-navigation__submenu--link\">\n",
      "                                            Spring 2017\n",
      "                                        </a>\n",
      "                                    </li>\n",
      "                                </ul>\n",
      "                            </div>\n",
      "                            <div class=\"standard-navigation__submenu--global\">\n",
      "                                <ul class=\"standard-navigation__siteLinks\">\n",
      "                                    <li class=\"standard-navigation__siteLinks--item\">\n",
      "                                        <a class=\"standard-navigation__siteLinks--link\" href=\"http://as.nyu.edu/\">\n",
      "                                            Arts &amp; Science\n",
      "                                        </a>\n",
      "                                    </li>\n",
      "                                \n",
      "                                    <li class=\"standard-navigation__siteLinks--item\">\n",
      "                                        <a class=\"standard-navigation__siteLinks--link\" href=\"http://cas.nyu.edu/\">\n",
      "                                            CAS\n",
      "                                        </a>\n",
      "                                    </li>\n",
      "                                \n",
      "                                    <li class=\"standard-navigation__siteLinks--item\">\n",
      "                                        <a class=\"standard-navigation__siteLinks--link\" href=\"http://gsas.nyu.edu/\">\n",
      "                                            GSAS\n",
      "                                        </a>\n",
      "                                    </li>\n",
      "                                \n",
      "                                    <li class=\"standard-navigation__siteLinks--item\">\n",
      "                                        <a class=\"standard-navigation__siteLinks--link\" href=\"http://liberalstudies.nyu.edu/\">\n",
      "                                            Liberal Studies\n",
      "                                        </a>\n",
      "                                    </li>\n",
      "                                </ul>\n",
      "                            </div>\n",
      "                        </div>\n",
      "                    </div>\n",
      "                </li>\n",
      "            \n",
      "                <li class=\"standard-navigation__item\">\n",
      "                    <a href=\"http://as.nyu.edu/sociology/people/faculty.html\" class=\"standard-navigation__link\">\n",
      "                        People\n",
      "                    </a>\n",
      "                    <div class=\"standard-navigation__submenu\">\n",
      "                        <div class=\"container\">\n",
      "                            <div class=\"standard-navigation__submenu--main\">\n",
      "                                <ul class=\"standard-navigation__submenu--list\">\n",
      "                                    <li class=\"standard-navigation__submenu--item\">\n",
      "                                        <a class=\"standard-navigation__submenu--link\">\n",
      "                                            Faculty\n",
      "                                        </a>\n",
      "                                    </li>\n",
      "                                \n",
      "                                    <li class=\"standard-navigation__submenu--item\">\n",
      "                                        <a class=\"standard-navigation__submenu--link\">\n",
      "                                            Global Network Faculty\n",
      "                                        </a>\n",
      "                                    </li>\n",
      "                                \n",
      "                                    <li class=\"standard-navigation__submenu--item\">\n",
      "                                        <a class=\"standard-navigation__submenu--link\">\n",
      "                                            Faculty Research Interests\n",
      "                                        </a>\n",
      "                                    </li>\n",
      "                                \n",
      "                                    <li class=\"standard-navigation__submenu--item\">\n",
      "                                        <a class=\"standard-navigation__submenu--link\">\n",
      "                                            Staff\n",
      "                                        </a>\n",
      "                                    </li>\n",
      "                                \n",
      "                                    <li class=\"standard-navigation__submenu--item\">\n",
      "                                        <a class=\"standard-navigation__submenu--link\">\n",
      "                                            Current Ph.D. Students\n",
      "                                        </a>\n",
      "                                    </li>\n",
      "                                \n",
      "                                    <li class=\"standard-navigation__submenu--item\">\n",
      "                                        <a class=\"standard-navigation__submenu--link\">\n",
      "                                            Alumni\n",
      "                                        </a>\n",
      "                                    </li>\n",
      "                                \n",
      "                                    <li class=\"standard-navigation__submenu--item\">\n",
      "                                        <a class=\"standard-navigation__submenu--link\">\n",
      "                                            Ph.D.s on the Market\n",
      "                                        </a>\n",
      "                                    </li>\n",
      "                                \n",
      "                                    <li class=\"standard-navigation__submenu--item\">\n",
      "                                        <a class=\"standard-navigation__submenu--link\">\n",
      "                                            Visiting Scholars \n",
      "                                        </a>\n",
      "                                    </li>\n",
      "                                </ul>\n",
      "                            </div>\n",
      "                            <div class=\"standard-navigation__submenu--global\">\n",
      "                                <ul class=\"standard-navigation__siteLinks\">\n",
      "                                    <li class=\"standard-navigation__siteLinks--item\">\n",
      "                                        <a class=\"standard-navigation__siteLinks--link\" href=\"http://as.nyu.edu/\">\n",
      "                                            Arts &amp; Science\n",
      "                                        </a>\n",
      "                                    </li>\n",
      "                                \n",
      "                                    <li class=\"standard-navigation__siteLinks--item\">\n",
      "                                        <a class=\"standard-navigation__siteLinks--link\" href=\"http://cas.nyu.edu/\">\n",
      "                                            CAS\n",
      "                                        </a>\n",
      "                                    </li>\n",
      "                                \n",
      "                                    <li class=\"standard-navigation__siteLinks--item\">\n",
      "                                        <a class=\"standard-navigation__siteLinks--link\" href=\"http://gsas.nyu.edu/\">\n",
      "                                            GSAS\n",
      "                                        </a>\n",
      "                                    </li>\n",
      "                                \n",
      "                                    <li class=\"standard-navigation__siteLinks--item\">\n",
      "                                        <a class=\"standard-navigation__siteLinks--link\" href=\"http://liberalstudies.nyu.edu/\">\n",
      "                                            Liberal Studies\n",
      "                                        </a>\n",
      "                                    </li>\n",
      "                                </ul>\n",
      "                            </div>\n",
      "                        </div>\n",
      "                    </div>\n",
      "                </li>\n",
      "            \n",
      "                <li class=\"standard-navigation__item\">\n",
      "                    <a href=\"http://as.nyu.edu/sociology/undergraduate.html\" class=\"standard-navigation__link\">\n",
      "                        Undergraduate\n",
      "                    </a>\n",
      "                    <div class=\"standard-navigation__submenu\">\n",
      "                        <div class=\"container\">\n",
      "                            <div class=\"standard-navigation__submenu--main\">\n",
      "                                <ul class=\"standard-navigation__submenu--list\">\n",
      "                                    <li class=\"standard-navigation__submenu--item\">\n",
      "                                        <a class=\"standard-navigation__submenu--link\">\n",
      "                                            Major in Sociology/Global Public Health\n",
      "                                        </a>\n",
      "                                    </li>\n",
      "                                \n",
      "                                    <li class=\"standard-navigation__submenu--item\">\n",
      "                                        <a class=\"standard-navigation__submenu--link\">\n",
      "                                            B.A. / M.A. Program\n",
      "                                        </a>\n",
      "                                    </li>\n",
      "                                \n",
      "                                    <li class=\"standard-navigation__submenu--item\">\n",
      "                                        <a class=\"standard-navigation__submenu--link\">\n",
      "                                            Law and Society Program\n",
      "                                        </a>\n",
      "                                    </li>\n",
      "                                \n",
      "                                    <li class=\"standard-navigation__submenu--item\">\n",
      "                                        <a class=\"standard-navigation__submenu--link\">\n",
      "                                            Independent Study/Internship Information\n",
      "                                        </a>\n",
      "                                    </li>\n",
      "                                \n",
      "                                    <li class=\"standard-navigation__submenu--item\">\n",
      "                                        <a class=\"standard-navigation__submenu--link\">\n",
      "                                            Undergraduate FAQ\n",
      "                                        </a>\n",
      "                                    </li>\n",
      "                                \n",
      "                                    <li class=\"standard-navigation__submenu--item\">\n",
      "                                        <a class=\"standard-navigation__submenu--link\">\n",
      "                                            What to do with an Undergraduate Degree in Sociology?\n",
      "                                        </a>\n",
      "                                    </li>\n",
      "                                \n",
      "                                    <li class=\"standard-navigation__submenu--item\">\n",
      "                                        <a class=\"standard-navigation__submenu--link\">\n",
      "                                            Undergraduate Declaration Forms\n",
      "                                        </a>\n",
      "                                    </li>\n",
      "                                </ul>\n",
      "                            </div>\n",
      "                            <div class=\"standard-navigation__submenu--global\">\n",
      "                                <ul class=\"standard-navigation__siteLinks\">\n",
      "                                    <li class=\"standard-navigation__siteLinks--item\">\n",
      "                                        <a class=\"standard-navigation__siteLinks--link\" href=\"http://as.nyu.edu/\">\n",
      "                                            Arts &amp; Science\n",
      "                                        </a>\n",
      "                                    </li>\n",
      "                                \n",
      "                                    <li class=\"standard-navigation__siteLinks--item\">\n",
      "                                        <a class=\"standard-navigation__siteLinks--link\" href=\"http://cas.nyu.edu/\">\n",
      "                                            CAS\n",
      "                                        </a>\n",
      "                                    </li>\n",
      "                                \n",
      "                                    <li class=\"standard-navigation__siteLinks--item\">\n",
      "                                        <a class=\"standard-navigation__siteLinks--link\" href=\"http://gsas.nyu.edu/\">\n",
      "                                            GSAS\n",
      "                                        </a>\n",
      "                                    </li>\n",
      "                                \n",
      "                                    <li class=\"standard-navigation__siteLinks--item\">\n",
      "                                        <a class=\"standard-navigation__siteLinks--link\" href=\"http://liberalstudies.nyu.edu/\">\n",
      "                                            Liberal Studies\n",
      "                                        </a>\n",
      "                                    </li>\n",
      "                                </ul>\n",
      "                            </div>\n",
      "                        </div>\n",
      "                    </div>\n",
      "                </li>\n",
      "            \n",
      "                <li class=\"standard-navigation__item\">\n",
      "                    <a href=\"http://as.nyu.edu/sociology/masters-aqr-program.html\" class=\"standard-navigation__link\">\n",
      "                        Masters AQR Program\n",
      "                    </a>\n",
      "                    <div class=\"standard-navigation__submenu\">\n",
      "                        <div class=\"container\">\n",
      "                            <div class=\"standard-navigation__submenu--main\">\n",
      "                                <ul class=\"standard-navigation__submenu--list\">\n",
      "                                    <li class=\"standard-navigation__submenu--item\">\n",
      "                                        <a class=\"standard-navigation__submenu--link\">\n",
      "                                            Master of Arts in Applied Quantitative Research\n",
      "                                        </a>\n",
      "                                    </li>\n",
      "                                \n",
      "                                    <li class=\"standard-navigation__submenu--item\">\n",
      "                                        <a class=\"standard-navigation__submenu--link\">\n",
      "                                            Curriculum\n",
      "                                        </a>\n",
      "                                    </li>\n",
      "                                \n",
      "                                    <li class=\"standard-navigation__submenu--item\">\n",
      "                                        <a class=\"standard-navigation__submenu--link\">\n",
      "                                            Requirements\n",
      "                                        </a>\n",
      "                                    </li>\n",
      "                                \n",
      "                                    <li class=\"standard-navigation__submenu--item\">\n",
      "                                        <a class=\"standard-navigation__submenu--link\">\n",
      "                                            Masters Program FAQs\n",
      "                                        </a>\n",
      "                                    </li>\n",
      "                                \n",
      "                                    <li class=\"standard-navigation__submenu--item\">\n",
      "                                        <a class=\"standard-navigation__submenu--link\">\n",
      "                                            AQR Information Sessions\n",
      "                                        </a>\n",
      "                                    </li>\n",
      "                                \n",
      "                                    <li class=\"standard-navigation__submenu--item\">\n",
      "                                        <a class=\"standard-navigation__submenu--link\">\n",
      "                                            Applied Quantitative Research Workshop\n",
      "                                        </a>\n",
      "                                    </li>\n",
      "                                \n",
      "                                    <li class=\"standard-navigation__submenu--item\">\n",
      "                                        <a class=\"standard-navigation__submenu--link\">\n",
      "                                            AQR Program Guide\n",
      "                                        </a>\n",
      "                                    </li>\n",
      "                                </ul>\n",
      "                            </div>\n",
      "                            <div class=\"standard-navigation__submenu--global\">\n",
      "                                <ul class=\"standard-navigation__siteLinks\">\n",
      "                                    <li class=\"standard-navigation__siteLinks--item\">\n",
      "                                        <a class=\"standard-navigation__siteLinks--link\" href=\"http://as.nyu.edu/\">\n",
      "                                            Arts &amp; Science\n",
      "                                        </a>\n",
      "                                    </li>\n",
      "                                \n",
      "                                    <li class=\"standard-navigation__siteLinks--item\">\n",
      "                                        <a class=\"standard-navigation__siteLinks--link\" href=\"http://cas.nyu.edu/\">\n",
      "                                            CAS\n",
      "                                        </a>\n",
      "                                    </li>\n",
      "                                \n",
      "                                    <li class=\"standard-navigation__siteLinks--item\">\n",
      "                                        <a class=\"standard-navigation__siteLinks--link\" href=\"http://gsas.nyu.edu/\">\n",
      "                                            GSAS\n",
      "                                        </a>\n",
      "                                    </li>\n",
      "                                \n",
      "                                    <li class=\"standard-navigation__siteLinks--item\">\n",
      "                                        <a class=\"standard-navigation__siteLinks--link\" href=\"http://liberalstudies.nyu.edu/\">\n",
      "                                            Liberal Studies\n",
      "                                        </a>\n",
      "                                    </li>\n",
      "                                </ul>\n",
      "                            </div>\n",
      "                        </div>\n",
      "                    </div>\n",
      "                </li>\n",
      "            \n",
      "                <li class=\"standard-navigation__item\">\n",
      "                    <a href=\"http://as.nyu.edu/sociology/phd-program.html\" class=\"standard-navigation__link\">\n",
      "                        Ph.D. Program\n",
      "                    </a>\n",
      "                    <div class=\"standard-navigation__submenu\">\n",
      "                        <div class=\"container\">\n",
      "                            <div class=\"standard-navigation__submenu--main\">\n",
      "                                <ul class=\"standard-navigation__submenu--list\">\n",
      "                                    <li class=\"standard-navigation__submenu--item\">\n",
      "                                        <a class=\"standard-navigation__submenu--link\">\n",
      "                                            For Prospective Ph.D. Applicants\n",
      "                                        </a>\n",
      "                                    </li>\n",
      "                                \n",
      "                                    <li class=\"standard-navigation__submenu--item\">\n",
      "                                        <a class=\"standard-navigation__submenu--link\">\n",
      "                                            Prospective Ph.D. FAQ\n",
      "                                        </a>\n",
      "                                    </li>\n",
      "                                \n",
      "                                    <li class=\"standard-navigation__submenu--item\">\n",
      "                                        <a class=\"standard-navigation__submenu--link\">\n",
      "                                            Recently Awarded Student Grants and Fellowships\n",
      "                                        </a>\n",
      "                                    </li>\n",
      "                                \n",
      "                                    <li class=\"standard-navigation__submenu--item\">\n",
      "                                        <a class=\"standard-navigation__submenu--link\">\n",
      "                                            Comprehensive Exams &amp; Research Paper Requirements\n",
      "                                        </a>\n",
      "                                    </li>\n",
      "                                \n",
      "                                    <li class=\"standard-navigation__submenu--item\">\n",
      "                                        <a class=\"standard-navigation__submenu--link\">\n",
      "                                            Sample Graduate Syllabi &amp; Course Descriptions\n",
      "                                        </a>\n",
      "                                    </li>\n",
      "                                \n",
      "                                    <li class=\"standard-navigation__submenu--item\">\n",
      "                                        <a class=\"standard-navigation__submenu--link\">\n",
      "                                            Ph.D. Alumni and Job Placements\n",
      "                                        </a>\n",
      "                                    </li>\n",
      "                                </ul>\n",
      "                            </div>\n",
      "                            <div class=\"standard-navigation__submenu--global\">\n",
      "                                <ul class=\"standard-navigation__siteLinks\">\n",
      "                                    <li class=\"standard-navigation__siteLinks--item\">\n",
      "                                        <a class=\"standard-navigation__siteLinks--link\" href=\"http://as.nyu.edu/\">\n",
      "                                            Arts &amp; Science\n",
      "                                        </a>\n",
      "                                    </li>\n",
      "                                \n",
      "                                    <li class=\"standard-navigation__siteLinks--item\">\n",
      "                                        <a class=\"standard-navigation__siteLinks--link\" href=\"http://cas.nyu.edu/\">\n",
      "                                            CAS\n",
      "                                        </a>\n",
      "                                    </li>\n",
      "                                \n",
      "                                    <li class=\"standard-navigation__siteLinks--item\">\n",
      "                                        <a class=\"standard-navigation__siteLinks--link\" href=\"http://gsas.nyu.edu/\">\n",
      "                                            GSAS\n",
      "                                        </a>\n",
      "                                    </li>\n",
      "                                \n",
      "                                    <li class=\"standard-navigation__siteLinks--item\">\n",
      "                                        <a class=\"standard-navigation__siteLinks--link\" href=\"http://liberalstudies.nyu.edu/\">\n",
      "                                            Liberal Studies\n",
      "                                        </a>\n",
      "                                    </li>\n",
      "                                </ul>\n",
      "                            </div>\n",
      "                        </div>\n",
      "                    </div>\n",
      "                </li>\n",
      "            \n",
      "                <li class=\"standard-navigation__item\">\n",
      "                    <a href=\"http://as.nyu.edu/sociology/courses.html\" class=\"standard-navigation__link\">\n",
      "                        Courses\n",
      "                    </a>\n",
      "                    \n",
      "                </li>\n",
      "            \n",
      "                <li class=\"standard-navigation__item\">\n",
      "                    <a href=\"http://as.nyu.edu/sociology/contact-us.html\" class=\"standard-navigation__link\">\n",
      "                        Contact Us\n",
      "                    </a>\n",
      "                    \n",
      "                </li>\n",
      "            </ul>\n",
      "        </div>\n",
      "    </div>\n",
      "</nav>\n",
      "\n",
      "<script>\n",
      "    Nyuas.loadComponent(\"standardnavigation\", {\n",
      "        id: 'global-navigation',\n",
      "        breadcrumbs: 'breadcrumbs',\n",
      "        links: '[{\\\"title\\\":\\\"About\\\",\\\"href\\\":\\\"http://as.nyu.edu/sociology/about/about-us.html\\\",\\\"active\\\":false,\\\"links\\\":[{\\\"title\\\":\\\"About Us\\\",\\\"href\\\":\\\"http://as.nyu.edu/sociology/about/about-us.html\\\",\\\"active\\\":false,\\\"links\\\":[]},{\\\"title\\\":\\\"News\\\",\\\"href\\\":\\\"http://as.nyu.edu/sociology/about/news.html\\\",\\\"active\\\":false,\\\"links\\\":[{\\\"title\\\":\\\"Alumni News\\\",\\\"href\\\":\\\"http://as.nyu.edu/sociology/about/news/alumni-news.html\\\",\\\"active\\\":false,\\\"links\\\":[]},{\\\"title\\\":\\\"Faculty News\\\",\\\"href\\\":\\\"http://as.nyu.edu/sociology/about/news/faculty-news.html\\\",\\\"active\\\":false,\\\"links\\\":[]},{\\\"title\\\":\\\"Student News\\\",\\\"href\\\":\\\"http://as.nyu.edu/sociology/about/news/student-news.html\\\",\\\"active\\\":false,\\\"links\\\":[]}]},{\\\"title\\\":\\\"Policies and Procedures\\\",\\\"href\\\":\\\"https://sites.google.com/a/nyu.edu/soc-policies-and-procedures/?pli=1\\\",\\\"active\\\":false,\\\"links\\\":[]},{\\\"title\\\":\\\"Faculty Employment \\\",\\\"href\\\":\\\"http://as.nyu.edu/sociology/about/faculty-employment-.html\\\",\\\"active\\\":false,\\\"links\\\":[]}]},{\\\"title\\\":\\\"Events\\\",\\\"href\\\":\\\"http://as.nyu.edu/sociology/events.html\\\",\\\"active\\\":false,\\\"links\\\":[{\\\"title\\\":\\\"Fall 2017\\\",\\\"href\\\":\\\"http://as.nyu.edu/sociology/events/fall-2017.html\\\",\\\"active\\\":false,\\\"links\\\":[]},{\\\"title\\\":\\\"Spring 2017\\\",\\\"href\\\":\\\"http://as.nyu.edu/sociology/events/spring-2017.html\\\",\\\"active\\\":false,\\\"links\\\":[]}]},{\\\"title\\\":\\\"People\\\",\\\"href\\\":\\\"http://as.nyu.edu/sociology/people/faculty.html\\\",\\\"active\\\":true,\\\"links\\\":[{\\\"title\\\":\\\"Faculty\\\",\\\"href\\\":\\\"http://as.nyu.edu/sociology/people/faculty.html\\\",\\\"active\\\":true,\\\"links\\\":[]},{\\\"title\\\":\\\"Global Network Faculty\\\",\\\"href\\\":\\\"http://as.nyu.edu/sociology/people/global-network-faculty.html\\\",\\\"active\\\":false,\\\"links\\\":[]},{\\\"title\\\":\\\"Faculty Research Interests\\\",\\\"href\\\":\\\"http://as.nyu.edu/sociology/people/faculty-research-interests.html\\\",\\\"active\\\":false,\\\"links\\\":[]},{\\\"title\\\":\\\"Staff\\\",\\\"href\\\":\\\"http://as.nyu.edu/sociology/people/staff.html\\\",\\\"active\\\":false,\\\"links\\\":[]},{\\\"title\\\":\\\"Current Ph.D. Students\\\",\\\"href\\\":\\\"http://as.nyu.edu/sociology/people/current-phd-students.html\\\",\\\"active\\\":false,\\\"links\\\":[{\\\"title\\\":\\\"Eman Abdelhadi\\\",\\\"href\\\":\\\"http://as.nyu.edu/sociology/people/current-phd-students/abdelhadi-eman.html\\\",\\\"active\\\":false,\\\"links\\\":[]},{\\\"title\\\":\\\"Julia Behrman\\\",\\\"href\\\":\\\"http://as.nyu.edu/sociology/people/current-phd-students/behrman-julia.html\\\",\\\"active\\\":false,\\\"links\\\":[]},{\\\"title\\\":\\\"Max Besbris\\\",\\\"href\\\":\\\"http://as.nyu.edu/sociology/people/current-phd-students/besbris-max.html\\\",\\\"active\\\":false,\\\"links\\\":[]},{\\\"title\\\":\\\"Jonah Birch\\\",\\\"href\\\":\\\"http://as.nyu.edu/sociology/people/current-phd-students/birch-jonah.html\\\",\\\"active\\\":false,\\\"links\\\":[]},{\\\"title\\\":\\\"Eliza Brown\\\",\\\"href\\\":\\\"http://as.nyu.edu/sociology/people/current-phd-students/brown-eliza.html\\\",\\\"active\\\":false,\\\"links\\\":[]},{\\\"title\\\":\\\"Monica Lisette Caudillo Contreras\\\",\\\"href\\\":\\\"http://as.nyu.edu/sociology/people/current-phd-students/caudillo-contreras-monica-lisette.html\\\",\\\"active\\\":false,\\\"links\\\":[]},{\\\"title\\\":\\\"Bhumika Chauhan\\\",\\\"href\\\":\\\"http://as.nyu.edu/sociology/people/current-phd-students/chauhan-bhumika.html\\\",\\\"active\\\":false,\\\"links\\\":[]},{\\\"title\\\":\\\"Swati Chintala\\\",\\\"href\\\":\\\"http://as.nyu.edu/sociology/people/current-phd-students/chintala-swati.html\\\",\\\"active\\\":false,\\\"links\\\":[]},{\\\"title\\\":\\\"John Clegg\\\",\\\"href\\\":\\\"http://as.nyu.edu/sociology/people/current-phd-students/clegg-john.html\\\",\\\"active\\\":false,\\\"links\\\":[]},{\\\"title\\\":\\\"Martha Coe\\\",\\\"href\\\":\\\"http://as.nyu.edu/sociology/people/current-phd-students/coe-martha.html\\\",\\\"active\\\":false,\\\"links\\\":[]},{\\\"title\\\":\\\"Jeremy Cohan\\\",\\\"href\\\":\\\"http://as.nyu.edu/sociology/people/current-phd-students/cohan-jeremy.html\\\",\\\"active\\\":false,\\\"links\\\":[]},{\\\"title\\\":\\\"Daniel Aldana Cohen\\\",\\\"href\\\":\\\"http://as.nyu.edu/sociology/people/current-phd-students/cohen-daniel-aldana.html\\\",\\\"active\\\":false,\\\"links\\\":[]},{\\\"title\\\":\\\"Mark Cohen\\\",\\\"href\\\":\\\"http://as.nyu.edu/sociology/people/current-phd-students/cohen-mark.html\\\",\\\"active\\\":false,\\\"links\\\":[]},{\\\"title\\\":\\\"Edward Crowley\\\",\\\"href\\\":\\\"http://as.nyu.edu/sociology/people/current-phd-students/crowley-edward.html\\\",\\\"active\\\":false,\\\"links\\\":[]},{\\\"title\\\":\\\"Lili Dao\\\",\\\"href\\\":\\\"http://as.nyu.edu/sociology/people/current-phd-students/dao-lili.html\\\",\\\"active\\\":false,\\\"links\\\":[]},{\\\"title\\\":\\\"Samuel Dinger\\\",\\\"href\\\":\\\"http://as.nyu.edu/sociology/people/current-phd-students/dinger-samuel.html\\\",\\\"active\\\":false,\\\"links\\\":[]},{\\\"title\\\":\\\"Kiara Douds\\\",\\\"href\\\":\\\"http://as.nyu.edu/sociology/people/current-phd-students/douds-kiara.html\\\",\\\"active\\\":false,\\\"links\\\":[]},{\\\"title\\\":\\\"Sara Duvisac\\\",\\\"href\\\":\\\"http://as.nyu.edu/sociology/people/current-phd-students/duvisac-sara.html\\\",\\\"active\\\":false,\\\"links\\\":[]},{\\\"title\\\":\\\"Offer Egozy\\\",\\\"href\\\":\\\"http://as.nyu.edu/sociology/people/current-phd-students/egozy-offer.html\\\",\\\"active\\\":false,\\\"links\\\":[]},{\\\"title\\\":\\\"Jessie Ford\\\",\\\"href\\\":\\\"http://as.nyu.edu/sociology/people/current-phd-students/ford-jessie.html\\\",\\\"active\\\":false,\\\"links\\\":[]},{\\\"title\\\":\\\"Jana Catalina Glaese\\\",\\\"href\\\":\\\"http://as.nyu.edu/sociology/people/current-phd-students/glaese-jana-catalina.html\\\",\\\"active\\\":false,\\\"links\\\":[]},{\\\"title\\\":\\\"Jonathan Samuel Gordon\\\",\\\"href\\\":\\\"http://as.nyu.edu/sociology/people/current-phd-students/gordon-jonathan-samuel.html\\\",\\\"active\\\":false,\\\"links\\\":[]},{\\\"title\\\":\\\"Michael Gould-Wartofsky\\\",\\\"href\\\":\\\"http://as.nyu.edu/sociology/people/current-phd-students/gould-wartofsky-michael.html\\\",\\\"active\\\":false,\\\"links\\\":[]},{\\\"title\\\":\\\"Chantal Hailey\\\",\\\"href\\\":\\\"http://as.nyu.edu/sociology/people/current-phd-students/hailey-chantal.html\\\",\\\"active\\\":false,\\\"links\\\":[]},{\\\"title\\\":\\\"John Halushka\\\",\\\"href\\\":\\\"http://as.nyu.edu/sociology/people/current-phd-students/halushka-john.html\\\",\\\"active\\\":false,\\\"links\\\":[]},{\\\"title\\\":\\\"Paul Heideman\\\",\\\"href\\\":\\\"http://as.nyu.edu/sociology/people/current-phd-students/heideman-paul.html\\\",\\\"active\\\":false,\\\"links\\\":[]},{\\\"title\\\":\\\"Max Holleran\\\",\\\"href\\\":\\\"http://as.nyu.edu/sociology/people/current-phd-students/holleran-max.html\\\",\\\"active\\\":false,\\\"links\\\":[]},{\\\"title\\\":\\\"Sarah Iverson\\\",\\\"href\\\":\\\"http://as.nyu.edu/sociology/people/current-phd-students/iverson-sarah.html\\\",\\\"active\\\":false,\\\"links\\\":[]},{\\\"title\\\":\\\"Jessica Kalbfeld\\\",\\\"href\\\":\\\"http://as.nyu.edu/sociology/people/current-phd-students/kalbfeld-jessie.html\\\",\\\"active\\\":false,\\\"links\\\":[]},{\\\"title\\\":\\\"Jeannie Kim\\\",\\\"href\\\":\\\"http://as.nyu.edu/sociology/people/current-phd-students/kim-jeannie.html\\\",\\\"active\\\":false,\\\"links\\\":[]},{\\\"title\\\":\\\"Thomas Laidley\\\",\\\"href\\\":\\\"http://as.nyu.edu/sociology/people/current-phd-students/laidley-thomas.html\\\",\\\"active\\\":false,\\\"links\\\":[]},{\\\"title\\\":\\\"Suzy Lee\\\",\\\"href\\\":\\\"http://as.nyu.edu/sociology/people/current-phd-students/lee-suzy.html\\\",\\\"active\\\":false,\\\"links\\\":[]},{\\\"title\\\":\\\"Xiang Lu\\\",\\\"href\\\":\\\"http://as.nyu.edu/sociology/people/current-phd-students/lu-xiang.html\\\",\\\"active\\\":false,\\\"links\\\":[]},{\\\"title\\\":\\\"Erez Maggor\\\",\\\"href\\\":\\\"http://as.nyu.edu/sociology/people/current-phd-students/maggor-erez.html\\\",\\\"active\\\":false,\\\"links\\\":[]},{\\\"title\\\":\\\"Erez Marantz\\\",\\\"href\\\":\\\"http://as.nyu.edu/sociology/people/current-phd-students/marantz-erez.html\\\",\\\"active\\\":false,\\\"links\\\":[]},{\\\"title\\\":\\\"Nicholas Mark\\\",\\\"href\\\":\\\"http://as.nyu.edu/sociology/people/current-phd-students/mark-nicholas.html\\\",\\\"active\\\":false,\\\"links\\\":[]},{\\\"title\\\":\\\"Nada Matta\\\",\\\"href\\\":\\\"http://as.nyu.edu/sociology/people/current-phd-students/matta-nada.html\\\",\\\"active\\\":false,\\\"links\\\":[]},{\\\"title\\\":\\\"Sydney McKinney\\\",\\\"href\\\":\\\"http://as.nyu.edu/sociology/people/current-phd-students/mckinney-sydney.html\\\",\\\"active\\\":false,\\\"links\\\":[]},{\\\"title\\\":\\\"Marie Mercier\\\",\\\"href\\\":\\\"http://as.nyu.edu/sociology/people/current-phd-students/mercier-marie.html\\\",\\\"active\\\":false,\\\"links\\\":[]},{\\\"title\\\":\\\"Neal Meyer\\\",\\\"href\\\":\\\"http://as.nyu.edu/sociology/people/current-phd-students/meyer-neal.html\\\",\\\"active\\\":false,\\\"links\\\":[]},{\\\"title\\\":\\\"Emma Mishel\\\",\\\"href\\\":\\\"http://as.nyu.edu/sociology/people/current-phd-students/mishel-emma.html\\\",\\\"active\\\":false,\\\"links\\\":[]},{\\\"title\\\":\\\"Adam Murphree\\\",\\\"href\\\":\\\"http://as.nyu.edu/sociology/people/current-phd-students/murphree-adam.html\\\",\\\"active\\\":false,\\\"links\\\":[]},{\\\"title\\\":\\\"Christina Nelson\\\",\\\"href\\\":\\\"http://as.nyu.edu/sociology/people/current-phd-students/nelson-christina.html\\\",\\\"active\\\":false,\\\"links\\\":[]},{\\\"title\\\":\\\"Michelle O\\'Brien\\\",\\\"href\\\":\\\"http://as.nyu.edu/sociology/people/current-phd-students/obrien-michelle.html\\\",\\\"active\\\":false,\\\"links\\\":[]},{\\\"title\\\":\\\"Alexis Pang\\\",\\\"href\\\":\\\"http://as.nyu.edu/sociology/people/current-phd-students/pang-alexis.html\\\",\\\"active\\\":false,\\\"links\\\":[]},{\\\"title\\\":\\\"Barum Park\\\",\\\"href\\\":\\\"http://as.nyu.edu/sociology/people/current-phd-students/park-barum.html\\\",\\\"active\\\":false,\\\"links\\\":[]},{\\\"title\\\":\\\"Mary Patrick\\\",\\\"href\\\":\\\"http://as.nyu.edu/sociology/people/current-phd-students/patrick-mary.html\\\",\\\"active\\\":false,\\\"links\\\":[]},{\\\"title\\\":\\\"Doreet Preiss\\\",\\\"href\\\":\\\"http://as.nyu.edu/sociology/people/current-phd-students/preiss-doreet.html\\\",\\\"active\\\":false,\\\"links\\\":[]},{\\\"title\\\":\\\"Sonia Prelat\\\",\\\"href\\\":\\\"http://as.nyu.edu/sociology/people/current-phd-students/prelat-sonia.html\\\",\\\"active\\\":false,\\\"links\\\":[]},{\\\"title\\\":\\\"Eyal Press\\\",\\\"href\\\":\\\"http://as.nyu.edu/sociology/people/current-phd-students/press-eyal.html\\\",\\\"active\\\":false,\\\"links\\\":[]},{\\\"title\\\":\\\"Niall Reddy\\\",\\\"href\\\":\\\"http://as.nyu.edu/sociology/people/current-phd-students/reddy-niall.html\\\",\\\"active\\\":false,\\\"links\\\":[]},{\\\"title\\\":\\\"Robert Riggs\\\",\\\"href\\\":\\\"http://as.nyu.edu/sociology/people/current-phd-students/riggs-robert.html\\\",\\\"active\\\":false,\\\"links\\\":[]},{\\\"title\\\":\\\"René Rojas\\\",\\\"href\\\":\\\"http://as.nyu.edu/sociology/people/current-phd-students/rojas-rene.html\\\",\\\"active\\\":false,\\\"links\\\":[]},{\\\"title\\\":\\\"Shelly Ronen\\\",\\\"href\\\":\\\"http://as.nyu.edu/sociology/people/current-phd-students/ronen-shelly.html\\\",\\\"active\\\":false,\\\"links\\\":[]},{\\\"title\\\":\\\"Ihsan Ercan Sadi\\\",\\\"href\\\":\\\"http://as.nyu.edu/sociology/people/current-phd-students/sadi-ihsan-ercan.html\\\",\\\"active\\\":false,\\\"links\\\":[]},{\\\"title\\\":\\\"Hassan Abdel Salam\\\",\\\"href\\\":\\\"http://as.nyu.edu/sociology/people/current-phd-students/salam-hassan-abdel.html\\\",\\\"active\\\":false,\\\"links\\\":[]},{\\\"title\\\":\\\"Christopher Seeds\\\",\\\"href\\\":\\\"http://as.nyu.edu/sociology/people/current-phd-students/seeds-christopher.html\\\",\\\"active\\\":false,\\\"links\\\":[]},{\\\"title\\\":\\\"Anna Skarpelis\\\",\\\"href\\\":\\\"http://as.nyu.edu/sociology/people/current-phd-students/skarpelis-anna.html\\\",\\\"active\\\":false,\\\"links\\\":[]},{\\\"title\\\":\\\"Gabriel Morales Sod\\\",\\\"href\\\":\\\"http://as.nyu.edu/sociology/people/current-phd-students/sod-gabriel-morales.html\\\",\\\"active\\\":false,\\\"links\\\":[]},{\\\"title\\\":\\\"José Soto-Márquez\\\",\\\"href\\\":\\\"http://as.nyu.edu/sociology/people/current-phd-students/soto-marquez-jose.html\\\",\\\"active\\\":false,\\\"links\\\":[]},{\\\"title\\\":\\\"Katharine Steger\\\",\\\"href\\\":\\\"http://as.nyu.edu/sociology/people/current-phd-students/steger-katie.html\\\",\\\"active\\\":false,\\\"links\\\":[]},{\\\"title\\\":\\\"Delaram Takyar\\\",\\\"href\\\":\\\"http://as.nyu.edu/sociology/people/current-phd-students/takyar-delaram.html\\\",\\\"active\\\":false,\\\"links\\\":[]},{\\\"title\\\":\\\"Jason Thompson\\\",\\\"href\\\":\\\"http://as.nyu.edu/sociology/people/current-phd-students/thompson-jason.html\\\",\\\"active\\\":false,\\\"links\\\":[]},{\\\"title\\\":\\\"Gerard Torrats-Espinosa\\\",\\\"href\\\":\\\"http://as.nyu.edu/sociology/people/current-phd-students/torrats-espinosa-gerard.html\\\",\\\"active\\\":false,\\\"links\\\":[]},{\\\"title\\\":\\\"Adaner Usmani\\\",\\\"href\\\":\\\"http://as.nyu.edu/sociology/people/current-phd-students/usmani-adaner.html\\\",\\\"active\\\":false,\\\"links\\\":[]},{\\\"title\\\":\\\"Erik Van Deventer\\\",\\\"href\\\":\\\"http://as.nyu.edu/sociology/people/current-phd-students/van-deventer-erik.html\\\",\\\"active\\\":false,\\\"links\\\":[]},{\\\"title\\\":\\\"Nantina Vgontzas\\\",\\\"href\\\":\\\"http://as.nyu.edu/sociology/people/current-phd-students/vgontzas-nantina.html\\\",\\\"active\\\":false,\\\"links\\\":[]},{\\\"title\\\":\\\"Francisco Vieyra\\\",\\\"href\\\":\\\"http://as.nyu.edu/sociology/people/current-phd-students/vieyra-francisco.html\\\",\\\"active\\\":false,\\\"links\\\":[]},{\\\"title\\\":\\\"Fangqi Wen\\\",\\\"href\\\":\\\"http://as.nyu.edu/sociology/people/current-phd-students/wen-fangqi.html\\\",\\\"active\\\":false,\\\"links\\\":[]},{\\\"title\\\":\\\"Ella Wind\\\",\\\"href\\\":\\\"http://as.nyu.edu/sociology/people/current-phd-students/wind-ella.html\\\",\\\"active\\\":false,\\\"links\\\":[]},{\\\"title\\\":\\\"Matthew Wolfe\\\",\\\"href\\\":\\\"http://as.nyu.edu/sociology/people/current-phd-students/wolfe-matthew.html\\\",\\\"active\\\":false,\\\"links\\\":[]}]},{\\\"title\\\":\\\"Alumni\\\",\\\"href\\\":\\\"http://as.nyu.edu/sociology/people/alumni.html\\\",\\\"active\\\":false,\\\"links\\\":[]},{\\\"title\\\":\\\"Ph.D.s on the Market\\\",\\\"href\\\":\\\"http://as.nyu.edu/sociology/people/phds-on-the-market.html\\\",\\\"active\\\":false,\\\"links\\\":[]},{\\\"title\\\":\\\"Visiting Scholars \\\",\\\"href\\\":\\\"http://as.nyu.edu/sociology/people/visiting-scholars.html\\\",\\\"active\\\":false,\\\"links\\\":[]}]},{\\\"title\\\":\\\"Undergraduate\\\",\\\"href\\\":\\\"http://as.nyu.edu/sociology/undergraduate.html\\\",\\\"active\\\":false,\\\"links\\\":[{\\\"title\\\":\\\"Major in Sociology/Global Public Health\\\",\\\"href\\\":\\\"http://as.nyu.edu/sociology/undergraduate/major-in-sociologyglobal-public-health.html\\\",\\\"active\\\":false,\\\"links\\\":[]},{\\\"title\\\":\\\"B.A. / M.A. Program\\\",\\\"href\\\":\\\"http://as.nyu.edu/sociology/undergraduate/ba--ma-program.html\\\",\\\"active\\\":false,\\\"links\\\":[]},{\\\"title\\\":\\\"Law and Society Program\\\",\\\"href\\\":\\\"http://as.nyu.edu/sociology/undergraduate/law-and-society-program.html\\\",\\\"active\\\":false,\\\"links\\\":[]},{\\\"title\\\":\\\"Independent Study/Internship Information\\\",\\\"href\\\":\\\"http://as.nyu.edu/sociology/undergraduate/independent-studyinternship-information.html\\\",\\\"active\\\":false,\\\"links\\\":[]},{\\\"title\\\":\\\"Undergraduate FAQ\\\",\\\"href\\\":\\\"http://as.nyu.edu/sociology/undergraduate/undergraduate-faq.html\\\",\\\"active\\\":false,\\\"links\\\":[]},{\\\"title\\\":\\\"What to do with an Undergraduate Degree in Sociology?\\\",\\\"href\\\":\\\"http://as.nyu.edu/sociology/undergraduate/what-to-do-with-an-undergraduate-degree-in-sociology.html\\\",\\\"active\\\":false,\\\"links\\\":[]},{\\\"title\\\":\\\"Undergraduate Declaration Forms\\\",\\\"href\\\":\\\"http://as.nyu.edu/sociology/undergraduate/undergraduate-declaration-forms.html\\\",\\\"active\\\":false,\\\"links\\\":[]}]},{\\\"title\\\":\\\"Masters AQR Program\\\",\\\"href\\\":\\\"http://as.nyu.edu/sociology/masters-aqr-program.html\\\",\\\"active\\\":false,\\\"links\\\":[{\\\"title\\\":\\\"Master of Arts in Applied Quantitative Research\\\",\\\"href\\\":\\\"http://as.nyu.edu/sociology/masters-aqr-program/master-of-arts-in-applied-quantitative-research.html\\\",\\\"active\\\":false,\\\"links\\\":[]},{\\\"title\\\":\\\"Curriculum\\\",\\\"href\\\":\\\"http://as.nyu.edu/sociology/masters-aqr-program/curriculum.html\\\",\\\"active\\\":false,\\\"links\\\":[]},{\\\"title\\\":\\\"Requirements\\\",\\\"href\\\":\\\"http://as.nyu.edu/sociology/masters-aqr-program/requirements.html\\\",\\\"active\\\":false,\\\"links\\\":[]},{\\\"title\\\":\\\"Masters Program FAQs\\\",\\\"href\\\":\\\"http://as.nyu.edu/sociology/masters-aqr-program/masters-program-faqs.html\\\",\\\"active\\\":false,\\\"links\\\":[]},{\\\"title\\\":\\\"AQR Information Sessions\\\",\\\"href\\\":\\\"http://as.nyu.edu/sociology/masters-aqr-program/aqr-information-sessions.html\\\",\\\"active\\\":false,\\\"links\\\":[]},{\\\"title\\\":\\\"Applied Quantitative Research Workshop\\\",\\\"href\\\":\\\"http://as.nyu.edu/sociology/masters-aqr-program/applied-quantitative-research-workshop.html\\\",\\\"active\\\":false,\\\"links\\\":[]},{\\\"title\\\":\\\"AQR Program Guide\\\",\\\"href\\\":\\\"http://as.nyu.edu/sociology/masters-aqr-program/aqr-program-guide.html\\\",\\\"active\\\":false,\\\"links\\\":[]}]},{\\\"title\\\":\\\"Ph.D. Program\\\",\\\"href\\\":\\\"http://as.nyu.edu/sociology/phd-program.html\\\",\\\"active\\\":false,\\\"links\\\":[{\\\"title\\\":\\\"For Prospective Ph.D. Applicants\\\",\\\"href\\\":\\\"http://as.nyu.edu/sociology/phd-program/for-prospective-phd-applicants.html\\\",\\\"active\\\":false,\\\"links\\\":[]},{\\\"title\\\":\\\"Prospective Ph.D. FAQ\\\",\\\"href\\\":\\\"http://as.nyu.edu/sociology/phd-program/prospective-phd-faq.html\\\",\\\"active\\\":false,\\\"links\\\":[]},{\\\"title\\\":\\\"Recently Awarded Student Grants and Fellowships\\\",\\\"href\\\":\\\"http://as.nyu.edu/sociology/phd-program/recently-awarded-student-grants-and-fellowships.html\\\",\\\"active\\\":false,\\\"links\\\":[]},{\\\"title\\\":\\\"Comprehensive Exams & Research Paper Requirements\\\",\\\"href\\\":\\\"http://as.nyu.edu/sociology/phd-program/comprehensive-exams--research-paper-requirements.html\\\",\\\"active\\\":false,\\\"links\\\":[]},{\\\"title\\\":\\\"Sample Graduate Syllabi & Course Descriptions\\\",\\\"href\\\":\\\"http://as.nyu.edu/sociology/phd-program/sample-graduate-syllabi--course-descriptions.html\\\",\\\"active\\\":false,\\\"links\\\":[]},{\\\"title\\\":\\\"Ph.D. Alumni and Job Placements\\\",\\\"href\\\":\\\"http://as.nyu.edu/sociology/phd-program/phd-alumni-and-job-placements.html\\\",\\\"active\\\":false,\\\"links\\\":[]}]},{\\\"title\\\":\\\"Courses\\\",\\\"href\\\":\\\"http://as.nyu.edu/sociology/courses.html\\\",\\\"active\\\":false,\\\"links\\\":[]},{\\\"title\\\":\\\"Contact Us\\\",\\\"href\\\":\\\"http://as.nyu.edu/sociology/contact-us.html\\\",\\\"active\\\":false,\\\"links\\\":[]}]',\n",
      "        siteLinks: '[{\\\"title\\\":\\\"Arts & Science\\\",\\\"href\\\":\\\"http://as.nyu.edu/\\\",\\\"active\\\":true,\\\"links\\\":[]},{\\\"title\\\":\\\"CAS\\\",\\\"href\\\":\\\"http://cas.nyu.edu/\\\",\\\"active\\\":false,\\\"links\\\":[]},{\\\"title\\\":\\\"GSAS\\\",\\\"href\\\":\\\"http://gsas.nyu.edu/\\\",\\\"active\\\":false,\\\"links\\\":[]},{\\\"title\\\":\\\"Liberal Studies\\\",\\\"href\\\":\\\"http://liberalstudies.nyu.edu/\\\",\\\"active\\\":false,\\\"links\\\":[]}]',\n",
      "        department: 'Department of Sociology',\n",
      "        departmentLink: 'http://as.nyu.edu/sociology.html',\n",
      "        school: 'Arts & Science',\n",
      "        schoolLink: 'http://as.nyu.edu/',\n",
      "        socialLinks: '[{\\\"type\\\":\\\"fb\\\",\\\"linkUrl\\\":\\\"https://www.facebook.com/NYUSociology\\\"},{\\\"type\\\":\\\"instagram\\\",\\\"linkUrl\\\":\\\"https://www.instagram.com/nyusociology/\\\"},{\\\"type\\\":\\\"twitter\\\",\\\"linkUrl\\\":\\\"https://twitter.com/nyusociology\\\"},{\\\"type\\\":\\\"linkedin\\\",\\\"linkUrl\\\":\\\"https://www.linkedin.com/in/nyusociology\\\"}]'\n",
      "    });\n",
      "</script></div>\n",
      "<div id=\"breadcrumbs\"><div class=\"breadcrumbs pre-generated\">\n",
      "    <div class=\"container\">\n",
      "        <ul class=\"breadcrumbs__list\">\n",
      "            <li class=\"breadcrumbs__list--item\">\n",
      "                <a class=\"breadcrumbs__link\" href=\"http://as.nyu.edu/sociology/about/about-us.html\">About</a>\n",
      "                <ul class=\"breadcrumbs__sublink--list\">\n",
      "                    <li class=\"breadcrumbs__sublink--item\">\n",
      "                        <a href=\"http://as.nyu.edu/sociology/about/about-us.html\" class=\"breadcrumbs__sublink--link\">\n",
      "                            About Us\n",
      "                        </a>\n",
      "                    </li>\n",
      "                \n",
      "                    <li class=\"breadcrumbs__sublink--item\">\n",
      "                        <a href=\"http://as.nyu.edu/sociology/about/news.html\" class=\"breadcrumbs__sublink--link\">\n",
      "                            News\n",
      "                        </a>\n",
      "                    </li>\n",
      "                \n",
      "                    <li class=\"breadcrumbs__sublink--item\">\n",
      "                        <a href=\"https://sites.google.com/a/nyu.edu/soc-policies-and-procedures/?pli=1\" class=\"breadcrumbs__sublink--link\">\n",
      "                            Policies and Procedures\n",
      "                        </a>\n",
      "                    </li>\n",
      "                \n",
      "                    <li class=\"breadcrumbs__sublink--item\">\n",
      "                        <a href=\"http://as.nyu.edu/sociology/about/faculty-employment-.html\" class=\"breadcrumbs__sublink--link\">\n",
      "                            Faculty Employment \n",
      "                        </a>\n",
      "                    </li>\n",
      "                </ul>\n",
      "            </li>\n",
      "        \n",
      "            <li class=\"breadcrumbs__list--item\">\n",
      "                <a class=\"breadcrumbs__link\" href=\"http://as.nyu.edu/sociology/events.html\">Events</a>\n",
      "                <ul class=\"breadcrumbs__sublink--list\">\n",
      "                    <li class=\"breadcrumbs__sublink--item\">\n",
      "                        <a href=\"http://as.nyu.edu/sociology/events/fall-2017.html\" class=\"breadcrumbs__sublink--link\">\n",
      "                            Fall 2017\n",
      "                        </a>\n",
      "                    </li>\n",
      "                \n",
      "                    <li class=\"breadcrumbs__sublink--item\">\n",
      "                        <a href=\"http://as.nyu.edu/sociology/events/spring-2017.html\" class=\"breadcrumbs__sublink--link\">\n",
      "                            Spring 2017\n",
      "                        </a>\n",
      "                    </li>\n",
      "                </ul>\n",
      "            </li>\n",
      "        \n",
      "            <li class=\"breadcrumbs__list--item\">\n",
      "                <a class=\"breadcrumbs__link\" href=\"http://as.nyu.edu/sociology/people/faculty.html\">People</a>\n",
      "                <ul class=\"breadcrumbs__sublink--list\">\n",
      "                    <li class=\"breadcrumbs__sublink--item\">\n",
      "                        <a href=\"http://as.nyu.edu/sociology/people/faculty.html\" class=\"breadcrumbs__sublink--link\">\n",
      "                            Faculty\n",
      "                        </a>\n",
      "                    </li>\n",
      "                \n",
      "                    <li class=\"breadcrumbs__sublink--item\">\n",
      "                        <a href=\"http://as.nyu.edu/sociology/people/global-network-faculty.html\" class=\"breadcrumbs__sublink--link\">\n",
      "                            Global Network Faculty\n",
      "                        </a>\n",
      "                    </li>\n",
      "                \n",
      "                    <li class=\"breadcrumbs__sublink--item\">\n",
      "                        <a href=\"http://as.nyu.edu/sociology/people/faculty-research-interests.html\" class=\"breadcrumbs__sublink--link\">\n",
      "                            Faculty Research Interests\n",
      "                        </a>\n",
      "                    </li>\n",
      "                \n",
      "                    <li class=\"breadcrumbs__sublink--item\">\n",
      "                        <a href=\"http://as.nyu.edu/sociology/people/staff.html\" class=\"breadcrumbs__sublink--link\">\n",
      "                            Staff\n",
      "                        </a>\n",
      "                    </li>\n",
      "                \n",
      "                    <li class=\"breadcrumbs__sublink--item\">\n",
      "                        <a href=\"http://as.nyu.edu/sociology/people/current-phd-students.html\" class=\"breadcrumbs__sublink--link\">\n",
      "                            Current Ph.D. Students\n",
      "                        </a>\n",
      "                    </li>\n",
      "                \n",
      "                    <li class=\"breadcrumbs__sublink--item\">\n",
      "                        <a href=\"http://as.nyu.edu/sociology/people/alumni.html\" class=\"breadcrumbs__sublink--link\">\n",
      "                            Alumni\n",
      "                        </a>\n",
      "                    </li>\n",
      "                \n",
      "                    <li class=\"breadcrumbs__sublink--item\">\n",
      "                        <a href=\"http://as.nyu.edu/sociology/people/phds-on-the-market.html\" class=\"breadcrumbs__sublink--link\">\n",
      "                            Ph.D.s on the Market\n",
      "                        </a>\n",
      "                    </li>\n",
      "                \n",
      "                    <li class=\"breadcrumbs__sublink--item\">\n",
      "                        <a href=\"http://as.nyu.edu/sociology/people/visiting-scholars.html\" class=\"breadcrumbs__sublink--link\">\n",
      "                            Visiting Scholars \n",
      "                        </a>\n",
      "                    </li>\n",
      "                </ul>\n",
      "            </li>\n",
      "        \n",
      "            <li class=\"breadcrumbs__list--item\">\n",
      "                <a class=\"breadcrumbs__link\" href=\"http://as.nyu.edu/sociology/undergraduate.html\">Undergraduate</a>\n",
      "                <ul class=\"breadcrumbs__sublink--list\">\n",
      "                    <li class=\"breadcrumbs__sublink--item\">\n",
      "                        <a href=\"http://as.nyu.edu/sociology/undergraduate/major-in-sociologyglobal-public-health.html\" class=\"breadcrumbs__sublink--link\">\n",
      "                            Major in Sociology/Global Public Health\n",
      "                        </a>\n",
      "                    </li>\n",
      "                \n",
      "                    <li class=\"breadcrumbs__sublink--item\">\n",
      "                        <a href=\"http://as.nyu.edu/sociology/undergraduate/ba--ma-program.html\" class=\"breadcrumbs__sublink--link\">\n",
      "                            B.A. / M.A. Program\n",
      "                        </a>\n",
      "                    </li>\n",
      "                \n",
      "                    <li class=\"breadcrumbs__sublink--item\">\n",
      "                        <a href=\"http://as.nyu.edu/sociology/undergraduate/law-and-society-program.html\" class=\"breadcrumbs__sublink--link\">\n",
      "                            Law and Society Program\n",
      "                        </a>\n",
      "                    </li>\n",
      "                \n",
      "                    <li class=\"breadcrumbs__sublink--item\">\n",
      "                        <a href=\"http://as.nyu.edu/sociology/undergraduate/independent-studyinternship-information.html\" class=\"breadcrumbs__sublink--link\">\n",
      "                            Independent Study/Internship Information\n",
      "                        </a>\n",
      "                    </li>\n",
      "                \n",
      "                    <li class=\"breadcrumbs__sublink--item\">\n",
      "                        <a href=\"http://as.nyu.edu/sociology/undergraduate/undergraduate-faq.html\" class=\"breadcrumbs__sublink--link\">\n",
      "                            Undergraduate FAQ\n",
      "                        </a>\n",
      "                    </li>\n",
      "                \n",
      "                    <li class=\"breadcrumbs__sublink--item\">\n",
      "                        <a href=\"http://as.nyu.edu/sociology/undergraduate/what-to-do-with-an-undergraduate-degree-in-sociology.html\" class=\"breadcrumbs__sublink--link\">\n",
      "                            What to do with an Undergraduate Degree in Sociology?\n",
      "                        </a>\n",
      "                    </li>\n",
      "                \n",
      "                    <li class=\"breadcrumbs__sublink--item\">\n",
      "                        <a href=\"http://as.nyu.edu/sociology/undergraduate/undergraduate-declaration-forms.html\" class=\"breadcrumbs__sublink--link\">\n",
      "                            Undergraduate Declaration Forms\n",
      "                        </a>\n",
      "                    </li>\n",
      "                </ul>\n",
      "            </li>\n",
      "        \n",
      "            <li class=\"breadcrumbs__list--item\">\n",
      "                <a class=\"breadcrumbs__link\" href=\"http://as.nyu.edu/sociology/masters-aqr-program.html\">Masters AQR Program</a>\n",
      "                <ul class=\"breadcrumbs__sublink--list\">\n",
      "                    <li class=\"breadcrumbs__sublink--item\">\n",
      "                        <a href=\"http://as.nyu.edu/sociology/masters-aqr-program/master-of-arts-in-applied-quantitative-research.html\" class=\"breadcrumbs__sublink--link\">\n",
      "                            Master of Arts in Applied Quantitative Research\n",
      "                        </a>\n",
      "                    </li>\n",
      "                \n",
      "                    <li class=\"breadcrumbs__sublink--item\">\n",
      "                        <a href=\"http://as.nyu.edu/sociology/masters-aqr-program/curriculum.html\" class=\"breadcrumbs__sublink--link\">\n",
      "                            Curriculum\n",
      "                        </a>\n",
      "                    </li>\n",
      "                \n",
      "                    <li class=\"breadcrumbs__sublink--item\">\n",
      "                        <a href=\"http://as.nyu.edu/sociology/masters-aqr-program/requirements.html\" class=\"breadcrumbs__sublink--link\">\n",
      "                            Requirements\n",
      "                        </a>\n",
      "                    </li>\n",
      "                \n",
      "                    <li class=\"breadcrumbs__sublink--item\">\n",
      "                        <a href=\"http://as.nyu.edu/sociology/masters-aqr-program/masters-program-faqs.html\" class=\"breadcrumbs__sublink--link\">\n",
      "                            Masters Program FAQs\n",
      "                        </a>\n",
      "                    </li>\n",
      "                \n",
      "                    <li class=\"breadcrumbs__sublink--item\">\n",
      "                        <a href=\"http://as.nyu.edu/sociology/masters-aqr-program/aqr-information-sessions.html\" class=\"breadcrumbs__sublink--link\">\n",
      "                            AQR Information Sessions\n",
      "                        </a>\n",
      "                    </li>\n",
      "                \n",
      "                    <li class=\"breadcrumbs__sublink--item\">\n",
      "                        <a href=\"http://as.nyu.edu/sociology/masters-aqr-program/applied-quantitative-research-workshop.html\" class=\"breadcrumbs__sublink--link\">\n",
      "                            Applied Quantitative Research Workshop\n",
      "                        </a>\n",
      "                    </li>\n",
      "                \n",
      "                    <li class=\"breadcrumbs__sublink--item\">\n",
      "                        <a href=\"http://as.nyu.edu/sociology/masters-aqr-program/aqr-program-guide.html\" class=\"breadcrumbs__sublink--link\">\n",
      "                            AQR Program Guide\n",
      "                        </a>\n",
      "                    </li>\n",
      "                </ul>\n",
      "            </li>\n",
      "        \n",
      "            <li class=\"breadcrumbs__list--item\">\n",
      "                <a class=\"breadcrumbs__link\" href=\"http://as.nyu.edu/sociology/phd-program.html\">Ph.D. Program</a>\n",
      "                <ul class=\"breadcrumbs__sublink--list\">\n",
      "                    <li class=\"breadcrumbs__sublink--item\">\n",
      "                        <a href=\"http://as.nyu.edu/sociology/phd-program/for-prospective-phd-applicants.html\" class=\"breadcrumbs__sublink--link\">\n",
      "                            For Prospective Ph.D. Applicants\n",
      "                        </a>\n",
      "                    </li>\n",
      "                \n",
      "                    <li class=\"breadcrumbs__sublink--item\">\n",
      "                        <a href=\"http://as.nyu.edu/sociology/phd-program/prospective-phd-faq.html\" class=\"breadcrumbs__sublink--link\">\n",
      "                            Prospective Ph.D. FAQ\n",
      "                        </a>\n",
      "                    </li>\n",
      "                \n",
      "                    <li class=\"breadcrumbs__sublink--item\">\n",
      "                        <a href=\"http://as.nyu.edu/sociology/phd-program/recently-awarded-student-grants-and-fellowships.html\" class=\"breadcrumbs__sublink--link\">\n",
      "                            Recently Awarded Student Grants and Fellowships\n",
      "                        </a>\n",
      "                    </li>\n",
      "                \n",
      "                    <li class=\"breadcrumbs__sublink--item\">\n",
      "                        <a href=\"http://as.nyu.edu/sociology/phd-program/comprehensive-exams--research-paper-requirements.html\" class=\"breadcrumbs__sublink--link\">\n",
      "                            Comprehensive Exams &amp; Research Paper Requirements\n",
      "                        </a>\n",
      "                    </li>\n",
      "                \n",
      "                    <li class=\"breadcrumbs__sublink--item\">\n",
      "                        <a href=\"http://as.nyu.edu/sociology/phd-program/sample-graduate-syllabi--course-descriptions.html\" class=\"breadcrumbs__sublink--link\">\n",
      "                            Sample Graduate Syllabi &amp; Course Descriptions\n",
      "                        </a>\n",
      "                    </li>\n",
      "                \n",
      "                    <li class=\"breadcrumbs__sublink--item\">\n",
      "                        <a href=\"http://as.nyu.edu/sociology/phd-program/phd-alumni-and-job-placements.html\" class=\"breadcrumbs__sublink--link\">\n",
      "                            Ph.D. Alumni and Job Placements\n",
      "                        </a>\n",
      "                    </li>\n",
      "                </ul>\n",
      "            </li>\n",
      "        \n",
      "            <li class=\"breadcrumbs__list--item\">\n",
      "                <a class=\"breadcrumbs__link\" href=\"http://as.nyu.edu/sociology/courses.html\">Courses</a>\n",
      "                \n",
      "            </li>\n",
      "        \n",
      "            <li class=\"breadcrumbs__list--item\">\n",
      "                <a class=\"breadcrumbs__link\" href=\"http://as.nyu.edu/sociology/contact-us.html\">Contact Us</a>\n",
      "                \n",
      "            </li>\n",
      "        </ul>\n",
      "    </div>\n",
      "</div>\n",
      "</div>\n",
      "    <section class=\"nyu-container\">\n",
      "    <!-- START TOP FULL-WIDTH CONTAINER -->\n",
      "<div class=\"par-container nyu-container__full-width nyu-container__top nyu-standard\">\n",
      "    \n",
      "\n",
      "\n",
      "</div>\n",
      "<!-- START CONTENT-WIDTH CONTAINER: 1-COL 100 -->\n",
      "\n",
      "    \n",
      "    \n",
      "        <div class=\"nyu-container__top\">\n",
      "            <div class=\"container\">\n",
      "                <div class=\"row\">\n",
      "                    <div class=\"page-header\">\n",
      "                        <h1 class=\"directory__title theme__head--medium\">Faculty</h1>\n",
      "                        \n",
      "                        <br/>\n",
      "                    </div>\n",
      "                </div>\n",
      "            </div>\n",
      "        </div>\n",
      "        <div class=\"directory-wrapper\">\n",
      "            <div class=\"par-content nyu-container__content-width\">\n",
      "                <div class=\"row\">\n",
      "                    <div class=\"nyu-container__columns\">\n",
      "                        <div class=\"nyu-container__columns--100\">\n",
      "                            \n",
      "\n",
      "    \n",
      "    \n",
      "    \n",
      "    <div class=\"facultydirectorylisting\">\n",
      "\n",
      "\n",
      "\n",
      "\n",
      "    \n",
      "\n",
      "\n",
      "<div class=\"directory-component\">\n",
      "    <div class=\"directory__itemWrapper js-filter-wrapper\" id=\"filter-body\">\n",
      "        \n",
      "    <div class=\"filters\">\n",
      "        <ul class=\"filters-list filters-letter-list js-filter-triggers\">\n",
      "            <li class=\"filters-list-item\">\n",
      "                <a href=\"#filter-body\" data-filter-key=\"letter\" data-filter-value=\"a\">A</a>\n",
      "            </li>\n",
      "            <li class=\"filters-list-item\">\n",
      "                <a href=\"#filter-body\" data-filter-key=\"letter\" data-filter-value=\"b\">B</a>\n",
      "            </li>\n",
      "            <li class=\"filters-list-item\">\n",
      "                <a href=\"#filter-body\" data-filter-key=\"letter\" data-filter-value=\"c\">C</a>\n",
      "            </li>\n",
      "            <li class=\"filters-list-item\">\n",
      "                <a href=\"#filter-body\" data-filter-key=\"letter\" data-filter-value=\"d\">D</a>\n",
      "            </li>\n",
      "            <li class=\"filters-list-item\">\n",
      "                <a href=\"#filter-body\" data-filter-key=\"letter\" data-filter-value=\"e\">E</a>\n",
      "            </li>\n",
      "            <li class=\"filters-list-item\">\n",
      "                <a href=\"#filter-body\" data-filter-key=\"letter\" data-filter-value=\"f\">F</a>\n",
      "            </li>\n",
      "            <li class=\"filters-list-item\">\n",
      "                <a href=\"#filter-body\" data-filter-key=\"letter\" data-filter-value=\"g\">G</a>\n",
      "            </li>\n",
      "            <li class=\"filters-list-item\">\n",
      "                <a href=\"#filter-body\" data-filter-key=\"letter\" data-filter-value=\"h\">H</a>\n",
      "            </li>\n",
      "            <li class=\"filters-list-item\">\n",
      "                <a href=\"#filter-body\" data-filter-key=\"letter\" data-filter-value=\"i\">I</a>\n",
      "            </li>\n",
      "            <li class=\"filters-list-item\">\n",
      "                <a href=\"#filter-body\" data-filter-key=\"letter\" data-filter-value=\"j\">J</a>\n",
      "            </li>\n",
      "            <li class=\"filters-list-item\">\n",
      "                <a href=\"#filter-body\" data-filter-key=\"letter\" data-filter-value=\"k\">K</a>\n",
      "            </li>\n",
      "            <li class=\"filters-list-item\">\n",
      "                <a href=\"#filter-body\" data-filter-key=\"letter\" data-filter-value=\"l\">L</a>\n",
      "            </li>\n",
      "            <li class=\"filters-list-item\">\n",
      "                <a href=\"#filter-body\" data-filter-key=\"letter\" data-filter-value=\"m\">M</a>\n",
      "            </li>\n",
      "            <li class=\"filters-list-item\">\n",
      "                <a href=\"#filter-body\" data-filter-key=\"letter\" data-filter-value=\"n\">N</a>\n",
      "            </li>\n",
      "            <li class=\"filters-list-item\">\n",
      "                <a href=\"#filter-body\" data-filter-key=\"letter\" data-filter-value=\"o\">O</a>\n",
      "            </li>\n",
      "            <li class=\"filters-list-item\">\n",
      "                <a href=\"#filter-body\" data-filter-key=\"letter\" data-filter-value=\"p\">P</a>\n",
      "            </li>\n",
      "            <li class=\"filters-list-item\">\n",
      "                <a href=\"#filter-body\" data-filter-key=\"letter\" data-filter-value=\"q\">Q</a>\n",
      "            </li>\n",
      "            <li class=\"filters-list-item\">\n",
      "                <a href=\"#filter-body\" data-filter-key=\"letter\" data-filter-value=\"r\">R</a>\n",
      "            </li>\n",
      "            <li class=\"filters-list-item\">\n",
      "                <a href=\"#filter-body\" data-filter-key=\"letter\" data-filter-value=\"s\">S</a>\n",
      "            </li>\n",
      "            <li class=\"filters-list-item\">\n",
      "                <a href=\"#filter-body\" data-filter-key=\"letter\" data-filter-value=\"t\">T</a>\n",
      "            </li>\n",
      "            <li class=\"filters-list-item\">\n",
      "                <a href=\"#filter-body\" data-filter-key=\"letter\" data-filter-value=\"u\">U</a>\n",
      "            </li>\n",
      "            <li class=\"filters-list-item\">\n",
      "                <a href=\"#filter-body\" data-filter-key=\"letter\" data-filter-value=\"v\">V</a>\n",
      "            </li>\n",
      "            <li class=\"filters-list-item\">\n",
      "                <a href=\"#filter-body\" data-filter-key=\"letter\" data-filter-value=\"w\">W</a>\n",
      "            </li>\n",
      "            <li class=\"filters-list-item\">\n",
      "                <a href=\"#filter-body\" data-filter-key=\"letter\" data-filter-value=\"x\">X</a>\n",
      "            </li>\n",
      "            <li class=\"filters-list-item\">\n",
      "                <a href=\"#filter-body\" data-filter-key=\"letter\" data-filter-value=\"y\">Y</a>\n",
      "            </li>\n",
      "            <li class=\"filters-list-item\">\n",
      "                <a href=\"#filter-body\" data-filter-key=\"letter\" data-filter-value=\"z\">Z</a>\n",
      "            </li>\n",
      "        </ul>\n",
      "    </div>\n",
      "\n",
      "\n",
      "        <aside class=\"filters-side-filters\">\n",
      "            <div class=\"filters-side-filters__header nyu-subsection__header theme__text--medium\">\n",
      "                <h4 class=\"theme__head--medium\">Filter Results</h4>\n",
      "                \n",
      "    <div class=\"svg-sprite svg-carat_down\">\n",
      "        <svg width=\"20.075\" height=\"11.29\" viewBox=\"0 0 20.075 11.29\" id=\"carat_down\" x=\"407.806\" y=\"265.058\"><path fill-rule=\"evenodd\" clip-rule=\"evenodd\" fill=\"#FFF\" d=\"M19.71.365a1.242 1.242 0 0 0-1.758 0l-7.914 7.921L2.123.365a1.243 1.243 0 1 0-1.759 1.76l8.794 8.801a1.245 1.245 0 0 0 1.759 0l8.793-8.801a1.245 1.245 0 0 0 0-1.76z\"/></svg>\n",
      "    </div>\n",
      "\n",
      "            </div>\n",
      "            <div class=\"filters-side-filters__content\">\n",
      "                \n",
      "                \n",
      "\n",
      "                \n",
      "                    <h5 class=\"filters-side-filters__subhead\">Faculty Type</h5>\n",
      "                    <ul class=\"filters-side-filters__list theme__filter--light js-filter-triggers\" data-filters-nav-key=\"faculty-type\" data-filters-li-class=\"filters-side-filters__item\" data-filters-a-class=\"filters-side-filters__link\">\n",
      "                    </ul>\n",
      "                \n",
      "            </div>\n",
      "        </aside>\n",
      "\n",
      "        <div class=\"filtered-items\">\n",
      "            \n",
      "            \n",
      "            <div class=\"\n"
     ]
    }
   ],
   "source": [
    "print slices[0]"
   ]
  },
  {
   "cell_type": "code",
   "execution_count": 159,
   "metadata": {
    "slideshow": {
     "slide_type": "slide"
    }
   },
   "outputs": [
    {
     "name": "stdout",
     "output_type": "stream",
     "text": [
      "Empty\n",
      "Empty\n",
      "{'name': u'Delia Baldassarri', 'email': u'delia.b@nyu.edu'}\n",
      "{'name': u'Siwei Cheng', 'email': u'siwei.cheng@nyu.edu'}\n",
      "{'name': u'Vivek Chibber', 'email': u'vivek.chibber@nyu.edu'}\n",
      "{'name': u'Sarah Cowan', 'email': u'sarahkcowan@nyu.edu'}\n",
      "{'name': u'Paul DiMaggio', 'email': u'pd1092@nyu.edu'}\n",
      "{'name': u'Jo Dixon', 'email': u'jo.dixon@nyu.edu'}\n",
      "{'name': u'Paula England', 'email': u'pengland@nyu.edu'}\n",
      "{'name': u'Thomas Ertman', 'email': u'thomas.ertman@nyu.edu'}\n",
      "{'name': u'David Garland', 'email': u'David.Garland@nyu.edu'}\n",
      "{'name': u'Amanda Geller', 'email': u'amanda.geller@nyu.edu'}\n",
      "{'name': u'Kathleen Gerson', 'email': u'kathleen.gerson@nyu.edu'}\n",
      "{'name': u'Jeff Goodwin', 'email': u'jgoodwin.nyu@gmail.com'}\n",
      "{'name': u'David Greenberg', 'email': u'david.greenberg@nyu.edu'}\n",
      "{'name': u'Lynne Haney', 'email': u'lynne.haney@nyu.edu'}\n",
      "{'name': u'Ruth Horowitz', 'email': u'ruth.horowitz@nyu.edu'}\n",
      "{'name': u'Michael Hout', 'email': u'mikehout@nyu.edu'}\n",
      "{'name': u'Mary Beth Hunzaker', 'email': u'mary.beth.hunzaker@nyu.edu'}\n",
      "{'name': u'Robert Max Jackson', 'email': u'robert.max.jackson@nyu.edu'}\n",
      "{'name': u'Guillermina Jasso', 'email': u'gj1@nyu.edu'}\n",
      "{'name': u'Colin Jerolmack', 'email': u'jerolmack@nyu.edu'}\n",
      "Empty\n",
      "{'name': u'Nahoko Kameo', 'email': u'nahoko.kameo@nyu.edu'}\n",
      "{'name': u'Eric Klinenberg', 'email': u'eric.klinenberg@nyu.edu'}\n",
      "{'name': u'Steven Lukes', 'email': u'sl53@nyu.edu'}\n",
      "{'name': u'Jeff Manza', 'email': u'manza@nyu.edu'}\n",
      "{'name': u'Harvey Molotch', 'email': u'harvey.molotch@nyu.edu'}\n",
      "{'name': u'Ann Morning', 'email': u'ann.morning@nyu.edu'}\n",
      "{'name': u'Deirdre A. Royster', 'email': u'dr101@nyu.edu'}\n",
      "{'name': u'Patrick Sharkey', 'email': u'pts1@nyu.edu'}\n",
      "{'name': u'Iddo Tavory', 'email': u'iddo.tavory@nyu.edu'}\n",
      "{'name': u'Lawrence Wu', 'email': u'lawrence.wu@nyu.edu'}\n"
     ]
    }
   ],
   "source": [
    "for slice in slices:\n",
    "    try:\n",
    "        print(scrape_person(slice))\n",
    "    except:\n",
    "        print 'Empty'\n",
    "              "
   ]
  },
  {
   "cell_type": "code",
   "execution_count": 163,
   "metadata": {
    "slideshow": {
     "slide_type": "slide"
    }
   },
   "outputs": [
    {
     "name": "stdout",
     "output_type": "stream",
     "text": [
      "Empty\n",
      "Empty\n",
      "Empty\n"
     ]
    }
   ],
   "source": [
    "directory = []\n",
    "\n",
    "for slice in slices:\n",
    "    try:\n",
    "        entry = scrape_person(slice)\n",
    "        directory.append(entry)\n",
    "    except:\n",
    "        print 'Empty'\n",
    "              "
   ]
  },
  {
   "cell_type": "code",
   "execution_count": 166,
   "metadata": {
    "slideshow": {
     "slide_type": "slide"
    }
   },
   "outputs": [
    {
     "data": {
      "text/html": [
       "<div>\n",
       "<style>\n",
       "    .dataframe thead tr:only-child th {\n",
       "        text-align: right;\n",
       "    }\n",
       "\n",
       "    .dataframe thead th {\n",
       "        text-align: left;\n",
       "    }\n",
       "\n",
       "    .dataframe tbody tr th {\n",
       "        vertical-align: top;\n",
       "    }\n",
       "</style>\n",
       "<table border=\"1\" class=\"dataframe\">\n",
       "  <thead>\n",
       "    <tr style=\"text-align: right;\">\n",
       "      <th></th>\n",
       "      <th>email</th>\n",
       "      <th>name</th>\n",
       "    </tr>\n",
       "  </thead>\n",
       "  <tbody>\n",
       "    <tr>\n",
       "      <th>0</th>\n",
       "      <td>delia.b@nyu.edu</td>\n",
       "      <td>Delia Baldassarri</td>\n",
       "    </tr>\n",
       "    <tr>\n",
       "      <th>1</th>\n",
       "      <td>siwei.cheng@nyu.edu</td>\n",
       "      <td>Siwei Cheng</td>\n",
       "    </tr>\n",
       "    <tr>\n",
       "      <th>2</th>\n",
       "      <td>vivek.chibber@nyu.edu</td>\n",
       "      <td>Vivek Chibber</td>\n",
       "    </tr>\n",
       "    <tr>\n",
       "      <th>3</th>\n",
       "      <td>sarahkcowan@nyu.edu</td>\n",
       "      <td>Sarah Cowan</td>\n",
       "    </tr>\n",
       "    <tr>\n",
       "      <th>4</th>\n",
       "      <td>pd1092@nyu.edu</td>\n",
       "      <td>Paul DiMaggio</td>\n",
       "    </tr>\n",
       "    <tr>\n",
       "      <th>5</th>\n",
       "      <td>jo.dixon@nyu.edu</td>\n",
       "      <td>Jo Dixon</td>\n",
       "    </tr>\n",
       "    <tr>\n",
       "      <th>6</th>\n",
       "      <td>pengland@nyu.edu</td>\n",
       "      <td>Paula England</td>\n",
       "    </tr>\n",
       "    <tr>\n",
       "      <th>7</th>\n",
       "      <td>thomas.ertman@nyu.edu</td>\n",
       "      <td>Thomas Ertman</td>\n",
       "    </tr>\n",
       "    <tr>\n",
       "      <th>8</th>\n",
       "      <td>David.Garland@nyu.edu</td>\n",
       "      <td>David Garland</td>\n",
       "    </tr>\n",
       "    <tr>\n",
       "      <th>9</th>\n",
       "      <td>amanda.geller@nyu.edu</td>\n",
       "      <td>Amanda Geller</td>\n",
       "    </tr>\n",
       "    <tr>\n",
       "      <th>10</th>\n",
       "      <td>kathleen.gerson@nyu.edu</td>\n",
       "      <td>Kathleen Gerson</td>\n",
       "    </tr>\n",
       "    <tr>\n",
       "      <th>11</th>\n",
       "      <td>jgoodwin.nyu@gmail.com</td>\n",
       "      <td>Jeff Goodwin</td>\n",
       "    </tr>\n",
       "    <tr>\n",
       "      <th>12</th>\n",
       "      <td>david.greenberg@nyu.edu</td>\n",
       "      <td>David Greenberg</td>\n",
       "    </tr>\n",
       "    <tr>\n",
       "      <th>13</th>\n",
       "      <td>lynne.haney@nyu.edu</td>\n",
       "      <td>Lynne Haney</td>\n",
       "    </tr>\n",
       "    <tr>\n",
       "      <th>14</th>\n",
       "      <td>ruth.horowitz@nyu.edu</td>\n",
       "      <td>Ruth Horowitz</td>\n",
       "    </tr>\n",
       "    <tr>\n",
       "      <th>15</th>\n",
       "      <td>mikehout@nyu.edu</td>\n",
       "      <td>Michael Hout</td>\n",
       "    </tr>\n",
       "    <tr>\n",
       "      <th>16</th>\n",
       "      <td>mary.beth.hunzaker@nyu.edu</td>\n",
       "      <td>Mary Beth Hunzaker</td>\n",
       "    </tr>\n",
       "    <tr>\n",
       "      <th>17</th>\n",
       "      <td>robert.max.jackson@nyu.edu</td>\n",
       "      <td>Robert Max Jackson</td>\n",
       "    </tr>\n",
       "    <tr>\n",
       "      <th>18</th>\n",
       "      <td>gj1@nyu.edu</td>\n",
       "      <td>Guillermina Jasso</td>\n",
       "    </tr>\n",
       "    <tr>\n",
       "      <th>19</th>\n",
       "      <td>jerolmack@nyu.edu</td>\n",
       "      <td>Colin Jerolmack</td>\n",
       "    </tr>\n",
       "    <tr>\n",
       "      <th>20</th>\n",
       "      <td>nahoko.kameo@nyu.edu</td>\n",
       "      <td>Nahoko Kameo</td>\n",
       "    </tr>\n",
       "    <tr>\n",
       "      <th>21</th>\n",
       "      <td>eric.klinenberg@nyu.edu</td>\n",
       "      <td>Eric Klinenberg</td>\n",
       "    </tr>\n",
       "    <tr>\n",
       "      <th>22</th>\n",
       "      <td>sl53@nyu.edu</td>\n",
       "      <td>Steven Lukes</td>\n",
       "    </tr>\n",
       "    <tr>\n",
       "      <th>23</th>\n",
       "      <td>manza@nyu.edu</td>\n",
       "      <td>Jeff Manza</td>\n",
       "    </tr>\n",
       "    <tr>\n",
       "      <th>24</th>\n",
       "      <td>harvey.molotch@nyu.edu</td>\n",
       "      <td>Harvey Molotch</td>\n",
       "    </tr>\n",
       "    <tr>\n",
       "      <th>25</th>\n",
       "      <td>ann.morning@nyu.edu</td>\n",
       "      <td>Ann Morning</td>\n",
       "    </tr>\n",
       "    <tr>\n",
       "      <th>26</th>\n",
       "      <td>dr101@nyu.edu</td>\n",
       "      <td>Deirdre A. Royster</td>\n",
       "    </tr>\n",
       "    <tr>\n",
       "      <th>27</th>\n",
       "      <td>pts1@nyu.edu</td>\n",
       "      <td>Patrick Sharkey</td>\n",
       "    </tr>\n",
       "    <tr>\n",
       "      <th>28</th>\n",
       "      <td>iddo.tavory@nyu.edu</td>\n",
       "      <td>Iddo Tavory</td>\n",
       "    </tr>\n",
       "    <tr>\n",
       "      <th>29</th>\n",
       "      <td>lawrence.wu@nyu.edu</td>\n",
       "      <td>Lawrence Wu</td>\n",
       "    </tr>\n",
       "  </tbody>\n",
       "</table>\n",
       "</div>"
      ],
      "text/plain": [
       "                         email                name\n",
       "0              delia.b@nyu.edu   Delia Baldassarri\n",
       "1          siwei.cheng@nyu.edu         Siwei Cheng\n",
       "2        vivek.chibber@nyu.edu       Vivek Chibber\n",
       "3          sarahkcowan@nyu.edu         Sarah Cowan\n",
       "4               pd1092@nyu.edu       Paul DiMaggio\n",
       "5             jo.dixon@nyu.edu            Jo Dixon\n",
       "6             pengland@nyu.edu       Paula England\n",
       "7        thomas.ertman@nyu.edu       Thomas Ertman\n",
       "8        David.Garland@nyu.edu       David Garland\n",
       "9        amanda.geller@nyu.edu       Amanda Geller\n",
       "10     kathleen.gerson@nyu.edu     Kathleen Gerson\n",
       "11      jgoodwin.nyu@gmail.com        Jeff Goodwin\n",
       "12     david.greenberg@nyu.edu     David Greenberg\n",
       "13         lynne.haney@nyu.edu         Lynne Haney\n",
       "14       ruth.horowitz@nyu.edu       Ruth Horowitz\n",
       "15            mikehout@nyu.edu        Michael Hout\n",
       "16  mary.beth.hunzaker@nyu.edu  Mary Beth Hunzaker\n",
       "17  robert.max.jackson@nyu.edu  Robert Max Jackson\n",
       "18                 gj1@nyu.edu   Guillermina Jasso\n",
       "19           jerolmack@nyu.edu     Colin Jerolmack\n",
       "20        nahoko.kameo@nyu.edu        Nahoko Kameo\n",
       "21     eric.klinenberg@nyu.edu     Eric Klinenberg\n",
       "22                sl53@nyu.edu        Steven Lukes\n",
       "23               manza@nyu.edu          Jeff Manza\n",
       "24      harvey.molotch@nyu.edu      Harvey Molotch\n",
       "25         ann.morning@nyu.edu         Ann Morning\n",
       "26               dr101@nyu.edu  Deirdre A. Royster\n",
       "27                pts1@nyu.edu     Patrick Sharkey\n",
       "28         iddo.tavory@nyu.edu         Iddo Tavory\n",
       "29         lawrence.wu@nyu.edu         Lawrence Wu"
      ]
     },
     "execution_count": 166,
     "metadata": {},
     "output_type": "execute_result"
    }
   ],
   "source": [
    "df = pd.DataFrame(directory)\n",
    "df"
   ]
  },
  {
   "cell_type": "markdown",
   "metadata": {
    "slideshow": {
     "slide_type": "slide"
    }
   },
   "source": [
    "<div class=\"alert alert-info\"> \n",
    "<h1> Your turn</h1>\n",
    "<p>Add a field for faculty rank (such as Associate or Assistant Professor) to scrape_person.\n",
    "<p> Bonus: Add some try/except to scrape person so it returns results even when it is missing a field (like Abend).\n",
    "</div>\n",
    "\n"
   ]
  },
  {
   "cell_type": "markdown",
   "metadata": {
    "slideshow": {
     "slide_type": "slide"
    }
   },
   "source": [
    "Tip 2: Download Once, Load Many Times"
   ]
  },
  {
   "cell_type": "code",
   "execution_count": 2,
   "metadata": {
    "slideshow": {
     "slide_type": "fragment"
    }
   },
   "outputs": [],
   "source": [
    "import codecs\n",
    "\n",
    "def save_file(text, file_name):\n",
    "    with codecs.open(file_name, 'wb', 'utf8') as outfile:\n",
    "        outfile.write(text)\n"
   ]
  },
  {
   "cell_type": "code",
   "execution_count": 6,
   "metadata": {
    "slideshow": {
     "slide_type": "slide"
    }
   },
   "outputs": [],
   "source": [
    "url = 'http://mobilizationjournal.org/toc/maiq/22/2'\n",
    "html= requests.get(url).text\n",
    "\n",
    "save_file(html, 'moby_22_2.html')\n"
   ]
  },
  {
   "cell_type": "code",
   "execution_count": 10,
   "metadata": {
    "collapsed": true,
    "slideshow": {
     "slide_type": "slide"
    }
   },
   "outputs": [],
   "source": [
    "def load_file(file_name):\n",
    "    with codecs.open(file_name, 'rb', 'utf8') as infile:\n",
    "        text = infile.read()\n",
    "    return text"
   ]
  },
  {
   "cell_type": "code",
   "execution_count": 17,
   "metadata": {
    "collapsed": true,
    "slideshow": {
     "slide_type": "slide"
    }
   },
   "outputs": [],
   "source": [
    "def download_file(volume, issue):\n",
    "    url = 'http://mobilizationjournal.org/toc/maiq/' + str(issue) + '/' + str(issue)\n",
    "    html= requests.get(url).text\n",
    "    return html"
   ]
  },
  {
   "cell_type": "markdown",
   "metadata": {
    "slideshow": {
     "slide_type": "slide"
    }
   },
   "source": [
    "### The logic:\n",
    "\n",
    "*If we have a file, load it. If we don't, get it and save it.*"
   ]
  },
  {
   "cell_type": "markdown",
   "metadata": {
    "slideshow": {
     "slide_type": "fragment"
    }
   },
   "source": [
    "### In Python\n",
    "\n",
    "1. `Try` to load the file.\n",
    "2. If that fails, get it from the internet and save a copy."
   ]
  },
  {
   "cell_type": "code",
   "execution_count": 39,
   "metadata": {
    "slideshow": {
     "slide_type": "slide"
    }
   },
   "outputs": [],
   "source": [
    "try:\n",
    "    load_file('moby_15_2.html')\n",
    "except:\n",
    "    html = get_file(15,2)\n",
    "    save_file(html, 'moby_15_2.html')"
   ]
  },
  {
   "cell_type": "code",
   "execution_count": 22,
   "metadata": {
    "slideshow": {
     "slide_type": "fragment"
    }
   },
   "outputs": [
    {
     "name": "stdout",
     "output_type": "stream",
     "text": [
      "moby_15_2.html moby_22_2.html\r\n"
     ]
    }
   ],
   "source": [
    "!ls moby_*"
   ]
  },
  {
   "cell_type": "code",
   "execution_count": 43,
   "metadata": {
    "slideshow": {
     "slide_type": "slide"
    }
   },
   "outputs": [],
   "source": [
    "volume = 10\n",
    "issue = 1\n",
    "\n",
    "file_name = 'moby_' + str(volume) + '_' + str(issue) + '.html'\n",
    "\n",
    "try:\n",
    "    html = load_file(file_name)\n",
    "except:\n",
    "    print('Could not find it. Going to the internet')\n",
    "    html = download_file(volume, issue)\n",
    "    save_file(html, file_name)"
   ]
  },
  {
   "cell_type": "code",
   "execution_count": 44,
   "metadata": {
    "slideshow": {
     "slide_type": "slide"
    }
   },
   "outputs": [
    {
     "name": "stdout",
     "output_type": "stream",
     "text": [
      "moby_10_1.html moby_15_2.html\r\n"
     ]
    }
   ],
   "source": [
    "!ls moby_*"
   ]
  },
  {
   "cell_type": "code",
   "execution_count": 45,
   "metadata": {
    "collapsed": true,
    "slideshow": {
     "slide_type": "slide"
    }
   },
   "outputs": [],
   "source": [
    "def load_or_download(volume, issue):\n",
    "    '''Loads a local HTML. If not found, gets the file from the internet.'''\n",
    "    \n",
    "    file_name = 'moby_' + str(volume) + '_' + str(issue) + '.html'\n",
    "    try:\n",
    "        html = load_file(file_name)\n",
    "    except:\n",
    "        print('Could not find it. Going to the internet')\n",
    "        html = download_file(volume, issue)\n",
    "        save_file(html, file_name)"
   ]
  },
  {
   "cell_type": "code",
   "execution_count": 46,
   "metadata": {
    "slideshow": {
     "slide_type": "slide"
    }
   },
   "outputs": [
    {
     "name": "stdout",
     "output_type": "stream",
     "text": [
      "Could not find it. Going to the internet\n"
     ]
    }
   ],
   "source": [
    "load_or_download(5, 3)"
   ]
  },
  {
   "cell_type": "code",
   "execution_count": 47,
   "metadata": {
    "collapsed": true,
    "slideshow": {
     "slide_type": "slide"
    }
   },
   "outputs": [],
   "source": [
    "def load_or_download(volume, issue):\n",
    "    '''Loads a local HTML. If not found, gets the file from the internet.'''\n",
    "    \n",
    "    file_name = 'moby_' + str(volume) + '_' + str(issue) + '.html'\n",
    "    \n",
    "    try:\n",
    "        html = load_file(file_name)\n",
    "    except:\n",
    "        print('Could not find it. Going to the internet')\n",
    "        html = download_file(volume, issue)\n",
    "        save_file(html, file_name)\n",
    "        \n",
    "    return html"
   ]
  },
  {
   "cell_type": "code",
   "execution_count": 48,
   "metadata": {
    "slideshow": {
     "slide_type": "slide"
    }
   },
   "outputs": [
    {
     "name": "stdout",
     "output_type": "stream",
     "text": [
      "Could not find it. Going to the internet\n"
     ]
    },
    {
     "data": {
      "text/plain": [
       "u'\\n\\n\\n\\n\\n        \\n        \\n\\n<!DOCTYPE html PUBLIC \"-//W3C//DTD XHTML 1.0 Transitional//EN\" \"http://www.w3.org/TR/xhtml1/DTD/xhtml1-transitional.dtd\">\\n\\n\\n\\n<html xmlns=\"http://www.w3.org/1999/xhtml\" xml:lang=\"en-US\" lang=\"en-US\">\\n<head>\\n    \\n\\n\\n\\n\\n\\n\\n<title>\\n    \\n            Mobilization: An International Quarterly\\n            -\\n            \\n                    Error\\n                \\n        \\n</title>\\n\\n    <meta http-equiv=\"Content-Type\" content=\"text/html; charset=UTF-8\" />\\n    \\n<meta name=\"robots\" content=\"noarchive,noindex,nofollow\" />\\n\\n\\n\\n\\n\\n\\n\\n\\n\\n\\n<meta name=\"MSSmartTagsPreventParsing\" content=\"true\"/>\\n\\n\\n\\n\\n    \\n    \\n    <script>\\n        (function(i,s,o,g,r,a,m){i[\\'GoogleAnalyticsObject\\']=r;i[r]=i[r]||function(){\\n            (i[r].q=i[r].q||[]).push(arguments)},i[r].l=1*new Date();a=s.createElement(o),\\n                m=s.getElementsByTagName(o)[0];a.async=1;a.src=g;m.parentNode.insertBefore(a,m)\\n        })(window,document,\\'script\\',\\'//www.google-analytics.com/analytics.js\\',\\'ga\\');\\n\\n        ga(\\'create\\', \\'UA-60157750-4\\', \\'auto\\');\\n        ga(\\'send\\', \\'pageview\\');\\n    </script>\\n\\n\\n\\n\\n\\n\\n\\n\\n\\n    \\n\\n    \\n\\n\\n\\n\\n\\n    \\n    \\n    \\n    <!-- multiple js libraries should be removed once the refactorting from prototype to jquery is complete -->\\n    \\n    <link href=\"/templates/jsp/style.css\" rel=\"stylesheet\" type=\"text/css\" />\\n<link href=\"/templates/jsp/_style2/style.css\" rel=\"stylesheet\" type=\"text/css\" />\\n<link href=\"/templates/jsp/_style2/_AP/style.css\" rel=\"stylesheet\" type=\"text/css\" />\\n<link href=\"/templates/jsp/_style2/_AP/_pinnacle/style.css\" rel=\"stylesheet\" type=\"text/css\" />\\n<link href=\"/templates/jsp/_style2/_AP/css/global.css\" rel=\"stylesheet\" type=\"text/css\" />\\n<link href=\"/templates/jsp/_style2/_AP/_pinnacle/_theme2/css/global.product.css\" rel=\"stylesheet\" type=\"text/css\" />\\n<link href=\"/templates/jsp/_style2/_AP/_pinnacle/css/pinnacle.css\" rel=\"stylesheet\" type=\"text/css\" />\\n<link href=\"/templates/jsp/_style2/_AP/css/widgets.css\" rel=\"stylesheet\" type=\"text/css\" />\\n<link href=\"/templates/jsp/_style2/_AP/_pinnacle/_theme2/css/widgets.product.css\" rel=\"stylesheet\" type=\"text/css\" />\\n<link href=\"/templates/jsp/_style2/_AP/css/headfoot.css\" rel=\"stylesheet\" type=\"text/css\" />\\n<link href=\"/templates/jsp/_style2/_AP/_pinnacle/_theme2/css/headfoot.product.css\" rel=\"stylesheet\" type=\"text/css\" />\\n\\n    <!--[if lt IE 8]>\\n    <link href=\"/templates/jsp/_style2/_AP/css/ie.css\" rel=\"stylesheet\" type=\"text/css\"/>\\n    <link href=\"/templates/jsp/_style2/_AP/_pinnacle/css/ie.product.css\" rel=\"stylesheet\" type=\"text/css\"/>\\n    <![endif]-->\\n    <!--[if IE 6]><link href=\"/templates/jsp/_style2/_AP/css/ie6.css\" rel=\"stylesheet\" type=\"text/css\"/><![endif]-->\\n    <script type=\"text/javascript\"  src=\"/templates/jsp/_style2/_AP/_pinnacle/js/jquery.js\"></script>\\n<script type=\"text/javascript\"  src=\"/templates/jsp/script.js\"></script>\\n<script type=\"text/javascript\"  src=\"/templates/jsp/_style2/script.js\"></script>\\n<script type=\"text/javascript\"  src=\"/templates/jsp/_style2/_AP/script.js\"></script>\\n<script type=\"text/javascript\"  src=\"/templates/jsp/js/behaviour.js\"></script>\\n<script type=\"text/javascript\"  src=\"/templates/jsp/js/behaviourRules.js\"></script>\\n\\n    \\n\\n\\n<style type=\"text/css\">\\ndiv#headerTopContainer {\\n    background:url(/userimages/ContentEditor/1425330507088/HJDM_navbar.png);\\n    background-color: #CBCCCD;\\n    padding: 0 0;\\n}\\n\\n#journalMenu ul ul {\\n    background:#a3a3a3;\\n}\\n\\n#journalMenu li:hover,\\n  #journalMenu li:hover h2 {\\n  background:#c1c1c1 !important;\\n}\\n\\n#journalMenu h2 a {\\n    font-size:10pt;\\n    font-family:Verdana;\\n    color:#434343;\\n}\\n\\n#journalMenu ul ul {\\n    background:#a3a3a3;\\n}\\n\\ndiv#journalMenu ul li:hover ul a,\\n  div#journalMenu ul ul li:hover ul a,\\n  div#journalMenu ul ul ul li:hover ul a {\\n    font-size:10pt;\\n    font-family:Verdana;\\n    color:#ffffff;\\n}\\n\\n.panelHeading, .panelFooter {\\n    background-color:#a4a4a4;\\n    color:#000000;\\n}\\n\\ndiv.panelBody {\\n    background-color:#dddddd;\\n    border-color:#a4a4a4;\\n    border-width: 0 1px 0 1px;\\n    border-style: solid;\\n}\\n\\n.panelHeading .right {\\n    background-image: url(\\'/templates/jsp/_style2/_AP/_pinnacle/images/curve_right_top2.png\\');\\n}\\n\\n.panelHeading .left {\\n    background-image: url(\\'/templates/jsp/_style2/_AP/_pinnacle/images/curve_left_top.png\\');\\n}\\n\\n.panelFooter .right {\\n    background-image: url(\\'/templates/jsp/_style2/_AP/_pinnacle/images/curve_right_bottom.png\\');\\n}\\n\\n.panelFooter .left {\\n    background-image: url(\\'/templates/jsp/_style2/_AP/_pinnacle/images/curve_left_bottom.png\\');\\n}\\n</style>\\n\\n\\n<style type=\"text/css\">\\ndiv.panelTopRight {\\nbackground-image:url(/templates/jsp/_style2/_AP/_pinnacle/images/curve_right_top2.png);\\nbackground-repeat:no-repeat;\\n}\\ndiv.panelBottomLeft {\\nbackground-image:url(/templates/jsp/_style2/_AP/_pinnacle/images/curve_left_bottom.png);\\nbackground-repeat:no-repeat;\\n}\\ndiv.panelTopLeft {\\nbackground-image:url(/templates/jsp/_style2/_AP/_pinnacle/images/curve_left_top.png);\\nbackground-repeat:no-repeat;\\n}\\ndiv.panelBottomRight {\\nbackground-image:url(/templates/jsp/_style2/_AP/_pinnacle/images/curve_right_bottom.png);\\nbackground-repeat:no-repeat;\\n}\\ndiv#articleNavLinks {\\n\\nmargin-right:0.5em;\\n}\\n</style>\\n    \\n\\n\\n\\n\\n\\n</head>\\n<body class=\"clearfix\">\\n<div id=\"container\">\\n    \\n\\n\\n\\n\\n\\n\\n\\n\\n\\n\\n\\n\\n    <div id=\"header\">\\n        \\n                \\n\\n\\n<a name=\"pageTop\"></a>\\n \\n\\n\\n\\n\\n\\n\\n\\n\\n\\n\\n<div id=\"identity-bar\">\\n    <!-- placeholder id=null, description=Header - Mobile Button -->\\n\\n    \\n        \\n        <span id=\"institution-banner-text\">\\n            \\n        </span>\\n        \\n    \\n\\n    <span id=\"individual-menu\">\\n        \\n\\n        \\n                \\n                \\n                <a href=\"https://pinnacle-secure.allenpress.com/action/showLogin?code=HJDM-site&amp;uri=%2Ftoc%2Fmaiq%2F3%2F3%3Fcode%3Dhjdm-site\">\\n                    Log In\\n                </a>\\n                &nbsp;|&nbsp;\\n                <a href=\"https://pinnacle-secure.allenpress.com/action/registration?code=HJDM-site\">\\n                    Register\\n                </a>\\n            \\n        \\n        \\n            &nbsp;|&nbsp;\\n            <a href=\"/help\">\\n                Help\\n            </a>\\n        \\n        &nbsp;|&nbsp;\\n        \\n        <a href=\"https://pinnacle-secure.allenpress.com/action/showCart?code=HJDM-site\">Cart </a>\\n    </span>\\n</div>\\n<div id=\"headerAds\">\\n    <!-- placeholder id=null, description=Header Message 1 -->\\n    <!-- placeholder id=null, description=Header Message 2 -->\\n    \\n    \\n</div>\\n\\n\\n\\n\\n\\n\\n\\n    <img src=\"/userimages/1314156/banner\" alt=\"Hank Johnston DBA Mobilization Journal\" width=\"980\" />\\n    \\n\\n<div class=\"headerContainer\" id=\"headerTopContainer\">\\n     <div id=\"journalMenu\">         \\n            \\n\\n\\n<ul><li class=\"first\"><h2><a href=\"/?code=hjdm-site\">&emsp; HOME &emsp;</a></h2>\\n</li>\\n</ul><ul><li><h2><a href=\"/loi/maiq?code=hjdm-site\">&emsp; CONTENT &emsp;</a></h2>\\n</li>\\n</ul><ul><li class=\"hasSubmenu\"><h2><a href=\"/page/about?code=hjdm-site\">&emsp; ABOUT &emsp;</a></h2>\\n<ul><li class=\"first\"><a href=\"/action/ecommerce?code=hjdm-site\">Subscribe</a></li>\\n<li><a href=\"https://mobilization.scholasticahq.com/for-authors\" target=\"_blank\">Submit</a></li>\\n<li class=\"last\"><a href=\"https://mobilization.scholasticahq.com/\" target=\"_blank\">Contact</a></li>\\n</ul>\\n</li>\\n</ul><ul><li class=\"last\"><h2><a href=\"/help?code=hjdm-site\">&emsp; HELP &emsp;</a></h2>\\n</li>\\n</ul>       \\n    </div>\\n    <ul id=\"quickSearchBox\">\\n        <li>\\n            \\n\\n\\n\\n\\n<form action=\"/action/doSearch\" name=\"simpleQuickSearchForm1\" method=\"get\"><input id=\"searchQuery\" type=\"text\" name=\"AllField\" value=\"\" size=\"18\" onfocus=\"this.value=\\'\\';\" placeholder=\"Quick Search\" />\\n    \\n    \\n    <input onclick=\"javascript:checkQuickSearchInput(document.simpleQuickSearchForm1,\\'Quick Search\\');return false;\" id=\"gosearch\" type=\"submit\" value=\"\" alt=\"Search\" /></form>\\n        </li>\\n    </ul>\\n</div>\\n\\n    <div id=\"breadcrumbs\">\\n        <table class=\"headerBreadcrumbs\">\\n            <tr>\\n                <td>\\n                    \\n\\n\\n\\n\\n\\n\\n\\n                </td>\\n                <td class=\"headerAdvancedSearch\">\\n                    <a href=\"/search/advanced\">Advanced Search</a>\\n                    <!-- placeholder id=null, description=Google Translator Widget -->\\n                </td>\\n            </tr>\\n        </table>\\n    </div>\\n\\n\\n            \\n    </div>\\n    <div id=\"content\">\\n        <div class=\"panelContent\">\\n            \\n                    \\n            <p class=\"error\">Mobilization: An International Quarterly, volume 3, issue 3 was not found.</p>\\n        \\n                \\n        </div>\\n        <div class=\"clearfix\">&nbsp;</div>\\n    </div>\\n    <div id=\"footer\">\\n        \\n\\n\\n\\n\\n<div id=\"linkToTop\">    <a href=\"#pageTop\">        <img src=\"/templates/jsp/_style2/_AP/_pinnacle/images/link_top.gif\" />    </a><br /></div><div id=\"footerCopy\">    <hr /><p style=\"text-align: center;\">    Published by <a href=\"mailto:mobilization@unc.edu\" target=\"_blank\">Mobilization</a><br />    Copyright &copy; 2017 Mobilization. All rights reserved.</p></div>\\n    </div>\\n</div>\\n\\r\\n\\r\\n\\r\\n    \\r\\n\\n</body>\\n</html>\\n\\n        \\n    '"
      ]
     },
     "execution_count": 48,
     "metadata": {},
     "output_type": "execute_result"
    }
   ],
   "source": [
    "load_or_download(7, 3)"
   ]
  },
  {
   "cell_type": "code",
   "execution_count": 49,
   "metadata": {
    "slideshow": {
     "slide_type": "slide"
    }
   },
   "outputs": [
    {
     "data": {
      "text/plain": [
       "u'\\n\\n\\n\\n\\n        \\n        \\n\\n<!DOCTYPE html PUBLIC \"-//W3C//DTD XHTML 1.0 Transitional//EN\" \"http://www.w3.org/TR/xhtml1/DTD/xhtml1-transitional.dtd\">\\n\\n\\n\\n<html xmlns=\"http://www.w3.org/1999/xhtml\" xml:lang=\"en-US\" lang=\"en-US\">\\n<head>\\n    \\n\\n\\n\\n\\n\\n\\n<title>\\n    \\n            Mobilization: An International Quarterly\\n            -\\n            \\n                    Error\\n                \\n        \\n</title>\\n\\n    <meta http-equiv=\"Content-Type\" content=\"text/html; charset=UTF-8\" />\\n    \\n<meta name=\"robots\" content=\"noarchive,noindex,nofollow\" />\\n\\n\\n\\n\\n\\n\\n\\n\\n\\n\\n<meta name=\"MSSmartTagsPreventParsing\" content=\"true\"/>\\n\\n\\n\\n\\n    \\n    \\n    <script>\\n        (function(i,s,o,g,r,a,m){i[\\'GoogleAnalyticsObject\\']=r;i[r]=i[r]||function(){\\n            (i[r].q=i[r].q||[]).push(arguments)},i[r].l=1*new Date();a=s.createElement(o),\\n                m=s.getElementsByTagName(o)[0];a.async=1;a.src=g;m.parentNode.insertBefore(a,m)\\n        })(window,document,\\'script\\',\\'//www.google-analytics.com/analytics.js\\',\\'ga\\');\\n\\n        ga(\\'create\\', \\'UA-60157750-4\\', \\'auto\\');\\n        ga(\\'send\\', \\'pageview\\');\\n    </script>\\n\\n\\n\\n\\n\\n\\n\\n\\n\\n    \\n\\n    \\n\\n\\n\\n\\n\\n    \\n    \\n    \\n    <!-- multiple js libraries should be removed once the refactorting from prototype to jquery is complete -->\\n    \\n    <link href=\"/templates/jsp/style.css\" rel=\"stylesheet\" type=\"text/css\" />\\n<link href=\"/templates/jsp/_style2/style.css\" rel=\"stylesheet\" type=\"text/css\" />\\n<link href=\"/templates/jsp/_style2/_AP/style.css\" rel=\"stylesheet\" type=\"text/css\" />\\n<link href=\"/templates/jsp/_style2/_AP/_pinnacle/style.css\" rel=\"stylesheet\" type=\"text/css\" />\\n<link href=\"/templates/jsp/_style2/_AP/css/global.css\" rel=\"stylesheet\" type=\"text/css\" />\\n<link href=\"/templates/jsp/_style2/_AP/_pinnacle/_theme2/css/global.product.css\" rel=\"stylesheet\" type=\"text/css\" />\\n<link href=\"/templates/jsp/_style2/_AP/_pinnacle/css/pinnacle.css\" rel=\"stylesheet\" type=\"text/css\" />\\n<link href=\"/templates/jsp/_style2/_AP/css/widgets.css\" rel=\"stylesheet\" type=\"text/css\" />\\n<link href=\"/templates/jsp/_style2/_AP/_pinnacle/_theme2/css/widgets.product.css\" rel=\"stylesheet\" type=\"text/css\" />\\n<link href=\"/templates/jsp/_style2/_AP/css/headfoot.css\" rel=\"stylesheet\" type=\"text/css\" />\\n<link href=\"/templates/jsp/_style2/_AP/_pinnacle/_theme2/css/headfoot.product.css\" rel=\"stylesheet\" type=\"text/css\" />\\n\\n    <!--[if lt IE 8]>\\n    <link href=\"/templates/jsp/_style2/_AP/css/ie.css\" rel=\"stylesheet\" type=\"text/css\"/>\\n    <link href=\"/templates/jsp/_style2/_AP/_pinnacle/css/ie.product.css\" rel=\"stylesheet\" type=\"text/css\"/>\\n    <![endif]-->\\n    <!--[if IE 6]><link href=\"/templates/jsp/_style2/_AP/css/ie6.css\" rel=\"stylesheet\" type=\"text/css\"/><![endif]-->\\n    <script type=\"text/javascript\"  src=\"/templates/jsp/_style2/_AP/_pinnacle/js/jquery.js\"></script>\\n<script type=\"text/javascript\"  src=\"/templates/jsp/script.js\"></script>\\n<script type=\"text/javascript\"  src=\"/templates/jsp/_style2/script.js\"></script>\\n<script type=\"text/javascript\"  src=\"/templates/jsp/_style2/_AP/script.js\"></script>\\n<script type=\"text/javascript\"  src=\"/templates/jsp/js/behaviour.js\"></script>\\n<script type=\"text/javascript\"  src=\"/templates/jsp/js/behaviourRules.js\"></script>\\n\\n    \\n\\n\\n<style type=\"text/css\">\\ndiv#headerTopContainer {\\n    background:url(/userimages/ContentEditor/1425330507088/HJDM_navbar.png);\\n    background-color: #CBCCCD;\\n    padding: 0 0;\\n}\\n\\n#journalMenu ul ul {\\n    background:#a3a3a3;\\n}\\n\\n#journalMenu li:hover,\\n  #journalMenu li:hover h2 {\\n  background:#c1c1c1 !important;\\n}\\n\\n#journalMenu h2 a {\\n    font-size:10pt;\\n    font-family:Verdana;\\n    color:#434343;\\n}\\n\\n#journalMenu ul ul {\\n    background:#a3a3a3;\\n}\\n\\ndiv#journalMenu ul li:hover ul a,\\n  div#journalMenu ul ul li:hover ul a,\\n  div#journalMenu ul ul ul li:hover ul a {\\n    font-size:10pt;\\n    font-family:Verdana;\\n    color:#ffffff;\\n}\\n\\n.panelHeading, .panelFooter {\\n    background-color:#a4a4a4;\\n    color:#000000;\\n}\\n\\ndiv.panelBody {\\n    background-color:#dddddd;\\n    border-color:#a4a4a4;\\n    border-width: 0 1px 0 1px;\\n    border-style: solid;\\n}\\n\\n.panelHeading .right {\\n    background-image: url(\\'/templates/jsp/_style2/_AP/_pinnacle/images/curve_right_top2.png\\');\\n}\\n\\n.panelHeading .left {\\n    background-image: url(\\'/templates/jsp/_style2/_AP/_pinnacle/images/curve_left_top.png\\');\\n}\\n\\n.panelFooter .right {\\n    background-image: url(\\'/templates/jsp/_style2/_AP/_pinnacle/images/curve_right_bottom.png\\');\\n}\\n\\n.panelFooter .left {\\n    background-image: url(\\'/templates/jsp/_style2/_AP/_pinnacle/images/curve_left_bottom.png\\');\\n}\\n</style>\\n\\n\\n<style type=\"text/css\">\\ndiv.panelTopRight {\\nbackground-image:url(/templates/jsp/_style2/_AP/_pinnacle/images/curve_right_top2.png);\\nbackground-repeat:no-repeat;\\n}\\ndiv.panelBottomLeft {\\nbackground-image:url(/templates/jsp/_style2/_AP/_pinnacle/images/curve_left_bottom.png);\\nbackground-repeat:no-repeat;\\n}\\ndiv.panelTopLeft {\\nbackground-image:url(/templates/jsp/_style2/_AP/_pinnacle/images/curve_left_top.png);\\nbackground-repeat:no-repeat;\\n}\\ndiv.panelBottomRight {\\nbackground-image:url(/templates/jsp/_style2/_AP/_pinnacle/images/curve_right_bottom.png);\\nbackground-repeat:no-repeat;\\n}\\ndiv#articleNavLinks {\\n\\nmargin-right:0.5em;\\n}\\n</style>\\n    \\n\\n\\n\\n\\n\\n</head>\\n<body class=\"clearfix\">\\n<div id=\"container\">\\n    \\n\\n\\n\\n\\n\\n\\n\\n\\n\\n\\n\\n\\n    <div id=\"header\">\\n        \\n                \\n\\n\\n<a name=\"pageTop\"></a>\\n \\n\\n\\n\\n\\n\\n\\n\\n\\n\\n\\n<div id=\"identity-bar\">\\n    <!-- placeholder id=null, description=Header - Mobile Button -->\\n\\n    \\n        \\n        <span id=\"institution-banner-text\">\\n            \\n        </span>\\n        \\n    \\n\\n    <span id=\"individual-menu\">\\n        \\n\\n        \\n                \\n                \\n                <a href=\"https://pinnacle-secure.allenpress.com/action/showLogin?code=HJDM-site&amp;uri=%2Ftoc%2Fmaiq%2F3%2F3%3Fcode%3Dhjdm-site\">\\n                    Log In\\n                </a>\\n                &nbsp;|&nbsp;\\n                <a href=\"https://pinnacle-secure.allenpress.com/action/registration?code=HJDM-site\">\\n                    Register\\n                </a>\\n            \\n        \\n        \\n            &nbsp;|&nbsp;\\n            <a href=\"/help\">\\n                Help\\n            </a>\\n        \\n        &nbsp;|&nbsp;\\n        \\n        <a href=\"https://pinnacle-secure.allenpress.com/action/showCart?code=HJDM-site\">Cart </a>\\n    </span>\\n</div>\\n<div id=\"headerAds\">\\n    <!-- placeholder id=null, description=Header Message 1 -->\\n    <!-- placeholder id=null, description=Header Message 2 -->\\n    \\n    \\n</div>\\n\\n\\n\\n\\n\\n\\n\\n    <img src=\"/userimages/1314156/banner\" alt=\"Hank Johnston DBA Mobilization Journal\" width=\"980\" />\\n    \\n\\n<div class=\"headerContainer\" id=\"headerTopContainer\">\\n     <div id=\"journalMenu\">         \\n            \\n\\n\\n<ul><li class=\"first\"><h2><a href=\"/?code=hjdm-site\">&emsp; HOME &emsp;</a></h2>\\n</li>\\n</ul><ul><li><h2><a href=\"/loi/maiq?code=hjdm-site\">&emsp; CONTENT &emsp;</a></h2>\\n</li>\\n</ul><ul><li class=\"hasSubmenu\"><h2><a href=\"/page/about?code=hjdm-site\">&emsp; ABOUT &emsp;</a></h2>\\n<ul><li class=\"first\"><a href=\"/action/ecommerce?code=hjdm-site\">Subscribe</a></li>\\n<li><a href=\"https://mobilization.scholasticahq.com/for-authors\" target=\"_blank\">Submit</a></li>\\n<li class=\"last\"><a href=\"https://mobilization.scholasticahq.com/\" target=\"_blank\">Contact</a></li>\\n</ul>\\n</li>\\n</ul><ul><li class=\"last\"><h2><a href=\"/help?code=hjdm-site\">&emsp; HELP &emsp;</a></h2>\\n</li>\\n</ul>       \\n    </div>\\n    <ul id=\"quickSearchBox\">\\n        <li>\\n            \\n\\n\\n\\n\\n<form action=\"/action/doSearch\" name=\"simpleQuickSearchForm1\" method=\"get\"><input id=\"searchQuery\" type=\"text\" name=\"AllField\" value=\"\" size=\"18\" onfocus=\"this.value=\\'\\';\" placeholder=\"Quick Search\" />\\n    \\n    \\n    <input onclick=\"javascript:checkQuickSearchInput(document.simpleQuickSearchForm1,\\'Quick Search\\');return false;\" id=\"gosearch\" type=\"submit\" value=\"\" alt=\"Search\" /></form>\\n        </li>\\n    </ul>\\n</div>\\n\\n    <div id=\"breadcrumbs\">\\n        <table class=\"headerBreadcrumbs\">\\n            <tr>\\n                <td>\\n                    \\n\\n\\n\\n\\n\\n\\n\\n                </td>\\n                <td class=\"headerAdvancedSearch\">\\n                    <a href=\"/search/advanced\">Advanced Search</a>\\n                    <!-- placeholder id=null, description=Google Translator Widget -->\\n                </td>\\n            </tr>\\n        </table>\\n    </div>\\n\\n\\n            \\n    </div>\\n    <div id=\"content\">\\n        <div class=\"panelContent\">\\n            \\n                    \\n            <p class=\"error\">Mobilization: An International Quarterly, volume 3, issue 3 was not found.</p>\\n        \\n                \\n        </div>\\n        <div class=\"clearfix\">&nbsp;</div>\\n    </div>\\n    <div id=\"footer\">\\n        \\n\\n\\n\\n\\n<div id=\"linkToTop\">    <a href=\"#pageTop\">        <img src=\"/templates/jsp/_style2/_AP/_pinnacle/images/link_top.gif\" />    </a><br /></div><div id=\"footerCopy\">    <hr /><p style=\"text-align: center;\">    Published by <a href=\"mailto:mobilization@unc.edu\" target=\"_blank\">Mobilization</a><br />    Copyright &copy; 2017 Mobilization. All rights reserved.</p></div>\\n    </div>\\n</div>\\n\\r\\n\\r\\n\\r\\n    \\r\\n\\n</body>\\n</html>\\n\\n        \\n    '"
      ]
     },
     "execution_count": 49,
     "metadata": {},
     "output_type": "execute_result"
    }
   ],
   "source": [
    "load_or_download(7, 3)"
   ]
  },
  {
   "cell_type": "markdown",
   "metadata": {
    "slideshow": {
     "slide_type": "slide"
    }
   },
   "source": [
    "<div class=\"alert alert-info\"> \n",
    "<h1> Your turn. </h1>\n",
    "<p>\n",
    "Modify the functions above to work to download UNC faculty web pages.\n",
    "<p> Hint 1: load_file doesn't need to be changed.\n",
    "<p> Hint 2: Instead of volume and issue, we only have one thing: department, such as sociology or politicalscience (keep it 1 word). \n",
    "<p> Hint 3: download_file needs a new url and to modified based on Hint 2\n",
    "</div>"
   ]
  },
  {
   "cell_type": "code",
   "execution_count": 67,
   "metadata": {
    "collapsed": true,
    "slideshow": {
     "slide_type": "slide"
    }
   },
   "outputs": [],
   "source": [
    "def load_file(file_name):\n",
    "    with codecs.open(file_name, 'rb', 'utf8') as infile:\n",
    "        text = infile.read()\n",
    "    return text\n",
    "\n",
    "def download_file(department):\n",
    "    url = 'http://' + department + '.unc.edu/people/faculty/' \n",
    "    html= requests.get(url).text\n",
    "    return html"
   ]
  },
  {
   "cell_type": "code",
   "execution_count": 68,
   "metadata": {
    "collapsed": true,
    "slideshow": {
     "slide_type": "slide"
    }
   },
   "outputs": [],
   "source": [
    "def load_or_download(department):\n",
    "    '''Loads a local HTML. If not found, gets the file from the internet.'''\n",
    "    \n",
    "    file_name = 'email_' + department + '.html'\n",
    "    try:\n",
    "        html = load_file(file_name)\n",
    "    except:\n",
    "        print('Could not find it. Going to the internet')\n",
    "        html = download_file(department)\n",
    "        save_file(html, file_name)\n",
    "        \n",
    "\n"
   ]
  },
  {
   "cell_type": "code",
   "execution_count": 70,
   "metadata": {
    "slideshow": {
     "slide_type": "slide"
    }
   },
   "outputs": [],
   "source": [
    "load_or_download('sociology')"
   ]
  },
  {
   "cell_type": "code",
   "execution_count": 73,
   "metadata": {
    "slideshow": {
     "slide_type": "fragment"
    }
   },
   "outputs": [
    {
     "name": "stdout",
     "output_type": "stream",
     "text": [
      "email_sociology.html emails.csv\r\n"
     ]
    }
   ],
   "source": [
    "!ls ema*"
   ]
  },
  {
   "cell_type": "markdown",
   "metadata": {
    "slideshow": {
     "slide_type": "slide"
    }
   },
   "source": [
    "### Tip 3: Pandas lets you cheat\n",
    "\n",
    "[You had choices.](http://www.sv.uio.no/english/research/phd/summer-school/courses-2017/)"
   ]
  },
  {
   "cell_type": "code",
   "execution_count": 214,
   "metadata": {
    "collapsed": true,
    "slideshow": {
     "slide_type": "slide"
    }
   },
   "outputs": [],
   "source": [
    "import pandas as pd\n",
    "\n",
    "url = 'http://www.sv.uio.no/english/research/phd/summer-school/courses-2017/'\n",
    "\n",
    "courses = pd.read_html(url)"
   ]
  },
  {
   "cell_type": "markdown",
   "metadata": {
    "slideshow": {
     "slide_type": "fragment"
    }
   },
   "source": [
    "This returns a list of HTML tables on the page as pandas dataframes. "
   ]
  },
  {
   "cell_type": "code",
   "execution_count": 224,
   "metadata": {
    "slideshow": {
     "slide_type": "slide"
    }
   },
   "outputs": [
    {
     "data": {
      "text/plain": [
       "[                                               title  \\\n",
       " 0  Mixed Methods: Towards a Methodological Pluralism   \n",
       " 1          Political Violence: A Relational Approach   \n",
       " 2                        Case Study Research Methods   \n",
       " 3                      Democracy and Democratization   \n",
       " 4                              Democracy and Justice   \n",
       " \n",
       "                                           instructor  \\\n",
       " 0  Professor Giampietro Gobo, University of Milan...   \n",
       " 1  Professor Donatella della Porta and Assistant ...   \n",
       " 2  Professor Andrew Bennett, Georgetown Universit...   \n",
       " 3  Professor David J. Samuels, University of Minn...   \n",
       " 4        Professor Ian Shapiro, Yale University, USA   \n",
       " \n",
       "                                          disciplines               date  \n",
       " 0  Research Methodology, Political Science, Socio...  24 - 28 July 2017  \n",
       " 1                       Sociology, Political Science  24 - 28 July 2017  \n",
       " 2  Research Methodology, Political Science, Socio...  24 - 28 July 2017  \n",
       " 3                                  Political Science  24 - 28 July 2017  \n",
       " 4                                  Political Science  24 - 28 July 2017  ,\n",
       "                                                title  \\\n",
       " 0  Climate Change Adaptation and Transformations ...   \n",
       " 1  The Politics of Nature in the Anthropocene: An...   \n",
       " 2                Responsible Research and Innovation   \n",
       " 3                  Collecting and Analyzing Big Data   \n",
       " 4                     Exploring Educational Transfer   \n",
       " 5                               Political Psychology   \n",
       " \n",
       "                                           instructor  \\\n",
       " 0  Professor Karen O'Brien, University of Oslo, N...   \n",
       " 1  Associate Professor Andrew S. Mathews, Univers...   \n",
       " 2  Professor Richard Owen and Senior Lecturer Sar...   \n",
       " 3  Associate Professor Neal Caren, University of ...   \n",
       " 4  Professor Dr. Florian Waldow, Humboldt-Univers...   \n",
       " 5  Professor Fathali M. Moghaddam, Georgetown Uni...   \n",
       " \n",
       "                                 disciplines                     date  \n",
       " 0  Human Geography, Environment and Climate  31 July - 4 August 2017  \n",
       " 1     Anthropology, Environment and Climate  31 July - 4 August 2017  \n",
       " 2                   Innovation Studies, STS  31 July - 4 August 2017  \n",
       " 3            Economics, Sociology, Big Data  31 July - 4 August 2017  \n",
       " 4          Comparative Education, Sociology  31 July - 4 August 2017  \n",
       " 5             Psychology, Political Science  31 July - 4 August 2017  ]"
      ]
     },
     "execution_count": 224,
     "metadata": {},
     "output_type": "execute_result"
    }
   ],
   "source": [
    "courses"
   ]
  },
  {
   "cell_type": "code",
   "execution_count": 215,
   "metadata": {
    "slideshow": {
     "slide_type": "slide"
    }
   },
   "outputs": [
    {
     "data": {
      "text/html": [
       "<div>\n",
       "<style>\n",
       "    .dataframe thead tr:only-child th {\n",
       "        text-align: right;\n",
       "    }\n",
       "\n",
       "    .dataframe thead th {\n",
       "        text-align: left;\n",
       "    }\n",
       "\n",
       "    .dataframe tbody tr th {\n",
       "        vertical-align: top;\n",
       "    }\n",
       "</style>\n",
       "<table border=\"1\" class=\"dataframe\">\n",
       "  <thead>\n",
       "    <tr style=\"text-align: right;\">\n",
       "      <th></th>\n",
       "      <th>24 - 28 July 2017</th>\n",
       "      <th>Lecturers</th>\n",
       "      <th>Main disciplines</th>\n",
       "    </tr>\n",
       "  </thead>\n",
       "  <tbody>\n",
       "    <tr>\n",
       "      <th>0</th>\n",
       "      <td>Mixed Methods: Towards a Methodological Pluralism</td>\n",
       "      <td>Professor Giampietro Gobo, University of Milan...</td>\n",
       "      <td>Research Methodology, Political Science, Socio...</td>\n",
       "    </tr>\n",
       "    <tr>\n",
       "      <th>1</th>\n",
       "      <td>Political Violence: A Relational Approach</td>\n",
       "      <td>Professor Donatella della Porta and Assistant ...</td>\n",
       "      <td>Sociology, Political Science</td>\n",
       "    </tr>\n",
       "    <tr>\n",
       "      <th>2</th>\n",
       "      <td>Case Study Research Methods</td>\n",
       "      <td>Professor Andrew Bennett, Georgetown Universit...</td>\n",
       "      <td>Research Methodology, Political Science, Socio...</td>\n",
       "    </tr>\n",
       "    <tr>\n",
       "      <th>3</th>\n",
       "      <td>Democracy and Democratization</td>\n",
       "      <td>Professor David J. Samuels, University of Minn...</td>\n",
       "      <td>Political Science</td>\n",
       "    </tr>\n",
       "    <tr>\n",
       "      <th>4</th>\n",
       "      <td>Democracy and Justice</td>\n",
       "      <td>Professor Ian Shapiro, Yale University, USA</td>\n",
       "      <td>Political Science</td>\n",
       "    </tr>\n",
       "  </tbody>\n",
       "</table>\n",
       "</div>"
      ],
      "text/plain": [
       "                                   24 - 28 July 2017  \\\n",
       "0  Mixed Methods: Towards a Methodological Pluralism   \n",
       "1          Political Violence: A Relational Approach   \n",
       "2                        Case Study Research Methods   \n",
       "3                      Democracy and Democratization   \n",
       "4                              Democracy and Justice   \n",
       "\n",
       "                                           Lecturers  \\\n",
       "0  Professor Giampietro Gobo, University of Milan...   \n",
       "1  Professor Donatella della Porta and Assistant ...   \n",
       "2  Professor Andrew Bennett, Georgetown Universit...   \n",
       "3  Professor David J. Samuels, University of Minn...   \n",
       "4        Professor Ian Shapiro, Yale University, USA   \n",
       "\n",
       "                                    Main disciplines  \n",
       "0  Research Methodology, Political Science, Socio...  \n",
       "1                       Sociology, Political Science  \n",
       "2  Research Methodology, Political Science, Socio...  \n",
       "3                                  Political Science  \n",
       "4                                  Political Science  "
      ]
     },
     "execution_count": 215,
     "metadata": {},
     "output_type": "execute_result"
    }
   ],
   "source": [
    "courses[0]"
   ]
  },
  {
   "cell_type": "code",
   "execution_count": 216,
   "metadata": {
    "slideshow": {
     "slide_type": "slide"
    }
   },
   "outputs": [
    {
     "data": {
      "text/html": [
       "<div>\n",
       "<style>\n",
       "    .dataframe thead tr:only-child th {\n",
       "        text-align: right;\n",
       "    }\n",
       "\n",
       "    .dataframe thead th {\n",
       "        text-align: left;\n",
       "    }\n",
       "\n",
       "    .dataframe tbody tr th {\n",
       "        vertical-align: top;\n",
       "    }\n",
       "</style>\n",
       "<table border=\"1\" class=\"dataframe\">\n",
       "  <thead>\n",
       "    <tr style=\"text-align: right;\">\n",
       "      <th></th>\n",
       "      <th>31 July - 4 August 2017</th>\n",
       "      <th>Lecturers</th>\n",
       "      <th>Main disciplines</th>\n",
       "    </tr>\n",
       "  </thead>\n",
       "  <tbody>\n",
       "    <tr>\n",
       "      <th>0</th>\n",
       "      <td>Climate Change Adaptation and Transformations ...</td>\n",
       "      <td>Professor Karen O'Brien, University of Oslo, N...</td>\n",
       "      <td>Human Geography, Environment and Climate</td>\n",
       "    </tr>\n",
       "    <tr>\n",
       "      <th>1</th>\n",
       "      <td>The Politics of Nature in the Anthropocene: An...</td>\n",
       "      <td>Associate Professor Andrew S. Mathews, Univers...</td>\n",
       "      <td>Anthropology, Environment and Climate</td>\n",
       "    </tr>\n",
       "    <tr>\n",
       "      <th>2</th>\n",
       "      <td>Responsible Research and Innovation</td>\n",
       "      <td>Professor Richard Owen and Senior Lecturer Sar...</td>\n",
       "      <td>Innovation Studies, STS</td>\n",
       "    </tr>\n",
       "    <tr>\n",
       "      <th>3</th>\n",
       "      <td>Collecting and Analyzing Big Data</td>\n",
       "      <td>Associate Professor Neal Caren, University of ...</td>\n",
       "      <td>Economics, Sociology, Big Data</td>\n",
       "    </tr>\n",
       "    <tr>\n",
       "      <th>4</th>\n",
       "      <td>Exploring Educational Transfer</td>\n",
       "      <td>Professor Dr. Florian Waldow, Humboldt-Univers...</td>\n",
       "      <td>Comparative Education, Sociology</td>\n",
       "    </tr>\n",
       "    <tr>\n",
       "      <th>5</th>\n",
       "      <td>Political Psychology</td>\n",
       "      <td>Professor Fathali M. Moghaddam, Georgetown Uni...</td>\n",
       "      <td>Psychology, Political Science</td>\n",
       "    </tr>\n",
       "  </tbody>\n",
       "</table>\n",
       "</div>"
      ],
      "text/plain": [
       "                             31 July - 4 August 2017  \\\n",
       "0  Climate Change Adaptation and Transformations ...   \n",
       "1  The Politics of Nature in the Anthropocene: An...   \n",
       "2                Responsible Research and Innovation   \n",
       "3                  Collecting and Analyzing Big Data   \n",
       "4                     Exploring Educational Transfer   \n",
       "5                               Political Psychology   \n",
       "\n",
       "                                           Lecturers  \\\n",
       "0  Professor Karen O'Brien, University of Oslo, N...   \n",
       "1  Associate Professor Andrew S. Mathews, Univers...   \n",
       "2  Professor Richard Owen and Senior Lecturer Sar...   \n",
       "3  Associate Professor Neal Caren, University of ...   \n",
       "4  Professor Dr. Florian Waldow, Humboldt-Univers...   \n",
       "5  Professor Fathali M. Moghaddam, Georgetown Uni...   \n",
       "\n",
       "                           Main disciplines  \n",
       "0  Human Geography, Environment and Climate  \n",
       "1     Anthropology, Environment and Climate  \n",
       "2                   Innovation Studies, STS  \n",
       "3            Economics, Sociology, Big Data  \n",
       "4          Comparative Education, Sociology  \n",
       "5             Psychology, Political Science  "
      ]
     },
     "execution_count": 216,
     "metadata": {},
     "output_type": "execute_result"
    }
   ],
   "source": [
    "courses[1]"
   ]
  },
  {
   "cell_type": "code",
   "execution_count": 217,
   "metadata": {
    "slideshow": {
     "slide_type": "slide"
    }
   },
   "outputs": [
    {
     "data": {
      "text/html": [
       "<div>\n",
       "<style>\n",
       "    .dataframe thead tr:only-child th {\n",
       "        text-align: right;\n",
       "    }\n",
       "\n",
       "    .dataframe thead th {\n",
       "        text-align: left;\n",
       "    }\n",
       "\n",
       "    .dataframe tbody tr th {\n",
       "        vertical-align: top;\n",
       "    }\n",
       "</style>\n",
       "<table border=\"1\" class=\"dataframe\">\n",
       "  <thead>\n",
       "    <tr style=\"text-align: right;\">\n",
       "      <th></th>\n",
       "      <th>24 - 28 July 2017</th>\n",
       "      <th>Lecturers</th>\n",
       "      <th>Main disciplines</th>\n",
       "      <th>31 July - 4 August 2017</th>\n",
       "    </tr>\n",
       "  </thead>\n",
       "  <tbody>\n",
       "    <tr>\n",
       "      <th>0</th>\n",
       "      <td>Mixed Methods: Towards a Methodological Pluralism</td>\n",
       "      <td>Professor Giampietro Gobo, University of Milan...</td>\n",
       "      <td>Research Methodology, Political Science, Socio...</td>\n",
       "      <td>NaN</td>\n",
       "    </tr>\n",
       "    <tr>\n",
       "      <th>1</th>\n",
       "      <td>Political Violence: A Relational Approach</td>\n",
       "      <td>Professor Donatella della Porta and Assistant ...</td>\n",
       "      <td>Sociology, Political Science</td>\n",
       "      <td>NaN</td>\n",
       "    </tr>\n",
       "    <tr>\n",
       "      <th>2</th>\n",
       "      <td>Case Study Research Methods</td>\n",
       "      <td>Professor Andrew Bennett, Georgetown Universit...</td>\n",
       "      <td>Research Methodology, Political Science, Socio...</td>\n",
       "      <td>NaN</td>\n",
       "    </tr>\n",
       "    <tr>\n",
       "      <th>3</th>\n",
       "      <td>Democracy and Democratization</td>\n",
       "      <td>Professor David J. Samuels, University of Minn...</td>\n",
       "      <td>Political Science</td>\n",
       "      <td>NaN</td>\n",
       "    </tr>\n",
       "    <tr>\n",
       "      <th>4</th>\n",
       "      <td>Democracy and Justice</td>\n",
       "      <td>Professor Ian Shapiro, Yale University, USA</td>\n",
       "      <td>Political Science</td>\n",
       "      <td>NaN</td>\n",
       "    </tr>\n",
       "    <tr>\n",
       "      <th>0</th>\n",
       "      <td>NaN</td>\n",
       "      <td>Professor Karen O'Brien, University of Oslo, N...</td>\n",
       "      <td>Human Geography, Environment and Climate</td>\n",
       "      <td>Climate Change Adaptation and Transformations ...</td>\n",
       "    </tr>\n",
       "    <tr>\n",
       "      <th>1</th>\n",
       "      <td>NaN</td>\n",
       "      <td>Associate Professor Andrew S. Mathews, Univers...</td>\n",
       "      <td>Anthropology, Environment and Climate</td>\n",
       "      <td>The Politics of Nature in the Anthropocene: An...</td>\n",
       "    </tr>\n",
       "    <tr>\n",
       "      <th>2</th>\n",
       "      <td>NaN</td>\n",
       "      <td>Professor Richard Owen and Senior Lecturer Sar...</td>\n",
       "      <td>Innovation Studies, STS</td>\n",
       "      <td>Responsible Research and Innovation</td>\n",
       "    </tr>\n",
       "    <tr>\n",
       "      <th>3</th>\n",
       "      <td>NaN</td>\n",
       "      <td>Associate Professor Neal Caren, University of ...</td>\n",
       "      <td>Economics, Sociology, Big Data</td>\n",
       "      <td>Collecting and Analyzing Big Data</td>\n",
       "    </tr>\n",
       "    <tr>\n",
       "      <th>4</th>\n",
       "      <td>NaN</td>\n",
       "      <td>Professor Dr. Florian Waldow, Humboldt-Univers...</td>\n",
       "      <td>Comparative Education, Sociology</td>\n",
       "      <td>Exploring Educational Transfer</td>\n",
       "    </tr>\n",
       "    <tr>\n",
       "      <th>5</th>\n",
       "      <td>NaN</td>\n",
       "      <td>Professor Fathali M. Moghaddam, Georgetown Uni...</td>\n",
       "      <td>Psychology, Political Science</td>\n",
       "      <td>Political Psychology</td>\n",
       "    </tr>\n",
       "  </tbody>\n",
       "</table>\n",
       "</div>"
      ],
      "text/plain": [
       "                                   24 - 28 July 2017  \\\n",
       "0  Mixed Methods: Towards a Methodological Pluralism   \n",
       "1          Political Violence: A Relational Approach   \n",
       "2                        Case Study Research Methods   \n",
       "3                      Democracy and Democratization   \n",
       "4                              Democracy and Justice   \n",
       "0                                                NaN   \n",
       "1                                                NaN   \n",
       "2                                                NaN   \n",
       "3                                                NaN   \n",
       "4                                                NaN   \n",
       "5                                                NaN   \n",
       "\n",
       "                                           Lecturers  \\\n",
       "0  Professor Giampietro Gobo, University of Milan...   \n",
       "1  Professor Donatella della Porta and Assistant ...   \n",
       "2  Professor Andrew Bennett, Georgetown Universit...   \n",
       "3  Professor David J. Samuels, University of Minn...   \n",
       "4        Professor Ian Shapiro, Yale University, USA   \n",
       "0  Professor Karen O'Brien, University of Oslo, N...   \n",
       "1  Associate Professor Andrew S. Mathews, Univers...   \n",
       "2  Professor Richard Owen and Senior Lecturer Sar...   \n",
       "3  Associate Professor Neal Caren, University of ...   \n",
       "4  Professor Dr. Florian Waldow, Humboldt-Univers...   \n",
       "5  Professor Fathali M. Moghaddam, Georgetown Uni...   \n",
       "\n",
       "                                    Main disciplines  \\\n",
       "0  Research Methodology, Political Science, Socio...   \n",
       "1                       Sociology, Political Science   \n",
       "2  Research Methodology, Political Science, Socio...   \n",
       "3                                  Political Science   \n",
       "4                                  Political Science   \n",
       "0           Human Geography, Environment and Climate   \n",
       "1              Anthropology, Environment and Climate   \n",
       "2                            Innovation Studies, STS   \n",
       "3                     Economics, Sociology, Big Data   \n",
       "4                   Comparative Education, Sociology   \n",
       "5                      Psychology, Political Science   \n",
       "\n",
       "                             31 July - 4 August 2017  \n",
       "0                                                NaN  \n",
       "1                                                NaN  \n",
       "2                                                NaN  \n",
       "3                                                NaN  \n",
       "4                                                NaN  \n",
       "0  Climate Change Adaptation and Transformations ...  \n",
       "1  The Politics of Nature in the Anthropocene: An...  \n",
       "2                Responsible Research and Innovation  \n",
       "3                  Collecting and Analyzing Big Data  \n",
       "4                     Exploring Educational Transfer  \n",
       "5                               Political Psychology  "
      ]
     },
     "execution_count": 217,
     "metadata": {},
     "output_type": "execute_result"
    }
   ],
   "source": [
    "week1_df = courses[0]\n",
    "week2_df = courses[1]\n",
    "\n",
    "week1_df.append(week2_df)"
   ]
  },
  {
   "cell_type": "code",
   "execution_count": 218,
   "metadata": {
    "slideshow": {
     "slide_type": "slide"
    }
   },
   "outputs": [
    {
     "data": {
      "text/html": [
       "<div>\n",
       "<style>\n",
       "    .dataframe thead tr:only-child th {\n",
       "        text-align: right;\n",
       "    }\n",
       "\n",
       "    .dataframe thead th {\n",
       "        text-align: left;\n",
       "    }\n",
       "\n",
       "    .dataframe tbody tr th {\n",
       "        vertical-align: top;\n",
       "    }\n",
       "</style>\n",
       "<table border=\"1\" class=\"dataframe\">\n",
       "  <thead>\n",
       "    <tr style=\"text-align: right;\">\n",
       "      <th></th>\n",
       "      <th>title</th>\n",
       "      <th>instructor</th>\n",
       "      <th>disciplines</th>\n",
       "      <th>date</th>\n",
       "    </tr>\n",
       "  </thead>\n",
       "  <tbody>\n",
       "    <tr>\n",
       "      <th>0</th>\n",
       "      <td>Mixed Methods: Towards a Methodological Pluralism</td>\n",
       "      <td>Professor Giampietro Gobo, University of Milan...</td>\n",
       "      <td>Research Methodology, Political Science, Socio...</td>\n",
       "      <td>24 - 28 July 2017</td>\n",
       "    </tr>\n",
       "    <tr>\n",
       "      <th>1</th>\n",
       "      <td>Political Violence: A Relational Approach</td>\n",
       "      <td>Professor Donatella della Porta and Assistant ...</td>\n",
       "      <td>Sociology, Political Science</td>\n",
       "      <td>24 - 28 July 2017</td>\n",
       "    </tr>\n",
       "    <tr>\n",
       "      <th>2</th>\n",
       "      <td>Case Study Research Methods</td>\n",
       "      <td>Professor Andrew Bennett, Georgetown Universit...</td>\n",
       "      <td>Research Methodology, Political Science, Socio...</td>\n",
       "      <td>24 - 28 July 2017</td>\n",
       "    </tr>\n",
       "    <tr>\n",
       "      <th>3</th>\n",
       "      <td>Democracy and Democratization</td>\n",
       "      <td>Professor David J. Samuels, University of Minn...</td>\n",
       "      <td>Political Science</td>\n",
       "      <td>24 - 28 July 2017</td>\n",
       "    </tr>\n",
       "    <tr>\n",
       "      <th>4</th>\n",
       "      <td>Democracy and Justice</td>\n",
       "      <td>Professor Ian Shapiro, Yale University, USA</td>\n",
       "      <td>Political Science</td>\n",
       "      <td>24 - 28 July 2017</td>\n",
       "    </tr>\n",
       "  </tbody>\n",
       "</table>\n",
       "</div>"
      ],
      "text/plain": [
       "                                               title  \\\n",
       "0  Mixed Methods: Towards a Methodological Pluralism   \n",
       "1          Political Violence: A Relational Approach   \n",
       "2                        Case Study Research Methods   \n",
       "3                      Democracy and Democratization   \n",
       "4                              Democracy and Justice   \n",
       "\n",
       "                                          instructor  \\\n",
       "0  Professor Giampietro Gobo, University of Milan...   \n",
       "1  Professor Donatella della Porta and Assistant ...   \n",
       "2  Professor Andrew Bennett, Georgetown Universit...   \n",
       "3  Professor David J. Samuels, University of Minn...   \n",
       "4        Professor Ian Shapiro, Yale University, USA   \n",
       "\n",
       "                                         disciplines               date  \n",
       "0  Research Methodology, Political Science, Socio...  24 - 28 July 2017  \n",
       "1                       Sociology, Political Science  24 - 28 July 2017  \n",
       "2  Research Methodology, Political Science, Socio...  24 - 28 July 2017  \n",
       "3                                  Political Science  24 - 28 July 2017  \n",
       "4                                  Political Science  24 - 28 July 2017  "
      ]
     },
     "execution_count": 218,
     "metadata": {},
     "output_type": "execute_result"
    }
   ],
   "source": [
    "\n",
    "week1_df.columns = ['title', 'instructor', 'disciplines']\n",
    "week1_df['date'] = '24 - 28 July 2017'\n",
    "week1_df"
   ]
  },
  {
   "cell_type": "code",
   "execution_count": 219,
   "metadata": {
    "slideshow": {
     "slide_type": "slide"
    }
   },
   "outputs": [
    {
     "data": {
      "text/html": [
       "<div>\n",
       "<style>\n",
       "    .dataframe thead tr:only-child th {\n",
       "        text-align: right;\n",
       "    }\n",
       "\n",
       "    .dataframe thead th {\n",
       "        text-align: left;\n",
       "    }\n",
       "\n",
       "    .dataframe tbody tr th {\n",
       "        vertical-align: top;\n",
       "    }\n",
       "</style>\n",
       "<table border=\"1\" class=\"dataframe\">\n",
       "  <thead>\n",
       "    <tr style=\"text-align: right;\">\n",
       "      <th></th>\n",
       "      <th>title</th>\n",
       "      <th>instructor</th>\n",
       "      <th>disciplines</th>\n",
       "      <th>date</th>\n",
       "    </tr>\n",
       "  </thead>\n",
       "  <tbody>\n",
       "    <tr>\n",
       "      <th>0</th>\n",
       "      <td>Climate Change Adaptation and Transformations ...</td>\n",
       "      <td>Professor Karen O'Brien, University of Oslo, N...</td>\n",
       "      <td>Human Geography, Environment and Climate</td>\n",
       "      <td>31 July - 4 August 2017</td>\n",
       "    </tr>\n",
       "    <tr>\n",
       "      <th>1</th>\n",
       "      <td>The Politics of Nature in the Anthropocene: An...</td>\n",
       "      <td>Associate Professor Andrew S. Mathews, Univers...</td>\n",
       "      <td>Anthropology, Environment and Climate</td>\n",
       "      <td>31 July - 4 August 2017</td>\n",
       "    </tr>\n",
       "    <tr>\n",
       "      <th>2</th>\n",
       "      <td>Responsible Research and Innovation</td>\n",
       "      <td>Professor Richard Owen and Senior Lecturer Sar...</td>\n",
       "      <td>Innovation Studies, STS</td>\n",
       "      <td>31 July - 4 August 2017</td>\n",
       "    </tr>\n",
       "    <tr>\n",
       "      <th>3</th>\n",
       "      <td>Collecting and Analyzing Big Data</td>\n",
       "      <td>Associate Professor Neal Caren, University of ...</td>\n",
       "      <td>Economics, Sociology, Big Data</td>\n",
       "      <td>31 July - 4 August 2017</td>\n",
       "    </tr>\n",
       "    <tr>\n",
       "      <th>4</th>\n",
       "      <td>Exploring Educational Transfer</td>\n",
       "      <td>Professor Dr. Florian Waldow, Humboldt-Univers...</td>\n",
       "      <td>Comparative Education, Sociology</td>\n",
       "      <td>31 July - 4 August 2017</td>\n",
       "    </tr>\n",
       "    <tr>\n",
       "      <th>5</th>\n",
       "      <td>Political Psychology</td>\n",
       "      <td>Professor Fathali M. Moghaddam, Georgetown Uni...</td>\n",
       "      <td>Psychology, Political Science</td>\n",
       "      <td>31 July - 4 August 2017</td>\n",
       "    </tr>\n",
       "  </tbody>\n",
       "</table>\n",
       "</div>"
      ],
      "text/plain": [
       "                                               title  \\\n",
       "0  Climate Change Adaptation and Transformations ...   \n",
       "1  The Politics of Nature in the Anthropocene: An...   \n",
       "2                Responsible Research and Innovation   \n",
       "3                  Collecting and Analyzing Big Data   \n",
       "4                     Exploring Educational Transfer   \n",
       "5                               Political Psychology   \n",
       "\n",
       "                                          instructor  \\\n",
       "0  Professor Karen O'Brien, University of Oslo, N...   \n",
       "1  Associate Professor Andrew S. Mathews, Univers...   \n",
       "2  Professor Richard Owen and Senior Lecturer Sar...   \n",
       "3  Associate Professor Neal Caren, University of ...   \n",
       "4  Professor Dr. Florian Waldow, Humboldt-Univers...   \n",
       "5  Professor Fathali M. Moghaddam, Georgetown Uni...   \n",
       "\n",
       "                                disciplines                     date  \n",
       "0  Human Geography, Environment and Climate  31 July - 4 August 2017  \n",
       "1     Anthropology, Environment and Climate  31 July - 4 August 2017  \n",
       "2                   Innovation Studies, STS  31 July - 4 August 2017  \n",
       "3            Economics, Sociology, Big Data  31 July - 4 August 2017  \n",
       "4          Comparative Education, Sociology  31 July - 4 August 2017  \n",
       "5             Psychology, Political Science  31 July - 4 August 2017  "
      ]
     },
     "execution_count": 219,
     "metadata": {},
     "output_type": "execute_result"
    }
   ],
   "source": [
    "week2_df.columns = ['title', 'instructor', 'disciplines']\n",
    "week2_df['date'] = '31 July - 4 August 2017'\n",
    "week2_df"
   ]
  },
  {
   "cell_type": "code",
   "execution_count": 220,
   "metadata": {
    "slideshow": {
     "slide_type": "slide"
    }
   },
   "outputs": [
    {
     "data": {
      "text/html": [
       "<div>\n",
       "<style>\n",
       "    .dataframe thead tr:only-child th {\n",
       "        text-align: right;\n",
       "    }\n",
       "\n",
       "    .dataframe thead th {\n",
       "        text-align: left;\n",
       "    }\n",
       "\n",
       "    .dataframe tbody tr th {\n",
       "        vertical-align: top;\n",
       "    }\n",
       "</style>\n",
       "<table border=\"1\" class=\"dataframe\">\n",
       "  <thead>\n",
       "    <tr style=\"text-align: right;\">\n",
       "      <th></th>\n",
       "      <th>title</th>\n",
       "      <th>instructor</th>\n",
       "      <th>disciplines</th>\n",
       "      <th>date</th>\n",
       "    </tr>\n",
       "  </thead>\n",
       "  <tbody>\n",
       "    <tr>\n",
       "      <th>0</th>\n",
       "      <td>Mixed Methods: Towards a Methodological Pluralism</td>\n",
       "      <td>Professor Giampietro Gobo, University of Milan...</td>\n",
       "      <td>Research Methodology, Political Science, Socio...</td>\n",
       "      <td>24 - 28 July 2017</td>\n",
       "    </tr>\n",
       "    <tr>\n",
       "      <th>1</th>\n",
       "      <td>Political Violence: A Relational Approach</td>\n",
       "      <td>Professor Donatella della Porta and Assistant ...</td>\n",
       "      <td>Sociology, Political Science</td>\n",
       "      <td>24 - 28 July 2017</td>\n",
       "    </tr>\n",
       "    <tr>\n",
       "      <th>2</th>\n",
       "      <td>Case Study Research Methods</td>\n",
       "      <td>Professor Andrew Bennett, Georgetown Universit...</td>\n",
       "      <td>Research Methodology, Political Science, Socio...</td>\n",
       "      <td>24 - 28 July 2017</td>\n",
       "    </tr>\n",
       "    <tr>\n",
       "      <th>3</th>\n",
       "      <td>Democracy and Democratization</td>\n",
       "      <td>Professor David J. Samuels, University of Minn...</td>\n",
       "      <td>Political Science</td>\n",
       "      <td>24 - 28 July 2017</td>\n",
       "    </tr>\n",
       "    <tr>\n",
       "      <th>4</th>\n",
       "      <td>Democracy and Justice</td>\n",
       "      <td>Professor Ian Shapiro, Yale University, USA</td>\n",
       "      <td>Political Science</td>\n",
       "      <td>24 - 28 July 2017</td>\n",
       "    </tr>\n",
       "    <tr>\n",
       "      <th>0</th>\n",
       "      <td>Climate Change Adaptation and Transformations ...</td>\n",
       "      <td>Professor Karen O'Brien, University of Oslo, N...</td>\n",
       "      <td>Human Geography, Environment and Climate</td>\n",
       "      <td>31 July - 4 August 2017</td>\n",
       "    </tr>\n",
       "    <tr>\n",
       "      <th>1</th>\n",
       "      <td>The Politics of Nature in the Anthropocene: An...</td>\n",
       "      <td>Associate Professor Andrew S. Mathews, Univers...</td>\n",
       "      <td>Anthropology, Environment and Climate</td>\n",
       "      <td>31 July - 4 August 2017</td>\n",
       "    </tr>\n",
       "    <tr>\n",
       "      <th>2</th>\n",
       "      <td>Responsible Research and Innovation</td>\n",
       "      <td>Professor Richard Owen and Senior Lecturer Sar...</td>\n",
       "      <td>Innovation Studies, STS</td>\n",
       "      <td>31 July - 4 August 2017</td>\n",
       "    </tr>\n",
       "    <tr>\n",
       "      <th>3</th>\n",
       "      <td>Collecting and Analyzing Big Data</td>\n",
       "      <td>Associate Professor Neal Caren, University of ...</td>\n",
       "      <td>Economics, Sociology, Big Data</td>\n",
       "      <td>31 July - 4 August 2017</td>\n",
       "    </tr>\n",
       "    <tr>\n",
       "      <th>4</th>\n",
       "      <td>Exploring Educational Transfer</td>\n",
       "      <td>Professor Dr. Florian Waldow, Humboldt-Univers...</td>\n",
       "      <td>Comparative Education, Sociology</td>\n",
       "      <td>31 July - 4 August 2017</td>\n",
       "    </tr>\n",
       "    <tr>\n",
       "      <th>5</th>\n",
       "      <td>Political Psychology</td>\n",
       "      <td>Professor Fathali M. Moghaddam, Georgetown Uni...</td>\n",
       "      <td>Psychology, Political Science</td>\n",
       "      <td>31 July - 4 August 2017</td>\n",
       "    </tr>\n",
       "  </tbody>\n",
       "</table>\n",
       "</div>"
      ],
      "text/plain": [
       "                                               title  \\\n",
       "0  Mixed Methods: Towards a Methodological Pluralism   \n",
       "1          Political Violence: A Relational Approach   \n",
       "2                        Case Study Research Methods   \n",
       "3                      Democracy and Democratization   \n",
       "4                              Democracy and Justice   \n",
       "0  Climate Change Adaptation and Transformations ...   \n",
       "1  The Politics of Nature in the Anthropocene: An...   \n",
       "2                Responsible Research and Innovation   \n",
       "3                  Collecting and Analyzing Big Data   \n",
       "4                     Exploring Educational Transfer   \n",
       "5                               Political Psychology   \n",
       "\n",
       "                                          instructor  \\\n",
       "0  Professor Giampietro Gobo, University of Milan...   \n",
       "1  Professor Donatella della Porta and Assistant ...   \n",
       "2  Professor Andrew Bennett, Georgetown Universit...   \n",
       "3  Professor David J. Samuels, University of Minn...   \n",
       "4        Professor Ian Shapiro, Yale University, USA   \n",
       "0  Professor Karen O'Brien, University of Oslo, N...   \n",
       "1  Associate Professor Andrew S. Mathews, Univers...   \n",
       "2  Professor Richard Owen and Senior Lecturer Sar...   \n",
       "3  Associate Professor Neal Caren, University of ...   \n",
       "4  Professor Dr. Florian Waldow, Humboldt-Univers...   \n",
       "5  Professor Fathali M. Moghaddam, Georgetown Uni...   \n",
       "\n",
       "                                         disciplines                     date  \n",
       "0  Research Methodology, Political Science, Socio...        24 - 28 July 2017  \n",
       "1                       Sociology, Political Science        24 - 28 July 2017  \n",
       "2  Research Methodology, Political Science, Socio...        24 - 28 July 2017  \n",
       "3                                  Political Science        24 - 28 July 2017  \n",
       "4                                  Political Science        24 - 28 July 2017  \n",
       "0           Human Geography, Environment and Climate  31 July - 4 August 2017  \n",
       "1              Anthropology, Environment and Climate  31 July - 4 August 2017  \n",
       "2                            Innovation Studies, STS  31 July - 4 August 2017  \n",
       "3                     Economics, Sociology, Big Data  31 July - 4 August 2017  \n",
       "4                   Comparative Education, Sociology  31 July - 4 August 2017  \n",
       "5                      Psychology, Political Science  31 July - 4 August 2017  "
      ]
     },
     "execution_count": 220,
     "metadata": {},
     "output_type": "execute_result"
    }
   ],
   "source": [
    "catalog_df = week1_df.append(week2_df)\n",
    "\n",
    "catalog_df"
   ]
  },
  {
   "cell_type": "code",
   "execution_count": 222,
   "metadata": {},
   "outputs": [],
   "source": [
    "catalog_df.to_csv('catalog.csv', encoding='utf8')"
   ]
  },
  {
   "cell_type": "markdown",
   "metadata": {
    "slideshow": {
     "slide_type": "slide"
    }
   },
   "source": [
    "<div class=\"alert alert-info\"> \n",
    "<h1> Your turn</h1>\n",
    "<p>Scrape the 2016 course listings. Add it to our catalog.\n"
   ]
  },
  {
   "cell_type": "markdown",
   "metadata": {
    "slideshow": {
     "slide_type": "slide"
    }
   },
   "source": [
    "### Tip 3: Sometimes you can hack their API.\n",
    "\n",
    "![](https://raw.githubusercontent.com/nealcaren/CSSS-CABD/master/images/HttpFox.png)"
   ]
  },
  {
   "cell_type": "markdown",
   "metadata": {
    "slideshow": {
     "slide_type": "slide"
    }
   },
   "source": [
    "### Tip 4: If you know HTML, you can also parse the page."
   ]
  },
  {
   "cell_type": "code",
   "execution_count": 35,
   "metadata": {
    "collapsed": true,
    "slideshow": {
     "slide_type": "fragment"
    }
   },
   "outputs": [],
   "source": [
    "from bs4 import BeautifulSoup"
   ]
  },
  {
   "cell_type": "code",
   "execution_count": 36,
   "metadata": {
    "collapsed": true,
    "slideshow": {
     "slide_type": "fragment"
    }
   },
   "outputs": [],
   "source": [
    "soup = BeautifulSoup(page_html, \"lxml\")"
   ]
  },
  {
   "cell_type": "code",
   "execution_count": 37,
   "metadata": {
    "slideshow": {
     "slide_type": "fragment"
    }
   },
   "outputs": [
    {
     "data": {
      "text/plain": [
       "[<div class=\"art_title\">Nonviolent Resistance Research</div>,\n",
       " <div class=\"art_title\">Do Contemporaneous Armed Challenges Affect the Outcomes of Mass Nonviolent Campaigns?</div>,\n",
       " <div class=\"art_title\">Revolution, Nonviolence, and the Arab Uprisings</div>,\n",
       " <div class=\"art_title\">Nonviolence as a Weapon of the Resourceful: From Claims to Tactics in Mobilization</div>,\n",
       " <div class=\"art_title\">Rightful Radical Resistance: Mass Mobilization and Land Struggles in India and Brazil</div>,\n",
       " <div class=\"art_title\">Decolonizing Civil Resistance</div>,\n",
       " <div class=\"art_title\">The Dynamics of Nonviolence Knowledge</div>,\n",
       " <div class=\"art_title\">Book Reviews</div>]"
      ]
     },
     "execution_count": 37,
     "metadata": {},
     "output_type": "execute_result"
    }
   ],
   "source": [
    "soup.find_all('div', attrs={'class':'art_title'})"
   ]
  },
  {
   "cell_type": "code",
   "execution_count": 38,
   "metadata": {
    "slideshow": {
     "slide_type": "slide"
    }
   },
   "outputs": [
    {
     "name": "stdout",
     "output_type": "stream",
     "text": [
      "Nonviolent Resistance Research\n",
      "Do Contemporaneous Armed Challenges Affect the Outcomes of Mass Nonviolent Campaigns?\n",
      "Revolution, Nonviolence, and the Arab Uprisings\n",
      "Nonviolence as a Weapon of the Resourceful: From Claims to Tactics in Mobilization\n",
      "Rightful Radical Resistance: Mass Mobilization and Land Struggles in India and Brazil\n",
      "Decolonizing Civil Resistance\n",
      "The Dynamics of Nonviolence Knowledge\n",
      "Book Reviews\n"
     ]
    }
   ],
   "source": [
    "ts = soup.find_all('div', attrs={'class':'art_title'})\n",
    "\n",
    "for i in ts:\n",
    "    print i.contents[0]\n"
   ]
  },
  {
   "cell_type": "code",
   "execution_count": 39,
   "metadata": {
    "slideshow": {
     "slide_type": "fragment"
    }
   },
   "outputs": [
    {
     "data": {
      "text/plain": [
       "[u'Nonviolent Resistance Research',\n",
       " u'Do Contemporaneous Armed Challenges Affect the Outcomes of Mass Nonviolent Campaigns?',\n",
       " u'Revolution, Nonviolence, and the Arab Uprisings',\n",
       " u'Nonviolence as a Weapon of the Resourceful: From Claims to Tactics in Mobilization',\n",
       " u'Rightful Radical Resistance: Mass Mobilization and Land Struggles in India and Brazil',\n",
       " u'Decolonizing Civil Resistance',\n",
       " u'The Dynamics of Nonviolence Knowledge',\n",
       " u'Book Reviews']"
      ]
     },
     "execution_count": 39,
     "metadata": {},
     "output_type": "execute_result"
    }
   ],
   "source": [
    "[i.contents[0] for i in ts]"
   ]
  },
  {
   "cell_type": "code",
   "execution_count": 40,
   "metadata": {
    "collapsed": true,
    "slideshow": {
     "slide_type": "slide"
    }
   },
   "outputs": [],
   "source": [
    "def load_or_get(volume, issue):\n",
    "    '''\n",
    "    Tries to open a Moby issue. If not found, gets it from the internet.\n",
    "    '''\n",
    "    \n",
    "    file_name = 'moby_%s_%s.html' % (volume, issue)\n",
    "    url       = 'http://mobilizationjournal.org/toc/maiq/%s/%s' % (volume, issue)\n",
    "    \n",
    "    # First, try to find the file stored locally.\n",
    "    try:\n",
    "        with codecs.open(file_name, 'r') as infile:\n",
    "            page_html = infile.read()\n",
    "    # If that didn't work, try getting it from the interent      \n",
    "    except Exception, e:\n",
    "        print 'Going to the internet to get %s-%s' % (issue, volume)\n",
    "        page = requests.get(url)\n",
    "        page_html = page.text\n",
    "            \n",
    "        # Save the file so you only go to the page once. It is polite. \n",
    "        with codecs.open(file_name, 'wb') as outfile:\n",
    "            outfile.write(page_html)\n",
    "    \n",
    "    #don't forget to send the stuff back\n",
    "    return page_html"
   ]
  },
  {
   "cell_type": "code",
   "execution_count": 41,
   "metadata": {
    "slideshow": {
     "slide_type": "fragment"
    }
   },
   "outputs": [
    {
     "name": "stdout",
     "output_type": "stream",
     "text": [
      "Going to the internet to get 1-8\n"
     ]
    }
   ],
   "source": [
    "page_html = load_or_get(8,1)"
   ]
  },
  {
   "cell_type": "code",
   "execution_count": 42,
   "metadata": {
    "slideshow": {
     "slide_type": "fragment"
    }
   },
   "outputs": [
    {
     "name": "stdout",
     "output_type": "stream",
     "text": [
      "Going to the internet to get 1-10\n"
     ]
    }
   ],
   "source": [
    "page_html = load_or_get(10,1)"
   ]
  },
  {
   "cell_type": "code",
   "execution_count": 43,
   "metadata": {
    "collapsed": true,
    "slideshow": {
     "slide_type": "slide"
    }
   },
   "outputs": [],
   "source": [
    "def scrape_headlines(page_html):\n",
    "    titles =  re.findall('div class=\"art_title\">(.*?)<\\/div', page_html)\n",
    "    return titles"
   ]
  },
  {
   "cell_type": "code",
   "execution_count": 44,
   "metadata": {
    "slideshow": {
     "slide_type": "fragment"
    }
   },
   "outputs": [
    {
     "name": "stdout",
     "output_type": "stream",
     "text": [
      "Going to the internet to get 1-13\n",
      "[u'Repression and Crime Control: Why Social Movement Scholars Should Pay Attention to Mass Incarceration as a Form of Repression', u'Borrowing from the Women\\'s Movement \"for Reasons of Public Security\": A Study of Social Movement Outcomes and Judicial Activism in the European Union', u'Ideology, Strategy and Conflict in a Social Movement Organization: The Sierra Club Immigration Wars', u'Situating Movements Historically: May 1968, Alain Touraine, and New Social Movement Theory', u'The Spatial Dynamics of the May 1968 French Demonstrations', u'Forming Coalitions: A Network-Theoretic Approach to the Contemporary South Korean Environmental Movement']\n",
      "Going to the internet to get 2-13\n",
      "[u'Assessing Stability in the Patterns of Selection Bias in Newspaper Coverage of Protest During the Transition from Communism in Belarus<sup>*</sup>', u'Validity and Media-Derived Protest Event Data: Examining Relative Coverage Tendencies in Mexican News Media <sup>*</sup>', u'The Sequencing of Success: Organizing Templates and Neoliberal Policy Outcomes', u'The Individual and Contextual Determinants of Protest Among Latinos', u'A Theory of Practice for Social Movements: Environmentalism and Ecological Habitus<sup>*</sup>', u'In the Name of the Prophet? Danish Muslim Mobilization During the Muhammad Caricatures Controversy<sup>*</sup>']\n"
     ]
    }
   ],
   "source": [
    "volume = 13\n",
    "\n",
    "for issue in [1,2]:\n",
    "    page_html = load_or_get(volume, issue)\n",
    "    print  scrape_headlines(page_html)"
   ]
  },
  {
   "cell_type": "markdown",
   "metadata": {
    "collapsed": true,
    "slideshow": {
     "slide_type": "slide"
    }
   },
   "source": [
    "### Still stuck?\n"
   ]
  },
  {
   "cell_type": "markdown",
   "metadata": {
    "slideshow": {
     "slide_type": "fragment"
    }
   },
   "source": [
    "Tip 5: Spoofing a browser\n",
    "\n",
    "`headers = {'user-agent': 'Mozilla/5.0 (Macintosh; Intel Mac OS X 10_12_5) AppleWebKit/537.36 (KHTML, like Gecko) Chrome/59.0.3071.115 Safari/537.36'}`\n",
    "\n",
    "`r = requests.get(url, headers=headers)`"
   ]
  },
  {
   "cell_type": "markdown",
   "metadata": {
    "slideshow": {
     "slide_type": "slide"
    }
   },
   "source": [
    "Tip 6: Keep cookies\n",
    "\n",
    "`s = requests.Session()`\n",
    "\n",
    "`s.get('http://httpbin.org/get')`\n"
   ]
  },
  {
   "cell_type": "markdown",
   "metadata": {
    "slideshow": {
     "slide_type": "slide"
    }
   },
   "source": [
    "Tip 7: Authentication in requests\n",
    "\n",
    "`requests.get('https://api.github.com/user', auth=('user', 'pass'))`"
   ]
  },
  {
   "cell_type": "markdown",
   "metadata": {
    "slideshow": {
     "slide_type": "slide"
    }
   },
   "source": [
    "### Tip 8: Still still stuck\n",
    "\n",
    "\n",
    "3. Selenium - control the browser. "
   ]
  }
 ],
 "metadata": {
  "celltoolbar": "Slideshow",
  "kernelspec": {
   "display_name": "Python [default]",
   "language": "python",
   "name": "python2"
  },
  "language_info": {
   "codemirror_mode": {
    "name": "ipython",
    "version": 2
   },
   "file_extension": ".py",
   "mimetype": "text/x-python",
   "name": "python",
   "nbconvert_exporter": "python",
   "pygments_lexer": "ipython2",
   "version": "2.7.13"
  }
 },
 "nbformat": 4,
 "nbformat_minor": 1
}
