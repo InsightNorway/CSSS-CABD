{
 "cells": [
  {
   "cell_type": "markdown",
   "metadata": {
    "slideshow": {
     "slide_type": "skip"
    }
   },
   "source": [
    "<!--BOOK_INFORMATION-->\n",
    "<img align=\"left\" style=\"padding-right:10px;\" src=\"figures/PDSH-cover-small.png\">\n",
    "*This notebook contains an excerpt from the [Python Data Science Handbook](http://shop.oreilly.com/product/0636920034919.do) by Jake VanderPlas; the content is available [on GitHub](https://github.com/jakevdp/PythonDataScienceHandbook).*\n",
    "\n",
    "*The text is released under the [CC-BY-NC-ND license](https://creativecommons.org/licenses/by-nc-nd/3.0/us/legalcode), and code is released under the [MIT license](https://opensource.org/licenses/MIT). If you find this content useful, please consider supporting the work by [buying the book](http://shop.oreilly.com/product/0636920034919.do)!*\n",
    "\n",
    "This notebook is modified by Neal Caren."
   ]
  },
  {
   "cell_type": "markdown",
   "metadata": {
    "slideshow": {
     "slide_type": "slide"
    }
   },
   "source": [
    "# Introducing the data science stack\n",
    "\n"
   ]
  },
  {
   "cell_type": "markdown",
   "metadata": {
    "slideshow": {
     "slide_type": "skip"
    }
   },
   "source": [
    "There are several Python libraries which provide solid implementations of a range of machine learning algorithms.\n",
    "One of the best known is [Scikit-Learn](http://scikit-learn.org), a package that provides efficient versions of a large number of common algorithms.\n",
    "Scikit-Learn is characterized by a clean, uniform, and streamlined API, as well as by very useful and complete online documentation.\n",
    "A benefit of this uniformity is that once you understand the basic use and syntax of Scikit-Learn for one type of model, switching to a new model or algorithm is very straightforward.\n",
    "\n",
    "This section provides an overview of the Scikit-Learn API; a solid understanding of these API elements will form the foundation for understanding the deeper practical discussion of machine learning algorithms and approaches in the following chapters.\n",
    "\n",
    "We will start by covering *data representation* in Scikit-Learn, followed by covering the *Estimator* API, and finally go through a more interesting example of using these tools for exploring a set of images of hand-written digits."
   ]
  },
  {
   "cell_type": "code",
   "execution_count": 3,
   "metadata": {
    "collapsed": true,
    "slideshow": {
     "slide_type": "slide"
    }
   },
   "outputs": [],
   "source": [
    "%matplotlib inline\n",
    "\n",
    "import pandas as pd\n",
    "import seaborn as sns"
   ]
  },
  {
   "cell_type": "code",
   "execution_count": 4,
   "metadata": {
    "collapsed": true,
    "slideshow": {
     "slide_type": "fragment"
    }
   },
   "outputs": [],
   "source": [
    "# df = pd.read_csv('https://raw.githubusercontent.com/nealcaren/CSSS-CABD/master/files/titanic_train.csv')\n",
    "\n",
    "df = pd.read_csv('files/titanic_train.csv')"
   ]
  },
  {
   "cell_type": "code",
   "execution_count": 5,
   "metadata": {
    "slideshow": {
     "slide_type": "fragment"
    }
   },
   "outputs": [
    {
     "data": {
      "text/html": [
       "<div>\n",
       "<style>\n",
       "    .dataframe thead tr:only-child th {\n",
       "        text-align: right;\n",
       "    }\n",
       "\n",
       "    .dataframe thead th {\n",
       "        text-align: left;\n",
       "    }\n",
       "\n",
       "    .dataframe tbody tr th {\n",
       "        vertical-align: top;\n",
       "    }\n",
       "</style>\n",
       "<table border=\"1\" class=\"dataframe\">\n",
       "  <thead>\n",
       "    <tr style=\"text-align: right;\">\n",
       "      <th></th>\n",
       "      <th>PassengerId</th>\n",
       "      <th>Survived</th>\n",
       "      <th>Pclass</th>\n",
       "      <th>Name</th>\n",
       "      <th>Sex</th>\n",
       "      <th>Age</th>\n",
       "      <th>SibSp</th>\n",
       "      <th>Parch</th>\n",
       "      <th>Ticket</th>\n",
       "      <th>Fare</th>\n",
       "      <th>Cabin</th>\n",
       "      <th>Embarked</th>\n",
       "    </tr>\n",
       "  </thead>\n",
       "  <tbody>\n",
       "    <tr>\n",
       "      <th>0</th>\n",
       "      <td>1</td>\n",
       "      <td>0</td>\n",
       "      <td>3</td>\n",
       "      <td>Braund, Mr. Owen Harris</td>\n",
       "      <td>male</td>\n",
       "      <td>22.0</td>\n",
       "      <td>1</td>\n",
       "      <td>0</td>\n",
       "      <td>A/5 21171</td>\n",
       "      <td>7.2500</td>\n",
       "      <td>NaN</td>\n",
       "      <td>S</td>\n",
       "    </tr>\n",
       "    <tr>\n",
       "      <th>1</th>\n",
       "      <td>2</td>\n",
       "      <td>1</td>\n",
       "      <td>1</td>\n",
       "      <td>Cumings, Mrs. John Bradley (Florence Briggs Th...</td>\n",
       "      <td>female</td>\n",
       "      <td>38.0</td>\n",
       "      <td>1</td>\n",
       "      <td>0</td>\n",
       "      <td>PC 17599</td>\n",
       "      <td>71.2833</td>\n",
       "      <td>C85</td>\n",
       "      <td>C</td>\n",
       "    </tr>\n",
       "    <tr>\n",
       "      <th>2</th>\n",
       "      <td>3</td>\n",
       "      <td>1</td>\n",
       "      <td>3</td>\n",
       "      <td>Heikkinen, Miss. Laina</td>\n",
       "      <td>female</td>\n",
       "      <td>26.0</td>\n",
       "      <td>0</td>\n",
       "      <td>0</td>\n",
       "      <td>STON/O2. 3101282</td>\n",
       "      <td>7.9250</td>\n",
       "      <td>NaN</td>\n",
       "      <td>S</td>\n",
       "    </tr>\n",
       "    <tr>\n",
       "      <th>3</th>\n",
       "      <td>4</td>\n",
       "      <td>1</td>\n",
       "      <td>1</td>\n",
       "      <td>Futrelle, Mrs. Jacques Heath (Lily May Peel)</td>\n",
       "      <td>female</td>\n",
       "      <td>35.0</td>\n",
       "      <td>1</td>\n",
       "      <td>0</td>\n",
       "      <td>113803</td>\n",
       "      <td>53.1000</td>\n",
       "      <td>C123</td>\n",
       "      <td>S</td>\n",
       "    </tr>\n",
       "    <tr>\n",
       "      <th>4</th>\n",
       "      <td>5</td>\n",
       "      <td>0</td>\n",
       "      <td>3</td>\n",
       "      <td>Allen, Mr. William Henry</td>\n",
       "      <td>male</td>\n",
       "      <td>35.0</td>\n",
       "      <td>0</td>\n",
       "      <td>0</td>\n",
       "      <td>373450</td>\n",
       "      <td>8.0500</td>\n",
       "      <td>NaN</td>\n",
       "      <td>S</td>\n",
       "    </tr>\n",
       "  </tbody>\n",
       "</table>\n",
       "</div>"
      ],
      "text/plain": [
       "   PassengerId  Survived  Pclass  \\\n",
       "0            1         0       3   \n",
       "1            2         1       1   \n",
       "2            3         1       3   \n",
       "3            4         1       1   \n",
       "4            5         0       3   \n",
       "\n",
       "                                                Name     Sex   Age  SibSp  \\\n",
       "0                            Braund, Mr. Owen Harris    male  22.0      1   \n",
       "1  Cumings, Mrs. John Bradley (Florence Briggs Th...  female  38.0      1   \n",
       "2                             Heikkinen, Miss. Laina  female  26.0      0   \n",
       "3       Futrelle, Mrs. Jacques Heath (Lily May Peel)  female  35.0      1   \n",
       "4                           Allen, Mr. William Henry    male  35.0      0   \n",
       "\n",
       "   Parch            Ticket     Fare Cabin Embarked  \n",
       "0      0         A/5 21171   7.2500   NaN        S  \n",
       "1      0          PC 17599  71.2833   C85        C  \n",
       "2      0  STON/O2. 3101282   7.9250   NaN        S  \n",
       "3      0            113803  53.1000  C123        S  \n",
       "4      0            373450   8.0500   NaN        S  "
      ]
     },
     "execution_count": 5,
     "metadata": {},
     "output_type": "execute_result"
    }
   ],
   "source": [
    "df.head()"
   ]
  },
  {
   "cell_type": "code",
   "execution_count": 7,
   "metadata": {
    "slideshow": {
     "slide_type": "slide"
    }
   },
   "outputs": [
    {
     "name": "stdout",
     "output_type": "stream",
     "text": [
      "<class 'pandas.core.frame.DataFrame'>\n",
      "RangeIndex: 891 entries, 0 to 890\n",
      "Data columns (total 12 columns):\n",
      "PassengerId    891 non-null int64\n",
      "Survived       891 non-null int64\n",
      "Pclass         891 non-null int64\n",
      "Name           891 non-null object\n",
      "Sex            891 non-null object\n",
      "Age            714 non-null float64\n",
      "SibSp          891 non-null int64\n",
      "Parch          891 non-null int64\n",
      "Ticket         891 non-null object\n",
      "Fare           891 non-null float64\n",
      "Cabin          204 non-null object\n",
      "Embarked       889 non-null object\n",
      "dtypes: float64(2), int64(5), object(5)\n",
      "memory usage: 83.6+ KB\n"
     ]
    }
   ],
   "source": [
    "df.info()"
   ]
  },
  {
   "cell_type": "code",
   "execution_count": 8,
   "metadata": {
    "slideshow": {
     "slide_type": "slide"
    }
   },
   "outputs": [
    {
     "data": {
      "text/html": [
       "<div>\n",
       "<style>\n",
       "    .dataframe thead tr:only-child th {\n",
       "        text-align: right;\n",
       "    }\n",
       "\n",
       "    .dataframe thead th {\n",
       "        text-align: left;\n",
       "    }\n",
       "\n",
       "    .dataframe tbody tr th {\n",
       "        vertical-align: top;\n",
       "    }\n",
       "</style>\n",
       "<table border=\"1\" class=\"dataframe\">\n",
       "  <thead>\n",
       "    <tr style=\"text-align: right;\">\n",
       "      <th></th>\n",
       "      <th>PassengerId</th>\n",
       "      <th>Survived</th>\n",
       "      <th>Pclass</th>\n",
       "      <th>Age</th>\n",
       "      <th>SibSp</th>\n",
       "      <th>Parch</th>\n",
       "      <th>Fare</th>\n",
       "    </tr>\n",
       "  </thead>\n",
       "  <tbody>\n",
       "    <tr>\n",
       "      <th>count</th>\n",
       "      <td>891.000000</td>\n",
       "      <td>891.000000</td>\n",
       "      <td>891.000000</td>\n",
       "      <td>714.000000</td>\n",
       "      <td>891.000000</td>\n",
       "      <td>891.000000</td>\n",
       "      <td>891.000000</td>\n",
       "    </tr>\n",
       "    <tr>\n",
       "      <th>mean</th>\n",
       "      <td>446.000000</td>\n",
       "      <td>0.383838</td>\n",
       "      <td>2.308642</td>\n",
       "      <td>29.699118</td>\n",
       "      <td>0.523008</td>\n",
       "      <td>0.381594</td>\n",
       "      <td>32.204208</td>\n",
       "    </tr>\n",
       "    <tr>\n",
       "      <th>std</th>\n",
       "      <td>257.353842</td>\n",
       "      <td>0.486592</td>\n",
       "      <td>0.836071</td>\n",
       "      <td>14.526497</td>\n",
       "      <td>1.102743</td>\n",
       "      <td>0.806057</td>\n",
       "      <td>49.693429</td>\n",
       "    </tr>\n",
       "    <tr>\n",
       "      <th>min</th>\n",
       "      <td>1.000000</td>\n",
       "      <td>0.000000</td>\n",
       "      <td>1.000000</td>\n",
       "      <td>0.420000</td>\n",
       "      <td>0.000000</td>\n",
       "      <td>0.000000</td>\n",
       "      <td>0.000000</td>\n",
       "    </tr>\n",
       "    <tr>\n",
       "      <th>25%</th>\n",
       "      <td>223.500000</td>\n",
       "      <td>0.000000</td>\n",
       "      <td>2.000000</td>\n",
       "      <td>20.125000</td>\n",
       "      <td>0.000000</td>\n",
       "      <td>0.000000</td>\n",
       "      <td>7.910400</td>\n",
       "    </tr>\n",
       "    <tr>\n",
       "      <th>50%</th>\n",
       "      <td>446.000000</td>\n",
       "      <td>0.000000</td>\n",
       "      <td>3.000000</td>\n",
       "      <td>28.000000</td>\n",
       "      <td>0.000000</td>\n",
       "      <td>0.000000</td>\n",
       "      <td>14.454200</td>\n",
       "    </tr>\n",
       "    <tr>\n",
       "      <th>75%</th>\n",
       "      <td>668.500000</td>\n",
       "      <td>1.000000</td>\n",
       "      <td>3.000000</td>\n",
       "      <td>38.000000</td>\n",
       "      <td>1.000000</td>\n",
       "      <td>0.000000</td>\n",
       "      <td>31.000000</td>\n",
       "    </tr>\n",
       "    <tr>\n",
       "      <th>max</th>\n",
       "      <td>891.000000</td>\n",
       "      <td>1.000000</td>\n",
       "      <td>3.000000</td>\n",
       "      <td>80.000000</td>\n",
       "      <td>8.000000</td>\n",
       "      <td>6.000000</td>\n",
       "      <td>512.329200</td>\n",
       "    </tr>\n",
       "  </tbody>\n",
       "</table>\n",
       "</div>"
      ],
      "text/plain": [
       "       PassengerId    Survived      Pclass         Age       SibSp  \\\n",
       "count   891.000000  891.000000  891.000000  714.000000  891.000000   \n",
       "mean    446.000000    0.383838    2.308642   29.699118    0.523008   \n",
       "std     257.353842    0.486592    0.836071   14.526497    1.102743   \n",
       "min       1.000000    0.000000    1.000000    0.420000    0.000000   \n",
       "25%     223.500000    0.000000    2.000000   20.125000    0.000000   \n",
       "50%     446.000000    0.000000    3.000000   28.000000    0.000000   \n",
       "75%     668.500000    1.000000    3.000000   38.000000    1.000000   \n",
       "max     891.000000    1.000000    3.000000   80.000000    8.000000   \n",
       "\n",
       "            Parch        Fare  \n",
       "count  891.000000  891.000000  \n",
       "mean     0.381594   32.204208  \n",
       "std      0.806057   49.693429  \n",
       "min      0.000000    0.000000  \n",
       "25%      0.000000    7.910400  \n",
       "50%      0.000000   14.454200  \n",
       "75%      0.000000   31.000000  \n",
       "max      6.000000  512.329200  "
      ]
     },
     "execution_count": 8,
     "metadata": {},
     "output_type": "execute_result"
    }
   ],
   "source": [
    "df.describe()"
   ]
  },
  {
   "cell_type": "code",
   "execution_count": 9,
   "metadata": {
    "slideshow": {
     "slide_type": "slide"
    }
   },
   "outputs": [
    {
     "data": {
      "text/plain": [
       "<matplotlib.axes._subplots.AxesSubplot at 0x109ff9790>"
      ]
     },
     "execution_count": 9,
     "metadata": {},
     "output_type": "execute_result"
    },
    {
     "data": {
      "image/png": "[encoded data removed]",
      "text/plain": [
       "<matplotlib.figure.Figure at 0x109ff9310>"
      ]
     },
     "metadata": {},
     "output_type": "display_data"
    }
   ],
   "source": [
    "df['Pclass'].hist()"
   ]
  },
  {
   "cell_type": "code",
   "execution_count": 10,
   "metadata": {
    "slideshow": {
     "slide_type": "slide"
    }
   },
   "outputs": [
    {
     "data": {
      "text/plain": [
       "<matplotlib.axes._subplots.AxesSubplot at 0x11994a8d0>"
      ]
     },
     "execution_count": 10,
     "metadata": {},
     "output_type": "execute_result"
    },
    {
     "data": {
      "image/png": "[encoded data removed]",
      "text/plain": [
       "<matplotlib.figure.Figure at 0x119982fd0>"
      ]
     },
     "metadata": {},
     "output_type": "display_data"
    }
   ],
   "source": [
    "df['Fare'].hist()"
   ]
  },
  {
   "cell_type": "code",
   "execution_count": 11,
   "metadata": {
    "slideshow": {
     "slide_type": "slide"
    }
   },
   "outputs": [
    {
     "data": {
      "text/plain": [
       "<matplotlib.axes._subplots.AxesSubplot at 0x119b07cd0>"
      ]
     },
     "execution_count": 11,
     "metadata": {},
     "output_type": "execute_result"
    },
    {
     "data": {
      "image/png": "[encoded data removed]",
      "text/plain": [
       "<matplotlib.figure.Figure at 0x11998b690>"
      ]
     },
     "metadata": {},
     "output_type": "display_data"
    }
   ],
   "source": [
    "df.plot(kind=\"scatter\",     \n",
    "              x=\"Fare\",          \n",
    "              y=\"Pclass\")  "
   ]
  },
  {
   "cell_type": "code",
   "execution_count": 12,
   "metadata": {
    "slideshow": {
     "slide_type": "slide"
    }
   },
   "outputs": [
    {
     "data": {
      "text/plain": [
       "array([[<matplotlib.axes._subplots.AxesSubplot object at 0x119bece10>,\n",
       "        <matplotlib.axes._subplots.AxesSubplot object at 0x119cf8f90>],\n",
       "       [<matplotlib.axes._subplots.AxesSubplot object at 0x119d8c0d0>,\n",
       "        <matplotlib.axes._subplots.AxesSubplot object at 0x119defb10>]], dtype=object)"
      ]
     },
     "execution_count": 12,
     "metadata": {},
     "output_type": "execute_result"
    },
    {
     "data": {
      "image/png": "[encoded data removed]",
      "text/plain": [
       "<matplotlib.figure.Figure at 0x119c00890>"
      ]
     },
     "metadata": {},
     "output_type": "display_data"
    }
   ],
   "source": [
    "pd.plotting.scatter_matrix(df[['Fare','Pclass']])"
   ]
  },
  {
   "cell_type": "code",
   "execution_count": 13,
   "metadata": {
    "slideshow": {
     "slide_type": "slide"
    }
   },
   "outputs": [
    {
     "data": {
      "text/plain": [
       "array([[<matplotlib.axes._subplots.AxesSubplot object at 0x119ef6cd0>,\n",
       "        <matplotlib.axes._subplots.AxesSubplot object at 0x11a031ed0>,\n",
       "        <matplotlib.axes._subplots.AxesSubplot object at 0x11a0b6fd0>],\n",
       "       [<matplotlib.axes._subplots.AxesSubplot object at 0x11a128a50>,\n",
       "        <matplotlib.axes._subplots.AxesSubplot object at 0x11a1b0a90>,\n",
       "        <matplotlib.axes._subplots.AxesSubplot object at 0x11a224410>],\n",
       "       [<matplotlib.axes._subplots.AxesSubplot object at 0x11a2aa610>,\n",
       "        <matplotlib.axes._subplots.AxesSubplot object at 0x11a310e90>,\n",
       "        <matplotlib.axes._subplots.AxesSubplot object at 0x11a396f90>]], dtype=object)"
      ]
     },
     "execution_count": 13,
     "metadata": {},
     "output_type": "execute_result"
    },
    {
     "data": {
      "image/png": "[encoded data removed]",
      "text/plain": [
       "<matplotlib.figure.Figure at 0x119f1d390>"
      ]
     },
     "metadata": {},
     "output_type": "display_data"
    }
   ],
   "source": [
    "pd.plotting.scatter_matrix(df[['Age','Fare','Pclass']])"
   ]
  },
  {
   "cell_type": "code",
   "execution_count": 14,
   "metadata": {
    "slideshow": {
     "slide_type": "slide"
    }
   },
   "outputs": [
    {
     "data": {
      "text/plain": [
       "<matplotlib.axes._subplots.AxesSubplot at 0x11a467b10>"
      ]
     },
     "execution_count": 14,
     "metadata": {},
     "output_type": "execute_result"
    },
    {
     "data": {
      "image/png": "[encoded data removed]",
      "text/plain": [
       "<matplotlib.figure.Figure at 0x1199be1d0>"
      ]
     },
     "metadata": {},
     "output_type": "display_data"
    }
   ],
   "source": [
    "df.boxplot(column='Fare')"
   ]
  },
  {
   "cell_type": "code",
   "execution_count": 16,
   "metadata": {
    "slideshow": {
     "slide_type": "slide"
    }
   },
   "outputs": [
    {
     "data": {
      "text/plain": [
       "<matplotlib.axes._subplots.AxesSubplot at 0x11a254a50>"
      ]
     },
     "execution_count": 16,
     "metadata": {},
     "output_type": "execute_result"
    },
    {
     "data": {
      "image/png": "[encoded data removed]",
      "text/plain": [
       "<matplotlib.figure.Figure at 0x119c45f90>"
      ]
     },
     "metadata": {},
     "output_type": "display_data"
    }
   ],
   "source": [
    "df.boxplot(column='Fare',\n",
    "           by = 'Pclass')"
   ]
  },
  {
   "cell_type": "markdown",
   "metadata": {
    "slideshow": {
     "slide_type": "skip"
    }
   },
   "source": [
    "For use in Scikit-Learn, we will extract the features matrix and target array from the ``DataFrame``, which we can do using some of the Pandas ``DataFrame`` operations discussed in the [Chapter 3](03.00-Introduction-to-Pandas.ipynb):"
   ]
  },
  {
   "cell_type": "markdown",
   "metadata": {
    "slideshow": {
     "slide_type": "skip"
    }
   },
   "source": [
    "To summarize, the expected layout of features and target values is visualized in the following diagram:"
   ]
  },
  {
   "cell_type": "markdown",
   "metadata": {
    "slideshow": {
     "slide_type": "slide"
    }
   },
   "source": [
    "## How data science views data"
   ]
  },
  {
   "cell_type": "markdown",
   "metadata": {
    "slideshow": {
     "slide_type": "slide"
    }
   },
   "source": [
    "![](https://github.com/nealcaren/CSSS-CABD/raw/master/images/05.02-samples-features.png)"
   ]
  },
  {
   "cell_type": "markdown",
   "metadata": {
    "slideshow": {
     "slide_type": "skip"
    }
   },
   "source": [
    "With this data properly formatted, we can move on to consider the *estimator* API of Scikit-Learn:"
   ]
  },
  {
   "cell_type": "markdown",
   "metadata": {
    "slideshow": {
     "slide_type": "skip"
    }
   },
   "source": [
    "## Scikit-Learn's Estimator API"
   ]
  },
  {
   "cell_type": "markdown",
   "metadata": {
    "slideshow": {
     "slide_type": "skip"
    }
   },
   "source": [
    "The Scikit-Learn API is designed with the following guiding principles in mind, as outlined in the [Scikit-Learn API paper](http://arxiv.org/abs/1309.0238):\n",
    "\n",
    "- *Consistency*: All objects share a common interface drawn from a limited set of methods, with consistent documentation.\n",
    "\n",
    "- *Inspection*: All specified parameter values are exposed as public attributes.\n",
    "\n",
    "- *Limited object hierarchy*: Only algorithms are represented by Python classes; datasets are represented\n",
    "  in standard formats (NumPy arrays, Pandas ``DataFrame``s, SciPy sparse matrices) and parameter\n",
    "  names use standard Python strings.\n",
    "\n",
    "- *Composition*: Many machine learning tasks can be expressed as sequences of more fundamental algorithms,\n",
    "  and Scikit-Learn makes use of this wherever possible.\n",
    "\n",
    "- *Sensible defaults*: When models require user-specified parameters, the library defines an appropriate default value.\n",
    "\n",
    "In practice, these principles make Scikit-Learn very easy to use, once the basic principles are understood.\n",
    "Every machine learning algorithm in Scikit-Learn is implemented via the Estimator API, which provides a consistent interface for a wide range of machine learning applications."
   ]
  },
  {
   "cell_type": "markdown",
   "metadata": {
    "slideshow": {
     "slide_type": "skip"
    }
   },
   "source": [
    "### Basics of the API\n",
    "\n",
    "Most commonly, the steps in using the Scikit-Learn estimator API are as follows\n",
    "(we will step through a handful of detailed examples in the sections that follow).\n",
    "\n",
    "1. Choose a class of model by importing the appropriate estimator class from Scikit-Learn.\n",
    "2. Choose model hyperparameters by instantiating this class with desired values.\n",
    "3. Arrange data into a features matrix and target vector following the discussion above.\n",
    "4. Fit the model to your data by calling the ``fit()`` method of the model instance.\n",
    "5. Apply the Model to new data:\n",
    "   - For supervised learning, often we predict labels for unknown data using the ``predict()`` method.\n",
    "   - For unsupervised learning, we often transform or infer properties of the data using the ``transform()`` or ``predict()`` method.\n",
    "\n",
    "We will now step through several simple examples of applying supervised and unsupervised learning methods."
   ]
  },
  {
   "cell_type": "markdown",
   "metadata": {
    "slideshow": {
     "slide_type": "slide"
    }
   },
   "source": [
    "### Supervised learning example: Simple linear regression"
   ]
  },
  {
   "cell_type": "markdown",
   "metadata": {
    "slideshow": {
     "slide_type": "fragment"
    }
   },
   "source": [
    "#### 1. Choose a class of model\n",
    "\n",
    "\n",
    "Sci-kit Learn's manual is the best\n",
    "\n",
    "http://scikit-learn.org/stable/supervised_learning.html#supervised-learning"
   ]
  },
  {
   "cell_type": "code",
   "execution_count": 17,
   "metadata": {
    "collapsed": true,
    "slideshow": {
     "slide_type": "fragment"
    }
   },
   "outputs": [],
   "source": [
    "from sklearn.linear_model import LinearRegression"
   ]
  },
  {
   "cell_type": "markdown",
   "metadata": {
    "slideshow": {
     "slide_type": "slide"
    }
   },
   "source": [
    "#### 2. Choose model hyperparameters"
   ]
  },
  {
   "cell_type": "markdown",
   "metadata": {
    "slideshow": {
     "slide_type": "skip"
    }
   },
   "source": [
    "\n",
    "An important point is that *a class of model is not the same as an instance of a model*.\n",
    "\n",
    "Once we have decided on our model class, there are still some options open to us.\n",
    "Depending on the model class we are working with, we might need to answer one or more questions like the following:\n",
    "\n",
    "- Would we like to fit for the offset (i.e., *y*-intercept)?\n",
    "- Would we like the model to be normalized?\n",
    "- Would we like to preprocess our features to add model flexibility?\n",
    "- What degree of regularization would we like to use in our model?\n",
    "- How many model components would we like to use?\n",
    "\n",
    "These are examples of the important choices that must be made *once the model class is selected*.\n",
    "These choices are often represented as *hyperparameters*, or parameters that must be set before the model is fit to data.\n",
    "In Scikit-Learn, hyperparameters are chosen by passing values at model instantiation.\n",
    "We will explore how you can quantitatively motivate the choice of hyperparameters in [Hyperparameters and Model Validation](05.03-Hyperparameters-and-Model-Validation.ipynb).\n",
    "\n",
    "For our linear regression example, we can instantiate the ``LinearRegression`` class and specify that we would like to fit the intercept using the ``fit_intercept`` hyperparameter:"
   ]
  },
  {
   "cell_type": "code",
   "execution_count": 18,
   "metadata": {
    "slideshow": {
     "slide_type": "fragment"
    }
   },
   "outputs": [
    {
     "data": {
      "text/plain": [
       "LinearRegression(copy_X=True, fit_intercept=True, n_jobs=1, normalize=False)"
      ]
     },
     "execution_count": 18,
     "metadata": {},
     "output_type": "execute_result"
    }
   ],
   "source": [
    "model = LinearRegression(fit_intercept=True)\n",
    "model"
   ]
  },
  {
   "cell_type": "markdown",
   "metadata": {
    "slideshow": {
     "slide_type": "fragment"
    }
   },
   "source": [
    "This did nothing."
   ]
  },
  {
   "cell_type": "markdown",
   "metadata": {
    "slideshow": {
     "slide_type": "skip"
    }
   },
   "source": [
    "Keep in mind that when the model is instantiated, the only action is the storing of these hyperparameter values.\n",
    "In particular, we have not yet applied the model to any data: the Scikit-Learn API makes very clear the distinction between *choice of model* and *application of model to data*."
   ]
  },
  {
   "cell_type": "markdown",
   "metadata": {
    "slideshow": {
     "slide_type": "slide"
    }
   },
   "source": [
    "#### 3. Arrange data into a features matrix and target vector"
   ]
  },
  {
   "cell_type": "markdown",
   "metadata": {
    "slideshow": {
     "slide_type": "skip"
    }
   },
   "source": [
    "Previously we detailed the Scikit-Learn data representation, which requires a two-dimensional features matrix and a one-dimensional target array.\n",
    "Here our target variable ``y`` is already in the correct form (a length-``n_samples`` array), but we need to massage the data ``x`` to make it a matrix of size ``[n_samples, n_features]``.\n",
    "In this case, this amounts to a simple reshaping of the one-dimensional array:"
   ]
  },
  {
   "cell_type": "code",
   "execution_count": 47,
   "metadata": {
    "slideshow": {
     "slide_type": "fragment"
    }
   },
   "outputs": [
    {
     "name": "stdout",
     "output_type": "stream",
     "text": [
      "891\n"
     ]
    },
    {
     "data": {
      "text/plain": [
       "714"
      ]
     },
     "execution_count": 47,
     "metadata": {},
     "output_type": "execute_result"
    }
   ],
   "source": [
    "#scikit doesn't like missing data\n",
    "print(len(df))\n",
    "df_nomissing = df.copy()\n",
    "\n",
    "df_nomissing.dropna(subset=['Age','Fare'], \n",
    "                    inplace=True)\n",
    "\n",
    "X = df_nomissing[['Age']]\n",
    "\n",
    "# note the extra [] below\n",
    "y = df_nomissing[['Fare']]\n",
    "\n",
    "len(y)"
   ]
  },
  {
   "cell_type": "markdown",
   "metadata": {
    "slideshow": {
     "slide_type": "slide"
    }
   },
   "source": [
    "#### 4. Fit the model to your data\n",
    "\n",
    "Now it is time to apply our model to data.\n",
    "This can be done with the ``fit()`` method of the model:"
   ]
  },
  {
   "cell_type": "code",
   "execution_count": 48,
   "metadata": {
    "slideshow": {
     "slide_type": "fragment"
    }
   },
   "outputs": [
    {
     "data": {
      "text/plain": [
       "LinearRegression(copy_X=True, fit_intercept=True, n_jobs=1, normalize=False)"
      ]
     },
     "execution_count": 48,
     "metadata": {},
     "output_type": "execute_result"
    }
   ],
   "source": [
    "model.fit(X, y)"
   ]
  },
  {
   "cell_type": "code",
   "execution_count": 49,
   "metadata": {
    "slideshow": {
     "slide_type": "fragment"
    }
   },
   "outputs": [
    {
     "data": {
      "text/plain": [
       "array([[ 0.34996368]])"
      ]
     },
     "execution_count": 49,
     "metadata": {},
     "output_type": "execute_result"
    }
   ],
   "source": [
    "model.coef_"
   ]
  },
  {
   "cell_type": "code",
   "execution_count": 50,
   "metadata": {
    "slideshow": {
     "slide_type": "fragment"
    }
   },
   "outputs": [
    {
     "data": {
      "text/plain": [
       "array([ 24.30090145])"
      ]
     },
     "execution_count": 50,
     "metadata": {},
     "output_type": "execute_result"
    }
   ],
   "source": [
    "model.intercept_"
   ]
  },
  {
   "cell_type": "markdown",
   "metadata": {
    "slideshow": {
     "slide_type": "fragment"
    }
   },
   "source": [
    "Data scientists don't care about your standard errors. "
   ]
  },
  {
   "cell_type": "markdown",
   "metadata": {
    "slideshow": {
     "slide_type": "slide"
    }
   },
   "source": [
    "#### 5. Predict "
   ]
  },
  {
   "cell_type": "code",
   "execution_count": 51,
   "metadata": {
    "collapsed": true,
    "slideshow": {
     "slide_type": "fragment"
    }
   },
   "outputs": [],
   "source": [
    "y_hat = model.predict(X)"
   ]
  },
  {
   "cell_type": "code",
   "execution_count": 52,
   "metadata": {
    "slideshow": {
     "slide_type": "fragment"
    }
   },
   "outputs": [
    {
     "data": {
      "text/plain": [
       "array([[ 32.00010245],\n",
       "       [ 37.59952136],\n",
       "       [ 33.39995717],\n",
       "       [ 36.54963031],\n",
       "       [ 36.54963031],\n",
       "       [ 43.19894026],\n",
       "       [ 25.00082881],\n",
       "       [ 33.74992086],\n",
       "       [ 29.20039299],\n",
       "       [ 25.70075618],\n",
       "       [ 44.59879499],\n",
       "       [ 31.30017508],\n",
       "       [ 37.94948504],\n",
       "       [ 29.20039299],\n",
       "       [ 43.54890395],\n",
       "       [ 25.00082881],\n",
       "       [ 35.14977558],\n",
       "       [ 36.54963031],\n",
       "       [ 36.19966663],\n",
       "       [ 29.55035668],\n",
       "       [ 34.09988454],\n",
       "       [ 27.1006109 ],\n",
       "       [ 37.59952136],\n",
       "       [ 30.9502114 ],\n",
       "       [ 38.29944872],\n",
       "       [ 47.39850444],\n",
       "       [ 34.09988454],\n",
       "       [ 38.99937608],\n",
       "       [ 31.65013877],\n",
       "       [ 30.60024772],\n",
       "       [ 29.20039299],\n",
       "       [ 38.29944872],\n",
       "       [ 33.74992086],\n",
       "       [ 25.35079249],\n",
       "       [ 30.9502114 ],\n",
       "       [ 30.60024772],\n",
       "       [ 26.75064722],\n",
       "       [ 31.65013877],\n",
       "       [ 41.44912185],\n",
       "       [ 34.44984822],\n",
       "       [ 47.04854076],\n",
       "       [ 31.65013877],\n",
       "       [ 34.27486638],\n",
       "       [ 26.05071986],\n",
       "       [ 28.15050195],\n",
       "       [ 32.00010245],\n",
       "       [ 37.59952136],\n",
       "       [ 40.04926713],\n",
       "       [ 25.70075618],\n",
       "       [ 34.44984822],\n",
       "       [ 30.9502114 ],\n",
       "       [ 30.25028404],\n",
       "       [ 33.39995717],\n",
       "       [ 35.49973927],\n",
       "       [ 29.90032036],\n",
       "       [ 31.65013877],\n",
       "       [ 33.39995717],\n",
       "       [ 35.49973927],\n",
       "       [ 33.04999349],\n",
       "       [ 24.59137131],\n",
       "       [ 34.7998119 ],\n",
       "       [ 32.00010245],\n",
       "       [ 34.44984822],\n",
       "       [ 34.09988454],\n",
       "       [ 30.25028404],\n",
       "       [ 35.84970295],\n",
       "       [ 29.90032036],\n",
       "       [ 32.35006613],\n",
       "       [ 32.70002981],\n",
       "       [ 34.44984822],\n",
       "       [ 31.30017508],\n",
       "       [ 40.39923081],\n",
       "       [ 33.39995717],\n",
       "       [ 44.94875867],\n",
       "       [ 49.14832285],\n",
       "       [ 32.35006613],\n",
       "       [ 36.19966663],\n",
       "       [ 36.19966663],\n",
       "       [ 34.09988454],\n",
       "       [ 31.65013877],\n",
       "       [ 35.84970295],\n",
       "       [ 37.24955767],\n",
       "       [ 34.09988454],\n",
       "       [ 31.65013877],\n",
       "       [ 37.59952136],\n",
       "       [ 40.74919449],\n",
       "       [ 29.37537483],\n",
       "       [ 32.00010245],\n",
       "       [ 31.30017508],\n",
       "       [ 30.25028404],\n",
       "       [ 31.65013877],\n",
       "       [ 48.97334101],\n",
       "       [ 34.44984822],\n",
       "       [ 32.70002981],\n",
       "       [ 25.00082881],\n",
       "       [ 31.65013877],\n",
       "       [ 35.67472111],\n",
       "       [ 35.67472111],\n",
       "       [ 43.19894026],\n",
       "       [ 28.50046563],\n",
       "       [ 32.70002981],\n",
       "       [ 40.04926713],\n",
       "       [ 35.84970295],\n",
       "       [ 31.30017508],\n",
       "       [ 40.74919449],\n",
       "       [ 34.44984822],\n",
       "       [ 33.04999349],\n",
       "       [ 32.35006613],\n",
       "       [ 30.9502114 ],\n",
       "       [ 37.24955767],\n",
       "       [ 29.90032036],\n",
       "       [ 32.70002981],\n",
       "       [ 32.00010245],\n",
       "       [ 32.70002981],\n",
       "       [ 30.9502114 ],\n",
       "       [ 30.60024772],\n",
       "       [ 30.9502114 ],\n",
       "       [ 33.74992086],\n",
       "       [ 27.45057458],\n",
       "       [ 37.07457583],\n",
       "       [ 38.99937608],\n",
       "       [ 42.14904922],\n",
       "       [ 32.00010245],\n",
       "       [ 43.72388579],\n",
       "       [ 38.47443056],\n",
       "       [ 42.14904922],\n",
       "       [ 29.90032036],\n",
       "       [ 34.7998119 ],\n",
       "       [ 39.69930345],\n",
       "       [ 38.29944872],\n",
       "       [ 33.39995717],\n",
       "       [ 30.25028404],\n",
       "       [ 24.65086513],\n",
       "       [ 27.45057458],\n",
       "       [ 40.04926713],\n",
       "       [ 34.09988454],\n",
       "       [ 45.64868604],\n",
       "       [ 25.70075618],\n",
       "       [ 24.65086513],\n",
       "       [ 31.65013877],\n",
       "       [ 43.89886763],\n",
       "       [ 30.60024772],\n",
       "       [ 41.79908554],\n",
       "       [ 34.7998119 ],\n",
       "       [ 36.89959399],\n",
       "       [ 27.45057458],\n",
       "       [ 24.65086513],\n",
       "       [ 25.70075618],\n",
       "       [ 40.04926713],\n",
       "       [ 38.29944872],\n",
       "       [ 36.89959399],\n",
       "       [ 35.49973927],\n",
       "       [ 30.9502114 ],\n",
       "       [ 30.9502114 ],\n",
       "       [ 25.35079249],\n",
       "       [ 39.69930345],\n",
       "       [ 44.59879499],\n",
       "       [ 38.99937608],\n",
       "       [ 32.70002981],\n",
       "       [ 34.09988454],\n",
       "       [ 36.19966663],\n",
       "       [ 40.22424897],\n",
       "       [ 30.60024772],\n",
       "       [ 25.00082881],\n",
       "       [ 35.49973927],\n",
       "       [ 33.39995717],\n",
       "       [ 29.90032036],\n",
       "       [ 38.29944872],\n",
       "       [ 32.70002981],\n",
       "       [ 36.54963031],\n",
       "       [ 32.00010245],\n",
       "       [ 34.7998119 ],\n",
       "       [ 35.14977558],\n",
       "       [ 33.74992086],\n",
       "       [ 38.99937608],\n",
       "       [ 35.49973927],\n",
       "       [ 34.7998119 ],\n",
       "       [ 29.90032036],\n",
       "       [ 33.74992086],\n",
       "       [ 42.14904922],\n",
       "       [ 37.59952136],\n",
       "       [ 32.00010245],\n",
       "       [ 30.9502114 ],\n",
       "       [ 31.47515693],\n",
       "       [ 30.60024772],\n",
       "       [ 36.54963031],\n",
       "       [ 34.44984822],\n",
       "       [ 44.94875867],\n",
       "       [ 26.05071986],\n",
       "       [ 32.70002981],\n",
       "       [ 39.69930345],\n",
       "       [ 27.1006109 ],\n",
       "       [ 30.9502114 ],\n",
       "       [ 35.84970295],\n",
       "       [ 34.44984822],\n",
       "       [ 32.00010245],\n",
       "       [ 34.7998119 ],\n",
       "       [ 39.69930345],\n",
       "       [ 33.04999349],\n",
       "       [ 32.70002981],\n",
       "       [ 37.24955767],\n",
       "       [ 43.19894026],\n",
       "       [ 34.44984822],\n",
       "       [ 45.99864972],\n",
       "       [ 34.7998119 ],\n",
       "       [ 38.6494124 ],\n",
       "       [ 34.44984822],\n",
       "       [ 34.7998119 ],\n",
       "       [ 36.54963031],\n",
       "       [ 41.79908554],\n",
       "       [ 25.35079249],\n",
       "       [ 42.4990129 ],\n",
       "       [ 38.29944872],\n",
       "       [ 36.89959399],\n",
       "       [ 29.90032036],\n",
       "       [ 33.04999349],\n",
       "       [ 44.59879499],\n",
       "       [ 36.54963031],\n",
       "       [ 33.04999349],\n",
       "       [ 38.6494124 ],\n",
       "       [ 37.24955767],\n",
       "       [ 46.3486134 ],\n",
       "       [ 40.04926713],\n",
       "       [ 26.75064722],\n",
       "       [ 36.54963031],\n",
       "       [ 47.04854076],\n",
       "       [ 34.09988454],\n",
       "       [ 29.90032036],\n",
       "       [ 30.9502114 ],\n",
       "       [ 35.84970295],\n",
       "       [ 34.7998119 ],\n",
       "       [ 32.00010245],\n",
       "       [ 38.99937608],\n",
       "       [ 32.00010245],\n",
       "       [ 33.39995717],\n",
       "       [ 30.9502114 ],\n",
       "       [ 36.89959399],\n",
       "       [ 32.70002981],\n",
       "       [ 32.70002981],\n",
       "       [ 32.52504797],\n",
       "       [ 25.00082881],\n",
       "       [ 41.79908554],\n",
       "       [ 30.9502114 ],\n",
       "       [ 24.62286804],\n",
       "       [ 30.25028404],\n",
       "       [ 34.7998119 ],\n",
       "       [ 34.7998119 ],\n",
       "       [ 32.70002981],\n",
       "       [ 30.60024772],\n",
       "       [ 33.39995717],\n",
       "       [ 34.09988454],\n",
       "       [ 39.34933976],\n",
       "       [ 33.39995717],\n",
       "       [ 32.70002981],\n",
       "       [ 43.19894026],\n",
       "       [ 35.14977558],\n",
       "       [ 38.29944872],\n",
       "       [ 32.00010245],\n",
       "       [ 33.74992086],\n",
       "       [ 34.7998119 ],\n",
       "       [ 32.00010245],\n",
       "       [ 36.89959399],\n",
       "       [ 45.64868604],\n",
       "       [ 36.89959399],\n",
       "       [ 35.14977558],\n",
       "       [ 29.90032036],\n",
       "       [ 40.22424897],\n",
       "       [ 37.59952136],\n",
       "       [ 29.90032036],\n",
       "       [ 34.44984822],\n",
       "       [ 38.6494124 ],\n",
       "       [ 40.04926713],\n",
       "       [ 40.04926713],\n",
       "       [ 25.00082881],\n",
       "       [ 32.70002981],\n",
       "       [ 34.09988454],\n",
       "       [ 33.04999349],\n",
       "       [ 36.89959399],\n",
       "       [ 32.70002981],\n",
       "       [ 38.29944872],\n",
       "       [ 25.35079249],\n",
       "       [ 38.99937608],\n",
       "       [ 32.35006613],\n",
       "       [ 29.55035668],\n",
       "       [ 33.04999349],\n",
       "       [ 34.09988454],\n",
       "       [ 32.00010245],\n",
       "       [ 37.59952136],\n",
       "       [ 38.29944872],\n",
       "       [ 34.44984822],\n",
       "       [ 40.04926713],\n",
       "       [ 36.54963031],\n",
       "       [ 34.7998119 ],\n",
       "       [ 45.29872235],\n",
       "       [ 32.70002981],\n",
       "       [ 33.04999349],\n",
       "       [ 30.60024772],\n",
       "       [ 30.9502114 ],\n",
       "       [ 32.00010245],\n",
       "       [ 25.35079249],\n",
       "       [ 32.00010245],\n",
       "       [ 33.74992086],\n",
       "       [ 31.30017508],\n",
       "       [ 30.9502114 ],\n",
       "       [ 38.99937608],\n",
       "       [ 24.65086513],\n",
       "       [ 35.49973927],\n",
       "       [ 36.54963031],\n",
       "       [ 30.60024772],\n",
       "       [ 24.65086513],\n",
       "       [ 36.89959399],\n",
       "       [ 30.25028404],\n",
       "       [ 36.89959399],\n",
       "       [ 31.65013877],\n",
       "       [ 34.09988454],\n",
       "       [ 32.35006613],\n",
       "       [ 32.70002981],\n",
       "       [ 32.00010245],\n",
       "       [ 35.14977558],\n",
       "       [ 40.39923081],\n",
       "       [ 32.35006613],\n",
       "       [ 34.09988454],\n",
       "       [ 37.94948504],\n",
       "       [ 33.39995717],\n",
       "       [ 31.65013877],\n",
       "       [ 34.09988454],\n",
       "       [ 31.30017508],\n",
       "       [ 36.19966663],\n",
       "       [ 42.14904922],\n",
       "       [ 25.35079249],\n",
       "       [ 31.65013877],\n",
       "       [ 35.84970295],\n",
       "       [ 39.69930345],\n",
       "       [ 36.19966663],\n",
       "       [ 30.60024772],\n",
       "       [ 34.7998119 ],\n",
       "       [ 27.80053827],\n",
       "       [ 31.65013877],\n",
       "       [ 34.44984822],\n",
       "       [ 34.09988454],\n",
       "       [ 30.60024772],\n",
       "       [ 34.09988454],\n",
       "       [ 30.9502114 ],\n",
       "       [ 35.49973927],\n",
       "       [ 34.09988454],\n",
       "       [ 38.99937608],\n",
       "       [ 30.25028404],\n",
       "       [ 41.79908554],\n",
       "       [ 29.20039299],\n",
       "       [ 31.65013877],\n",
       "       [ 32.70002981],\n",
       "       [ 46.69857708],\n",
       "       [ 35.14977558],\n",
       "       [ 40.04926713],\n",
       "       [ 31.30017508],\n",
       "       [ 33.04999349],\n",
       "       [ 34.09988454],\n",
       "       [ 25.70075618],\n",
       "       [ 28.85042931],\n",
       "       [ 36.19966663],\n",
       "       [ 26.05071986],\n",
       "       [ 42.4990129 ],\n",
       "       [ 36.89959399],\n",
       "       [ 34.7998119 ],\n",
       "       [ 41.44912185],\n",
       "       [ 34.44984822],\n",
       "       [ 47.04854076],\n",
       "       [ 41.79908554],\n",
       "       [ 41.09915817],\n",
       "       [ 36.19966663],\n",
       "       [ 40.74919449],\n",
       "       [ 41.09915817],\n",
       "       [ 37.59952136],\n",
       "       [ 43.89886763],\n",
       "       [ 24.56337421],\n",
       "       [ 37.59952136],\n",
       "       [ 35.84970295],\n",
       "       [ 32.35006613],\n",
       "       [ 32.00010245],\n",
       "       [ 36.19966663],\n",
       "       [ 34.44984822],\n",
       "       [ 32.00010245],\n",
       "       [ 25.00082881],\n",
       "       [ 27.45057458],\n",
       "       [ 41.79908554],\n",
       "       [ 46.3486134 ],\n",
       "       [ 33.04999349],\n",
       "       [ 36.54963031],\n",
       "       [ 44.59879499],\n",
       "       [ 34.7998119 ],\n",
       "       [ 27.45057458],\n",
       "       [ 31.65013877],\n",
       "       [ 43.54890395],\n",
       "       [ 49.14832285],\n",
       "       [ 31.65013877],\n",
       "       [ 43.19894026],\n",
       "       [ 33.04999349],\n",
       "       [ 32.70002981],\n",
       "       [ 30.25028404],\n",
       "       [ 31.65013877],\n",
       "       [ 37.24955767],\n",
       "       [ 29.90032036],\n",
       "       [ 30.60024772],\n",
       "       [ 35.84970295],\n",
       "       [ 34.09988454],\n",
       "       [ 33.39995717],\n",
       "       [ 34.44984822],\n",
       "       [ 36.89959399],\n",
       "       [ 43.19894026],\n",
       "       [ 32.70002981],\n",
       "       [ 40.74919449],\n",
       "       [ 36.19966663],\n",
       "       [ 36.89959399],\n",
       "       [ 35.49973927],\n",
       "       [ 34.7998119 ],\n",
       "       [ 32.00010245],\n",
       "       [ 39.69930345],\n",
       "       [ 38.47443056],\n",
       "       [ 41.79908554],\n",
       "       [ 37.94948504],\n",
       "       [ 32.35006613],\n",
       "       [ 25.00082881],\n",
       "       [ 30.25028404],\n",
       "       [ 34.7998119 ],\n",
       "       [ 26.75064722],\n",
       "       [ 40.04926713],\n",
       "       [ 34.7998119 ],\n",
       "       [ 32.00010245],\n",
       "       [ 36.89959399],\n",
       "       [ 27.45057458],\n",
       "       [ 28.15050195],\n",
       "       [ 35.49973927],\n",
       "       [ 41.79908554],\n",
       "       [ 46.69857708],\n",
       "       [ 30.9502114 ],\n",
       "       [ 35.84970295],\n",
       "       [ 27.1006109 ],\n",
       "       [ 30.25028404],\n",
       "       [ 33.74992086],\n",
       "       [ 32.00010245],\n",
       "       [ 32.00010245],\n",
       "       [ 45.99864972],\n",
       "       [ 41.09915817],\n",
       "       [ 37.94948504],\n",
       "       [ 36.89959399],\n",
       "       [ 38.29944872],\n",
       "       [ 34.09988454],\n",
       "       [ 32.70002981],\n",
       "       [ 30.9502114 ],\n",
       "       [ 34.44984822],\n",
       "       [ 35.49973927],\n",
       "       [ 45.99864972],\n",
       "       [ 42.84897658],\n",
       "       [ 36.89959399],\n",
       "       [ 29.90032036],\n",
       "       [ 30.9502114 ],\n",
       "       [ 36.19966663],\n",
       "       [ 37.94948504],\n",
       "       [ 35.49973927],\n",
       "       [ 33.04999349],\n",
       "       [ 37.94948504],\n",
       "       [ 43.19894026],\n",
       "       [ 36.89959399],\n",
       "       [ 30.60024772],\n",
       "       [ 40.74919449],\n",
       "       [ 45.29872235],\n",
       "       [ 32.00010245],\n",
       "       [ 36.54963031],\n",
       "       [ 42.4990129 ],\n",
       "       [ 40.74919449],\n",
       "       [ 37.24955767],\n",
       "       [ 36.89959399],\n",
       "       [ 41.44912185],\n",
       "       [ 41.44912185],\n",
       "       [ 32.70002981],\n",
       "       [ 39.69930345],\n",
       "       [ 36.54963031],\n",
       "       [ 36.89959399],\n",
       "       [ 34.7998119 ],\n",
       "       [ 33.74992086],\n",
       "       [ 32.00010245],\n",
       "       [ 38.29944872],\n",
       "       [ 37.94948504],\n",
       "       [ 36.54963031],\n",
       "       [ 32.70002981],\n",
       "       [ 36.19966663],\n",
       "       [ 33.39995717],\n",
       "       [ 25.70075618],\n",
       "       [ 33.39995717],\n",
       "       [ 33.74992086],\n",
       "       [ 38.99937608],\n",
       "       [ 31.30017508],\n",
       "       [ 31.65013877],\n",
       "       [ 31.65013877],\n",
       "       [ 45.64868604],\n",
       "       [ 44.24883131],\n",
       "       [ 31.65013877],\n",
       "       [ 33.39995717],\n",
       "       [ 52.29799599],\n",
       "       [ 42.14904922],\n",
       "       [ 35.49973927],\n",
       "       [ 27.45057458],\n",
       "       [ 34.09988454],\n",
       "       [ 35.49973927],\n",
       "       [ 35.14977558],\n",
       "       [ 38.6494124 ],\n",
       "       [ 31.30017508],\n",
       "       [ 32.70002981],\n",
       "       [ 25.00082881],\n",
       "       [ 24.56337421],\n",
       "       [ 41.09915817],\n",
       "       [ 30.9502114 ],\n",
       "       [ 43.89886763],\n",
       "       [ 32.35006613],\n",
       "       [ 30.60024772],\n",
       "       [ 31.65013877],\n",
       "       [ 30.60024772],\n",
       "       [ 32.70002981],\n",
       "       [ 35.49973927],\n",
       "       [ 32.35006613],\n",
       "       [ 44.59879499],\n",
       "       [ 41.79908554],\n",
       "       [ 38.29944872],\n",
       "       [ 40.74919449],\n",
       "       [ 36.89959399],\n",
       "       [ 31.30017508],\n",
       "       [ 35.49973927],\n",
       "       [ 33.04999349],\n",
       "       [ 39.34933976],\n",
       "       [ 38.29944872],\n",
       "       [ 35.14977558],\n",
       "       [ 48.79835917],\n",
       "       [ 35.14977558],\n",
       "       [ 30.60024772],\n",
       "       [ 32.87501165],\n",
       "       [ 30.60024772],\n",
       "       [ 39.34933976],\n",
       "       [ 36.89959399],\n",
       "       [ 33.74992086],\n",
       "       [ 31.30017508],\n",
       "       [ 29.20039299],\n",
       "       [ 45.29872235],\n",
       "       [ 33.04999349],\n",
       "       [ 29.20039299],\n",
       "       [ 30.9502114 ],\n",
       "       [ 30.60024772],\n",
       "       [ 29.55035668],\n",
       "       [ 35.14977558],\n",
       "       [ 25.70075618],\n",
       "       [ 33.04999349],\n",
       "       [ 45.29872235],\n",
       "       [ 42.4990129 ],\n",
       "       [ 39.69930345],\n",
       "       [ 41.44912185],\n",
       "       [ 38.99937608],\n",
       "       [ 30.60024772],\n",
       "       [ 36.54963031],\n",
       "       [ 30.60024772],\n",
       "       [ 33.04999349],\n",
       "       [ 33.39995717],\n",
       "       [ 37.94948504],\n",
       "       [ 40.04926713],\n",
       "       [ 38.99937608],\n",
       "       [ 32.00010245],\n",
       "       [ 32.70002981],\n",
       "       [ 41.09915817],\n",
       "       [ 34.44984822],\n",
       "       [ 42.4990129 ],\n",
       "       [ 30.9502114 ],\n",
       "       [ 37.59952136],\n",
       "       [ 33.74992086],\n",
       "       [ 35.84970295],\n",
       "       [ 26.40068354],\n",
       "       [ 30.25028404],\n",
       "       [ 36.19966663],\n",
       "       [ 41.79908554],\n",
       "       [ 33.74992086],\n",
       "       [ 31.30017508],\n",
       "       [ 34.7998119 ],\n",
       "       [ 33.04999349],\n",
       "       [ 33.04999349],\n",
       "       [ 34.44984822],\n",
       "       [ 28.15050195],\n",
       "       [ 32.35006613],\n",
       "       [ 32.35006613],\n",
       "       [ 34.27486638],\n",
       "       [ 41.09915817],\n",
       "       [ 36.54963031],\n",
       "       [ 36.89959399],\n",
       "       [ 31.65013877],\n",
       "       [ 32.70002981],\n",
       "       [ 35.14977558],\n",
       "       [ 48.79835917],\n",
       "       [ 29.90032036],\n",
       "       [ 34.7998119 ],\n",
       "       [ 30.9502114 ],\n",
       "       [ 35.14977558],\n",
       "       [ 25.70075618],\n",
       "       [ 26.40068354],\n",
       "       [ 35.84970295],\n",
       "       [ 32.35006613],\n",
       "       [ 41.09915817],\n",
       "       [ 24.53537712],\n",
       "       [ 34.09988454],\n",
       "       [ 30.60024772],\n",
       "       [ 36.19966663],\n",
       "       [ 35.84970295],\n",
       "       [ 38.6494124 ],\n",
       "       [ 31.30017508],\n",
       "       [ 36.89959399],\n",
       "       [ 29.90032036],\n",
       "       [ 42.14904922],\n",
       "       [ 34.97479374],\n",
       "       [ 35.49973927],\n",
       "       [ 32.70002981],\n",
       "       [ 41.09915817],\n",
       "       [ 44.24883131],\n",
       "       [ 43.19894026],\n",
       "       [ 30.60024772],\n",
       "       [ 26.05071986],\n",
       "       [ 39.34933976],\n",
       "       [ 28.85042931],\n",
       "       [ 30.25028404],\n",
       "       [ 34.44984822],\n",
       "       [ 33.04999349],\n",
       "       [ 33.04999349],\n",
       "       [ 30.60024772],\n",
       "       [ 27.1006109 ],\n",
       "       [ 24.65086513],\n",
       "       [ 40.39923081],\n",
       "       [ 29.90032036],\n",
       "       [ 33.04999349],\n",
       "       [ 37.94948504],\n",
       "       [ 41.44912185],\n",
       "       [ 35.14977558],\n",
       "       [ 34.7998119 ],\n",
       "       [ 34.7998119 ],\n",
       "       [ 36.19966663],\n",
       "       [ 35.14977558],\n",
       "       [ 28.15050195],\n",
       "       [ 24.4478862 ],\n",
       "       [ 33.74992086],\n",
       "       [ 35.14977558],\n",
       "       [ 37.94948504],\n",
       "       [ 30.60024772],\n",
       "       [ 37.94948504],\n",
       "       [ 35.84970295],\n",
       "       [ 33.39995717],\n",
       "       [ 37.94948504],\n",
       "       [ 36.54963031],\n",
       "       [ 26.40068354],\n",
       "       [ 34.97479374],\n",
       "       [ 32.35006613],\n",
       "       [ 35.14977558],\n",
       "       [ 39.34933976],\n",
       "       [ 27.80053827],\n",
       "       [ 42.4990129 ],\n",
       "       [ 33.74992086],\n",
       "       [ 37.59952136],\n",
       "       [ 33.74992086],\n",
       "       [ 25.00082881],\n",
       "       [ 24.65086513],\n",
       "       [ 45.99864972],\n",
       "       [ 29.55035668],\n",
       "       [ 24.59137131],\n",
       "       [ 32.35006613],\n",
       "       [ 30.60024772],\n",
       "       [ 37.94948504],\n",
       "       [ 31.65013877],\n",
       "       [ 35.49973927],\n",
       "       [ 31.30017508],\n",
       "       [ 29.90032036],\n",
       "       [ 34.7998119 ],\n",
       "       [ 36.37464847],\n",
       "       [ 30.25028404],\n",
       "       [ 38.99937608],\n",
       "       [ 36.54963031],\n",
       "       [ 34.09988454],\n",
       "       [ 25.70075618],\n",
       "       [ 50.1982139 ],\n",
       "       [ 27.45057458],\n",
       "       [ 29.90032036],\n",
       "       [ 39.69930345],\n",
       "       [ 30.60024772],\n",
       "       [ 40.04926713],\n",
       "       [ 42.14904922],\n",
       "       [ 32.70002981],\n",
       "       [ 38.6494124 ],\n",
       "       [ 31.65013877],\n",
       "       [ 41.09915817],\n",
       "       [ 32.70002981],\n",
       "       [ 38.99937608],\n",
       "       [ 33.74992086],\n",
       "       [ 35.14977558],\n",
       "       [ 25.70075618],\n",
       "       [ 33.39995717],\n",
       "       [ 40.74919449],\n",
       "       [ 35.84970295],\n",
       "       [ 40.74919449],\n",
       "       [ 34.09988454],\n",
       "       [ 29.55035668],\n",
       "       [ 31.30017508],\n",
       "       [ 30.9502114 ],\n",
       "       [ 43.89886763],\n",
       "       [ 33.04999349],\n",
       "       [ 35.84970295],\n",
       "       [ 32.00010245],\n",
       "       [ 34.09988454],\n",
       "       [ 33.04999349],\n",
       "       [ 37.94948504],\n",
       "       [ 33.74992086],\n",
       "       [ 30.9502114 ],\n",
       "       [ 33.39995717],\n",
       "       [ 35.49973927]])"
      ]
     },
     "execution_count": 52,
     "metadata": {},
     "output_type": "execute_result"
    }
   ],
   "source": [
    "y_hat"
   ]
  },
  {
   "cell_type": "code",
   "execution_count": 53,
   "metadata": {
    "slideshow": {
     "slide_type": "slide"
    }
   },
   "outputs": [
    {
     "data": {
      "text/plain": [
       "<matplotlib.collections.PathCollection at 0x11b198b50>"
      ]
     },
     "execution_count": 53,
     "metadata": {},
     "output_type": "execute_result"
    },
    {
     "data": {
      "image/png": "[encoded data removed]",
      "text/plain": [
       "<matplotlib.figure.Figure at 0x11b198550>"
      ]
     },
     "metadata": {},
     "output_type": "display_data"
    }
   ],
   "source": [
    "import matplotlib.pyplot as plt\n",
    "\n",
    "plt.scatter(X, y)\n",
    "plt.scatter(X, y_hat)"
   ]
  },
  {
   "cell_type": "code",
   "execution_count": 54,
   "metadata": {
    "collapsed": true,
    "slideshow": {
     "slide_type": "slide"
    }
   },
   "outputs": [],
   "source": [
    "df_nomissing['Fare_predicted'] = y_hat"
   ]
  },
  {
   "cell_type": "code",
   "execution_count": 55,
   "metadata": {},
   "outputs": [
    {
     "data": {
      "text/html": [
       "<div>\n",
       "<style>\n",
       "    .dataframe thead tr:only-child th {\n",
       "        text-align: right;\n",
       "    }\n",
       "\n",
       "    .dataframe thead th {\n",
       "        text-align: left;\n",
       "    }\n",
       "\n",
       "    .dataframe tbody tr th {\n",
       "        vertical-align: top;\n",
       "    }\n",
       "</style>\n",
       "<table border=\"1\" class=\"dataframe\">\n",
       "  <thead>\n",
       "    <tr style=\"text-align: right;\">\n",
       "      <th></th>\n",
       "      <th>PassengerId</th>\n",
       "      <th>Survived</th>\n",
       "      <th>Pclass</th>\n",
       "      <th>Age</th>\n",
       "      <th>SibSp</th>\n",
       "      <th>Parch</th>\n",
       "      <th>Fare</th>\n",
       "      <th>Fare_predicted</th>\n",
       "    </tr>\n",
       "  </thead>\n",
       "  <tbody>\n",
       "    <tr>\n",
       "      <th>count</th>\n",
       "      <td>714.000000</td>\n",
       "      <td>714.000000</td>\n",
       "      <td>714.000000</td>\n",
       "      <td>714.000000</td>\n",
       "      <td>714.000000</td>\n",
       "      <td>714.000000</td>\n",
       "      <td>714.000000</td>\n",
       "      <td>714.000000</td>\n",
       "    </tr>\n",
       "    <tr>\n",
       "      <th>mean</th>\n",
       "      <td>448.582633</td>\n",
       "      <td>0.406162</td>\n",
       "      <td>2.236695</td>\n",
       "      <td>29.699118</td>\n",
       "      <td>0.512605</td>\n",
       "      <td>0.431373</td>\n",
       "      <td>34.694514</td>\n",
       "      <td>34.694514</td>\n",
       "    </tr>\n",
       "    <tr>\n",
       "      <th>std</th>\n",
       "      <td>259.119524</td>\n",
       "      <td>0.491460</td>\n",
       "      <td>0.838250</td>\n",
       "      <td>14.526497</td>\n",
       "      <td>0.929783</td>\n",
       "      <td>0.853289</td>\n",
       "      <td>52.918930</td>\n",
       "      <td>5.083746</td>\n",
       "    </tr>\n",
       "    <tr>\n",
       "      <th>min</th>\n",
       "      <td>1.000000</td>\n",
       "      <td>0.000000</td>\n",
       "      <td>1.000000</td>\n",
       "      <td>0.420000</td>\n",
       "      <td>0.000000</td>\n",
       "      <td>0.000000</td>\n",
       "      <td>0.000000</td>\n",
       "      <td>24.447886</td>\n",
       "    </tr>\n",
       "    <tr>\n",
       "      <th>25%</th>\n",
       "      <td>222.250000</td>\n",
       "      <td>0.000000</td>\n",
       "      <td>1.000000</td>\n",
       "      <td>20.125000</td>\n",
       "      <td>0.000000</td>\n",
       "      <td>0.000000</td>\n",
       "      <td>8.050000</td>\n",
       "      <td>31.343921</td>\n",
       "    </tr>\n",
       "    <tr>\n",
       "      <th>50%</th>\n",
       "      <td>445.000000</td>\n",
       "      <td>0.000000</td>\n",
       "      <td>2.000000</td>\n",
       "      <td>28.000000</td>\n",
       "      <td>0.000000</td>\n",
       "      <td>0.000000</td>\n",
       "      <td>15.741700</td>\n",
       "      <td>34.099885</td>\n",
       "    </tr>\n",
       "    <tr>\n",
       "      <th>75%</th>\n",
       "      <td>677.750000</td>\n",
       "      <td>1.000000</td>\n",
       "      <td>3.000000</td>\n",
       "      <td>38.000000</td>\n",
       "      <td>1.000000</td>\n",
       "      <td>1.000000</td>\n",
       "      <td>33.375000</td>\n",
       "      <td>37.599521</td>\n",
       "    </tr>\n",
       "    <tr>\n",
       "      <th>max</th>\n",
       "      <td>891.000000</td>\n",
       "      <td>1.000000</td>\n",
       "      <td>3.000000</td>\n",
       "      <td>80.000000</td>\n",
       "      <td>5.000000</td>\n",
       "      <td>6.000000</td>\n",
       "      <td>512.329200</td>\n",
       "      <td>52.297996</td>\n",
       "    </tr>\n",
       "  </tbody>\n",
       "</table>\n",
       "</div>"
      ],
      "text/plain": [
       "       PassengerId    Survived      Pclass         Age       SibSp  \\\n",
       "count   714.000000  714.000000  714.000000  714.000000  714.000000   \n",
       "mean    448.582633    0.406162    2.236695   29.699118    0.512605   \n",
       "std     259.119524    0.491460    0.838250   14.526497    0.929783   \n",
       "min       1.000000    0.000000    1.000000    0.420000    0.000000   \n",
       "25%     222.250000    0.000000    1.000000   20.125000    0.000000   \n",
       "50%     445.000000    0.000000    2.000000   28.000000    0.000000   \n",
       "75%     677.750000    1.000000    3.000000   38.000000    1.000000   \n",
       "max     891.000000    1.000000    3.000000   80.000000    5.000000   \n",
       "\n",
       "            Parch        Fare  Fare_predicted  \n",
       "count  714.000000  714.000000      714.000000  \n",
       "mean     0.431373   34.694514       34.694514  \n",
       "std      0.853289   52.918930        5.083746  \n",
       "min      0.000000    0.000000       24.447886  \n",
       "25%      0.000000    8.050000       31.343921  \n",
       "50%      0.000000   15.741700       34.099885  \n",
       "75%      1.000000   33.375000       37.599521  \n",
       "max      6.000000  512.329200       52.297996  "
      ]
     },
     "execution_count": 55,
     "metadata": {},
     "output_type": "execute_result"
    }
   ],
   "source": [
    "df_nomissing.describe()"
   ]
  },
  {
   "cell_type": "markdown",
   "metadata": {
    "slideshow": {
     "slide_type": "slide"
    }
   },
   "source": [
    "#### Let's try it again with another variable"
   ]
  },
  {
   "cell_type": "code",
   "execution_count": 56,
   "metadata": {
    "collapsed": true,
    "slideshow": {
     "slide_type": "fragment"
    }
   },
   "outputs": [],
   "source": [
    "df_nomissing['Male'] = df_nomissing['Sex'] == 'male'"
   ]
  },
  {
   "cell_type": "code",
   "execution_count": 57,
   "metadata": {
    "slideshow": {
     "slide_type": "fragment"
    }
   },
   "outputs": [
    {
     "data": {
      "text/plain": [
       "0.63445378151260501"
      ]
     },
     "execution_count": 57,
     "metadata": {},
     "output_type": "execute_result"
    }
   ],
   "source": [
    "df_nomissing['Male'].mean()"
   ]
  },
  {
   "cell_type": "code",
   "execution_count": 58,
   "metadata": {
    "slideshow": {
     "slide_type": "slide"
    }
   },
   "outputs": [
    {
     "data": {
      "text/plain": [
       "LinearRegression(copy_X=True, fit_intercept=True, n_jobs=1, normalize=False)"
      ]
     },
     "execution_count": 58,
     "metadata": {},
     "output_type": "execute_result"
    }
   ],
   "source": [
    "X = df_nomissing[['Age','Male']]\n",
    "\n",
    "model.fit(X, y)"
   ]
  },
  {
   "cell_type": "code",
   "execution_count": 59,
   "metadata": {
    "slideshow": {
     "slide_type": "fragment"
    }
   },
   "outputs": [
    {
     "data": {
      "text/plain": [
       "<matplotlib.collections.PathCollection at 0x11b246a10>"
      ]
     },
     "execution_count": 59,
     "metadata": {},
     "output_type": "execute_result"
    },
    {
     "data": {
      "image/png": "[encoded data removed]",
      "text/plain": [
       "<matplotlib.figure.Figure at 0x11b0bea50>"
      ]
     },
     "metadata": {},
     "output_type": "display_data"
    }
   ],
   "source": [
    "plt.scatter(df_nomissing['Age'], y)\n",
    "plt.scatter(df_nomissing['Age'], model.predict(X))"
   ]
  },
  {
   "cell_type": "code",
   "execution_count": 61,
   "metadata": {
    "slideshow": {
     "slide_type": "fragment"
    }
   },
   "outputs": [
    {
     "data": {
      "text/html": [
       "<div>\n",
       "<style>\n",
       "    .dataframe thead tr:only-child th {\n",
       "        text-align: right;\n",
       "    }\n",
       "\n",
       "    .dataframe thead th {\n",
       "        text-align: left;\n",
       "    }\n",
       "\n",
       "    .dataframe tbody tr th {\n",
       "        vertical-align: top;\n",
       "    }\n",
       "</style>\n",
       "<table border=\"1\" class=\"dataframe\">\n",
       "  <thead>\n",
       "    <tr style=\"text-align: right;\">\n",
       "      <th></th>\n",
       "      <th>Fare</th>\n",
       "      <th>Fare_predicted</th>\n",
       "      <th>Fare_predicted_2</th>\n",
       "    </tr>\n",
       "  </thead>\n",
       "  <tbody>\n",
       "    <tr>\n",
       "      <th>count</th>\n",
       "      <td>714.000000</td>\n",
       "      <td>714.000000</td>\n",
       "      <td>714.000000</td>\n",
       "    </tr>\n",
       "    <tr>\n",
       "      <th>mean</th>\n",
       "      <td>34.694514</td>\n",
       "      <td>34.694514</td>\n",
       "      <td>34.694514</td>\n",
       "    </tr>\n",
       "    <tr>\n",
       "      <th>std</th>\n",
       "      <td>52.918930</td>\n",
       "      <td>5.083746</td>\n",
       "      <td>11.494073</td>\n",
       "    </tr>\n",
       "    <tr>\n",
       "      <th>min</th>\n",
       "      <td>0.000000</td>\n",
       "      <td>24.447886</td>\n",
       "      <td>14.648225</td>\n",
       "    </tr>\n",
       "    <tr>\n",
       "      <th>25%</th>\n",
       "      <td>8.050000</td>\n",
       "      <td>31.343921</td>\n",
       "      <td>24.988194</td>\n",
       "    </tr>\n",
       "    <tr>\n",
       "      <th>50%</th>\n",
       "      <td>15.741700</td>\n",
       "      <td>34.099885</td>\n",
       "      <td>31.963405</td>\n",
       "    </tr>\n",
       "    <tr>\n",
       "      <th>75%</th>\n",
       "      <td>33.375000</td>\n",
       "      <td>37.599521</td>\n",
       "      <td>45.015170</td>\n",
       "    </tr>\n",
       "    <tr>\n",
       "      <th>max</th>\n",
       "      <td>512.329200</td>\n",
       "      <td>52.297996</td>\n",
       "      <td>62.192929</td>\n",
       "    </tr>\n",
       "  </tbody>\n",
       "</table>\n",
       "</div>"
      ],
      "text/plain": [
       "             Fare  Fare_predicted  Fare_predicted_2\n",
       "count  714.000000      714.000000        714.000000\n",
       "mean    34.694514       34.694514         34.694514\n",
       "std     52.918930        5.083746         11.494073\n",
       "min      0.000000       24.447886         14.648225\n",
       "25%      8.050000       31.343921         24.988194\n",
       "50%     15.741700       34.099885         31.963405\n",
       "75%     33.375000       37.599521         45.015170\n",
       "max    512.329200       52.297996         62.192929"
      ]
     },
     "execution_count": 61,
     "metadata": {},
     "output_type": "execute_result"
    }
   ],
   "source": [
    "df_nomissing['Fare_predicted_2'] = model.predict(X)\n",
    "\n",
    "df_nomissing[['Fare','Fare_predicted','Fare_predicted_2']].describe()"
   ]
  },
  {
   "cell_type": "code",
   "execution_count": 62,
   "metadata": {},
   "outputs": [
    {
     "data": {
      "text/html": [
       "<div>\n",
       "<style>\n",
       "    .dataframe thead tr:only-child th {\n",
       "        text-align: right;\n",
       "    }\n",
       "\n",
       "    .dataframe thead th {\n",
       "        text-align: left;\n",
       "    }\n",
       "\n",
       "    .dataframe tbody tr th {\n",
       "        vertical-align: top;\n",
       "    }\n",
       "</style>\n",
       "<table border=\"1\" class=\"dataframe\">\n",
       "  <thead>\n",
       "    <tr style=\"text-align: right;\">\n",
       "      <th></th>\n",
       "      <th>Fare</th>\n",
       "      <th>Fare_predicted</th>\n",
       "      <th>Fare_predicted_2</th>\n",
       "    </tr>\n",
       "  </thead>\n",
       "  <tbody>\n",
       "    <tr>\n",
       "      <th>Fare</th>\n",
       "      <td>1.000000</td>\n",
       "      <td>0.096067</td>\n",
       "      <td>0.217202</td>\n",
       "    </tr>\n",
       "    <tr>\n",
       "      <th>Fare_predicted</th>\n",
       "      <td>0.096067</td>\n",
       "      <td>1.000000</td>\n",
       "      <td>0.442293</td>\n",
       "    </tr>\n",
       "    <tr>\n",
       "      <th>Fare_predicted_2</th>\n",
       "      <td>0.217202</td>\n",
       "      <td>0.442293</td>\n",
       "      <td>1.000000</td>\n",
       "    </tr>\n",
       "  </tbody>\n",
       "</table>\n",
       "</div>"
      ],
      "text/plain": [
       "                      Fare  Fare_predicted  Fare_predicted_2\n",
       "Fare              1.000000        0.096067          0.217202\n",
       "Fare_predicted    0.096067        1.000000          0.442293\n",
       "Fare_predicted_2  0.217202        0.442293          1.000000"
      ]
     },
     "execution_count": 62,
     "metadata": {},
     "output_type": "execute_result"
    }
   ],
   "source": [
    "df_nomissing[['Fare','Fare_predicted','Fare_predicted_2']].corr()"
   ]
  },
  {
   "cell_type": "markdown",
   "metadata": {
    "slideshow": {
     "slide_type": "slide"
    }
   },
   "source": [
    "<div class=\"alert alert-info\">\n",
    "Add PassengerId to the model!\n",
    "\n",
    "Does it improve the correlation?\n",
    "</div>"
   ]
  },
  {
   "cell_type": "markdown",
   "metadata": {
    "slideshow": {
     "slide_type": "slide"
    }
   },
   "source": [
    "<div class=\"alert alert-info\">\n",
    "Load `seattle_bike.csv`. Can you estimate bike traffic on the Seattle's Freemont bridge?\n",
    "\n",
    "Variables:    \n",
    "`Mon`-`Sun`: Day's of the week    \n",
    "`holiday`: Federal holiday    \n",
    "`daylight_hrs`: Hours of daylight    \n",
    "`PRCP`: Amount of precipitation    \n",
    "`dry day`: No precipitation    \n",
    "`Temp (C)`: Temperature    \n",
    "`annual`: Fractional year since program started    \n",
    "</div>\n",
    "Data courtesy of Jake VanderPlas."
   ]
  },
  {
   "cell_type": "code",
   "execution_count": 6,
   "metadata": {
    "collapsed": true,
    "slideshow": {
     "slide_type": "slide"
    }
   },
   "outputs": [],
   "source": [
    "daily = pd.read_csv('files/seattle_bike.csv', index_col='Date')"
   ]
  },
  {
   "cell_type": "code",
   "execution_count": 7,
   "metadata": {
    "slideshow": {
     "slide_type": "fragment"
    }
   },
   "outputs": [
    {
     "data": {
      "text/plain": [
       "LogisticRegression(C=1.0, class_weight=None, dual=False, fit_intercept=True,\n",
       "          intercept_scaling=1, max_iter=100, multi_class='ovr', n_jobs=1,\n",
       "          penalty='l2', random_state=None, solver='liblinear', tol=0.0001,\n",
       "          verbose=0, warm_start=False)"
      ]
     },
     "execution_count": 7,
     "metadata": {},
     "output_type": "execute_result"
    }
   ],
   "source": [
    "from sklearn.linear_model import LogisticRegression\n",
    "\n",
    "lm = LogisticRegression()\n",
    "\n",
    "X = daily[['Mon', 'Tue', 'Wed', 'Thu', 'Fri', 'Sat', 'Sun']]\n",
    "y = daily['dry day']\n",
    "lm.fit(X, y)\n"
   ]
  },
  {
   "cell_type": "code",
   "execution_count": 8,
   "metadata": {},
   "outputs": [
    {
     "data": {
      "text/plain": [
       "array([[ 0.41477297,  0.58522703],\n",
       "       [ 0.43399355,  0.56600645],\n",
       "       [ 0.45962138,  0.54037862],\n",
       "       [ 0.38276405,  0.61723595],\n",
       "       [ 0.39556081,  0.60443919],\n",
       "       [ 0.39556081,  0.60443919],\n",
       "       [ 0.42758635,  0.57241365],\n",
       "       [ 0.41477297,  0.58522703],\n",
       "       [ 0.43399355,  0.56600645],\n",
       "       [ 0.45962138,  0.54037862]])"
      ]
     },
     "execution_count": 8,
     "metadata": {},
     "output_type": "execute_result"
    }
   ],
   "source": [
    "probabilities = lm.predict_proba(X)\n",
    "probabilities[:10]"
   ]
  },
  {
   "cell_type": "code",
   "execution_count": 10,
   "metadata": {},
   "outputs": [
    {
     "data": {
      "text/html": [
       "<div>\n",
       "<style>\n",
       "    .dataframe thead tr:only-child th {\n",
       "        text-align: right;\n",
       "    }\n",
       "\n",
       "    .dataframe thead th {\n",
       "        text-align: left;\n",
       "    }\n",
       "\n",
       "    .dataframe tbody tr th {\n",
       "        vertical-align: top;\n",
       "    }\n",
       "</style>\n",
       "<table border=\"1\" class=\"dataframe\">\n",
       "  <thead>\n",
       "    <tr style=\"text-align: right;\">\n",
       "      <th></th>\n",
       "      <th>dry day</th>\n",
       "      <th>dry probability</th>\n",
       "    </tr>\n",
       "  </thead>\n",
       "  <tbody>\n",
       "    <tr>\n",
       "      <th>count</th>\n",
       "      <td>1064.000000</td>\n",
       "      <td>1064.000000</td>\n",
       "    </tr>\n",
       "    <tr>\n",
       "      <th>mean</th>\n",
       "      <td>0.584586</td>\n",
       "      <td>0.584306</td>\n",
       "    </tr>\n",
       "    <tr>\n",
       "      <th>std</th>\n",
       "      <td>0.493025</td>\n",
       "      <td>0.024802</td>\n",
       "    </tr>\n",
       "    <tr>\n",
       "      <th>min</th>\n",
       "      <td>0.000000</td>\n",
       "      <td>0.540379</td>\n",
       "    </tr>\n",
       "    <tr>\n",
       "      <th>25%</th>\n",
       "      <td>0.000000</td>\n",
       "      <td>0.566006</td>\n",
       "    </tr>\n",
       "    <tr>\n",
       "      <th>50%</th>\n",
       "      <td>1.000000</td>\n",
       "      <td>0.585227</td>\n",
       "    </tr>\n",
       "    <tr>\n",
       "      <th>75%</th>\n",
       "      <td>1.000000</td>\n",
       "      <td>0.604439</td>\n",
       "    </tr>\n",
       "    <tr>\n",
       "      <th>max</th>\n",
       "      <td>1.000000</td>\n",
       "      <td>0.617236</td>\n",
       "    </tr>\n",
       "  </tbody>\n",
       "</table>\n",
       "</div>"
      ],
      "text/plain": [
       "           dry day  dry probability\n",
       "count  1064.000000      1064.000000\n",
       "mean      0.584586         0.584306\n",
       "std       0.493025         0.024802\n",
       "min       0.000000         0.540379\n",
       "25%       0.000000         0.566006\n",
       "50%       1.000000         0.585227\n",
       "75%       1.000000         0.604439\n",
       "max       1.000000         0.617236"
      ]
     },
     "execution_count": 10,
     "metadata": {},
     "output_type": "execute_result"
    }
   ],
   "source": [
    "daily['dry probability'] = [pr[1] for pr in probabilities]\n",
    "\n",
    "daily[['dry day','dry probability']].describe()"
   ]
  },
  {
   "cell_type": "code",
   "execution_count": 12,
   "metadata": {},
   "outputs": [
    {
     "data": {
      "text/plain": [
       "dry day\n",
       "0.0    0.582786\n",
       "1.0    0.585386\n",
       "Name: dry probability, dtype: float64"
      ]
     },
     "execution_count": 12,
     "metadata": {},
     "output_type": "execute_result"
    }
   ],
   "source": [
    "daily.groupby('dry day')['dry probability'].mean()"
   ]
  },
  {
   "cell_type": "markdown",
   "metadata": {},
   "source": [
    "### Supervised learning example: Iris classification\n",
    "\n",
    "Let's take a look at another example of this process, using the Iris dataset we discussed earlier.\n",
    "Our question will be this: given a model trained on a portion of the Iris data, how well can we predict the remaining labels?\n",
    "\n",
    "For this task, we will use an extremely simple generative model known as Gaussian naive Bayes, which proceeds by assuming each class is drawn from an axis-aligned Gaussian distribution (see [In Depth: Naive Bayes Classification](05.05-Naive-Bayes.ipynb) for more details).\n",
    "Because it is so fast and has no hyperparameters to choose, Gaussian naive Bayes is often a good model to use as a baseline classification, before exploring whether improvements can be found through more sophisticated models.\n",
    "\n",
    "We would like to evaluate the model on data it has not seen before, and so we will split the data into a *training set* and a *testing set*.\n",
    "This could be done by hand, but it is more convenient to use the ``train_test_split`` utility function:"
   ]
  },
  {
   "cell_type": "code",
   "execution_count": 15,
   "metadata": {
    "collapsed": true
   },
   "outputs": [],
   "source": [
    "from sklearn.cross_validation import train_test_split\n",
    "Xtrain, Xtest, ytrain, ytest = train_test_split(X_iris, y_iris,\n",
    "                                                random_state=1)"
   ]
  },
  {
   "cell_type": "markdown",
   "metadata": {},
   "source": [
    "With the data arranged, we can follow our recipe to predict the labels:"
   ]
  },
  {
   "cell_type": "code",
   "execution_count": 16,
   "metadata": {
    "collapsed": true
   },
   "outputs": [],
   "source": [
    "from sklearn.naive_bayes import GaussianNB # 1. choose model class\n",
    "model = GaussianNB()                       # 2. instantiate model\n",
    "model.fit(Xtrain, ytrain)                  # 3. fit model to data\n",
    "y_model = model.predict(Xtest)             # 4. predict on new data"
   ]
  },
  {
   "cell_type": "markdown",
   "metadata": {},
   "source": [
    "Finally, we can use the ``accuracy_score`` utility to see the fraction of predicted labels that match their true value:"
   ]
  },
  {
   "cell_type": "code",
   "execution_count": 17,
   "metadata": {},
   "outputs": [
    {
     "data": {
      "text/plain": [
       "0.97368421052631582"
      ]
     },
     "execution_count": 17,
     "metadata": {},
     "output_type": "execute_result"
    }
   ],
   "source": [
    "from sklearn.metrics import accuracy_score\n",
    "accuracy_score(ytest, y_model)"
   ]
  },
  {
   "cell_type": "markdown",
   "metadata": {},
   "source": [
    "With an accuracy topping 97%, we see that even this very naive classification algorithm is effective for this particular dataset!"
   ]
  },
  {
   "cell_type": "markdown",
   "metadata": {},
   "source": [
    "### Unsupervised learning example: Iris dimensionality\n",
    "\n",
    "As an example of an unsupervised learning problem, let's take a look at reducing the dimensionality of the Iris data so as to more easily visualize it.\n",
    "Recall that the Iris data is four dimensional: there are four features recorded for each sample.\n",
    "\n",
    "The task of dimensionality reduction is to ask whether there is a suitable lower-dimensional representation that retains the essential features of the data.\n",
    "Often dimensionality reduction is used as an aid to visualizing data: after all, it is much easier to plot data in two dimensions than in four dimensions or higher!\n",
    "\n",
    "Here we will use principal component analysis (PCA; see [In Depth: Principal Component Analysis](05.09-Principal-Component-Analysis.ipynb)), which is a fast linear dimensionality reduction technique.\n",
    "We will ask the model to return two components—that is, a two-dimensional representation of the data.\n",
    "\n",
    "Following the sequence of steps outlined earlier, we have:"
   ]
  },
  {
   "cell_type": "code",
   "execution_count": 18,
   "metadata": {
    "collapsed": true
   },
   "outputs": [],
   "source": [
    "from sklearn.decomposition import PCA  # 1. Choose the model class\n",
    "model = PCA(n_components=2)            # 2. Instantiate the model with hyperparameters\n",
    "model.fit(X_iris)                      # 3. Fit to data. Notice y is not specified!\n",
    "X_2D = model.transform(X_iris)         # 4. Transform the data to two dimensions"
   ]
  },
  {
   "cell_type": "markdown",
   "metadata": {},
   "source": [
    "Now let's plot the results. A quick way to do this is to insert the results into the original Iris ``DataFrame``, and use Seaborn's ``lmplot`` to show the results:"
   ]
  },
  {
   "cell_type": "code",
   "execution_count": 19,
   "metadata": {},
   "outputs": [
    {
     "data": {
      "image/png": "[encoded data removed]",
      "text/plain": [
       "<matplotlib.figure.Figure at 0x11c6676d8>"
      ]
     },
     "metadata": {},
     "output_type": "display_data"
    }
   ],
   "source": [
    "iris['PCA1'] = X_2D[:, 0]\n",
    "iris['PCA2'] = X_2D[:, 1]\n",
    "sns.lmplot(\"PCA1\", \"PCA2\", hue='species', data=iris, fit_reg=False);"
   ]
  },
  {
   "cell_type": "markdown",
   "metadata": {},
   "source": [
    "We see that in the two-dimensional representation, the species are fairly well separated, even though the PCA algorithm had no knowledge of the species labels!\n",
    "This indicates to us that a relatively straightforward classification will probably be effective on the dataset, as we saw before."
   ]
  },
  {
   "cell_type": "markdown",
   "metadata": {},
   "source": [
    "### Unsupervised learning: Iris clustering\n",
    "\n",
    "Let's next look at applying clustering to the Iris data.\n",
    "A clustering algorithm attempts to find distinct groups of data without reference to any labels.\n",
    "Here we will use a powerful clustering method called a Gaussian mixture model (GMM), discussed in more detail in [In Depth: Gaussian Mixture Models](05.12-Gaussian-Mixtures.ipynb).\n",
    "A GMM attempts to model the data as a collection of Gaussian blobs.\n",
    "\n",
    "We can fit the Gaussian mixture model as follows:"
   ]
  },
  {
   "cell_type": "code",
   "execution_count": 20,
   "metadata": {
    "collapsed": true
   },
   "outputs": [],
   "source": [
    "from sklearn.mixture import GMM      # 1. Choose the model class\n",
    "model = GMM(n_components=3,\n",
    "            covariance_type='full')  # 2. Instantiate the model with hyperparameters\n",
    "model.fit(X_iris)                    # 3. Fit to data. Notice y is not specified!\n",
    "y_gmm = model.predict(X_iris)        # 4. Determine cluster labels"
   ]
  },
  {
   "cell_type": "markdown",
   "metadata": {},
   "source": [
    "As before, we will add the cluster label to the Iris ``DataFrame`` and use Seaborn to plot the results:"
   ]
  },
  {
   "cell_type": "code",
   "execution_count": 21,
   "metadata": {},
   "outputs": [
    {
     "data": {
      "image/png": "[encoded data removed]",
      "text/plain": [
       "<matplotlib.figure.Figure at 0x11a932828>"
      ]
     },
     "metadata": {},
     "output_type": "display_data"
    }
   ],
   "source": [
    "iris['cluster'] = y_gmm\n",
    "sns.lmplot(\"PCA1\", \"PCA2\", data=iris, hue='species',\n",
    "           col='cluster', fit_reg=False);"
   ]
  },
  {
   "cell_type": "markdown",
   "metadata": {},
   "source": [
    "By splitting the data by cluster number, we see exactly how well the GMM algorithm has recovered the underlying label: the *setosa* species is separated perfectly within cluster 0, while there remains a small amount of mixing between *versicolor* and *virginica*.\n",
    "This means that even without an expert to tell us the species labels of the individual flowers, the measurements of these flowers are distinct enough that we could *automatically* identify the presence of these different groups of species with a simple clustering algorithm!\n",
    "This sort of algorithm might further give experts in the field clues as to the relationship between the samples they are observing."
   ]
  },
  {
   "cell_type": "markdown",
   "metadata": {},
   "source": [
    "## Application: Exploring Hand-written Digits"
   ]
  },
  {
   "cell_type": "markdown",
   "metadata": {},
   "source": [
    "To demonstrate these principles on a more interesting problem, let's consider one piece of the optical character recognition problem: the identification of hand-written digits.\n",
    "In the wild, this problem involves both locating and identifying characters in an image. Here we'll take a shortcut and use Scikit-Learn's set of pre-formatted digits, which is built into the library."
   ]
  },
  {
   "cell_type": "markdown",
   "metadata": {},
   "source": [
    "### Loading and visualizing the digits data\n",
    "\n",
    "We'll use Scikit-Learn's data access interface and take a look at this data:"
   ]
  },
  {
   "cell_type": "code",
   "execution_count": 22,
   "metadata": {},
   "outputs": [
    {
     "data": {
      "text/plain": [
       "(1797, 8, 8)"
      ]
     },
     "execution_count": 22,
     "metadata": {},
     "output_type": "execute_result"
    }
   ],
   "source": [
    "from sklearn.datasets import load_digits\n",
    "digits = load_digits()\n",
    "digits.images.shape"
   ]
  },
  {
   "cell_type": "markdown",
   "metadata": {},
   "source": [
    "The images data is a three-dimensional array: 1,797 samples each consisting of an 8 × 8 grid of pixels.\n",
    "Let's visualize the first hundred of these:"
   ]
  },
  {
   "cell_type": "code",
   "execution_count": 23,
   "metadata": {},
   "outputs": [
    {
     "data": {
      "image/png": "[encoded data removed]",
      "text/plain": [
       "<matplotlib.figure.Figure at 0x11acadd68>"
      ]
     },
     "metadata": {},
     "output_type": "display_data"
    }
   ],
   "source": [
    "import matplotlib.pyplot as plt\n",
    "\n",
    "fig, axes = plt.subplots(10, 10, figsize=(8, 8),\n",
    "                         subplot_kw={'xticks':[], 'yticks':[]},\n",
    "                         gridspec_kw=dict(hspace=0.1, wspace=0.1))\n",
    "\n",
    "for i, ax in enumerate(axes.flat):\n",
    "    ax.imshow(digits.images[i], cmap='binary', interpolation='nearest')\n",
    "    ax.text(0.05, 0.05, str(digits.target[i]),\n",
    "            transform=ax.transAxes, color='green')"
   ]
  },
  {
   "cell_type": "markdown",
   "metadata": {},
   "source": [
    "In order to work with this data within Scikit-Learn, we need a two-dimensional, ``[n_samples, n_features]`` representation.\n",
    "We can accomplish this by treating each pixel in the image as a feature: that is, by flattening out the pixel arrays so that we have a length-64 array of pixel values representing each digit.\n",
    "Additionally, we need the target array, which gives the previously determined label for each digit.\n",
    "These two quantities are built into the digits dataset under the ``data`` and ``target`` attributes, respectively:"
   ]
  },
  {
   "cell_type": "code",
   "execution_count": 24,
   "metadata": {},
   "outputs": [
    {
     "data": {
      "text/plain": [
       "(1797, 64)"
      ]
     },
     "execution_count": 24,
     "metadata": {},
     "output_type": "execute_result"
    }
   ],
   "source": [
    "X = digits.data\n",
    "X.shape"
   ]
  },
  {
   "cell_type": "code",
   "execution_count": 25,
   "metadata": {},
   "outputs": [
    {
     "data": {
      "text/plain": [
       "(1797,)"
      ]
     },
     "execution_count": 25,
     "metadata": {},
     "output_type": "execute_result"
    }
   ],
   "source": [
    "y = digits.target\n",
    "y.shape"
   ]
  },
  {
   "cell_type": "markdown",
   "metadata": {},
   "source": [
    "We see here that there are 1,797 samples and 64 features."
   ]
  },
  {
   "cell_type": "markdown",
   "metadata": {},
   "source": [
    "### Unsupervised learning: Dimensionality reduction\n",
    "\n",
    "We'd like to visualize our points within the 64-dimensional parameter space, but it's difficult to effectively visualize points in such a high-dimensional space.\n",
    "Instead we'll reduce the dimensions to 2, using an unsupervised method.\n",
    "Here, we'll make use of a manifold learning algorithm called *Isomap* (see [In-Depth: Manifold Learning](05.10-Manifold-Learning.ipynb)), and transform the data to two dimensions:"
   ]
  },
  {
   "cell_type": "code",
   "execution_count": 26,
   "metadata": {},
   "outputs": [
    {
     "data": {
      "text/plain": [
       "(1797, 2)"
      ]
     },
     "execution_count": 26,
     "metadata": {},
     "output_type": "execute_result"
    }
   ],
   "source": [
    "from sklearn.manifold import Isomap\n",
    "iso = Isomap(n_components=2)\n",
    "iso.fit(digits.data)\n",
    "data_projected = iso.transform(digits.data)\n",
    "data_projected.shape"
   ]
  },
  {
   "cell_type": "markdown",
   "metadata": {},
   "source": [
    "We see that the projected data is now two-dimensional.\n",
    "Let's plot this data to see if we can learn anything from its structure:"
   ]
  },
  {
   "cell_type": "code",
   "execution_count": 27,
   "metadata": {},
   "outputs": [
    {
     "data": {
      "image/png": "[encoded data removed]",
      "text/plain": [
       "<matplotlib.figure.Figure at 0x11acadb00>"
      ]
     },
     "metadata": {},
     "output_type": "display_data"
    }
   ],
   "source": [
    "plt.scatter(data_projected[:, 0], data_projected[:, 1], c=digits.target,\n",
    "            edgecolor='none', alpha=0.5,\n",
    "            cmap=plt.cm.get_cmap('spectral', 10))\n",
    "plt.colorbar(label='digit label', ticks=range(10))\n",
    "plt.clim(-0.5, 9.5);"
   ]
  },
  {
   "cell_type": "markdown",
   "metadata": {},
   "source": [
    "This plot gives us some good intuition into how well various numbers are separated in the larger 64-dimensional space. For example, zeros (in black) and ones (in purple) have very little overlap in parameter space.\n",
    "Intuitively, this makes sense: a zero is empty in the middle of the image, while a one will generally have ink in the middle.\n",
    "On the other hand, there seems to be a more or less continuous spectrum between ones and fours: we can understand this by realizing that some people draw ones with \"hats\" on them, which cause them to look similar to fours.\n",
    "\n",
    "Overall, however, the different groups appear to be fairly well separated in the parameter space: this tells us that even a very straightforward supervised classification algorithm should perform suitably on this data.\n",
    "Let's give it a try."
   ]
  },
  {
   "cell_type": "markdown",
   "metadata": {},
   "source": [
    "### Classification on digits\n",
    "\n",
    "Let's apply a classification algorithm to the digits.\n",
    "As with the Iris data previously, we will split the data into a training and testing set, and fit a Gaussian naive Bayes model:"
   ]
  },
  {
   "cell_type": "code",
   "execution_count": 28,
   "metadata": {
    "collapsed": true
   },
   "outputs": [],
   "source": [
    "Xtrain, Xtest, ytrain, ytest = train_test_split(X, y, random_state=0)"
   ]
  },
  {
   "cell_type": "code",
   "execution_count": 29,
   "metadata": {
    "collapsed": true
   },
   "outputs": [],
   "source": [
    "from sklearn.naive_bayes import GaussianNB\n",
    "model = GaussianNB()\n",
    "model.fit(Xtrain, ytrain)\n",
    "y_model = model.predict(Xtest)"
   ]
  },
  {
   "cell_type": "markdown",
   "metadata": {},
   "source": [
    "Now that we have predicted our model, we can gauge its accuracy by comparing the true values of the test set to the predictions:"
   ]
  },
  {
   "cell_type": "code",
   "execution_count": 30,
   "metadata": {},
   "outputs": [
    {
     "data": {
      "text/plain": [
       "0.83333333333333337"
      ]
     },
     "execution_count": 30,
     "metadata": {},
     "output_type": "execute_result"
    }
   ],
   "source": [
    "from sklearn.metrics import accuracy_score\n",
    "accuracy_score(ytest, y_model)"
   ]
  },
  {
   "cell_type": "markdown",
   "metadata": {},
   "source": [
    "With even this extremely simple model, we find about 80% accuracy for classification of the digits!\n",
    "However, this single number doesn't tell us *where* we've gone wrong—one nice way to do this is to use the *confusion matrix*, which we can compute with Scikit-Learn and plot with Seaborn:"
   ]
  },
  {
   "cell_type": "code",
   "execution_count": 31,
   "metadata": {},
   "outputs": [
    {
     "data": {
      "image/png": "[encoded data removed]",
      "text/plain": [
       "<matplotlib.figure.Figure at 0x11f230ef0>"
      ]
     },
     "metadata": {},
     "output_type": "display_data"
    }
   ],
   "source": [
    "from sklearn.metrics import confusion_matrix\n",
    "\n",
    "mat = confusion_matrix(ytest, y_model)\n",
    "\n",
    "sns.heatmap(mat, square=True, annot=True, cbar=False)\n",
    "plt.xlabel('predicted value')\n",
    "plt.ylabel('true value');"
   ]
  },
  {
   "cell_type": "markdown",
   "metadata": {},
   "source": [
    "This shows us where the mis-labeled points tend to be: for example, a large number of twos here are mis-classified as either ones or eights.\n",
    "Another way to gain intuition into the characteristics of the model is to plot the inputs again, with their predicted labels.\n",
    "We'll use green for correct labels, and red for incorrect labels:"
   ]
  },
  {
   "cell_type": "code",
   "execution_count": 32,
   "metadata": {},
   "outputs": [
    {
     "data": {
      "image/png": "[encoded data removed]",
      "text/plain": [
       "<matplotlib.figure.Figure at 0x121637240>"
      ]
     },
     "metadata": {},
     "output_type": "display_data"
    }
   ],
   "source": [
    "fig, axes = plt.subplots(10, 10, figsize=(8, 8),\n",
    "                         subplot_kw={'xticks':[], 'yticks':[]},\n",
    "                         gridspec_kw=dict(hspace=0.1, wspace=0.1))\n",
    "\n",
    "test_images = Xtest.reshape(-1, 8, 8)\n",
    "\n",
    "for i, ax in enumerate(axes.flat):\n",
    "    ax.imshow(test_images[i], cmap='binary', interpolation='nearest')\n",
    "    ax.text(0.05, 0.05, str(y_model[i]),\n",
    "            transform=ax.transAxes,\n",
    "            color='green' if (ytest[i] == y_model[i]) else 'red')"
   ]
  },
  {
   "cell_type": "markdown",
   "metadata": {},
   "source": [
    "Examining this subset of the data, we can gain insight regarding where the algorithm might be not performing optimally.\n",
    "To go beyond our 80% classification rate, we might move to a more sophisticated algorithm such as support vector machines (see [In-Depth: Support Vector Machines](05.07-Support-Vector-Machines.ipynb)), random forests (see [In-Depth: Decision Trees and Random Forests](05.08-Random-Forests.ipynb)) or another classification approach."
   ]
  },
  {
   "cell_type": "markdown",
   "metadata": {},
   "source": [
    "## Summary"
   ]
  },
  {
   "cell_type": "markdown",
   "metadata": {},
   "source": [
    "In this section we have covered the essential features of the Scikit-Learn data representation, and the estimator API.\n",
    "Regardless of the type of estimator, the same import/instantiate/fit/predict pattern holds.\n",
    "Armed with this information about the estimator API, you can explore the Scikit-Learn documentation and begin trying out various models on your data.\n",
    "\n",
    "In the next section, we will explore perhaps the most important topic in machine learning: how to select and validate your model."
   ]
  },
  {
   "cell_type": "markdown",
   "metadata": {},
   "source": [
    "<!--NAVIGATION-->\n",
    "< [What Is Machine Learning?](05.01-What-Is-Machine-Learning.ipynb) | [Contents](Index.ipynb) | [Hyperparameters and Model Validation](05.03-Hyperparameters-and-Model-Validation.ipynb) >"
   ]
  }
 ],
 "metadata": {
  "anaconda-cloud": {},
  "celltoolbar": "Slideshow",
  "kernelspec": {
   "display_name": "Python [default]",
   "language": "python",
   "name": "python2"
  },
  "language_info": {
   "codemirror_mode": {
    "name": "ipython",
    "version": 2
   },
   "file_extension": ".py",
   "mimetype": "text/x-python",
   "name": "python",
   "nbconvert_exporter": "python",
   "pygments_lexer": "ipython2",
   "version": "2.7.13"
  }
 },
 "nbformat": 4,
 "nbformat_minor": 1
}
