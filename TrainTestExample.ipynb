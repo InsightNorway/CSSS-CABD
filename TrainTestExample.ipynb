{
 "cells": [
  {
   "cell_type": "code",
   "execution_count": 45,
   "metadata": {
    "collapsed": true
   },
   "outputs": [],
   "source": [
    "import pandas as pd\n",
    "\n",
    "from sklearn.feature_extraction.text import CountVectorizer\n",
    "\n",
    "from sklearn.model_selection import train_test_split, GridSearchCV\n",
    "from sklearn.linear_model import LogisticRegression\n",
    "from sklearn.metrics import accuracy_score, confusion_matrix\n",
    "from sklearn.pipeline import make_pipeline\n",
    "from sklearn.neighbors import KNeighborsClassifier"
   ]
  },
  {
   "cell_type": "code",
   "execution_count": 10,
   "metadata": {
    "collapsed": true
   },
   "outputs": [],
   "source": [
    "amazon_df = pd.read_csv('https://raw.githubusercontent.com/nealcaren/CSSS-CABD/master/files/amazon_reviews.csv')"
   ]
  },
  {
   "cell_type": "code",
   "execution_count": 11,
   "metadata": {},
   "outputs": [],
   "source": [
    "X_train, X_test, y_train, y_test = train_test_split(amazon_df['Text'], \n",
    "                                                    amazon_df['Positive Review'], \n",
    "                                                    train_size = .8)\n"
   ]
  },
  {
   "cell_type": "code",
   "execution_count": 12,
   "metadata": {},
   "outputs": [],
   "source": [
    "# Big Vocab\n",
    "big_vector = CountVectorizer(max_features  = 5000)\n",
    "\n",
    "big_vector.fit(X_train) # train model\n",
    "tf_train = big_vector.transform(X_train) # build TF matrix\n"
   ]
  },
  {
   "cell_type": "code",
   "execution_count": 18,
   "metadata": {},
   "outputs": [
    {
     "data": {
      "text/plain": [
       "LogisticRegression(C=1.0, class_weight=None, dual=False, fit_intercept=True,\n",
       "          intercept_scaling=1, max_iter=100, multi_class='ovr', n_jobs=1,\n",
       "          penalty='l2', random_state=None, solver='liblinear', tol=0.0001,\n",
       "          verbose=0, warm_start=False)"
      ]
     },
     "execution_count": 18,
     "metadata": {},
     "output_type": "execute_result"
    }
   ],
   "source": [
    "lr = LogisticRegression()\n",
    "\n",
    "\n",
    "lr.fit(tf_train, y_train) #fit logistic regression model to training data\n",
    "\n"
   ]
  },
  {
   "cell_type": "code",
   "execution_count": 19,
   "metadata": {},
   "outputs": [
    {
     "name": "stdout",
     "output_type": "stream",
     "text": [
      "0.864425\n"
     ]
    },
    {
     "data": {
      "text/plain": [
       "array([[10910,  3529],\n",
       "       [ 1894, 23667]])"
      ]
     },
     "execution_count": 19,
     "metadata": {},
     "output_type": "execute_result"
    }
   ],
   "source": [
    "# test accuracy of model on training data\n",
    "\n",
    "print accuracy_score(y_train, lr.predict(tf_train))\n",
    "confusion_matrix(y_train, lr.predict(tf_train))"
   ]
  },
  {
   "cell_type": "code",
   "execution_count": 21,
   "metadata": {},
   "outputs": [
    {
     "name": "stdout",
     "output_type": "stream",
     "text": [
      "0.7934\n"
     ]
    },
    {
     "data": {
      "text/plain": [
       "array([[2405, 1223],\n",
       "       [ 843, 5529]])"
      ]
     },
     "execution_count": 21,
     "metadata": {},
     "output_type": "execute_result"
    }
   ],
   "source": [
    "# test accuracy of model on test data\n",
    "\n",
    "\n",
    "tf_test = big_vector.transform(X_test) #build TF matrix for test data, based on train model\n",
    "\n",
    "print accuracy_score(y_test, lr.predict(tf_test)) #predicted values based on train lr model\n",
    "\n",
    "confusion_matrix(y_test, lr.predict(tf_test))"
   ]
  },
  {
   "cell_type": "code",
   "execution_count": 22,
   "metadata": {
    "collapsed": true
   },
   "outputs": [],
   "source": [
    "# Small Vocab\n",
    "small_vector = CountVectorizer(min_df=.01,\n",
    "                             stop_words = 'english')\n",
    "\n",
    "small_vector.fit(X_train) # train model\n",
    "tf_train = small_vector.transform(X_train) # build TF matrix\n"
   ]
  },
  {
   "cell_type": "code",
   "execution_count": 23,
   "metadata": {},
   "outputs": [
    {
     "data": {
      "text/plain": [
       "LogisticRegression(C=1.0, class_weight=None, dual=False, fit_intercept=True,\n",
       "          intercept_scaling=1, max_iter=100, multi_class='ovr', n_jobs=1,\n",
       "          penalty='l2', random_state=None, solver='liblinear', tol=0.0001,\n",
       "          verbose=0, warm_start=False)"
      ]
     },
     "execution_count": 23,
     "metadata": {},
     "output_type": "execute_result"
    }
   ],
   "source": [
    "lr = LogisticRegression()\n",
    "\n",
    "\n",
    "lr.fit(tf_train, y_train) #fit logistic regression model to training data"
   ]
  },
  {
   "cell_type": "code",
   "execution_count": 25,
   "metadata": {},
   "outputs": [
    {
     "name": "stdout",
     "output_type": "stream",
     "text": [
      "0.783175\n"
     ]
    },
    {
     "data": {
      "text/plain": [
       "array([[ 8490,  5949],\n",
       "       [ 2724, 22837]])"
      ]
     },
     "execution_count": 25,
     "metadata": {},
     "output_type": "execute_result"
    }
   ],
   "source": [
    "# test accuracy of model on training data\n",
    "\n",
    "print accuracy_score(y_train, lr.predict(tf_train))\n",
    "confusion_matrix(y_train, lr.predict(tf_train))"
   ]
  },
  {
   "cell_type": "code",
   "execution_count": 26,
   "metadata": {},
   "outputs": [
    {
     "name": "stdout",
     "output_type": "stream",
     "text": [
      "0.762\n"
     ]
    },
    {
     "data": {
      "text/plain": [
       "array([[2018, 1610],\n",
       "       [ 770, 5602]])"
      ]
     },
     "execution_count": 26,
     "metadata": {},
     "output_type": "execute_result"
    }
   ],
   "source": [
    "# test accuracy of model on test data\n",
    "\n",
    "\n",
    "tf_test = small_vector.transform(X_test) #build TF matrix for test data, based on train model\n",
    "\n",
    "print accuracy_score(y_test, lr.predict(tf_test)) #predicted values based on train lr model\n",
    "\n",
    "confusion_matrix(y_test, lr.predict(tf_test))"
   ]
  },
  {
   "cell_type": "code",
   "execution_count": 36,
   "metadata": {},
   "outputs": [
    {
     "data": {
      "text/plain": [
       "GridSearchCV(cv=3, error_score='raise',\n",
       "       estimator=Pipeline(steps=[('countvectorizer', CountVectorizer(analyzer=u'word', binary=False, decode_error=u'strict',\n",
       "        dtype=<type 'numpy.int64'>, encoding=u'utf-8', input=u'content',\n",
       "        lowercase=True, max_df=1.0, max_features=None, min_df=1,\n",
       "        ngram_range=(1, 1), preprocessor=None, stop_words=None,...ty='l2', random_state=None, solver='liblinear', tol=0.0001,\n",
       "          verbose=0, warm_start=False))]),\n",
       "       fit_params={}, iid=True, n_jobs=1,\n",
       "       param_grid={'countvectorizer__stop_words': ['english', []], 'countvectorizer__min_df': [0.005, 0.01, 0.02, 0.05]},\n",
       "       pre_dispatch='2*n_jobs', refit=True, return_train_score=True,\n",
       "       scoring=None, verbose=0)"
      ]
     },
     "execution_count": 36,
     "metadata": {},
     "output_type": "execute_result"
    }
   ],
   "source": [
    "pipe = make_pipeline(CountVectorizer(), \n",
    "                     LogisticRegression())\n",
    "#\n",
    "param_grid = {\"countvectorizer__min_df\": [.005, .01, .02, .05],\n",
    "             \"countvectorizer__stop_words\": ['english', []]}\n",
    "\n",
    "grid = GridSearchCV(pipe, param_grid, cv=3)\n",
    "\n",
    "grid.fit(X_train, y_train)"
   ]
  },
  {
   "cell_type": "code",
   "execution_count": 42,
   "metadata": {
    "scrolled": true
   },
   "outputs": [
    {
     "data": {
      "text/html": [
       "<div>\n",
       "<style>\n",
       "    .dataframe thead tr:only-child th {\n",
       "        text-align: right;\n",
       "    }\n",
       "\n",
       "    .dataframe thead th {\n",
       "        text-align: left;\n",
       "    }\n",
       "\n",
       "    .dataframe tbody tr th {\n",
       "        vertical-align: top;\n",
       "    }\n",
       "</style>\n",
       "<table border=\"1\" class=\"dataframe\">\n",
       "  <thead>\n",
       "    <tr style=\"text-align: right;\">\n",
       "      <th></th>\n",
       "      <th>mean_test_score</th>\n",
       "      <th>param_countvectorizer__min_df</th>\n",
       "      <th>param_countvectorizer__stop_words</th>\n",
       "    </tr>\n",
       "  </thead>\n",
       "  <tbody>\n",
       "    <tr>\n",
       "      <th>6</th>\n",
       "      <td>0.706400</td>\n",
       "      <td>0.05</td>\n",
       "      <td>english</td>\n",
       "    </tr>\n",
       "    <tr>\n",
       "      <th>4</th>\n",
       "      <td>0.752650</td>\n",
       "      <td>0.02</td>\n",
       "      <td>english</td>\n",
       "    </tr>\n",
       "    <tr>\n",
       "      <th>7</th>\n",
       "      <td>0.753750</td>\n",
       "      <td>0.05</td>\n",
       "      <td>[]</td>\n",
       "    </tr>\n",
       "    <tr>\n",
       "      <th>2</th>\n",
       "      <td>0.770775</td>\n",
       "      <td>0.01</td>\n",
       "      <td>english</td>\n",
       "    </tr>\n",
       "    <tr>\n",
       "      <th>5</th>\n",
       "      <td>0.779125</td>\n",
       "      <td>0.02</td>\n",
       "      <td>[]</td>\n",
       "    </tr>\n",
       "    <tr>\n",
       "      <th>0</th>\n",
       "      <td>0.783325</td>\n",
       "      <td>0.005</td>\n",
       "      <td>english</td>\n",
       "    </tr>\n",
       "    <tr>\n",
       "      <th>3</th>\n",
       "      <td>0.790375</td>\n",
       "      <td>0.01</td>\n",
       "      <td>[]</td>\n",
       "    </tr>\n",
       "    <tr>\n",
       "      <th>1</th>\n",
       "      <td>0.796950</td>\n",
       "      <td>0.005</td>\n",
       "      <td>[]</td>\n",
       "    </tr>\n",
       "  </tbody>\n",
       "</table>\n",
       "</div>"
      ],
      "text/plain": [
       "   mean_test_score param_countvectorizer__min_df  \\\n",
       "6         0.706400                          0.05   \n",
       "4         0.752650                          0.02   \n",
       "7         0.753750                          0.05   \n",
       "2         0.770775                          0.01   \n",
       "5         0.779125                          0.02   \n",
       "0         0.783325                         0.005   \n",
       "3         0.790375                          0.01   \n",
       "1         0.796950                         0.005   \n",
       "\n",
       "  param_countvectorizer__stop_words  \n",
       "6                           english  \n",
       "4                           english  \n",
       "7                                []  \n",
       "2                           english  \n",
       "5                                []  \n",
       "0                           english  \n",
       "3                                []  \n",
       "1                                []  "
      ]
     },
     "execution_count": 42,
     "metadata": {},
     "output_type": "execute_result"
    }
   ],
   "source": [
    "results = pd.DataFrame(grid.cv_results_)\n",
    "results[['mean_test_score', 'param_countvectorizer__min_df', 'param_countvectorizer__stop_words']].sort_values('mean_test_score')"
   ]
  },
  {
   "cell_type": "code",
   "execution_count": null,
   "metadata": {},
   "outputs": [],
   "source": [
    "pipe = make_pipeline(CountVectorizer(), \n",
    "                     KNeighborsClassifier())\n",
    "#\n",
    "param_grid = {\"countvectorizer__min_df\": [.005, .01, .02, .05],\n",
    "             \"kneighborsclassifier__n_neighbors\": [1, 2, 3, 5, 10]}\n",
    "\n",
    "grid = GridSearchCV(pipe, param_grid, cv=3)\n",
    "\n",
    "grid.fit(X_train, y_train)"
   ]
  },
  {
   "cell_type": "code",
   "execution_count": null,
   "metadata": {
    "collapsed": true
   },
   "outputs": [],
   "source": [
    "results = pd.DataFrame(grid.cv_results_)\n",
    "vs_of_interest = ['mean_test_score'] + param_grid.keys()\n",
    "results[vs_of_interest].sort_values('mean_test_score')"
   ]
  },
  {
   "cell_type": "code",
   "execution_count": null,
   "metadata": {
    "collapsed": true
   },
   "outputs": [],
   "source": []
  }
 ],
 "metadata": {
  "kernelspec": {
   "display_name": "Python [default]",
   "language": "python",
   "name": "python2"
  },
  "language_info": {
   "codemirror_mode": {
    "name": "ipython",
    "version": 2
   },
   "file_extension": ".py",
   "mimetype": "text/x-python",
   "name": "python",
   "nbconvert_exporter": "python",
   "pygments_lexer": "ipython2",
   "version": "2.7.13"
  }
 },
 "nbformat": 4,
 "nbformat_minor": 2
}
