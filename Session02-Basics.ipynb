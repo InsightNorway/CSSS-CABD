{
 "cells": [
  {
   "cell_type": "markdown",
   "metadata": {
    "slideshow": {
     "slide_type": "slide"
    }
   },
   "source": [
    "We aren't all happy at the same time  \n",
    "\n",
    "![](https://raw.github.com/nealcaren/workshop_2014/master/notebooks/images/twitter_day.png)  \n",
    "\n",
    "A list based sentiment analysis by Scott Golder and Michael Macy\n"
   ]
  },
  {
   "cell_type": "markdown",
   "metadata": {
    "slideshow": {
     "slide_type": "slide"
    }
   },
   "source": [
    "Winning makes us happy.  \n",
    "![](https://raw.github.com/nealcaren/workshop_2014/master/notebooks/images/fb.png)  \n",
    "by Sean J. Taylor (@seanjtaylor)"
   ]
  },
  {
   "cell_type": "markdown",
   "metadata": {
    "slideshow": {
     "slide_type": "slide"
    }
   },
   "source": [
    "#### Start up a blank notebook\n",
    "\n",
    "You can copy and paste from this one, but typing yourself is learning.\n"
   ]
  },
  {
   "cell_type": "markdown",
   "metadata": {
    "slideshow": {
     "slide_type": "-"
    }
   },
   "source": [
    "![](https://raw.github.com/nealcaren/workshop_2014/master/notebooks/images/blank.png)"
   ]
  },
  {
   "cell_type": "markdown",
   "metadata": {
    "slideshow": {
     "slide_type": "slide"
    }
   },
   "source": [
    "#### Data types\n",
    "\n",
    "Strings\n"
   ]
  },
  {
   "cell_type": "code",
   "execution_count": 1,
   "metadata": {
    "collapsed": true,
    "slideshow": {
     "slide_type": "-"
    }
   },
   "outputs": [],
   "source": [
    "tweet = 'We have some delightful new food in the cafeteria. Awesome!!!'"
   ]
  },
  {
   "cell_type": "markdown",
   "metadata": {
    "slideshow": {
     "slide_type": "fragment"
    }
   },
   "source": [
    "Open a note book and copy this text over.\n",
    "\n",
    "Then press `shift-enter` or select  `Cell-Run` from the pull down menu to `run` it."
   ]
  },
  {
   "cell_type": "markdown",
   "metadata": {
    "slideshow": {
     "slide_type": "slide"
    }
   },
   "source": [
    "What's in there?\n",
    "\n",
    "In a new cell, type `tweet` and then run the cell"
   ]
  },
  {
   "cell_type": "code",
   "execution_count": 2,
   "metadata": {
    "slideshow": {
     "slide_type": "fragment"
    }
   },
   "outputs": [
    {
     "data": {
      "text/plain": [
       "'We have some delightful new food in the cafeteria. Awesome!!!'"
      ]
     },
     "execution_count": 2,
     "metadata": {},
     "output_type": "execute_result"
    }
   ],
   "source": [
    "tweet"
   ]
  },
  {
   "cell_type": "markdown",
   "metadata": {
    "slideshow": {
     "slide_type": "fragment"
    }
   },
   "source": [
    "We can also `print` out the contents."
   ]
  },
  {
   "cell_type": "code",
   "execution_count": 3,
   "metadata": {
    "slideshow": {
     "slide_type": "fragment"
    }
   },
   "outputs": [
    {
     "name": "stdout",
     "output_type": "stream",
     "text": [
      "We have some delightful new food in the cafeteria. Awesome!!!\n"
     ]
    }
   ],
   "source": [
    "print(tweet)"
   ]
  },
  {
   "cell_type": "markdown",
   "metadata": {
    "slideshow": {
     "slide_type": "slide"
    }
   },
   "source": [
    "Python 2.7    \n",
    "`print tweet`\n",
    "\n",
    "Python 3.x    \n",
    "`print(tweet)`"
   ]
  },
  {
   "cell_type": "markdown",
   "metadata": {
    "slideshow": {
     "slide_type": "fragment"
    }
   },
   "source": [
    "Python doesn't care if you use `'`, `\"`, or even `'''` for your strings."
   ]
  },
  {
   "cell_type": "code",
   "execution_count": 4,
   "metadata": {
    "slideshow": {
     "slide_type": "slide"
    }
   },
   "outputs": [
    {
     "name": "stdout",
     "output_type": "stream",
     "text": [
      "We have some delightful new food in the cafeteria. Awesome!!!\n"
     ]
    }
   ],
   "source": [
    "tweet = \"We have some delightful new food in the cafeteria. Awesome!!!\"\n",
    "print(tweet)"
   ]
  },
  {
   "cell_type": "markdown",
   "metadata": {
    "slideshow": {
     "slide_type": "slide"
    }
   },
   "source": [
    "<div class=\"alert alert-info\">\n",
    "Will this work?\n",
    "\n",
    "<p>\n",
    "`tweet = \"Does anyone call Oslo \"O-Town\"?\"`\n",
    "<p>\n",
    "Guess? Try it! Fix it!\n",
    "</div>"
   ]
  },
  {
   "cell_type": "code",
   "execution_count": 5,
   "metadata": {
    "slideshow": {
     "slide_type": "fragment"
    }
   },
   "outputs": [
    {
     "ename": "SyntaxError",
     "evalue": "invalid syntax (<ipython-input-5-e87405e6d3c7>, line 1)",
     "output_type": "error",
     "traceback": [
      "\u001b[0;36m  File \u001b[0;32m\"<ipython-input-5-e87405e6d3c7>\"\u001b[0;36m, line \u001b[0;32m1\u001b[0m\n\u001b[0;31m    tweet = \"Does anyone call Oslo \"O-Town\"?\"\u001b[0m\n\u001b[0m                                    ^\u001b[0m\n\u001b[0;31mSyntaxError\u001b[0m\u001b[0;31m:\u001b[0m invalid syntax\n"
     ]
    }
   ],
   "source": [
    "tweet = \"Does anyone call Oslo \"O-Town\"?\""
   ]
  },
  {
   "cell_type": "code",
   "execution_count": 6,
   "metadata": {
    "slideshow": {
     "slide_type": "fragment"
    }
   },
   "outputs": [
    {
     "name": "stdout",
     "output_type": "stream",
     "text": [
      "tweet = Does anyone call Oslo \"O-Town\"?\n"
     ]
    }
   ],
   "source": [
    "tweet = '''tweet = Does anyone call Oslo \"O-Town\"?'''\n",
    "\n",
    "print(tweet)"
   ]
  },
  {
   "cell_type": "code",
   "execution_count": 7,
   "metadata": {
    "slideshow": {
     "slide_type": "fragment"
    }
   },
   "outputs": [
    {
     "name": "stdout",
     "output_type": "stream",
     "text": [
      "tweet = Does anyone call Oslo \"O-Town\"?\n"
     ]
    }
   ],
   "source": [
    "tweet = 'tweet = Does anyone call Oslo \"O-Town\"?'\n",
    "\n",
    "print(tweet)"
   ]
  },
  {
   "cell_type": "markdown",
   "metadata": {
    "slideshow": {
     "slide_type": "slide"
    }
   },
   "source": [
    "### Lists - another way to store data\n"
   ]
  },
  {
   "cell_type": "code",
   "execution_count": 8,
   "metadata": {
    "slideshow": {
     "slide_type": "fragment"
    }
   },
   "outputs": [
    {
     "data": {
      "text/plain": [
       "['everything', 'in', 'brackets', 'separated', 'by', 'commas.']"
      ]
     },
     "execution_count": 8,
     "metadata": {},
     "output_type": "execute_result"
    }
   ],
   "source": [
    "['everything','in','brackets','separated','by','commas.']"
   ]
  },
  {
   "cell_type": "markdown",
   "metadata": {
    "slideshow": {
     "slide_type": "fragment"
    }
   },
   "source": [
    "One way to think about a list is as a traditional social science variable. "
   ]
  },
  {
   "cell_type": "code",
   "execution_count": 9,
   "metadata": {
    "collapsed": true,
    "slideshow": {
     "slide_type": "fragment"
    }
   },
   "outputs": [],
   "source": [
    "positive_words = ['awesome', 'good', 'nice', 'super', 'fun']"
   ]
  },
  {
   "cell_type": "code",
   "execution_count": 10,
   "metadata": {
    "slideshow": {
     "slide_type": "fragment"
    }
   },
   "outputs": [
    {
     "name": "stdout",
     "output_type": "stream",
     "text": [
      "['awesome', 'good', 'nice', 'super', 'fun']\n"
     ]
    }
   ],
   "source": [
    "print(positive_words)"
   ]
  },
  {
   "cell_type": "markdown",
   "metadata": {
    "slideshow": {
     "slide_type": "slide"
    }
   },
   "source": [
    "<div class=\"alert alert-info\">\n",
    "Your turn.\n",
    "</div>\n",
    "\n",
    "Make a list callled `negative_words` that includes `awful, lame, horrible` and `bad.` `print` out the contents."
   ]
  },
  {
   "cell_type": "code",
   "execution_count": 11,
   "metadata": {
    "slideshow": {
     "slide_type": "fragment"
    }
   },
   "outputs": [
    {
     "name": "stdout",
     "output_type": "stream",
     "text": [
      "['awful', 'lame', 'horrible', 'bad']\n"
     ]
    }
   ],
   "source": [
    "negative_words = ['awful','lame','horrible','bad']\n",
    "print(negative_words)"
   ]
  },
  {
   "cell_type": "markdown",
   "metadata": {
    "slideshow": {
     "slide_type": "slide"
    }
   },
   "source": [
    "We can add things to the list with `append`. "
   ]
  },
  {
   "cell_type": "code",
   "execution_count": 12,
   "metadata": {
    "collapsed": true,
    "slideshow": {
     "slide_type": "-"
    }
   },
   "outputs": [],
   "source": [
    "positive_words.append('delightful')"
   ]
  },
  {
   "cell_type": "code",
   "execution_count": 13,
   "metadata": {
    "slideshow": {
     "slide_type": "fragment"
    }
   },
   "outputs": [
    {
     "name": "stdout",
     "output_type": "stream",
     "text": [
      "['awesome', 'good', 'nice', 'super', 'fun', 'delightful']\n"
     ]
    }
   ],
   "source": [
    "print(positive_words)"
   ]
  },
  {
   "cell_type": "markdown",
   "metadata": {
    "slideshow": {
     "slide_type": "fragment"
    }
   },
   "source": [
    "Note that we didn't write `postive_words = positive_words.append('delightful')`. \n",
    "\n",
    "`.append()` modifies the content of the list."
   ]
  },
  {
   "cell_type": "code",
   "execution_count": 14,
   "metadata": {
    "slideshow": {
     "slide_type": "slide"
    }
   },
   "outputs": [
    {
     "ename": "NameError",
     "evalue": "name 'like' is not defined",
     "output_type": "error",
     "traceback": [
      "\u001b[0;31m---------------------------------------------------------------------------\u001b[0m",
      "\u001b[0;31mNameError\u001b[0m                                 Traceback (most recent call last)",
      "\u001b[0;32m<ipython-input-14-d07de71c07d9>\u001b[0m in \u001b[0;36m<module>\u001b[0;34m()\u001b[0m\n\u001b[0;32m----> 1\u001b[0;31m \u001b[0mpositive_words\u001b[0m\u001b[0;34m.\u001b[0m\u001b[0mappend\u001b[0m\u001b[0;34m(\u001b[0m\u001b[0mlike\u001b[0m\u001b[0;34m)\u001b[0m\u001b[0;34m\u001b[0m\u001b[0m\n\u001b[0m",
      "\u001b[0;31mNameError\u001b[0m: name 'like' is not defined"
     ]
    }
   ],
   "source": [
    "positive_words.append(like)"
   ]
  },
  {
   "cell_type": "code",
   "execution_count": 15,
   "metadata": {
    "collapsed": true,
    "slideshow": {
     "slide_type": "fragment"
    }
   },
   "outputs": [],
   "source": [
    "new_word_to_add = 'like'\n",
    "positive_words.append(new_word_to_add)"
   ]
  },
  {
   "cell_type": "code",
   "execution_count": 16,
   "metadata": {
    "slideshow": {
     "slide_type": "fragment"
    }
   },
   "outputs": [
    {
     "name": "stdout",
     "output_type": "stream",
     "text": [
      "['awesome', 'good', 'nice', 'super', 'fun', 'delightful', 'like']\n"
     ]
    }
   ],
   "source": [
    "print(positive_words)"
   ]
  },
  {
   "cell_type": "markdown",
   "metadata": {
    "slideshow": {
     "slide_type": "slide"
    }
   },
   "source": [
    "Add a bad word to your negative list and print it out."
   ]
  },
  {
   "cell_type": "markdown",
   "metadata": {
    "slideshow": {
     "slide_type": "slide"
    }
   },
   "source": [
    "Combining lists"
   ]
  },
  {
   "cell_type": "code",
   "execution_count": 17,
   "metadata": {
    "slideshow": {
     "slide_type": "fragment"
    }
   },
   "outputs": [
    {
     "name": "stdout",
     "output_type": "stream",
     "text": [
      "['awful', 'lame', 'horrible', 'bad', 'awesome', 'good', 'nice', 'super', 'fun', 'delightful', 'like']\n"
     ]
    }
   ],
   "source": [
    "emotional_words = negative_words + positive_words\n",
    "print(emotional_words)"
   ]
  },
  {
   "cell_type": "markdown",
   "metadata": {
    "slideshow": {
     "slide_type": "slide"
    }
   },
   "source": [
    "Strings can be split to create lists. I do this a lot."
   ]
  },
  {
   "cell_type": "code",
   "execution_count": 18,
   "metadata": {
    "slideshow": {
     "slide_type": "-"
    }
   },
   "outputs": [
    {
     "name": "stdout",
     "output_type": "stream",
     "text": [
      "['We', 'have', 'some', 'delightful', 'new', 'food', 'in', 'the', 'cafeteria.', 'Awesome!!!']\n"
     ]
    }
   ],
   "source": [
    "tweet = 'We have some delightful new food in the cafeteria. Awesome!!!'\n",
    "\n",
    "words = tweet.split()\n",
    "print(words)"
   ]
  },
  {
   "cell_type": "code",
   "execution_count": 19,
   "metadata": {},
   "outputs": [
    {
     "name": "stdout",
     "output_type": "stream",
     "text": [
      "['We have some delightful new food in the cafeteria', ' Awesome!!!']\n"
     ]
    }
   ],
   "source": [
    "tweet = 'We have some delightful new food in the cafeteria. Awesome!!!'\n",
    "print(tweet.split('.'))"
   ]
  },
  {
   "cell_type": "markdown",
   "metadata": {
    "slideshow": {
     "slide_type": "slide"
    }
   },
   "source": [
    "Unlike `.append()`, `.split()` doesn't alter the string strings. Strings are immutable."
   ]
  },
  {
   "cell_type": "code",
   "execution_count": 20,
   "metadata": {},
   "outputs": [
    {
     "name": "stdout",
     "output_type": "stream",
     "text": [
      "['We', 'have', 'some', 'delightful', 'new', 'food', 'in', 'the', 'cafeteria.', 'Awesome!!!']\n",
      "We have some delightful new food in the cafeteria. Awesome!!!\n"
     ]
    }
   ],
   "source": [
    "tweet = 'We have some delightful new food in the cafeteria. Awesome!!!'\n",
    "print(tweet.split())\n",
    "print(tweet)"
   ]
  },
  {
   "cell_type": "markdown",
   "metadata": {
    "slideshow": {
     "slide_type": "fragment"
    }
   },
   "source": [
    "So when you modify a string, make sure you store the results somewhere."
   ]
  },
  {
   "cell_type": "code",
   "execution_count": 21,
   "metadata": {
    "slideshow": {
     "slide_type": "fragment"
    }
   },
   "outputs": [
    {
     "name": "stdout",
     "output_type": "stream",
     "text": [
      "['We', 'have', 'some', 'delightful', 'new', 'food', 'in', 'the', 'cafeteria.', 'Awesome!!!']\n"
     ]
    }
   ],
   "source": [
    "tweet = 'We have some delightful new food in the cafeteria. Awesome!!!'\n",
    "words = tweet.split()\n",
    "print(words)"
   ]
  },
  {
   "cell_type": "markdown",
   "metadata": {
    "slideshow": {
     "slide_type": "slide"
    }
   },
   "source": [
    "#### Most of the fun math is in `numpy` but we can count the length of objects."
   ]
  },
  {
   "cell_type": "code",
   "execution_count": 22,
   "metadata": {
    "slideshow": {
     "slide_type": "fragment"
    }
   },
   "outputs": [
    {
     "data": {
      "text/plain": [
       "10"
      ]
     },
     "execution_count": 22,
     "metadata": {},
     "output_type": "execute_result"
    }
   ],
   "source": [
    "length = len(words)\n",
    "\n",
    "length"
   ]
  },
  {
   "cell_type": "markdown",
   "metadata": {
    "slideshow": {
     "slide_type": "fragment"
    }
   },
   "source": [
    "<div class=\"alert alert-info\">\n",
    "How long is tweet? </div>"
   ]
  },
  {
   "cell_type": "code",
   "execution_count": 23,
   "metadata": {
    "slideshow": {
     "slide_type": "fragment"
    }
   },
   "outputs": [
    {
     "name": "stdout",
     "output_type": "stream",
     "text": [
      "We have some delightful new food in the cafeteria. Awesome!!!\n"
     ]
    },
    {
     "data": {
      "text/plain": [
       "61"
      ]
     },
     "execution_count": 23,
     "metadata": {},
     "output_type": "execute_result"
    }
   ],
   "source": [
    "print(tweet)\n",
    "len(tweet)"
   ]
  },
  {
   "cell_type": "markdown",
   "metadata": {
    "slideshow": {
     "slide_type": "fragment"
    }
   },
   "source": [
    "With functions like `len()`, Python counts the number of items in list and the number of characters in a string."
   ]
  },
  {
   "cell_type": "markdown",
   "metadata": {
    "slideshow": {
     "slide_type": "slide"
    }
   },
   "source": [
    "There's a couple of more data types that you might need:"
   ]
  },
  {
   "cell_type": "code",
   "execution_count": 24,
   "metadata": {
    "slideshow": {
     "slide_type": "fragment"
    }
   },
   "outputs": [
    {
     "name": "stdout",
     "output_type": "stream",
     "text": [
      "(1, 3, 'fish')\n"
     ]
    }
   ],
   "source": [
    "#tuple\n",
    "row = (1,3,'fish')\n",
    "\n",
    "print(row)"
   ]
  },
  {
   "cell_type": "code",
   "execution_count": 25,
   "metadata": {
    "slideshow": {
     "slide_type": "fragment"
    }
   },
   "outputs": [
    {
     "data": {
      "text/plain": [
       "{3, 4, 5}"
      ]
     },
     "execution_count": 25,
     "metadata": {},
     "output_type": "execute_result"
    }
   ],
   "source": [
    "#sets\n",
    "set([3,4,5,5])"
   ]
  },
  {
   "cell_type": "code",
   "execution_count": 26,
   "metadata": {
    "collapsed": true,
    "slideshow": {
     "slide_type": "fragment"
    }
   },
   "outputs": [],
   "source": [
    "#Dictionary\n",
    "\n",
    "article_1 = {'title': 'Cat in the Hat', \n",
    "             'author': 'Dr. Seuss', \n",
    "             'Year': 1957}"
   ]
  },
  {
   "cell_type": "code",
   "execution_count": 27,
   "metadata": {
    "slideshow": {
     "slide_type": "slide"
    }
   },
   "outputs": [
    {
     "data": {
      "text/plain": [
       "[{'Year': 1957, 'author': 'Dr. Seuss', 'title': 'Cat in the Hat'},\n",
       " {'Year': 1961, 'author': 'PD Eastman', 'title': 'Go Do Go!'}]"
      ]
     },
     "execution_count": 27,
     "metadata": {},
     "output_type": "execute_result"
    }
   ],
   "source": [
    "#And a list of dictionaries is awfully close to a JSON.\n",
    "article_2 = {'title': 'Go Do Go!', \n",
    "             'author': 'PD Eastman', \n",
    "             'Year': 1961}\n",
    "\n",
    "articles = [article_1, article_2]\n",
    "\n",
    "articles"
   ]
  },
  {
   "cell_type": "markdown",
   "metadata": {
    "slideshow": {
     "slide_type": "slide"
    }
   },
   "source": [
    "Loops\n",
    "---\n",
    "Was any of our sentence words in the postive word list?"
   ]
  },
  {
   "cell_type": "code",
   "execution_count": 28,
   "metadata": {
    "slideshow": {
     "slide_type": "fragment"
    }
   },
   "outputs": [
    {
     "name": "stdout",
     "output_type": "stream",
     "text": [
      "We\n",
      "have\n",
      "some\n",
      "delightful\n",
      "new\n",
      "food\n",
      "in\n",
      "the\n",
      "cafeteria.\n",
      "Awesome!!!\n"
     ]
    }
   ],
   "source": [
    "for word in words:\n",
    "    print(word)"
   ]
  },
  {
   "cell_type": "markdown",
   "metadata": {
    "slideshow": {
     "slide_type": "slide"
    }
   },
   "source": [
    "<div class=\"alert alert-info\">\n",
    "Create a loop. Print the elements of tweet.\n",
    "\n",
    "tweet = 'We have some delightful new food in the cafeteria. Awesome!!!'</div>\n"
   ]
  },
  {
   "cell_type": "code",
   "execution_count": 29,
   "metadata": {
    "slideshow": {
     "slide_type": "slide"
    }
   },
   "outputs": [
    {
     "name": "stdout",
     "output_type": "stream",
     "text": [
      "W\n",
      "e\n",
      " \n",
      "h\n",
      "a\n",
      "v\n",
      "e\n",
      " \n",
      "s\n",
      "o\n",
      "m\n",
      "e\n",
      " \n",
      "d\n",
      "e\n",
      "l\n",
      "i\n",
      "g\n",
      "h\n",
      "t\n",
      "f\n",
      "u\n",
      "l\n",
      " \n",
      "n\n",
      "e\n",
      "w\n",
      " \n",
      "f\n",
      "o\n",
      "o\n",
      "d\n",
      " \n",
      "i\n",
      "n\n",
      " \n",
      "t\n",
      "h\n",
      "e\n",
      " \n",
      "c\n",
      "a\n",
      "f\n",
      "e\n",
      "t\n",
      "e\n",
      "r\n",
      "i\n",
      "a\n",
      ".\n",
      " \n",
      "A\n",
      "w\n",
      "e\n",
      "s\n",
      "o\n",
      "m\n",
      "e\n",
      "!\n",
      "!\n",
      "!\n"
     ]
    }
   ],
   "source": [
    "tweet = 'We have some delightful new food in the cafeteria. Awesome!!!'\n",
    "\n",
    "for e in tweet:\n",
    "    print(e)"
   ]
  },
  {
   "cell_type": "code",
   "execution_count": 30,
   "metadata": {
    "slideshow": {
     "slide_type": "slide"
    }
   },
   "outputs": [
    {
     "name": "stdout",
     "output_type": "stream",
     "text": [
      "We\n",
      "have\n",
      "some\n",
      "delightful\n",
      "new\n",
      "food\n",
      "in\n",
      "the\n",
      "cafeteria.\n",
      "Awesome!!!\n"
     ]
    }
   ],
   "source": [
    "tweet = 'We have some delightful new food in the cafeteria. Awesome!!!'\n",
    "words = tweet.split()\n",
    "\n",
    "for word in words:\n",
    "    print(word)"
   ]
  },
  {
   "cell_type": "markdown",
   "metadata": {
    "slideshow": {
     "slide_type": "fragment"
    }
   },
   "source": [
    "Note the colon at the end of the first line. Python will expect the next line to be indented. "
   ]
  },
  {
   "cell_type": "markdown",
   "metadata": {
    "slideshow": {
     "slide_type": "fragment"
    }
   },
   "source": [
    "Print out each of the words in your emotions list."
   ]
  },
  {
   "cell_type": "markdown",
   "metadata": {
    "slideshow": {
     "slide_type": "slide"
    }
   },
   "source": [
    "We can also add conditionals, like `if` and `else` or `elif`. "
   ]
  },
  {
   "cell_type": "code",
   "execution_count": 31,
   "metadata": {
    "slideshow": {
     "slide_type": "-"
    }
   },
   "outputs": [
    {
     "name": "stdout",
     "output_type": "stream",
     "text": [
      "delightful\n"
     ]
    }
   ],
   "source": [
    "for word in words:\n",
    "    if word in positive_words:\n",
    "        print(word)"
   ]
  },
  {
   "cell_type": "markdown",
   "metadata": {
    "slideshow": {
     "slide_type": "slide"
    }
   },
   "source": [
    "<div class=\"alert alert-info\">\n",
    "Your turn. </div>\n",
    "\n",
    "Take the following tweet and print out a plus sign for each positive word:\n",
    "\n",
    "`tweet_2 = \"Food is lame today. I don't like it at all.\"`\n",
    "\n",
    "Don't peak.\n"
   ]
  },
  {
   "cell_type": "code",
   "execution_count": 32,
   "metadata": {
    "slideshow": {
     "slide_type": "skip"
    }
   },
   "outputs": [
    {
     "ename": "SyntaxError",
     "evalue": "invalid syntax (<ipython-input-32-d27b20fed540>, line 4)",
     "output_type": "error",
     "traceback": [
      "\u001b[0;36m  File \u001b[0;32m\"<ipython-input-32-d27b20fed540>\"\u001b[0;36m, line \u001b[0;32m4\u001b[0m\n\u001b[0;31m    for word in\u001b[0m\n\u001b[0m                ^\u001b[0m\n\u001b[0;31mSyntaxError\u001b[0m\u001b[0;31m:\u001b[0m invalid syntax\n"
     ]
    }
   ],
   "source": [
    "tweet_2 = \"Food is lame today. I don't like it at all.\"\n",
    "\n",
    "words = tw\n",
    "for word in \n",
    "\n",
    "\n",
    "\n",
    "\n",
    "\n",
    "\n",
    "\n",
    "\n",
    "\n",
    "\n",
    "\n",
    "\n",
    "\n",
    "\n",
    "\n",
    "\n"
   ]
  },
  {
   "cell_type": "code",
   "execution_count": 32,
   "metadata": {
    "slideshow": {
     "slide_type": "slide"
    }
   },
   "outputs": [
    {
     "name": "stdout",
     "output_type": "stream",
     "text": [
      "+\n"
     ]
    }
   ],
   "source": [
    "tweet_2 = \"Food is lame today. I don't like it at all.\"\n",
    "words_2 = tweet_2.split()\n",
    "\n",
    "for word in words_2:\n",
    "    if word in positive_words:\n",
    "        print('+')\n",
    "        "
   ]
  },
  {
   "cell_type": "code",
   "execution_count": 33,
   "metadata": {
    "slideshow": {
     "slide_type": "fragment"
    }
   },
   "outputs": [
    {
     "name": "stdout",
     "output_type": "stream",
     "text": [
      "Food is lame today. I do  not_like it at all.\n",
      "-\n"
     ]
    }
   ],
   "source": [
    "tweet_2 = \"Food is lame today. I don't like it at all.\"\n",
    "tweet_2 = tweet_2.replace(\"n't\",\" not\")\n",
    "tweet_2 = tweet_2.replace(\"not \",\" not_\")\n",
    "\n",
    "print(tweet_2)\n",
    "\n",
    "words_2 = tweet_2.split()\n",
    "\n",
    "for word in words_2:\n",
    "    if word in positive_words:\n",
    "        print('+')\n",
    "    if word in negative_words:\n",
    "        print('-')"
   ]
  },
  {
   "cell_type": "markdown",
   "metadata": {
    "slideshow": {
     "slide_type": "slide"
    }
   },
   "source": [
    "Like lists, we can combine strings with a `+`."
   ]
  },
  {
   "cell_type": "code",
   "execution_count": 34,
   "metadata": {
    "slideshow": {
     "slide_type": "fragment"
    }
   },
   "outputs": [
    {
     "name": "stdout",
     "output_type": "stream",
     "text": [
      "Python is named after Monty Python.\n"
     ]
    }
   ],
   "source": [
    "print('Python ' + 'is named after Monty Python.')"
   ]
  },
  {
   "cell_type": "code",
   "execution_count": 35,
   "metadata": {
    "slideshow": {
     "slide_type": "fragment"
    }
   },
   "outputs": [
    {
     "name": "stdout",
     "output_type": "stream",
     "text": [
      "delightful is a positive word.\n"
     ]
    }
   ],
   "source": [
    "for word in words:\n",
    "    if word in positive_words:\n",
    "        print(word + ' is a positive word.')"
   ]
  },
  {
   "cell_type": "markdown",
   "metadata": {
    "slideshow": {
     "slide_type": "slide"
    }
   },
   "source": [
    "<div class=\"alert alert-info\">\n",
    "Will this work?\n",
    "</div>\n",
    "\n",
    "`print(3 + ' is a number.')`"
   ]
  },
  {
   "cell_type": "code",
   "execution_count": 36,
   "metadata": {
    "slideshow": {
     "slide_type": "fragment"
    }
   },
   "outputs": [
    {
     "ename": "TypeError",
     "evalue": "unsupported operand type(s) for +: 'int' and 'str'",
     "output_type": "error",
     "traceback": [
      "\u001b[0;31m---------------------------------------------------------------------------\u001b[0m",
      "\u001b[0;31mTypeError\u001b[0m                                 Traceback (most recent call last)",
      "\u001b[0;32m<ipython-input-36-1283d9876494>\u001b[0m in \u001b[0;36m<module>\u001b[0;34m()\u001b[0m\n\u001b[0;32m----> 1\u001b[0;31m \u001b[0;32mprint\u001b[0m\u001b[0;34m(\u001b[0m\u001b[0;36m3\u001b[0m \u001b[0;34m+\u001b[0m \u001b[0;34m' is a number.'\u001b[0m\u001b[0;34m)\u001b[0m\u001b[0;34m\u001b[0m\u001b[0m\n\u001b[0m",
      "\u001b[0;31mTypeError\u001b[0m: unsupported operand type(s) for +: 'int' and 'str'"
     ]
    }
   ],
   "source": [
    "print(3 + ' is a number.')\n"
   ]
  },
  {
   "cell_type": "code",
   "execution_count": 37,
   "metadata": {
    "slideshow": {
     "slide_type": "fragment"
    }
   },
   "outputs": [
    {
     "ename": "TypeError",
     "evalue": "can only concatenate list (not \"str\") to list",
     "output_type": "error",
     "traceback": [
      "\u001b[0;31m---------------------------------------------------------------------------\u001b[0m",
      "\u001b[0;31mTypeError\u001b[0m                                 Traceback (most recent call last)",
      "\u001b[0;32m<ipython-input-37-fe8b4eae5f80>\u001b[0m in \u001b[0;36m<module>\u001b[0;34m()\u001b[0m\n\u001b[0;32m----> 1\u001b[0;31m \u001b[0;32mprint\u001b[0m\u001b[0;34m(\u001b[0m\u001b[0;34m[\u001b[0m\u001b[0;34m'puppies'\u001b[0m\u001b[0;34m,\u001b[0m\u001b[0;34m'dogs'\u001b[0m\u001b[0;34m]\u001b[0m \u001b[0;34m+\u001b[0m \u001b[0;34m'are pets.'\u001b[0m\u001b[0;34m)\u001b[0m\u001b[0;34m\u001b[0m\u001b[0m\n\u001b[0m",
      "\u001b[0;31mTypeError\u001b[0m: can only concatenate list (not \"str\") to list"
     ]
    }
   ],
   "source": [
    "print(['puppies','dogs'] + 'are pets.')\n"
   ]
  },
  {
   "cell_type": "code",
   "execution_count": 38,
   "metadata": {
    "slideshow": {
     "slide_type": "slide"
    }
   },
   "outputs": [
    {
     "name": "stdout",
     "output_type": "stream",
     "text": [
      "3 is a number.\n",
      "3 is a number.\n",
      "3 is a number.\n"
     ]
    }
   ],
   "source": [
    "print('3' + ' is a number.')\n",
    "\n",
    "print(str(3) + ' is a number.')\n",
    "\n",
    "print('%s is a number.' % 3)"
   ]
  },
  {
   "cell_type": "code",
   "execution_count": 39,
   "metadata": {
    "slideshow": {
     "slide_type": "fragment"
    }
   },
   "outputs": [
    {
     "name": "stdout",
     "output_type": "stream",
     "text": [
      "1 is a number.\n",
      "2 is a number.\n",
      "4 is a number.\n",
      "9 is a number.\n"
     ]
    }
   ],
   "source": [
    "for some_number in [1,2,4,9]:\n",
    "    sentence = str(some_number) + ' is a number.'\n",
    "    print(sentence)"
   ]
  },
  {
   "cell_type": "markdown",
   "metadata": {
    "slideshow": {
     "slide_type": "slide"
    }
   },
   "source": [
    "### Text cleaning\n",
    "\n",
    "Or why Awesome!!! wasn't a positive word"
   ]
  },
  {
   "cell_type": "code",
   "execution_count": 40,
   "metadata": {
    "slideshow": {
     "slide_type": "fragment"
    }
   },
   "outputs": [
    {
     "name": "stdout",
     "output_type": "stream",
     "text": [
      "we have some delightful new food in the cafeteria. awesome!!!\n"
     ]
    }
   ],
   "source": [
    "print(tweet.lower())"
   ]
  },
  {
   "cell_type": "code",
   "execution_count": 41,
   "metadata": {
    "slideshow": {
     "slide_type": "fragment"
    }
   },
   "outputs": [
    {
     "name": "stdout",
     "output_type": "stream",
     "text": [
      "we have some delightful new food in the cafeteria. awesome!!!\n"
     ]
    }
   ],
   "source": [
    "print(tweet.lower())"
   ]
  },
  {
   "cell_type": "markdown",
   "metadata": {
    "slideshow": {
     "slide_type": "fragment"
    }
   },
   "source": [
    "But we can't do it with a list of things."
   ]
  },
  {
   "cell_type": "code",
   "execution_count": 42,
   "metadata": {
    "slideshow": {
     "slide_type": "fragment"
    }
   },
   "outputs": [
    {
     "ename": "AttributeError",
     "evalue": "'list' object has no attribute 'lower'",
     "output_type": "error",
     "traceback": [
      "\u001b[0;31m---------------------------------------------------------------------------\u001b[0m",
      "\u001b[0;31mAttributeError\u001b[0m                            Traceback (most recent call last)",
      "\u001b[0;32m<ipython-input-42-2ce3427a2f9e>\u001b[0m in \u001b[0;36m<module>\u001b[0;34m()\u001b[0m\n\u001b[0;32m----> 1\u001b[0;31m \u001b[0;32mprint\u001b[0m\u001b[0;34m(\u001b[0m\u001b[0mwords\u001b[0m\u001b[0;34m.\u001b[0m\u001b[0mlower\u001b[0m\u001b[0;34m(\u001b[0m\u001b[0;34m)\u001b[0m\u001b[0;34m)\u001b[0m\u001b[0;34m\u001b[0m\u001b[0m\n\u001b[0m",
      "\u001b[0;31mAttributeError\u001b[0m: 'list' object has no attribute 'lower'"
     ]
    }
   ],
   "source": [
    "print(words.lower())"
   ]
  },
  {
   "cell_type": "markdown",
   "metadata": {
    "slideshow": {
     "slide_type": "fragment"
    }
   },
   "source": [
    "So you'll either need clean the whole sentence, each word, or both."
   ]
  },
  {
   "cell_type": "code",
   "execution_count": 43,
   "metadata": {
    "slideshow": {
     "slide_type": "slide"
    }
   },
   "outputs": [
    {
     "name": "stdout",
     "output_type": "stream",
     "text": [
      "delightful is a positive word.\n"
     ]
    }
   ],
   "source": [
    "for word in words:\n",
    "    word_lower = word.lower()\n",
    "    if word_lower in positive_words:\n",
    "        print(word_lower + ' is a positive word.')"
   ]
  },
  {
   "cell_type": "markdown",
   "metadata": {
    "slideshow": {
     "slide_type": "slide"
    }
   },
   "source": [
    "Updating our loop, we still don’t find `awesome!!!` yet.\n",
    "\n",
    "Why?\n"
   ]
  },
  {
   "cell_type": "code",
   "execution_count": 44,
   "metadata": {
    "slideshow": {
     "slide_type": "fragment"
    }
   },
   "outputs": [
    {
     "name": "stdout",
     "output_type": "stream",
     "text": [
      "awesome\n"
     ]
    }
   ],
   "source": [
    "print('awesome!!!'.strip('!'))"
   ]
  },
  {
   "cell_type": "markdown",
   "metadata": {
    "slideshow": {
     "slide_type": "slide"
    }
   },
   "source": [
    "Getting rid of `'!\"#$%&\\'()*+,-./:;<=>?@[\\\\]^_`{|}~'`"
   ]
  },
  {
   "cell_type": "code",
   "execution_count": 45,
   "metadata": {
    "collapsed": true,
    "slideshow": {
     "slide_type": "fragment"
    }
   },
   "outputs": [],
   "source": [
    "from string import punctuation"
   ]
  },
  {
   "cell_type": "code",
   "execution_count": 46,
   "metadata": {
    "slideshow": {
     "slide_type": "fragment"
    }
   },
   "outputs": [
    {
     "data": {
      "text/plain": [
       "'!\"#$%&\\'()*+,-./:;<=>?@[\\\\]^_`{|}~'"
      ]
     },
     "execution_count": 46,
     "metadata": {},
     "output_type": "execute_result"
    }
   ],
   "source": [
    "punctuation"
   ]
  },
  {
   "cell_type": "code",
   "execution_count": 47,
   "metadata": {
    "slideshow": {
     "slide_type": "fragment"
    }
   },
   "outputs": [
    {
     "data": {
      "text/plain": [
       "'awesome'"
      ]
     },
     "execution_count": 47,
     "metadata": {},
     "output_type": "execute_result"
    }
   ],
   "source": [
    "'awesome!!!!'.strip(punctuation)"
   ]
  },
  {
   "cell_type": "code",
   "execution_count": 48,
   "metadata": {
    "slideshow": {
     "slide_type": "slide"
    }
   },
   "outputs": [
    {
     "data": {
      "text/plain": [
       "'awesome'"
      ]
     },
     "execution_count": 48,
     "metadata": {},
     "output_type": "execute_result"
    }
   ],
   "source": [
    "'awesome?!?!'.strip(punctuation)"
   ]
  },
  {
   "cell_type": "code",
   "execution_count": 49,
   "metadata": {
    "slideshow": {
     "slide_type": "fragment"
    }
   },
   "outputs": [
    {
     "name": "stdout",
     "output_type": "stream",
     "text": [
      "awesome\n"
     ]
    }
   ],
   "source": [
    "word = 'awesome!!!'\n",
    "word_processed = word.strip('!').lower()\n",
    "print(word_processed)"
   ]
  },
  {
   "cell_type": "code",
   "execution_count": 50,
   "metadata": {
    "slideshow": {
     "slide_type": "slide"
    }
   },
   "outputs": [
    {
     "name": "stdout",
     "output_type": "stream",
     "text": [
      "delightful is a positive word\n",
      "Awesome!!! is a positive word\n"
     ]
    }
   ],
   "source": [
    "for word in words:\n",
    "    word_processed = word.lower()\n",
    "    word_processed = word_processed.strip(punctuation)\n",
    "    if word_processed in positive_words:\n",
    "        print(word + ' is a positive word')"
   ]
  },
  {
   "cell_type": "markdown",
   "metadata": {
    "slideshow": {
     "slide_type": "fragment"
    }
   },
   "source": [
    "It worked!!!\n",
    "\n"
   ]
  },
  {
   "cell_type": "markdown",
   "metadata": {
    "slideshow": {
     "slide_type": "slide"
    }
   },
   "source": [
    "But what we really care about is the count of words."
   ]
  },
  {
   "cell_type": "code",
   "execution_count": 51,
   "metadata": {
    "slideshow": {
     "slide_type": "fragment"
    }
   },
   "outputs": [
    {
     "name": "stdout",
     "output_type": "stream",
     "text": [
      "2\n"
     ]
    }
   ],
   "source": [
    "postive_counter = 0\n",
    "\n",
    "for word in words:\n",
    "    word_processed = word.lower()\n",
    "    word_processed = word_processed.strip(punctuation)\n",
    "    if word_processed in positive_words:\n",
    "        postive_counter = postive_counter + 1\n",
    "print(postive_counter)"
   ]
  },
  {
   "cell_type": "markdown",
   "metadata": {
    "slideshow": {
     "slide_type": "slide"
    }
   },
   "source": [
    "Let's do this for real.\n",
    "\n",
    "- Get a real list of affect words.\n",
    "- Get a real list of tweets.\n",
    "- Output the results to a csv file for additional analysis."
   ]
  },
  {
   "cell_type": "markdown",
   "metadata": {
    "slideshow": {
     "slide_type": "slide"
    }
   },
   "source": [
    "LIWC is what all the cool kids use, but there list is copyrighted. So we'll use lists of positive and negative words from:\n",
    "\n",
    "Theresa Wilson, Janyce Wiebe and Paul Hoffmann (2005). \"Recognizing Contextual \n",
    "Polarity in Phrase-Level Sentiment Analysis.\" Proceedings of HLT/EMNLP 2005,\n",
    "Vancouver, Canada."
   ]
  },
  {
   "cell_type": "code",
   "execution_count": 52,
   "metadata": {
    "collapsed": true,
    "slideshow": {
     "slide_type": "slide"
    }
   },
   "outputs": [],
   "source": [
    "file_name = r'files/negative.txt'\n",
    "\n",
    "with open(file_name, 'r') as infile:\n",
    "    negative_file = infile.read()"
   ]
  },
  {
   "cell_type": "markdown",
   "metadata": {
    "slideshow": {
     "slide_type": "fragment"
    }
   },
   "source": [
    "A basic way to open and read a text file. \n",
    "\n",
    "* `with` begins a loop (so the file closes no matter what)\n",
    "* `r` tells the operating system you want permission to read it.  \n",
    "* `.read()` tells Python to import all the text"
   ]
  },
  {
   "cell_type": "markdown",
   "metadata": {
    "slideshow": {
     "slide_type": "slide"
    }
   },
   "source": [
    "Let's take a look at `negative_file` by slicing it up."
   ]
  },
  {
   "cell_type": "code",
   "execution_count": 53,
   "metadata": {
    "slideshow": {
     "slide_type": "fragment"
    }
   },
   "outputs": [
    {
     "data": {
      "text/plain": [
       "'abandoned\\nabandonment\\naberration\\naberration\\nabhorr'"
      ]
     },
     "execution_count": 53,
     "metadata": {},
     "output_type": "execute_result"
    }
   ],
   "source": [
    "negative_file[:50]"
   ]
  },
  {
   "cell_type": "markdown",
   "metadata": {
    "slideshow": {
     "slide_type": "fragment"
    }
   },
   "source": [
    "`\\n` is an End of Line character\n",
    "\n",
    "`[:50]` took the first 50 characters"
   ]
  },
  {
   "cell_type": "code",
   "execution_count": 54,
   "metadata": {
    "collapsed": true
   },
   "outputs": [],
   "source": [
    "negative_list = negative_file.split('\\n')"
   ]
  },
  {
   "cell_type": "code",
   "execution_count": 55,
   "metadata": {},
   "outputs": [
    {
     "data": {
      "text/plain": [
       "['abandoned', 'abandonment', 'aberration', 'aberration', 'abhorred']"
      ]
     },
     "execution_count": 55,
     "metadata": {},
     "output_type": "execute_result"
    }
   ],
   "source": [
    "negative_list[:5]"
   ]
  },
  {
   "cell_type": "code",
   "execution_count": 56,
   "metadata": {
    "collapsed": true,
    "slideshow": {
     "slide_type": "fragment"
    }
   },
   "outputs": [],
   "source": [
    "negative_list = negative_file.splitlines()"
   ]
  },
  {
   "cell_type": "code",
   "execution_count": 57,
   "metadata": {
    "slideshow": {
     "slide_type": "fragment"
    }
   },
   "outputs": [
    {
     "data": {
      "text/plain": [
       "['abandoned', 'abandonment', 'aberration', 'aberration', 'abhorred']"
      ]
     },
     "execution_count": 57,
     "metadata": {},
     "output_type": "execute_result"
    }
   ],
   "source": [
    "negative_list[:5]"
   ]
  },
  {
   "cell_type": "markdown",
   "metadata": {
    "slideshow": {
     "slide_type": "slide"
    }
   },
   "source": [
    "### Python starts at 0"
   ]
  },
  {
   "cell_type": "code",
   "execution_count": 58,
   "metadata": {},
   "outputs": [
    {
     "data": {
      "text/plain": [
       "'abandoned'"
      ]
     },
     "execution_count": 58,
     "metadata": {},
     "output_type": "execute_result"
    }
   ],
   "source": [
    "negative_list[0]"
   ]
  },
  {
   "cell_type": "code",
   "execution_count": 59,
   "metadata": {
    "slideshow": {
     "slide_type": "fragment"
    }
   },
   "outputs": [
    {
     "data": {
      "text/plain": [
       "['abandoned']"
      ]
     },
     "execution_count": 59,
     "metadata": {},
     "output_type": "execute_result"
    }
   ],
   "source": [
    "negative_list[0:1]"
   ]
  },
  {
   "cell_type": "code",
   "execution_count": 60,
   "metadata": {
    "slideshow": {
     "slide_type": "fragment"
    }
   },
   "outputs": [
    {
     "data": {
      "text/plain": [
       "['wrought', 'yawn', 'zealot', 'zealous', 'zealously']"
      ]
     },
     "execution_count": 60,
     "metadata": {},
     "output_type": "execute_result"
    }
   ],
   "source": [
    "negative_list[-5:]"
   ]
  },
  {
   "cell_type": "markdown",
   "metadata": {
    "slideshow": {
     "slide_type": "slide"
    }
   },
   "source": [
    "Let's do it again for the postive words"
   ]
  },
  {
   "cell_type": "code",
   "execution_count": 61,
   "metadata": {
    "collapsed": true,
    "slideshow": {
     "slide_type": "slide"
    }
   },
   "outputs": [],
   "source": [
    "file_name = r'files/positive.txt'\n",
    "\n",
    "with open(file_name, 'r') as infile:\n",
    "    positive_file = infile.read()\n",
    "    \n",
    "postive_list = positive_file.splitlines()"
   ]
  },
  {
   "cell_type": "code",
   "execution_count": 62,
   "metadata": {},
   "outputs": [
    {
     "data": {
      "text/plain": [
       "['zenith', 'zest']"
      ]
     },
     "execution_count": 62,
     "metadata": {},
     "output_type": "execute_result"
    }
   ],
   "source": [
    "postive_list[-2:]"
   ]
  },
  {
   "cell_type": "markdown",
   "metadata": {
    "slideshow": {
     "slide_type": "slide"
    }
   },
   "source": [
    "<div class=\"alert alert-info\">\n",
    "Quiz: How many words are in the two lists combined? </div>"
   ]
  },
  {
   "cell_type": "code",
   "execution_count": 63,
   "metadata": {
    "slideshow": {
     "slide_type": "skip"
    }
   },
   "outputs": [
    {
     "data": {
      "text/plain": [
       "6135"
      ]
     },
     "execution_count": 63,
     "metadata": {},
     "output_type": "execute_result"
    }
   ],
   "source": [
    "\n",
    "\n",
    "\n",
    "\n",
    "\n",
    "\n",
    "emotions = postive_list + negative_list\n",
    "len(emotions)\n",
    "\n",
    "\n",
    "\n",
    "\n",
    "\n",
    "\n",
    "\n",
    "\n"
   ]
  },
  {
   "cell_type": "code",
   "execution_count": 64,
   "metadata": {
    "slideshow": {
     "slide_type": "slide"
    }
   },
   "outputs": [
    {
     "name": "stdout",
     "output_type": "stream",
     "text": [
      "6135\n"
     ]
    }
   ],
   "source": [
    "print( len(postive_list) + len(negative_list) )"
   ]
  },
  {
   "cell_type": "markdown",
   "metadata": {
    "slideshow": {
     "slide_type": "slide"
    }
   },
   "source": [
    "A while back, I use the Twitter API to get some Tweets, or status updates, that mentioned then President Obama."
   ]
  },
  {
   "cell_type": "code",
   "execution_count": 65,
   "metadata": {
    "collapsed": true,
    "slideshow": {
     "slide_type": "fragment"
    }
   },
   "outputs": [],
   "source": [
    "obama_tweets = open('files/obama_tweets.txt', 'r').read()\n",
    "obama_tweets = obama_tweets.splitlines()"
   ]
  },
  {
   "cell_type": "markdown",
   "metadata": {
    "slideshow": {
     "slide_type": "slide"
    }
   },
   "source": [
    "Avoid copy and paste text in file! Define a function! "
   ]
  },
  {
   "cell_type": "code",
   "execution_count": 66,
   "metadata": {
    "collapsed": true,
    "slideshow": {
     "slide_type": "fragment"
    }
   },
   "outputs": [],
   "source": [
    "def open_list(filename): # name it, accept inputs\n",
    "    with open(filename, 'r') as infile: # indented\n",
    "        list_file = infile.read()\n",
    "    list_file = list_file.splitlines()\n",
    "    return list_file # send it back"
   ]
  },
  {
   "cell_type": "code",
   "execution_count": 67,
   "metadata": {
    "collapsed": true,
    "slideshow": {
     "slide_type": "fragment"
    }
   },
   "outputs": [],
   "source": [
    "def open_list(filename):\n",
    "    '''\n",
    "    Opens a text file and returns a list split by lines.\n",
    "    '''\n",
    "    with open(filename, 'r') as infile:\n",
    "        list_file = infile.read()\n",
    "    list_file = list_file.splitlines()\n",
    "    return list_file"
   ]
  },
  {
   "cell_type": "code",
   "execution_count": 68,
   "metadata": {
    "slideshow": {
     "slide_type": "fragment"
    }
   },
   "outputs": [
    {
     "name": "stdout",
     "output_type": "stream",
     "text": [
      "1381\n"
     ]
    }
   ],
   "source": [
    "obama_tweets = open_list('files/obama_tweets.txt')\n",
    "\n",
    "print(len(obama_tweets))"
   ]
  },
  {
   "cell_type": "markdown",
   "metadata": {
    "slideshow": {
     "slide_type": "slide"
    }
   },
   "source": [
    "More slicing"
   ]
  },
  {
   "cell_type": "code",
   "execution_count": 69,
   "metadata": {
    "slideshow": {
     "slide_type": "-"
    }
   },
   "outputs": [
    {
     "data": {
      "text/plain": [
       "['Obama has called the GOP budget social Darwinism. Nice try, but they believe in social creationism.',\n",
       " 'In his teen years, Obama has been known to use marijuana and cocaine.',\n",
       " 'IPA Congratulates President Barack Obama for Leadership Regarding JOBS Act: WASHINGTON, Apr 05, 2012 (BUSINESS W... http://t.co/8le3DC8E',\n",
       " 'RT @Professor_Why: #WhatsRomneyHiding - his connection to supporters of Critical Race Theory.... Oh wait, that was Obama, not Romney...',\n",
       " 'RT @wardollarshome: Obama has approved more targeted assassinations than any modern US prez; READ & RT: http://t.co/bfC4gbBW']"
      ]
     },
     "execution_count": 69,
     "metadata": {},
     "output_type": "execute_result"
    }
   ],
   "source": [
    "obama_tweets[:5]"
   ]
  },
  {
   "cell_type": "markdown",
   "metadata": {
    "slideshow": {
     "slide_type": "slide"
    }
   },
   "source": [
    "Some from the middle?"
   ]
  },
  {
   "cell_type": "code",
   "execution_count": 70,
   "metadata": {
    "slideshow": {
     "slide_type": "-"
    }
   },
   "outputs": [
    {
     "name": "stdout",
     "output_type": "stream",
     "text": [
      "[\"Barack Obama President Ronald Reagan's Initial Actions Project: President Ronald Reagan was also facing an econo... http://t.co/8Go8oCpf\", 'RT @TXGaryM: Yes #WHFail RT @jltho: This #WhatsRomneyHiding hashtag is entertaining. Is this another social media backfire from the Obama administration?', 'Barack Obama LONGBOARD Package CORE 7\" TRUCKS 76mm BIGFOOT WHEELS: The newest addition to the Bigfoot Collection... http://t.co/cnHRuUBZ']\n"
     ]
    }
   ],
   "source": [
    "print(obama_tweets[52:55])"
   ]
  },
  {
   "cell_type": "markdown",
   "metadata": {},
   "source": [
    "That's ugly."
   ]
  },
  {
   "cell_type": "code",
   "execution_count": 71,
   "metadata": {
    "slideshow": {
     "slide_type": "slide"
    }
   },
   "outputs": [
    {
     "name": "stdout",
     "output_type": "stream",
     "text": [
      "Barack Obama President Ronald Reagan's Initial Actions Project: President Ronald Reagan was also facing an econo... http://t.co/8Go8oCpf\n",
      "RT @TXGaryM: Yes #WHFail RT @jltho: This #WhatsRomneyHiding hashtag is entertaining. Is this another social media backfire from the Obama administration?\n",
      "Barack Obama LONGBOARD Package CORE 7\" TRUCKS 76mm BIGFOOT WHEELS: The newest addition to the Bigfoot Collection... http://t.co/cnHRuUBZ\n"
     ]
    }
   ],
   "source": [
    "for tweet in obama_tweets[52:55]:\n",
    "    print(tweet)"
   ]
  },
  {
   "cell_type": "markdown",
   "metadata": {
    "slideshow": {
     "slide_type": "slide"
    }
   },
   "source": [
    "Let's get going!!!"
   ]
  },
  {
   "cell_type": "code",
   "execution_count": 72,
   "metadata": {
    "slideshow": {
     "slide_type": "fragment"
    }
   },
   "outputs": [
    {
     "name": "stdout",
     "output_type": "stream",
     "text": [
      "Obama has called the GOP budget social Darwinism. Nice try, but they believe in social creationism.\n",
      "nice\n",
      "1 16\n",
      "In his teen years, Obama has been known to use marijuana and cocaine.\n",
      "0 13\n",
      "IPA Congratulates President Barack Obama for Leadership Regarding JOBS Act: WASHINGTON, Apr 05, 2012 (BUSINESS W... http://t.co/8le3DC8E\n",
      "0 17\n",
      "RT @Professor_Why: #WhatsRomneyHiding - his connection to supporters of Critical Race Theory.... Oh wait, that was Obama, not Romney...\n",
      "0 19\n",
      "RT @wardollarshome: Obama has approved more targeted assassinations than any modern US prez; READ & RT: http://t.co/bfC4gbBW\n",
      "modern\n",
      "1 17\n"
     ]
    }
   ],
   "source": [
    "#loop, but don't go through everything yet\n",
    "for tweet in obama_tweets[:5]:\n",
    "    print(tweet)\n",
    "    positive_counter = 0\n",
    "    #Lower case everything\n",
    "    tweet_processed = tweet.lower()\n",
    "    \n",
    "    #split by ' ' into a list of words\n",
    "    words = tweet_processed.split()\n",
    "    \n",
    "    #Loop through each word in the tweet\n",
    "    for word in words:\n",
    "        \n",
    "        clean_word = word.strip(punctuation)\n",
    "        \n",
    "        if clean_word in postive_list:\n",
    "            print(clean_word)\n",
    "            positive_counter = positive_counter+1\n",
    "    \n",
    "    print positive_counter,len(words)"
   ]
  },
  {
   "cell_type": "markdown",
   "metadata": {
    "slideshow": {
     "slide_type": "slide"
    }
   },
   "source": [
    "Your turn. Add a negative_counter!"
   ]
  },
  {
   "cell_type": "code",
   "execution_count": 73,
   "metadata": {
    "slideshow": {
     "slide_type": "skip"
    }
   },
   "outputs": [
    {
     "name": "stdout",
     "output_type": "stream",
     "text": [
      "Obama has called the GOP budget social Darwinism. Nice try, but they believe in social creationism.\n",
      "nice\n",
      "(1, 16)\n",
      "In his teen years, Obama has been known to use marijuana and cocaine.\n",
      "(0, 13)\n",
      "IPA Congratulates President Barack Obama for Leadership Regarding JOBS Act: WASHINGTON, Apr 05, 2012 (BUSINESS W... http://t.co/8le3DC8E\n",
      "(0, 17)\n",
      "RT @Professor_Why: #WhatsRomneyHiding - his connection to supporters of Critical Race Theory.... Oh wait, that was Obama, not Romney...\n",
      "(0, 19)\n",
      "RT @wardollarshome: Obama has approved more targeted assassinations than any modern US prez; READ & RT: http://t.co/bfC4gbBW\n",
      "modern\n",
      "(1, 17)\n"
     ]
    }
   ],
   "source": [
    "#loop, but don't go through everything yet\n",
    "for tweet in obama_tweets[:5]:\n",
    "    print(tweet)\n",
    "    positive_counter = 0\n",
    "    #Lower case everything\n",
    "    tweet_processed = tweet.lower()\n",
    "    \n",
    "    #split by ' ' into a list of words\n",
    "    words = tweet_processed.split()\n",
    "    \n",
    "    #Loop through each word in the tweet\n",
    "    for word in words:\n",
    "        \n",
    "        clean_word = word.strip(punctuation)\n",
    "        \n",
    "        if clean_word in postive_list:\n",
    "            print(clean_word)\n",
    "            positive_counter = positive_counter+1\n",
    "    \n",
    "    print(positive_counter,len(words))\n",
    "\n",
    "\n",
    "\n",
    "\n",
    "\n",
    "\n",
    "\n",
    "\n",
    "\n",
    "\n",
    "\n",
    "\n",
    "\n",
    "\n",
    "\n"
   ]
  },
  {
   "cell_type": "code",
   "execution_count": 74,
   "metadata": {
    "collapsed": true,
    "slideshow": {
     "slide_type": "fragment"
    }
   },
   "outputs": [],
   "source": [
    "\n",
    "tweet_sentiment = []\n",
    "\n",
    "for tweet in obama_tweets[:5]:\n",
    "\n",
    "\n",
    "    positive_counter = 0\n",
    "    negative_counter = 0\n",
    "    \n",
    "    #Lower case everything\n",
    "    tweet_processed = tweet.lower()\n",
    "    \n",
    "    #split by ' ' into a list of words\n",
    "    words = tweet_processed.split()\n",
    "    \n",
    "    #Loop through each word in the tweet\n",
    "    for word in words:\n",
    "        clean_word = word.strip(punctuation)\n",
    "        \n",
    "        if clean_word in postive_list:\n",
    "            positive_counter = positive_counter + 1\n",
    "        if clean_word in negative_list:\n",
    "            negative_counter = negative_counter + 1\n",
    "    tweet_sentiment.append([tweet,positive_counter, negative_counter, len(words)])"
   ]
  },
  {
   "cell_type": "code",
   "execution_count": 75,
   "metadata": {},
   "outputs": [
    {
     "data": {
      "text/plain": [
       "[['Obama has called the GOP budget social Darwinism. Nice try, but they believe in social creationism.',\n",
       "  1,\n",
       "  0,\n",
       "  16],\n",
       " ['In his teen years, Obama has been known to use marijuana and cocaine.',\n",
       "  0,\n",
       "  0,\n",
       "  13],\n",
       " ['IPA Congratulates President Barack Obama for Leadership Regarding JOBS Act: WASHINGTON, Apr 05, 2012 (BUSINESS W... http://t.co/8le3DC8E',\n",
       "  0,\n",
       "  0,\n",
       "  17]]"
      ]
     },
     "execution_count": 75,
     "metadata": {},
     "output_type": "execute_result"
    }
   ],
   "source": [
    "tweet_sentiment[:3]"
   ]
  },
  {
   "cell_type": "markdown",
   "metadata": {
    "slideshow": {
     "slide_type": "slide"
    }
   },
   "source": [
    "Now let's get this out of Python"
   ]
  },
  {
   "cell_type": "code",
   "execution_count": 76,
   "metadata": {
    "collapsed": true,
    "slideshow": {
     "slide_type": "-"
    }
   },
   "outputs": [],
   "source": [
    "import pandas as pd"
   ]
  },
  {
   "cell_type": "code",
   "execution_count": 77,
   "metadata": {
    "slideshow": {
     "slide_type": "fragment"
    }
   },
   "outputs": [
    {
     "data": {
      "text/html": [
       "<div>\n",
       "<style>\n",
       "    .dataframe thead tr:only-child th {\n",
       "        text-align: right;\n",
       "    }\n",
       "\n",
       "    .dataframe thead th {\n",
       "        text-align: left;\n",
       "    }\n",
       "\n",
       "    .dataframe tbody tr th {\n",
       "        vertical-align: top;\n",
       "    }\n",
       "</style>\n",
       "<table border=\"1\" class=\"dataframe\">\n",
       "  <thead>\n",
       "    <tr style=\"text-align: right;\">\n",
       "      <th></th>\n",
       "      <th>text</th>\n",
       "      <th>positive</th>\n",
       "      <th>negative</th>\n",
       "      <th>word_count</th>\n",
       "    </tr>\n",
       "  </thead>\n",
       "  <tbody>\n",
       "    <tr>\n",
       "      <th>0</th>\n",
       "      <td>Obama has called the GOP budget social Darwini...</td>\n",
       "      <td>1</td>\n",
       "      <td>0</td>\n",
       "      <td>16</td>\n",
       "    </tr>\n",
       "    <tr>\n",
       "      <th>1</th>\n",
       "      <td>In his teen years, Obama has been known to use...</td>\n",
       "      <td>0</td>\n",
       "      <td>0</td>\n",
       "      <td>13</td>\n",
       "    </tr>\n",
       "    <tr>\n",
       "      <th>2</th>\n",
       "      <td>IPA Congratulates President Barack Obama for L...</td>\n",
       "      <td>0</td>\n",
       "      <td>0</td>\n",
       "      <td>17</td>\n",
       "    </tr>\n",
       "    <tr>\n",
       "      <th>3</th>\n",
       "      <td>RT @Professor_Why: #WhatsRomneyHiding - his co...</td>\n",
       "      <td>0</td>\n",
       "      <td>0</td>\n",
       "      <td>19</td>\n",
       "    </tr>\n",
       "    <tr>\n",
       "      <th>4</th>\n",
       "      <td>RT @wardollarshome: Obama has approved more ta...</td>\n",
       "      <td>1</td>\n",
       "      <td>0</td>\n",
       "      <td>17</td>\n",
       "    </tr>\n",
       "  </tbody>\n",
       "</table>\n",
       "</div>"
      ],
      "text/plain": [
       "                                                text  positive  negative  \\\n",
       "0  Obama has called the GOP budget social Darwini...         1         0   \n",
       "1  In his teen years, Obama has been known to use...         0         0   \n",
       "2  IPA Congratulates President Barack Obama for L...         0         0   \n",
       "3  RT @Professor_Why: #WhatsRomneyHiding - his co...         0         0   \n",
       "4  RT @wardollarshome: Obama has approved more ta...         1         0   \n",
       "\n",
       "   word_count  \n",
       "0          16  \n",
       "1          13  \n",
       "2          17  \n",
       "3          19  \n",
       "4          17  "
      ]
     },
     "execution_count": 77,
     "metadata": {},
     "output_type": "execute_result"
    }
   ],
   "source": [
    "df = pd.DataFrame(tweet_sentiment,\n",
    "                 columns = ['text','positive','negative','word_count']\n",
    "                 )\n",
    "df.head()"
   ]
  },
  {
   "cell_type": "code",
   "execution_count": 78,
   "metadata": {
    "collapsed": true
   },
   "outputs": [],
   "source": [
    "df.to_csv('tweets_processed.csv')"
   ]
  },
  {
   "cell_type": "markdown",
   "metadata": {
    "slideshow": {
     "slide_type": "slide"
    }
   },
   "source": [
    "Let's look at the results. If `!cat` doesn't work, try `!type` which is the Windows equivalent."
   ]
  },
  {
   "cell_type": "code",
   "execution_count": 79,
   "metadata": {
    "slideshow": {
     "slide_type": "-"
    }
   },
   "outputs": [
    {
     "name": "stdout",
     "output_type": "stream",
     "text": [
      ",text,positive,negative,word_count\r\n",
      "0,\"Obama has called the GOP budget social Darwinism. Nice try, but they believe in social creationism.\",1,0,16\r\n",
      "1,\"In his teen years, Obama has been known to use marijuana and cocaine.\",0,0,13\r\n",
      "2,\"IPA Congratulates President Barack Obama for Leadership Regarding JOBS Act: WASHINGTON, Apr 05, 2012 (BUSINESS W... http://t.co/8le3DC8E\",0,0,17\r\n",
      "3,\"RT @Professor_Why: #WhatsRomneyHiding - his connection to supporters of Critical Race Theory.... Oh wait, that was Obama, not Romney...\",0,0,19\r\n",
      "4,RT @wardollarshome: Obama has approved more targeted assassinations than any modern US prez; READ & RT: http://t.co/bfC4gbBW,1,0,17\r\n"
     ]
    }
   ],
   "source": [
    "!cat tweets_processed.csv"
   ]
  },
  {
   "cell_type": "markdown",
   "metadata": {
    "slideshow": {
     "slide_type": "fragment"
    }
   },
   "source": [
    "Why only 5 rows?"
   ]
  },
  {
   "cell_type": "markdown",
   "metadata": {
    "slideshow": {
     "slide_type": "slide"
    }
   },
   "source": [
    "The `csv` file can be read in other programs."
   ]
  },
  {
   "cell_type": "markdown",
   "metadata": {
    "slideshow": {
     "slide_type": "slide"
    }
   },
   "source": [
    "In case your wondering, a different way to skin the cat"
   ]
  },
  {
   "cell_type": "code",
   "execution_count": 80,
   "metadata": {
    "slideshow": {
     "slide_type": "fragment"
    }
   },
   "outputs": [
    {
     "data": {
      "text/html": [
       "<div>\n",
       "<style>\n",
       "    .dataframe thead tr:only-child th {\n",
       "        text-align: right;\n",
       "    }\n",
       "\n",
       "    .dataframe thead th {\n",
       "        text-align: left;\n",
       "    }\n",
       "\n",
       "    .dataframe tbody tr th {\n",
       "        vertical-align: top;\n",
       "    }\n",
       "</style>\n",
       "<table border=\"1\" class=\"dataframe\">\n",
       "  <thead>\n",
       "    <tr style=\"text-align: right;\">\n",
       "      <th></th>\n",
       "      <th>length</th>\n",
       "      <th>negative</th>\n",
       "      <th>positive</th>\n",
       "      <th>text</th>\n",
       "    </tr>\n",
       "  </thead>\n",
       "  <tbody>\n",
       "    <tr>\n",
       "      <th>0</th>\n",
       "      <td>16</td>\n",
       "      <td>0</td>\n",
       "      <td>1</td>\n",
       "      <td>Obama has called the GOP budget social Darwini...</td>\n",
       "    </tr>\n",
       "    <tr>\n",
       "      <th>1</th>\n",
       "      <td>13</td>\n",
       "      <td>0</td>\n",
       "      <td>0</td>\n",
       "      <td>In his teen years, Obama has been known to use...</td>\n",
       "    </tr>\n",
       "    <tr>\n",
       "      <th>2</th>\n",
       "      <td>17</td>\n",
       "      <td>0</td>\n",
       "      <td>0</td>\n",
       "      <td>IPA Congratulates President Barack Obama for L...</td>\n",
       "    </tr>\n",
       "    <tr>\n",
       "      <th>3</th>\n",
       "      <td>19</td>\n",
       "      <td>0</td>\n",
       "      <td>0</td>\n",
       "      <td>RT @Professor_Why: #WhatsRomneyHiding - his co...</td>\n",
       "    </tr>\n",
       "    <tr>\n",
       "      <th>4</th>\n",
       "      <td>17</td>\n",
       "      <td>0</td>\n",
       "      <td>0</td>\n",
       "      <td>RT @wardollarshome: Obama has approved more ta...</td>\n",
       "    </tr>\n",
       "  </tbody>\n",
       "</table>\n",
       "</div>"
      ],
      "text/plain": [
       "   length  negative  positive  \\\n",
       "0      16         0         1   \n",
       "1      13         0         0   \n",
       "2      17         0         0   \n",
       "3      19         0         0   \n",
       "4      17         0         0   \n",
       "\n",
       "                                                text  \n",
       "0  Obama has called the GOP budget social Darwini...  \n",
       "1  In his teen years, Obama has been known to use...  \n",
       "2  IPA Congratulates President Barack Obama for L...  \n",
       "3  RT @Professor_Why: #WhatsRomneyHiding - his co...  \n",
       "4  RT @wardollarshome: Obama has approved more ta...  "
      ]
     },
     "execution_count": 80,
     "metadata": {},
     "output_type": "execute_result"
    }
   ],
   "source": [
    "def clean_split(tweet):\n",
    "    ''' Take sentence and return cleaned list of words '''\n",
    "    return [word.strip(punctuation) for word in tweet.lower().split()]\n",
    "\n",
    "def count_sentiment(words, sentiment_list):\n",
    "    ''' Compute length of intersection between two lists'''\n",
    "    return len(set(words).intersection(set(sentiment_list)))\n",
    "\n",
    "def process_tweet(tweet):\n",
    "    ''' Sentiment of tweets. Returns a dictionary.'''\n",
    "\n",
    "    words = clean_split(tweet)\n",
    "    \n",
    "    postive_counter =  count_sentiment(words, positive_words)\n",
    "    negative_counter = count_sentiment(words, negative_words)\n",
    "    \n",
    "    return {'text'     : tweet, \n",
    "            'positive' : postive_counter,\n",
    "            'negative' : negative_counter, \n",
    "            'length'   : len(words)}\n",
    "    \n",
    "sentiment = [process_tweet(tweet) for tweet in obama_tweets]\n",
    "\n",
    "df = pd.DataFrame(sentiment)\n",
    "\n",
    "df.head()"
   ]
  },
  {
   "cell_type": "markdown",
   "metadata": {},
   "source": [
    "#### Some takeaways\n",
    "\n",
    "1. That's most of what you need to know in Python. \n",
    "    1. List comprehension\n",
    "    1. Functions/Classes\n",
    "    1. Python 2 v 3 (`print`, errors, division, strings)\n",
    "2. Start simple.\n",
    "    1.  Develop a solution for one case\n",
    "    2.  Scale up (so make sure your 2A is generalizable.)"
   ]
  }
 ],
 "metadata": {
  "celltoolbar": "Slideshow",
  "kernelspec": {
   "display_name": "Python [default]",
   "language": "python",
   "name": "python2"
  },
  "language_info": {
   "codemirror_mode": {
    "name": "ipython",
    "version": 2
   },
   "file_extension": ".py",
   "mimetype": "text/x-python",
   "name": "python",
   "nbconvert_exporter": "python",
   "pygments_lexer": "ipython2",
   "version": "2.7.13"
  }
 },
 "nbformat": 4,
 "nbformat_minor": 1
}
