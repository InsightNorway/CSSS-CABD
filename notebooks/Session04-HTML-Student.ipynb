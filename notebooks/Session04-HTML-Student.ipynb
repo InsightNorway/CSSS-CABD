{
 "cells": [
  {
   "cell_type": "markdown",
   "metadata": {
    "slideshow": {
     "slide_type": "slide"
    }
   },
   "source": [
    "## Scraping websites"
   ]
  },
  {
   "cell_type": "markdown",
   "metadata": {
    "slideshow": {
     "slide_type": "slide"
    }
   },
   "source": [
    "How I scrape a page\n",
    "\n",
    "1. Look at the source code of a sample page.\n",
    "1. Download the page.\n",
    "2. Find the thing that you want, and the stuff around that thing.\n",
    "3. Write a regular expression that matches what you want.\n",
    "4. Write regular expression that actually matches what you want.\n",
    "5. Test that it works on one page.\n",
    "5. Production!"
   ]
  },
  {
   "cell_type": "markdown",
   "metadata": {
    "slideshow": {
     "slide_type": "slide"
    }
   },
   "source": [
    "How I could also scrape a page\n",
    "\n",
    "1. Look at the source code of a sample page.\n",
    "1. Download the page.\n",
    "2. Find the thing that you want, and the stuff around that thing.\n",
    "3. Parse the HTML. \n",
    "5. Test that it works on one page.\n",
    "5. Production!"
   ]
  },
  {
   "cell_type": "code",
   "execution_count": 4,
   "metadata": {
    "collapsed": true,
    "slideshow": {
     "slide_type": "slide"
    }
   },
   "outputs": [],
   "source": [
    "import requests"
   ]
  },
  {
   "cell_type": "code",
   "execution_count": 5,
   "metadata": {
    "collapsed": true,
    "slideshow": {
     "slide_type": "fragment"
    }
   },
   "outputs": [],
   "source": [
    "url = 'http://mobilizationjournal.org/toc/maiq/22/2'"
   ]
  },
  {
   "cell_type": "code",
   "execution_count": 3,
   "metadata": {
    "slideshow": {
     "slide_type": "fragment"
    }
   },
   "outputs": [
    {
     "name": "stdout",
     "output_type": "stream",
     "text": [
      "http://mobilizationjournal.org/toc/maiq/22/2\n"
     ]
    }
   ],
   "source": [
    "volume = 22\n",
    "issue  = 2\n",
    "\n",
    "url = 'http://mobilizationjournal.org/toc/maiq/%s/%s' % (volume, issue)\n",
    "\n",
    "print(url)"
   ]
  },
  {
   "cell_type": "code",
   "execution_count": 6,
   "metadata": {
    "collapsed": true,
    "slideshow": {
     "slide_type": "slide"
    }
   },
   "outputs": [],
   "source": [
    "url = 'http://mobilizationjournal.org/toc/maiq/22/2'\n",
    "page = requests.get(url)\n",
    "html = page.text"
   ]
  },
  {
   "cell_type": "code",
   "execution_count": 10,
   "metadata": {
    "slideshow": {
     "slide_type": "fragment"
    }
   },
   "outputs": [
    {
     "data": {
      "text/plain": [
       "200"
      ]
     },
     "execution_count": 10,
     "metadata": {},
     "output_type": "execute_result"
    }
   ],
   "source": [
    "page.status_code"
   ]
  },
  {
   "cell_type": "code",
   "execution_count": null,
   "metadata": {
    "collapsed": true,
    "slideshow": {
     "slide_type": "fragment"
    }
   },
   "outputs": [],
   "source": [
    "page.status_code"
   ]
  },
  {
   "cell_type": "code",
   "execution_count": 11,
   "metadata": {
    "slideshow": {
     "slide_type": "slide"
    }
   },
   "outputs": [
    {
     "data": {
      "text/plain": [
       "u'\\n\\n\\n\\n\\n\\n\\n\\n\\n\\n\\n\\n\\n\\n\\n\\n\\n\\n\\n\\n\\n\\n        \\n\\n        \\n                \\n                \\n                \\n                    \\n                    \\n                        \\n                                \\n                            \\n                        \\n                        \\n                    \\n                \\n            \\n        \\n                \\n            \\n    \\n\\n\\n\\n\\n\\n\\n\\n\\n\\n\\n<!DOCTYPE html PUBLIC \"-//W3C//DTD XHTML 1.0 Transitional//EN\" \"http://www.w3.org/TR/xhtml1/DTD/xhtml1-transitional.dtd\">\\n\\n\\n\\n<html xmlns=\"http://www.w3.org/1999/xhtml\" xml:lang=\"en-US\" lang=\"en-US\">\\n<head>\\n    \\n\\n\\n\\n\\n\\n\\n<title>\\n    \\n            Mobilization: An International Quarterly\\n            -\\n            \\n                    Journal - Table of Contents\\n                \\n        \\n</title>\\n\\n    <meta http-equiv=\"Content-Type\" content=\"text/html; charset=UTF-8\" />\\n    \\n<meta name=\"robots\" content=\"noarchive\" />\\n\\n\\n\\n\\n\\n\\n\\n\\n\\n\\n<meta name=\"MSSmartTagsPreventParsing\" content=\"true\"/>\\n\\n\\n\\n\\n    \\n    \\n    <script>\\n        (function(i,s,o,g,r,a,m){i[\\'GoogleAnalyticsObject\\']=r;i[r]=i[r]||function(){\\n            (i[r].q=i[r].q||[]).push(arguments)},i[r].l=1*new Date();a=s.createElement(o),\\n                m=s.getElementsByTagName(o)[0];a.async=1;a.src=g;m.parentNode.insertBefore(a,m)\\n        })(window,document,\\'script\\',\\'//www.google-analytics.com/analytics.js\\',\\'ga\\');\\n\\n        ga(\\'create\\', \\'UA-60157750-4\\', \\'auto\\');\\n        ga(\\'send\\', \\'pageview\\');\\n    </script>\\n\\n\\n\\n\\n\\n\\n\\n\\n\\n    \\n\\n    \\n\\n\\n\\n\\n\\n    \\n    \\n    \\n    <!-- multiple js libraries should be removed once the refactorting from prototype to jquery is complete -->\\n    \\n    <link href=\"/templates/jsp/style.css\" rel=\"stylesheet\" type=\"text/css\" />\\n<link href=\"/templates/jsp/_style2/style.css\" rel=\"stylesheet\" type=\"text/css\" />\\n<link href=\"/templates/jsp/_style2/_AP/style.css\" rel=\"stylesheet\" type=\"text/css\" />\\n<link href=\"/templates/jsp/_style2/_AP/_pinnacle/style.css\" rel=\"stylesheet\" type=\"text/css\" />\\n<link href=\"/templates/jsp/_style2/_AP/css/global.css\" rel=\"stylesheet\" type=\"text/css\" />\\n<link href=\"/templates/jsp/_style2/_AP/_pinnacle/_theme2/css/global.product.css\" rel=\"stylesheet\" type=\"text/css\" />\\n<link href=\"/templates/jsp/_style2/_AP/_pinnacle/css/pinnacle.css\" rel=\"stylesheet\" type=\"text/css\" />\\n<link href=\"/templates/jsp/_style2/_AP/css/widgets.css\" rel=\"stylesheet\" type=\"text/css\" />\\n<link href=\"/templates/jsp/_style2/_AP/_pinnacle/_theme2/css/widgets.product.css\" rel=\"stylesheet\" type=\"text/css\" />\\n<link href=\"/templates/jsp/_style2/_AP/css/headfoot.css\" rel=\"stylesheet\" type=\"text/css\" />\\n<link href=\"/templates/jsp/_style2/_AP/_pinnacle/_theme2/css/headfoot.product.css\" rel=\"stylesheet\" type=\"text/css\" />\\n<link href=\"/templates/jsp/_style2/_AP/css/browse.css\" rel=\"stylesheet\" type=\"text/css\" />\\n<link href=\"/templates/jsp/_style2/_AP/_pinnacle/_theme2/css/browse.product.css\" rel=\"stylesheet\" type=\"text/css\" />\\n\\n    <!--[if lt IE 8]>\\n    <link href=\"/templates/jsp/_style2/_AP/css/ie.css\" rel=\"stylesheet\" type=\"text/css\"/>\\n    <link href=\"/templates/jsp/_style2/_AP/_pinnacle/css/ie.product.css\" rel=\"stylesheet\" type=\"text/css\"/>\\n    <![endif]-->\\n    <!--[if IE 6]><link href=\"/templates/jsp/_style2/_AP/css/ie6.css\" rel=\"stylesheet\" type=\"text/css\"/><![endif]-->\\n    <script type=\"text/javascript\"  src=\"/templates/jsp/_style2/_AP/_pinnacle/js/jquery.js\"></script>\\n<script type=\"text/javascript\"  src=\"/templates/jsp/script.js\"></script>\\n<script type=\"text/javascript\"  src=\"/templates/jsp/_style2/script.js\"></script>\\n<script type=\"text/javascript\"  src=\"/templates/jsp/_style2/_AP/script.js\"></script>\\n<script type=\"text/javascript\"  src=\"/templates/jsp/js/behaviour.js\"></script>\\n<script type=\"text/javascript\"  src=\"/templates/jsp/js/behaviourRules.js\"></script>\\n\\n    \\n\\n\\n<style type=\"text/css\">\\ndiv#headerTopContainer {\\n    background:url(/userimages/ContentEditor/1425330507088/HJDM_navbar.png);\\n    background-color: #CBCCCD;\\n    padding: 0 0;\\n}\\n\\n#journalMenu ul ul {\\n    background:#a3a3a3;\\n}\\n\\n#journalMenu li:hover,\\n  #journalMenu li:hover h2 {\\n  background:#c1c1c1 !important;\\n}\\n\\n#journalMenu h2 a {\\n    font-size:10pt;\\n    font-family:Verdana;\\n    color:#434343;\\n}\\n\\n#journalMenu ul ul {\\n    background:#a3a3a3;\\n}\\n\\ndiv#journalMenu ul li:hover ul a,\\n  div#journalMenu ul ul li:hover ul a,\\n  div#journalMenu ul ul ul li:hover ul a {\\n    font-size:10pt;\\n    font-family:Verdana;\\n    color:#ffffff;\\n}\\n\\n.panelHeading, .panelFooter {\\n    background-color:#a4a4a4;\\n    color:#000000;\\n}\\n\\ndiv.panelBody {\\n    background-color:#dddddd;\\n    border-color:#a4a4a4;\\n    border-width: 0 1px 0 1px;\\n    border-style: solid;\\n}\\n\\n.panelHeading .right {\\n    background-image: url(\\'/templates/jsp/_style2/_AP/_pinnacle/images/curve_right_top2.png\\');\\n}\\n\\n.panelHeading .left {\\n    background-image: url(\\'/templates/jsp/_style2/_AP/_pinnacle/images/curve_left_top.png\\');\\n}\\n\\n.panelFooter .right {\\n    background-image: url(\\'/templates/jsp/_style2/_AP/_pinnacle/images/curve_right_bottom.png\\');\\n}\\n\\n.panelFooter .left {\\n    background-image: url(\\'/templates/jsp/_style2/_AP/_pinnacle/images/curve_left_bottom.png\\');\\n}\\n</style>\\n\\n\\n<style type=\"text/css\">\\ndiv.panelTopRight {\\nbackground-image:url(/templates/jsp/_style2/_AP/_pinnacle/images/curve_right_top2.png);\\nbackground-repeat:no-repeat;\\n}\\ndiv.panelBottomLeft {\\nbackground-image:url(/templates/jsp/_style2/_AP/_pinnacle/images/curve_left_bottom.png);\\nbackground-repeat:no-repeat;\\n}\\ndiv.panelTopLeft {\\nbackground-image:url(/templates/jsp/_style2/_AP/_pinnacle/images/curve_left_top.png);\\nbackground-repeat:no-repeat;\\n}\\ndiv.panelBottomRight {\\nbackground-image:url(/templates/jsp/_style2/_AP/_pinnacle/images/curve_right_bottom.png);\\nbackground-repeat:no-repeat;\\n}\\ndiv#articleNavLinks {\\n\\nmargin-right:0.5em;\\n}\\n</style>\\n    \\n\\n\\n\\n\\n\\n</head>\\n<body class=\"clearfix\">\\n<div id=\"container\">\\n    \\n\\n\\n\\n\\n\\n\\n\\n\\n\\n\\n\\n\\n    <div id=\"header\">\\n        \\n                \\n\\n\\n<a name=\"pageTop\"></a>\\n \\n\\n\\n\\n\\n\\n\\n\\n\\n\\n\\n<div id=\"identity-bar\">\\n    <!-- placeholder id=null, description=Header - Mobile Button -->\\n\\n    \\n        \\n        <span id=\"institution-banner-text\">\\n            \\n        </span>\\n        \\n    \\n\\n    <span id=\"individual-menu\">\\n        \\n\\n        \\n                \\n                \\n                <a href=\"https://pinnacle-secure.allenpress.com/action/showLogin?code=HJDM-site&amp;uri=%2Ftoc%2Fmaiq%2F22%2F2%3Fcode%3Dhjdm-site\">\\n                    Log In\\n                </a>\\n                &nbsp;|&nbsp;\\n                <a href=\"https://pinnacle-secure.allenpress.com/action/registration?code=HJDM-site\">\\n                    Register\\n                </a>\\n            \\n        \\n        \\n            &nbsp;|&nbsp;\\n            <a href=\"/help\">\\n                Help\\n            </a>\\n        \\n        &nbsp;|&nbsp;\\n        \\n        <a href=\"https://pinnacle-secure.allenpress.com/action/showCart?code=HJDM-site\">Cart </a>\\n    </span>\\n</div>\\n<div id=\"headerAds\">\\n    <!-- placeholder id=null, description=Header Message 1 -->\\n    <!-- placeholder id=null, description=Header Message 2 -->\\n    \\n    \\n</div>\\n\\n\\n\\n\\n\\n\\n\\n    <img src=\"/userimages/1314156/banner\" alt=\"Hank Johnston DBA Mobilization Journal\" width=\"980\" />\\n    \\n\\n<div class=\"headerContainer\" id=\"headerTopContainer\">\\n     <div id=\"journalMenu\">         \\n            \\n\\n\\n<ul><li class=\"first\"><h2><a href=\"/?code=hjdm-site\">&emsp; HOME &emsp;</a></h2>\\n</li>\\n</ul><ul><li><h2><a href=\"/loi/maiq?code=hjdm-site\">&emsp; CONTENT &emsp;</a></h2>\\n</li>\\n</ul><ul><li class=\"hasSubmenu\"><h2><a href=\"/page/about?code=hjdm-site\">&emsp; ABOUT &emsp;</a></h2>\\n<ul><li class=\"first\"><a href=\"/action/ecommerce?code=hjdm-site\">Subscribe</a></li>\\n<li><a href=\"https://mobilization.scholasticahq.com/for-authors\" target=\"_blank\">Submit</a></li>\\n<li class=\"last\"><a href=\"https://mobilization.scholasticahq.com/\" target=\"_blank\">Contact</a></li>\\n</ul>\\n</li>\\n</ul><ul><li class=\"last\"><h2><a href=\"/help?code=hjdm-site\">&emsp; HELP &emsp;</a></h2>\\n</li>\\n</ul>       \\n    </div>\\n    <ul id=\"quickSearchBox\">\\n        <li>\\n            \\n\\n\\n\\n\\n<form action=\"/action/doSearch\" name=\"simpleQuickSearchForm1\" method=\"get\"><input id=\"searchQuery\" type=\"text\" name=\"AllField\" value=\"\" size=\"18\" onfocus=\"this.value=\\'\\';\" placeholder=\"Quick Search\" />\\n    \\n    \\n    <input onclick=\"javascript:checkQuickSearchInput(document.simpleQuickSearchForm1,\\'Quick Search\\');return false;\" id=\"gosearch\" type=\"submit\" value=\"\" alt=\"Search\" /></form>\\n        </li>\\n    </ul>\\n</div>\\n\\n    <div id=\"breadcrumbs\">\\n        <table class=\"headerBreadcrumbs\">\\n            <tr>\\n                <td>\\n                    \\n\\n\\n\\n\\n\\n    <a href=\"/\">Home</a>\\n    \\n        &gt;\\n        \\n                <a href=\"/loi/maiq\">\\n                    Mobilization: An International Quarterly\\n                </a>\\n            \\n    \\n        &gt;\\n        \\n                June 2017\\n            \\n    \\n\\n\\n\\n                </td>\\n                <td class=\"headerAdvancedSearch\">\\n                    <a href=\"/search/advanced\">Advanced Search</a>\\n                    <!-- placeholder id=null, description=Google Translator Widget -->\\n                </td>\\n            </tr>\\n        </table>\\n    </div>\\n\\n\\n            \\n    </div>\\n    <div id=\"content\">\\n        <div class=\"panelContent\">\\n            <table cellspacing=\"0\" cellpadding=\"0\" border=\"0\" width=\"980\">\\n            <tbody>\\n                <tr valign=\"top\">\\n                    <!-- Left Nav-->\\n                    <!-- Custom Nav links -->\\n                    <td width=\"228\">\\n                        <div id=\"leftCol\">\\n\\n\\n\\n\\n\\n\\n\\n<ul id=\"customLinks\">        <li style=\"border:1px solid #691a1a !important;\"><a href=\"/action/ecommerce\">Subscribe</a><br /></li><li style=\"border:1px solid #691a1a !important;\"><a href=\"https://mobilization.scholasticahq.com/for-authors\" target=\"_blank\">Submit</a><br /></li><li style=\"border:1px solid #691a1a !important;\"><a href=\"https://mobilization.scholasticahq.com/\" target=\"_blank\">Contact</a><br /></li>    </ul>\\n\\n\\n\\n\\n\\n        <!-- placeholder id=null, description=Journal Message 1 -->\\n    \\n\\n\\n\\n\\n\\n\\n\\n\\n\\n        <!-- placeholder id=null, description=Journal Message 2 -->\\n    \\n\\n\\n\\n\\n\\n\\n\\n\\n\\n        <!-- placeholder id=null, description=Journal Message 3 -->\\n    \\n\\n\\n\\n\\n\\n\\n\\n\\n        <!-- placeholder id=null, description=Journal Message 4 -->\\n    \\n\\n\\n\\n\\n\\n\\n\\n\\n        <!-- placeholder id=null, description=Journal Message 5 -->\\n    \\n\\n\\n</div>\\n                    </td>\\n                    <td class=\"bc\">\\n                        <div id=\"middleCol\"><form name=\"frmAbs\" action=\"\">\\n            \\n\\n\\n\\n\\n\\n\\n\\n\\n\\n\\n    \\n        <div class=\"article_tools\">\\n            \\n\\n\\n\\n\\n\\n<div id=\"articleNavLinks\">\\n    <table cellspacing=\"10\" cellpadding=\"0\" border=\"0\" id=\"Table9\" class=\"bc\" align=\"center\" valign=\"middle\">\\n        <tbody>\\n        <tr>\\n            \\n            <td>\\n                <div id=\"articleToolsHeading\">\\n                    \\n\\n\\n\\n\\n\\n    \\n\\n                    \\n\\n                    \\n                            Volume 22, Issue 2 <br/>(June 2017)\\n                                        \\n\\n\\n\\n\\n\\n<div class=\"issueEditor\"></div>\\n                        \\n                </div>\\n            </td>\\n            \\n        </tr>\\n        </tbody>\\n    </table>\\n</div>\\n\\n            \\n        \\n\\n\\n\\n\\n    \\n\\n\\n\\n\\n<ul id=\"toolsList\">\\n    \\n    \\n        <li id=\"showAbs\">\\n            <a href=\"javascript:submitArticles(document.frmAbs, \\'/action/showMultipleAbstracts\\')\">\\n                View Abstracts\\n            </a>\\n        </li>\\n        <li class=\"divider\">|</li>\\n    \\n    <li id=\"addToFavs\">\\n        \\n        <a href=\"javascript:submitArticles(document.frmAbs, \\'/personalize/addFavoritePublication\\')\">Add to Favorites</a>\\n    </li>\\n    <li class=\"divider\">|</li>\\n    <li id=\"emailArt\">\\n        \\n        <a href=\"javascript:submitArticles(document.frmAbs, \\'/action/showMailPage\\')\">Share Article</a>\\n    </li>\\n    <li class=\"divider wbr\">|</li>\\n    <li id=\"downloadCit\">\\n        \\n        <a href=\"javascript:submitArticles(document.frmAbs, \\'/action/showCitFormats\\')\">Export Citations</a>\\n    </li>\\n    <li class=\"divider\">|</li>\\n    <li id=\"trackCit\"  title=\"Track Citations shows articles citing this article. You may also sign up to receive an alert when this article is cited in the future via RSS feed.\">\\n        \\n        \\n        Track Citations (<a href=\"/action/addCitationRss?doi=10.17813%2F1086671X-22.2\">RSS</a> | <a href=\"/action/addCitationAlert?doi=10.17813%2F1086671X-22.2&referrer=%2Ftoc%2Fmaiq%2F22%2F2%3Fcode%3Dhjdm-site\">Email</a>)\\n    </li>\\n    \\n</ul>\\n        \\n        </div>\\n    \\n\\n            \\n\\n\\n\\n\\n\\n<div class=\"panel_100p\" id=\"tocPanel\">\\n    <div class=\"panelHeading\">\\n        <div class=\"left\"></div>\\n        <div class=\"content\">\\n            &nbsp;\\n        </div>\\n        <div class=\"right\"></div>\\n    </div>\\n    <div class=\"panelBody\">\\n        <div id=\"marker\">\\n                        <input type=\"checkbox\" name=\"markall\" id=\"markall\" onclick=\"onClickMarkAll(frmAbs)\"/>\\n                        <label for=\"markall\">Select All</label>\\n                    </div>\\n                   <div style=\"float:right\">\\n                       \\n\\n\\n\\n\\n\\n    \\n    <table summary=\"\">\\n        <tr>\\n            <td nowrap=\"nowrap\"></td>\\n            <td nowrap=\"nowrap\">\\n                &nbsp;&nbsp;&nbsp;\\n                <img src=\"/templates/jsp/_style2/_AP/images/openAccess.gif\" alt=\"Open access\" align=\"absbottom\" border=\"0\" />\\n                <span style=\"color:#808080;padding-right: 1px;font-weight: normal\">Open access</span>\\n                &nbsp;&nbsp;&nbsp;\\n                <img src=\"/templates/jsp/_style2/_AP/_pinnacle/_theme2/images/access_full.gif\" alt=\"Full access\" align=\"absbottom\" border=\"0\" />\\n                <span style=\"color:#808080;padding-right: 1px;font-weight: normal\">Full access</span>\\n                &nbsp;&nbsp;&nbsp;\\n                <img src=\"/templates/jsp/_style2/_AP/_pinnacle/_theme2/images/access_part.gif\" alt=\"Partial access\" align=\"absbottom\" border=\"0\" />\\n                <span style=\"color:#808080;padding-right: 1px;font-weight: normal\">Partial access</span>\\n                &nbsp;&nbsp;&nbsp;\\n                <img src=\"/templates/jsp/_style2/_AP/_pinnacle/_theme2/images/access_no.gif\" alt=\"No access\" align=\"absbottom\" border=\"0\" />\\n                <span style=\"color:#808080;padding-right: 1px;font-weight: normal\">No access</span>\\n            </td>\\n        </tr>\\n        <tr>\\n            <td nowrap=\"nowrap\"></td>\\n        </tr>\\n        <tr>\\n            <td nowrap=\"nowrap\"></td>\\n            <td nowrap=\"nowrap\"> &nbsp;&nbsp;&nbsp;</td>\\n        </tr>\\n    </table>\\n\\n\\n                   </div>\\n                   <div style=\"float:left\">\\n                        \\n\\n\\n\\n\\n<div id=\"tocContent\"><!--totalCount7--><!--modified:1500991745000--><h2 class=\"tocHeading\"><span class=\"subj-group\">Articles </span></h2><table border=\"0\" width=\"100%\" class=\"articleEntry\"><tr><td align=\"right\" valign=\"top\" width=\"18\" class=\"nowrap\">131</td><td align=\"right\" valign=\"top\" width=\"18\"><input type=\"checkbox\" name=\"doi\" value=\"10.17813/1086-671X-22-2-131\" /><br /></td><td valign=\"top\"><span class=\"hlFld-Title\"><div class=\"art_title\">ROUTING AROUND ORGANIZATIONS: SELF-DIRECTED POLITICAL CONSUMPTION</div></span><span class=\"hlFld-ContribAuthor\">Jennifer Earl</span>, <span class=\"hlFld-ContribAuthor\">Lauren Copeland</span> and <span class=\"hlFld-ContribAuthor\">Bruce Bimber</span><br /><a class=\"ref nowrap useQueryHash\" href=\"/doi/abs/10.17813/1086-671X-22-2-131\">Abstract</a>\\r\\n\\t\\t\\t| <a class=\"ref nowrap\" target=\"_blank\" title=\"Opens new window\" href=\"/doi/pdf/10.17813/1086-671X-22-2-131\">PDF (373 KB)</a>&nbsp;</td><td align=\"right\" valign=\"top\" width=\"18\"><img src=\"/templates/jsp/_style2/_AP/_pinnacle/_theme2/images/access_no.gif\" alt=\"No Access\" title=\"No Access\" class=\"accessIcon noAccess\" /></td></tr></table><table border=\"0\" width=\"100%\" class=\"articleEntry\"><tr><td align=\"right\" valign=\"top\" width=\"18\" class=\"nowrap\">155</td><td align=\"right\" valign=\"top\" width=\"18\"><input type=\"checkbox\" name=\"doi\" value=\"10.17813/1086-671X-22-2-155\" /><br /></td><td valign=\"top\"><span class=\"hlFld-Title\"><div class=\"art_title\">BRINGING THE FACTORY BACK IN: THE CRUMBLING OF CONSENT AND THE MOLDING OF COLLECTIVE CAPACITY AT WORK</div></span><span class=\"hlFld-ContribAuthor\">Ren\\xe9 Rojas</span><br /><a class=\"ref nowrap useQueryHash\" href=\"/doi/abs/10.17813/1086-671X-22-2-155\">Abstract</a>\\r\\n\\t\\t\\t| <a class=\"ref nowrap\" target=\"_blank\" title=\"Opens new window\" href=\"/doi/pdf/10.17813/1086-671X-22-2-155\">PDF (357 KB)</a>&nbsp;</td><td align=\"right\" valign=\"top\" width=\"18\"><img src=\"/templates/jsp/_style2/_AP/_pinnacle/_theme2/images/access_no.gif\" alt=\"No Access\" title=\"No Access\" class=\"accessIcon noAccess\" /></td></tr></table><table border=\"0\" width=\"100%\" class=\"articleEntry\"><tr><td align=\"right\" valign=\"top\" width=\"18\" class=\"nowrap\">177</td><td align=\"right\" valign=\"top\" width=\"18\"><input type=\"checkbox\" name=\"doi\" value=\"10.17813/1086-671X-22-2-177\" /><br /></td><td valign=\"top\"><span class=\"hlFld-Title\"><div class=\"art_title\">RESPONDING TO THE STREET: GOVERNMENT RESPONSES TO MASS PROTESTS IN DEMOCRACIES</div></span><span class=\"hlFld-ContribAuthor\">Alejandro Milc\\xedades Pe\\xf1a</span> and <span class=\"hlFld-ContribAuthor\">Thomas Richard Davies</span><br /><a class=\"ref nowrap useQueryHash\" href=\"/doi/abs/10.17813/1086-671X-22-2-177\">Abstract</a>\\r\\n\\t\\t\\t| <a class=\"ref nowrap\" target=\"_blank\" title=\"Opens new window\" href=\"/doi/pdf/10.17813/1086-671X-22-2-177\">PDF (1662 KB)</a>&nbsp;</td><td align=\"right\" valign=\"top\" width=\"18\"><img src=\"/templates/jsp/_style2/_AP/_pinnacle/_theme2/images/access_no.gif\" alt=\"No Access\" title=\"No Access\" class=\"accessIcon noAccess\" /></td></tr></table><table border=\"0\" width=\"100%\" class=\"articleEntry\"><tr><td align=\"right\" valign=\"top\" width=\"18\" class=\"nowrap\">201</td><td align=\"right\" valign=\"top\" width=\"18\"><input type=\"checkbox\" name=\"doi\" value=\"10.17813/1086-671X-22-2-201\" /><br /></td><td valign=\"top\"><span class=\"hlFld-Title\"><div class=\"art_title\">VOICING OUTRAGE UNEVENLY: DEMOCRATIC DISSATISFACTION, NONPARTICIPATION, AND PARTICIPATION FREQUENCY IN THE 15-M CAMPAIGN</div></span><span class=\"hlFld-ContribAuthor\">Mart\\xedn Portos</span> and <span class=\"hlFld-ContribAuthor\">Juan Masullo</span><br /><a class=\"ref nowrap useQueryHash\" href=\"/doi/abs/10.17813/1086-671X-22-2-201\">Abstract</a>\\r\\n\\t\\t\\t| <a class=\"ref nowrap\" target=\"_blank\" title=\"Opens new window\" href=\"/doi/pdf/10.17813/1086-671X-22-2-201\">PDF (730 KB)</a>&nbsp;</td><td align=\"right\" valign=\"top\" width=\"18\"><img src=\"/templates/jsp/_style2/_AP/_pinnacle/_theme2/images/access_no.gif\" alt=\"No Access\" title=\"No Access\" class=\"accessIcon noAccess\" /></td></tr></table><table border=\"0\" width=\"100%\" class=\"articleEntry\"><tr><td align=\"right\" valign=\"top\" width=\"18\" class=\"nowrap\">223</td><td align=\"right\" valign=\"top\" width=\"18\"><input type=\"checkbox\" name=\"doi\" value=\"10.17813/1086-671X-22-2-223\" /><br /></td><td valign=\"top\"><span class=\"hlFld-Title\"><div class=\"art_title\">WHAT IS TO BE DONE? AGENCY AND THE CAUSATION OF TRANSFORMATIVE EVENTS IN IRELAND\\'S 1916 RISING AND 1969 LONG MARCH</div></span><span class=\"hlFld-ContribAuthor\">Lorenzo Bosi</span> and <span class=\"hlFld-ContribAuthor\">Donagh Davis</span><br /><a class=\"ref nowrap useQueryHash\" href=\"/doi/abs/10.17813/1086-671X-22-2-223\">Abstract</a>\\r\\n\\t\\t\\t| <a class=\"ref nowrap\" target=\"_blank\" title=\"Opens new window\" href=\"/doi/pdf/10.17813/1086-671X-22-2-223\">PDF (307 KB)</a>&nbsp;</td><td align=\"right\" valign=\"top\" width=\"18\"><img src=\"/templates/jsp/_style2/_AP/_pinnacle/_theme2/images/access_no.gif\" alt=\"No Access\" title=\"No Access\" class=\"accessIcon noAccess\" /></td></tr></table><table border=\"0\" width=\"100%\" class=\"articleEntry\"><tr><td align=\"right\" valign=\"top\" width=\"18\" class=\"nowrap\">245</td><td align=\"right\" valign=\"top\" width=\"18\"><input type=\"checkbox\" name=\"doi\" value=\"10.17813/1086-671X-22-2-245\" /><br /></td><td valign=\"top\"><span class=\"hlFld-Title\"><div class=\"art_title\">WHY ONLY SOME LIFESTYLE ACTIVISTS AVOID STATE-ORIENTED POLITICS: A CASE STUDY IN THE BELGIAN ENVIRONMENTAL MOVEMENT</div></span><span class=\"hlFld-ContribAuthor\">Joost de Moor</span>, <span class=\"hlFld-ContribAuthor\">Sofie Marien</span> and <span class=\"hlFld-ContribAuthor\">Marc Hooghe</span><br /><a class=\"ref nowrap useQueryHash\" href=\"/doi/abs/10.17813/1086-671X-22-2-245\">Abstract</a>\\r\\n\\t\\t\\t| <a class=\"ref nowrap\" target=\"_blank\" title=\"Opens new window\" href=\"/doi/pdf/10.17813/1086-671X-22-2-245\">PDF (285 KB)</a>&nbsp;</td><td align=\"right\" valign=\"top\" width=\"18\"><img src=\"/templates/jsp/_style2/_AP/_pinnacle/_theme2/images/access_no.gif\" alt=\"No Access\" title=\"No Access\" class=\"accessIcon noAccess\" /></td></tr></table><h2 class=\"tocHeading\"><span class=\"subj-group\">Book Reviews </span></h2><table border=\"0\" width=\"100%\" class=\"articleEntry\"><tr><td align=\"right\" valign=\"top\" width=\"18\" class=\"nowrap\">265</td><td align=\"right\" valign=\"top\" width=\"18\"><input type=\"checkbox\" name=\"doi\" value=\"10.17813/1086-671X-22.2.265\" /><br /></td><td valign=\"top\"><span class=\"hlFld-Title\"><div class=\"art_title\">BOOK REVIEWS</div></span><span class=\"hlFld-ContribAuthor\">Deana A. Rohlinger</span><br /><a class=\"ref nowrap useQueryHash\" href=\"/doi/abs/10.17813/1086-671X-22.2.265\">Citation</a>\\r\\n\\t\\t\\t| <a class=\"ref nowrap\" target=\"_blank\" title=\"Opens new window\" href=\"/doi/pdf/10.17813/1086-671X-22.2.265\">PDF (167 KB)</a>&nbsp;</td><td align=\"right\" valign=\"top\" width=\"18\"><img src=\"/templates/jsp/_style2/_AP/_pinnacle/_theme2/images/access_no.gif\" alt=\"No Access\" title=\"No Access\" class=\"accessIcon noAccess\" /></td></tr></table></div>\\n<input type=\"hidden\" name=\"href\" value=\"/toc/maiq/22/2?code=hjdm-site\" />\\n\\n<input type=\"hidden\" name=\"mailPageTitle\" value=\"Table of Contents for Mobilization: An International Quarterly: Volume 22, Issue 2 &lt;br/&gt;(June 2017)\" />\\n\\n\\n                    </div>\\n        \\n        <img class=\"spacer\" src=\"/templates/jsp/images/singlePixel.gif\" />\\n    </div>\\n    <div class=\"panelFooter\">\\n        <div class=\"left\"></div>\\n        <div class=\"content\"></div>\\n        <div class=\"right\"></div>\\n    </div>\\n</div>\\n        </form>\\n        \\n        <span id=\"hide\"><a href=\"/doi/pdf/10.1046/9999-9999.99999\"><!-- Spider trap link --></a></span></div>\\n                    </td>\\n                    <td width=\"200\" class=\"bc\">\\n                        <div id=\"rightCol\">\\n\\n\\n\\n\\n\\n\\n\\n\\n\\n\\n\\n\\n\\n\\n\\n\\n\\n\\n\\n\\n\\n\\n\\n\\n\\n\\n<div class=\"panel_228\" id=\"journalNavPanel\">\\n    <div class=\"panelHeading\">\\n        <div class=\"left\"></div>\\n        <div class=\"content\">\\n            \\n            \\n                    <h3>Volume 22, Issue 2 <br/>(June 2017)</h3>\\n                \\n            \\n        </div>\\n        <div class=\"right\"></div>\\n    </div>\\n    <div class=\"panelBody\">\\n        \\n            <div id=\"nextprev\">\\n                \\n                    <a href=\"/toc/maiq/22/1\">\\n                        &lt; Previous\\n                    </a>\\n                \\n                \\n            </div><br/>\\n        \\n        <div id=\"smallIssueCover\">\\n            \\n                    <a href=\"/loi/maiq\">\\n                    <img src=\"/na101/home/literatum/publisher/pinnacle/journals/covergifs/maiq/cover.jpg\" /><br/>\\n                </a>\\n                \\n            \\n        </div>\\n\\n        \\n\\n\\n\\n\\n\\n\\n<div>\\n    <!-- File is left blank intentionally. -->\\n</div>\\n<br/>\\n\\n\\n\\n    \\n        \\n\\n\\n\\n\\n        <a href=\"/toc/maiq/22/2\">\\n            Current Issue\\n        </a><br/>\\n    \\n    \\n\\n\\n\\n\\n<a href=\"/loi/maiq\">\\n    Available Issues\\n</a><br/>\\n\\n\\n\\n    \\n\\n\\n<div>\\n\\n</div>\\n\\n\\n\\n    \\n\\n\\n\\n\\n\\n\\n\\n\\n\\n\\n        \\n        <img class=\"spacer\" src=\"/templates/jsp/images/singlePixel.gif\" />\\n    </div>\\n    <div class=\"panelFooter\">\\n        <div class=\"left\"></div>\\n        <div class=\"content\"></div>\\n        <div class=\"right\"></div>\\n    </div>\\n</div>\\n\\n\\n\\n\\n\\n\\n\\n\\n<div class=\"panel_228\">\\n    <div class=\"panelHeading\">\\n        <div class=\"left\"></div>\\n        <div class=\"content\">\\n            <h3>Alerts for the Journal</h3>\\n        </div>\\n        <div class=\"right\"></div>\\n    </div>\\n    <div class=\"panelBody\">\\n        Click\\n        \\n        <a href=\"#\" class=\"subscribe-anchor\" >here</a>\\n        to get an email alert for every new issue of <br/> <h3>Mobilization: An International Quarterly</h3>\\n    </div>\\n    <div class=\"panelFooter\">\\n        <div class=\"left\"></div>\\n        <div class=\"content\"></div>\\n        <div class=\"right\"></div>\\n    </div>\\n</div>\\n\\n\\n<div class=\"subscribe-wrapper\">\\n    <span class=\"close-log\">X</span>\\n    <div class=\"subscribe-form\">\\n        \\n\\n\\n<form action=\"/action/doSubscribe\" name=\"emailSubscribe\" method=\"post\"><label class=\"subscribe-form-2-label\">\\n        Email Address:\\n    </label>\\n    <input type=\"email\" name=\"email\" autoFocus=\"autofocus\"  class=\"subscribe-form-2\" required/>\\n    <br><br/>\\n    <input type=\"hidden\" value=\"true\" name=\"fromsubscribe\"/>\\n    <input type=\"hidden\" value=\"addJournal\" name=\"action\"/>\\n    <input type=\"hidden\" value=\"maiq\" name=\"journalCode\"/>\\n    <input type=\"hidden\" value=\"/toc/maiq/22/2?code=hjdm-site\" name=\"referrer\"/>\\n    <input class=\"subscribe-form-2\" type=\"submit\" value=\"Subscribe\"/></form>\\n    </div>\\n</div>\\n\\n<script type=\"text/javascript\">\\n    $(\\'.subscribe-anchor\\').click(function(e){\\n        $(\\'.subscribe-wrapper\\').slideToggle();\\n        e.preventDefault();\\n    });\\n    $(\\'.close-log\\').click(function() {\\n        $(\\'.subscribe-wrapper\\').slideToggle();\\n    });\\n    $(document).keyup(function(e) {\\n        if(e.which == 27){\\n            if($(\\'.subscribe-wrapper\\').css(\"display\") != \\'none\\') {\\n                $(\\'.subscribe-wrapper\\').slideToggle();\\n            }\\n        }\\n    });\\n</script>\\n\\n\\n\\n\\n\\n        <!-- placeholder id=null, description=Journal Message Right 1 -->\\n    \\n\\n\\n\\n\\n\\n\\n\\n\\n\\n\\n\\n \\n\\n\\n\\n\\n\\n\\n\\n    \\n        \\n    \\n\\n\\n\\n\\n\\n\\n\\n\\n<div class=\"panel_228\" id=\"journalInfoPanel\">\\n    <div class=\"panelHeading\">\\n        <div class=\"left\"></div>\\n        <div class=\"content\">\\n            \\n            \\n                    \\n                        <h3>Journal Information</h3>\\n                    \\n                \\n            \\n        </div>\\n        <div class=\"right\"></div>\\n    </div>\\n    <div class=\"panelBody\">\\n        \\n            <table class=\"mceItemTable\">\\r\\n    <tbody>\\r\\n        <tr>\\r\\n            <td><b>ISSN:</b></td>\\r\\n            <td>1086-671X</td>\\r\\n        </tr>\\r\\n        <tr>\\r\\n            <td><b>Frequency:</b></td>\\r\\n            <td>Quarterly</td>\\r\\n        </tr>\\r\\n        <tr>\\r\\n            <td><b>RSS Feed:</b><br /><a href=\"/page/rss\">(What is this?)</a></td>\\r\\n            <td><a href=\"/action/showFeed?type=etoc&amp;feed=rss&amp;jc=maiq\"><img title=\"RSS TOC Feed\" alt=\"rrs icon\" src=\"/userimages/ContentEditor/1422297266654/Rss-icon_24px.png\" /></a></td>\\r\\n        </tr>\\r\\n    </tbody>\\r\\n</table>\\n        \\n        \\n        <img class=\"spacer\" src=\"/templates/jsp/images/singlePixel.gif\" />\\n    </div>\\n    <div class=\"panelFooter\">\\n        <div class=\"left\"></div>\\n        <div class=\"content\"></div>\\n        <div class=\"right\"></div>\\n    </div>\\n</div>\\n\\n\\n\\n\\n\\n\\n\\n\\n\\n \\n\\n\\n\\n\\n\\n\\n\\n    \\n        \\n    \\n\\n\\n\\n\\n\\n\\n\\n\\n<div class=\"panel_228\" id=\"registerPanel\">\\n    <div class=\"panelHeading\">\\n        <div class=\"left\"></div>\\n        <div class=\"content\">\\n            \\n            \\n                    \\n                        <h3>Register for a Profile</h3>\\n                    \\n                \\n            \\n        </div>\\n        <div class=\"right\"></div>\\n    </div>\\n    <div class=\"panelBody\">\\n        \\n        <p><b>Not Yet Registered?</b></p><p style=\"text-align:center;\"><i>Benefits of Registration Include: </i></p><ul>    <li>A Unique User Profile that will allow you to manage your current subscriptions (including online access)</li>    <li>The ability to create favorites lists down to the article level</li>    <li>The ability to customize email alerts to receive specific notifications about the topics you care most about and special offers</li></ul><p><a href=\"/action/registration\"><b>Register Now!</b></a><br /></p>\\n        \\n        \\n        <img class=\"spacer\" src=\"/templates/jsp/images/singlePixel.gif\" />\\n    </div>\\n    <div class=\"panelFooter\">\\n        <div class=\"left\"></div>\\n        <div class=\"content\"></div>\\n        <div class=\"right\"></div>\\n    </div>\\n</div>\\n\\n\\n\\n\\n\\n\\n        <!-- placeholder id=null, description=Journal Message Right 2 -->\\n    \\n\\n\\n\\n\\n\\n\\n\\n\\n\\n        <!-- placeholder id=null, description=Journal Message Right 3 -->\\n    \\n\\n\\n\\n</div>\\n                    </td>\\n                </tr>\\n            </tbody>\\n        </table>\\n        </div>\\n        <div class=\"clearfix\">&nbsp;</div>\\n    </div>\\n    <div id=\"footer\">\\n        \\n\\n\\n\\n\\n<div id=\"linkToTop\">    <a href=\"#pageTop\">        <img src=\"/templates/jsp/_style2/_AP/_pinnacle/images/link_top.gif\" />    </a><br /></div><div id=\"footerCopy\">    <hr /><p style=\"text-align: center;\">    Published by <a href=\"mailto:mobilization@unc.edu\" target=\"_blank\">Mobilization</a><br />    Copyright &copy; 2017 Mobilization. All rights reserved.</p></div>\\n    </div>\\n</div>\\n\\r\\n\\r\\n\\r\\n    \\r\\n\\n</body>\\n</html>\\n\\n\\n\\n'"
      ]
     },
     "execution_count": 11,
     "metadata": {},
     "output_type": "execute_result"
    }
   ],
   "source": []
  },
  {
   "cell_type": "code",
   "execution_count": 13,
   "metadata": {
    "collapsed": true,
    "slideshow": {
     "slide_type": "slide"
    }
   },
   "outputs": [],
   "source": [
    "from IPython.display import HTML"
   ]
  },
  {
   "cell_type": "code",
   "execution_count": 15,
   "metadata": {
    "slideshow": {
     "slide_type": "fragment"
    }
   },
   "outputs": [
    {
     "data": {
      "text/html": [
       "\n",
       "\n",
       "\n",
       "\n",
       "\n",
       "\n",
       "\n",
       "\n",
       "\n",
       "\n",
       "\n",
       "\n",
       "\n",
       "\n",
       "\n",
       "\n",
       "\n",
       "\n",
       "\n",
       "\n",
       "\n",
       "\n",
       "        \n",
       "\n",
       "        \n",
       "                \n",
       "                \n",
       "                \n",
       "                    \n",
       "                    \n",
       "                        \n",
       "                                \n",
       "                            \n",
       "                        \n",
       "                        \n",
       "                    \n",
       "                \n",
       "            \n",
       "        \n",
       "                \n",
       "            \n",
       "    \n",
       "\n",
       "\n",
       "\n",
       "\n",
       "\n",
       "\n",
       "\n",
       "\n",
       "\n",
       "\n",
       "<!DOCTYPE html PUBLIC \"-//W3C//DTD XHTML 1.0 Transitional//EN\" \"http://www.w3.org/TR/xhtml1/DTD/xhtml1-transitional.dtd\">\n",
       "\n",
       "\n",
       "\n",
       "<html xmlns=\"http://www.w3.org/1999/xhtml\" xml:lang=\"en-US\" lang=\"en-US\">\n",
       "<head>\n",
       "    \n",
       "\n",
       "\n",
       "\n",
       "\n",
       "\n",
       "\n",
       "<title>\n",
       "    \n",
       "            Mobilization: An International Quarterly\n",
       "            -\n",
       "            \n",
       "                    Journal - Table of Contents\n",
       "                \n",
       "        \n",
       "</title>\n",
       "\n",
       "    <meta http-equiv=\"Content-Type\" content=\"text/html; charset=UTF-8\" />\n",
       "    \n",
       "<meta name=\"robots\" content=\"noarchive\" />\n",
       "\n",
       "\n",
       "\n",
       "\n",
       "\n",
       "\n",
       "\n",
       "\n",
       "\n",
       "\n",
       "<meta name=\"MSSmartTagsPreventParsing\" content=\"true\"/>\n",
       "\n",
       "\n",
       "\n",
       "\n",
       "    \n",
       "    \n",
       "    <script>\n",
       "        (function(i,s,o,g,r,a,m){i['GoogleAnalyticsObject']=r;i[r]=i[r]||function(){\n",
       "            (i[r].q=i[r].q||[]).push(arguments)},i[r].l=1*new Date();a=s.createElement(o),\n",
       "                m=s.getElementsByTagName(o)[0];a.async=1;a.src=g;m.parentNode.insertBefore(a,m)\n",
       "        })(window,document,'script','//www.google-analytics.com/analytics.js','ga');\n",
       "\n",
       "        ga('create', 'UA-60157750-4', 'auto');\n",
       "        ga('send', 'pageview');\n",
       "    </script>\n",
       "\n",
       "\n",
       "\n",
       "\n",
       "\n",
       "\n",
       "\n",
       "\n",
       "\n",
       "    \n",
       "\n",
       "    \n",
       "\n",
       "\n",
       "\n",
       "\n",
       "\n",
       "    \n",
       "    \n",
       "    \n",
       "    <!-- multiple js libraries should be removed once the refactorting from prototype to jquery is complete -->\n",
       "    \n",
       "    <link href=\"/templates/jsp/style.css\" rel=\"stylesheet\" type=\"text/css\" />\n",
       "<link href=\"/templates/jsp/_style2/style.css\" rel=\"stylesheet\" type=\"text/css\" />\n",
       "<link href=\"/templates/jsp/_style2/_AP/style.css\" rel=\"stylesheet\" type=\"text/css\" />\n",
       "<link href=\"/templates/jsp/_style2/_AP/_pinnacle/style.css\" rel=\"stylesheet\" type=\"text/css\" />\n",
       "<link href=\"/templates/jsp/_style2/_AP/css/global.css\" rel=\"stylesheet\" type=\"text/css\" />\n",
       "<link href=\"/templates/jsp/_style2/_AP/_pinnacle/_theme2/css/global.product.css\" rel=\"stylesheet\" type=\"text/css\" />\n",
       "<link href=\"/templates/jsp/_style2/_AP/_pinnacle/css/pinnacle.css\" rel=\"stylesheet\" type=\"text/css\" />\n",
       "<link href=\"/templates/jsp/_style2/_AP/css/widgets.css\" rel=\"stylesheet\" type=\"text/css\" />\n",
       "<link href=\"/templates/jsp/_style2/_AP/_pinnacle/_theme2/css/widgets.product.css\" rel=\"stylesheet\" type=\"text/css\" />\n",
       "<link href=\"/templates/jsp/_style2/_AP/css/headfoot.css\" rel=\"stylesheet\" type=\"text/css\" />\n",
       "<link href=\"/templates/jsp/_style2/_AP/_pinnacle/_theme2/css/headfoot.product.css\" rel=\"stylesheet\" type=\"text/css\" />\n",
       "<link href=\"/templates/jsp/_style2/_AP/css/browse.css\" rel=\"stylesheet\" type=\"text/css\" />\n",
       "<link href=\"/templates/jsp/_style2/_AP/_pinnacle/_theme2/css/browse.product.css\" rel=\"stylesheet\" type=\"text/css\" />\n",
       "\n",
       "    <!--[if lt IE 8]>\n",
       "    <link href=\"/templates/jsp/_style2/_AP/css/ie.css\" rel=\"stylesheet\" type=\"text/css\"/>\n",
       "    <link href=\"/templates/jsp/_style2/_AP/_pinnacle/css/ie.product.css\" rel=\"stylesheet\" type=\"text/css\"/>\n",
       "    <![endif]-->\n",
       "    <!--[if IE 6]><link href=\"/templates/jsp/_style2/_AP/css/ie6.css\" rel=\"stylesheet\" type=\"text/css\"/><![endif]-->\n",
       "    <script type=\"text/javascript\"  src=\"/templates/jsp/_style2/_AP/_pinnacle/js/jquery.js\"></script>\n",
       "<script type=\"text/javascript\"  src=\"/templates/jsp/script.js\"></script>\n",
       "<script type=\"text/javascript\"  src=\"/templates/jsp/_style2/script.js\"></script>\n",
       "<script type=\"text/javascript\"  src=\"/templates/jsp/_style2/_AP/script.js\"></script>\n",
       "<script type=\"text/javascript\"  src=\"/templates/jsp/js/behaviour.js\"></script>\n",
       "<script type=\"text/javascript\"  src=\"/templates/jsp/js/behaviourRules.js\"></script>\n",
       "\n",
       "    \n",
       "\n",
       "\n",
       "<style type=\"text/css\">\n",
       "div#headerTopContainer {\n",
       "    background:url(/userimages/ContentEditor/1425330507088/HJDM_navbar.png);\n",
       "    background-color: #CBCCCD;\n",
       "    padding: 0 0;\n",
       "}\n",
       "\n",
       "#journalMenu ul ul {\n",
       "    background:#a3a3a3;\n",
       "}\n",
       "\n",
       "#journalMenu li:hover,\n",
       "  #journalMenu li:hover h2 {\n",
       "  background:#c1c1c1 !important;\n",
       "}\n",
       "\n",
       "#journalMenu h2 a {\n",
       "    font-size:10pt;\n",
       "    font-family:Verdana;\n",
       "    color:#434343;\n",
       "}\n",
       "\n",
       "#journalMenu ul ul {\n",
       "    background:#a3a3a3;\n",
       "}\n",
       "\n",
       "div#journalMenu ul li:hover ul a,\n",
       "  div#journalMenu ul ul li:hover ul a,\n",
       "  div#journalMenu ul ul ul li:hover ul a {\n",
       "    font-size:10pt;\n",
       "    font-family:Verdana;\n",
       "    color:#ffffff;\n",
       "}\n",
       "\n",
       ".panelHeading, .panelFooter {\n",
       "    background-color:#a4a4a4;\n",
       "    color:#000000;\n",
       "}\n",
       "\n",
       "div.panelBody {\n",
       "    background-color:#dddddd;\n",
       "    border-color:#a4a4a4;\n",
       "    border-width: 0 1px 0 1px;\n",
       "    border-style: solid;\n",
       "}\n",
       "\n",
       ".panelHeading .right {\n",
       "    background-image: url('/templates/jsp/_style2/_AP/_pinnacle/images/curve_right_top2.png');\n",
       "}\n",
       "\n",
       ".panelHeading .left {\n",
       "    background-image: url('/templates/jsp/_style2/_AP/_pinnacle/images/curve_left_top.png');\n",
       "}\n",
       "\n",
       ".panelFooter .right {\n",
       "    background-image: url('/templates/jsp/_style2/_AP/_pinnacle/images/curve_right_bottom.png');\n",
       "}\n",
       "\n",
       ".panelFooter .left {\n",
       "    background-image: url('/templates/jsp/_style2/_AP/_pinnacle/images/curve_left_bottom.png');\n",
       "}\n",
       "</style>\n",
       "\n",
       "\n",
       "<style type=\"text/css\">\n",
       "div.panelTopRight {\n",
       "background-image:url(/templates/jsp/_style2/_AP/_pinnacle/images/curve_right_top2.png);\n",
       "background-repeat:no-repeat;\n",
       "}\n",
       "div.panelBottomLeft {\n",
       "background-image:url(/templates/jsp/_style2/_AP/_pinnacle/images/curve_left_bottom.png);\n",
       "background-repeat:no-repeat;\n",
       "}\n",
       "div.panelTopLeft {\n",
       "background-image:url(/templates/jsp/_style2/_AP/_pinnacle/images/curve_left_top.png);\n",
       "background-repeat:no-repeat;\n",
       "}\n",
       "div.panelBottomRight {\n",
       "background-image:url(/templates/jsp/_style2/_AP/_pinnacle/images/curve_right_bottom.png);\n",
       "background-repeat:no-repeat;\n",
       "}\n",
       "div#articleNavLinks {\n",
       "\n",
       "margin-right:0.5em;\n",
       "}\n",
       "</style>\n",
       "    \n",
       "\n",
       "\n",
       "\n",
       "\n",
       "\n",
       "</head>\n",
       "<body class=\"clearfix\">\n",
       "<div id=\"container\">\n",
       "    \n",
       "\n",
       "\n",
       "\n",
       "\n",
       "\n",
       "\n",
       "\n",
       "\n",
       "\n",
       "\n",
       "\n",
       "\n",
       "    <div id=\"header\">\n",
       "        \n",
       "                \n",
       "\n",
       "\n",
       "<a name=\"pageTop\"></a>\n",
       " \n",
       "\n",
       "\n",
       "\n",
       "\n",
       "\n",
       "\n",
       "\n",
       "\n",
       "\n",
       "\n",
       "<div id=\"identity-bar\">\n",
       "    <!-- placeholder id=null, description=Header - Mobile Button -->\n",
       "\n",
       "    \n",
       "        \n",
       "        <span id=\"institution-banner-text\">\n",
       "            \n",
       "        </span>\n",
       "        \n",
       "    \n",
       "\n",
       "    <span id=\"individual-menu\">\n",
       "        \n",
       "\n",
       "        \n",
       "                \n",
       "                \n",
       "                <a href=\"https://pinnacle-secure.allenpress.com/action/showLogin?code=HJDM-site&amp;uri=%2Ftoc%2Fmaiq%2F22%2F2%3Fcode%3Dhjdm-site\">\n",
       "                    Log In\n",
       "                </a>\n",
       "                &nbsp;|&nbsp;\n",
       "                <a href=\"https://pinnacle-secure.allenpress.com/action/registration?code=HJDM-site\">\n",
       "                    Register\n",
       "                </a>\n",
       "            \n",
       "        \n",
       "        \n",
       "            &nbsp;|&nbsp;\n",
       "            <a href=\"/help\">\n",
       "                Help\n",
       "            </a>\n",
       "        \n",
       "        &nbsp;|&nbsp;\n",
       "        \n",
       "        <a href=\"https://pinnacle-secure.allenpress.com/action/showCart?code=HJDM-site\">Cart </a>\n",
       "    </span>\n",
       "</div>\n",
       "<div id=\"headerAds\">\n",
       "    <!-- placeholder id=null, description=Header Message 1 -->\n",
       "    <!-- placeholder id=null, description=Header Message 2 -->\n",
       "    \n",
       "    \n",
       "</div>\n",
       "\n",
       "\n",
       "\n",
       "\n",
       "\n",
       "\n",
       "\n",
       "    <img src=\"/userimages/1314156/banner\" alt=\"Hank Johnston DBA Mobilization Journal\" width=\"980\" />\n",
       "    \n",
       "\n",
       "<div class=\"headerContainer\" id=\"headerTopContainer\">\n",
       "     <div id=\"journalMenu\">         \n",
       "            \n",
       "\n",
       "\n",
       "<ul><li class=\"first\"><h2><a href=\"/?code=hjdm-site\">&emsp; HOME &emsp;</a></h2>\n",
       "</li>\n",
       "</ul><ul><li><h2><a href=\"/loi/maiq?code=hjdm-site\">&emsp; CONTENT &emsp;</a></h2>\n",
       "</li>\n",
       "</ul><ul><li class=\"hasSubmenu\"><h2><a href=\"/page/about?code=hjdm-site\">&emsp; ABOUT &emsp;</a></h2>\n",
       "<ul><li class=\"first\"><a href=\"/action/ecommerce?code=hjdm-site\">Subscribe</a></li>\n",
       "<li><a href=\"https://mobilization.scholasticahq.com/for-authors\" target=\"_blank\">Submit</a></li>\n",
       "<li class=\"last\"><a href=\"https://mobilization.scholasticahq.com/\" target=\"_blank\">Contact</a></li>\n",
       "</ul>\n",
       "</li>\n",
       "</ul><ul><li class=\"last\"><h2><a href=\"/help?code=hjdm-site\">&emsp; HELP &emsp;</a></h2>\n",
       "</li>\n",
       "</ul>       \n",
       "    </div>\n",
       "    <ul id=\"quickSearchBox\">\n",
       "        <li>\n",
       "            \n",
       "\n",
       "\n",
       "\n",
       "\n",
       "<form action=\"/action/doSearch\" name=\"simpleQuickSearchForm1\" method=\"get\"><input id=\"searchQuery\" type=\"text\" name=\"AllField\" value=\"\" size=\"18\" onfocus=\"this.value='';\" placeholder=\"Quick Search\" />\n",
       "    \n",
       "    \n",
       "    <input onclick=\"javascript:checkQuickSearchInput(document.simpleQuickSearchForm1,'Quick Search');return false;\" id=\"gosearch\" type=\"submit\" value=\"\" alt=\"Search\" /></form>\n",
       "        </li>\n",
       "    </ul>\n",
       "</div>\n",
       "\n",
       "    <div id=\"breadcrumbs\">\n",
       "        <table class=\"headerBreadcrumbs\">\n",
       "            <tr>\n",
       "                <td>\n",
       "                    \n",
       "\n",
       "\n",
       "\n",
       "\n",
       "\n",
       "    <a href=\"/\">Home</a>\n",
       "    \n",
       "        &gt;\n",
       "        \n",
       "                <a href=\"/loi/maiq\">\n",
       "                    Mobilization: An International Quarterly\n",
       "                </a>\n",
       "            \n",
       "    \n",
       "        &gt;\n",
       "        \n",
       "                June 2017\n",
       "            \n",
       "    \n",
       "\n",
       "\n",
       "\n",
       "                </td>\n",
       "                <td class=\"headerAdvancedSearch\">\n",
       "                    <a href=\"/search/advanced\">Advanced Search</a>\n",
       "                    <!-- placeholder id=null, description=Google Translator Widget -->\n",
       "                </td>\n",
       "            </tr>\n",
       "        </table>\n",
       "    </div>\n",
       "\n",
       "\n",
       "            \n",
       "    </div>\n",
       "    <div id=\"content\">\n",
       "        <div class=\"panelContent\">\n",
       "            <table cellspacing=\"0\" cellpadding=\"0\" border=\"0\" width=\"980\">\n",
       "            <tbody>\n",
       "                <tr valign=\"top\">\n",
       "                    <!-- Left Nav-->\n",
       "                    <!-- Custom Nav links -->\n",
       "                    <td width=\"228\">\n",
       "                        <div id=\"leftCol\">\n",
       "\n",
       "\n",
       "\n",
       "\n",
       "\n",
       "\n",
       "\n",
       "<ul id=\"customLinks\">        <li style=\"border:1px solid #691a1a !important;\"><a href=\"/action/ecommerce\">Subscribe</a><br /></li><li style=\"border:1px solid #691a1a !important;\"><a href=\"https://mobilization.scholasticahq.com/for-authors\" target=\"_blank\">Submit</a><br /></li><li style=\"border:1px solid #691a1a !important;\"><a href=\"https://mobilization.scholasticahq.com/\" target=\"_blank\">Contact</a><br /></li>    </ul>\n",
       "\n",
       "\n",
       "\n",
       "\n",
       "\n",
       "        <!-- placeholder id=null, description=Journal Message 1 -->\n",
       "    \n",
       "\n",
       "\n",
       "\n",
       "\n",
       "\n",
       "\n",
       "\n",
       "\n",
       "\n",
       "        <!-- placeholder id=null, description=Journal Message 2 -->\n",
       "    \n",
       "\n",
       "\n",
       "\n",
       "\n",
       "\n",
       "\n",
       "\n",
       "\n",
       "\n",
       "        <!-- placeholder id=null, description=Journal Message 3 -->\n",
       "    \n",
       "\n",
       "\n",
       "\n",
       "\n",
       "\n",
       "\n",
       "\n",
       "\n",
       "        <!-- placeholder id=null, description=Journal Message 4 -->\n",
       "    \n",
       "\n",
       "\n",
       "\n",
       "\n",
       "\n",
       "\n",
       "\n",
       "\n",
       "        <!-- placeholder id=null, description=Journal Message 5 -->\n",
       "    \n",
       "\n",
       "\n",
       "</div>\n",
       "                    </td>\n",
       "                    <td class=\"bc\">\n",
       "                        <div id=\"middleCol\"><form name=\"frmAbs\" action=\"\">\n",
       "            \n",
       "\n",
       "\n",
       "\n",
       "\n",
       "\n",
       "\n",
       "\n",
       "\n",
       "\n",
       "\n",
       "    \n",
       "        <div class=\"article_tools\">\n",
       "            \n",
       "\n",
       "\n",
       "\n",
       "\n",
       "\n",
       "<div id=\"articleNavLinks\">\n",
       "    <table cellspacing=\"10\" cellpadding=\"0\" border=\"0\" id=\"Table9\" class=\"bc\" align=\"center\" valign=\"middle\">\n",
       "        <tbody>\n",
       "        <tr>\n",
       "            \n",
       "            <td>\n",
       "                <div id=\"articleToolsHeading\">\n",
       "                    \n",
       "\n",
       "\n",
       "\n",
       "\n",
       "\n",
       "    \n",
       "\n",
       "                    \n",
       "\n",
       "                    \n",
       "                            Volume 22, Issue 2 <br/>(June 2017)\n",
       "                                        \n",
       "\n",
       "\n",
       "\n",
       "\n",
       "\n",
       "<div class=\"issueEditor\"></div>\n",
       "                        \n",
       "                </div>\n",
       "            </td>\n",
       "            \n",
       "        </tr>\n",
       "        </tbody>\n",
       "    </table>\n",
       "</div>\n",
       "\n",
       "            \n",
       "        \n",
       "\n",
       "\n",
       "\n",
       "\n",
       "    \n",
       "\n",
       "\n",
       "\n",
       "\n",
       "<ul id=\"toolsList\">\n",
       "    \n",
       "    \n",
       "        <li id=\"showAbs\">\n",
       "            <a href=\"javascript:submitArticles(document.frmAbs, '/action/showMultipleAbstracts')\">\n",
       "                View Abstracts\n",
       "            </a>\n",
       "        </li>\n",
       "        <li class=\"divider\">|</li>\n",
       "    \n",
       "    <li id=\"addToFavs\">\n",
       "        \n",
       "        <a href=\"javascript:submitArticles(document.frmAbs, '/personalize/addFavoritePublication')\">Add to Favorites</a>\n",
       "    </li>\n",
       "    <li class=\"divider\">|</li>\n",
       "    <li id=\"emailArt\">\n",
       "        \n",
       "        <a href=\"javascript:submitArticles(document.frmAbs, '/action/showMailPage')\">Share Article</a>\n",
       "    </li>\n",
       "    <li class=\"divider wbr\">|</li>\n",
       "    <li id=\"downloadCit\">\n",
       "        \n",
       "        <a href=\"javascript:submitArticles(document.frmAbs, '/action/showCitFormats')\">Export Citations</a>\n",
       "    </li>\n",
       "    <li class=\"divider\">|</li>\n",
       "    <li id=\"trackCit\"  title=\"Track Citations shows articles citing this article. You may also sign up to receive an alert when this article is cited in the future via RSS feed.\">\n",
       "        \n",
       "        \n",
       "        Track Citations (<a href=\"/action/addCitationRss?doi=10.17813%2F1086671X-22.2\">RSS</a> | <a href=\"/action/addCitationAlert?doi=10.17813%2F1086671X-22.2&referrer=%2Ftoc%2Fmaiq%2F22%2F2%3Fcode%3Dhjdm-site\">Email</a>)\n",
       "    </li>\n",
       "    \n",
       "</ul>\n",
       "        \n",
       "        </div>\n",
       "    \n",
       "\n",
       "            \n",
       "\n",
       "\n",
       "\n",
       "\n",
       "\n",
       "<div class=\"panel_100p\" id=\"tocPanel\">\n",
       "    <div class=\"panelHeading\">\n",
       "        <div class=\"left\"></div>\n",
       "        <div class=\"content\">\n",
       "            &nbsp;\n",
       "        </div>\n",
       "        <div class=\"right\"></div>\n",
       "    </div>\n",
       "    <div class=\"panelBody\">\n",
       "        <div id=\"marker\">\n",
       "                        <input type=\"checkbox\" name=\"markall\" id=\"markall\" onclick=\"onClickMarkAll(frmAbs)\"/>\n",
       "                        <label for=\"markall\">Select All</label>\n",
       "                    </div>\n",
       "                   <div style=\"float:right\">\n",
       "                       \n",
       "\n",
       "\n",
       "\n",
       "\n",
       "\n",
       "    \n",
       "    <table summary=\"\">\n",
       "        <tr>\n",
       "            <td nowrap=\"nowrap\"></td>\n",
       "            <td nowrap=\"nowrap\">\n",
       "                &nbsp;&nbsp;&nbsp;\n",
       "                <img src=\"/templates/jsp/_style2/_AP/images/openAccess.gif\" alt=\"Open access\" align=\"absbottom\" border=\"0\" />\n",
       "                <span style=\"color:#808080;padding-right: 1px;font-weight: normal\">Open access</span>\n",
       "                &nbsp;&nbsp;&nbsp;\n",
       "                <img src=\"/templates/jsp/_style2/_AP/_pinnacle/_theme2/images/access_full.gif\" alt=\"Full access\" align=\"absbottom\" border=\"0\" />\n",
       "                <span style=\"color:#808080;padding-right: 1px;font-weight: normal\">Full access</span>\n",
       "                &nbsp;&nbsp;&nbsp;\n",
       "                <img src=\"/templates/jsp/_style2/_AP/_pinnacle/_theme2/images/access_part.gif\" alt=\"Partial access\" align=\"absbottom\" border=\"0\" />\n",
       "                <span style=\"color:#808080;padding-right: 1px;font-weight: normal\">Partial access</span>\n",
       "                &nbsp;&nbsp;&nbsp;\n",
       "                <img src=\"/templates/jsp/_style2/_AP/_pinnacle/_theme2/images/access_no.gif\" alt=\"No access\" align=\"absbottom\" border=\"0\" />\n",
       "                <span style=\"color:#808080;padding-right: 1px;font-weight: normal\">No access</span>\n",
       "            </td>\n",
       "        </tr>\n",
       "        <tr>\n",
       "            <td nowrap=\"nowrap\"></td>\n",
       "        </tr>\n",
       "        <tr>\n",
       "            <td nowrap=\"nowrap\"></td>\n",
       "            <td nowrap=\"nowrap\"> &nbsp;&nbsp;&nbsp;</td>\n",
       "        </tr>\n",
       "    </table>\n",
       "\n",
       "\n",
       "                   </div>\n",
       "                   <div style=\"float:left\">\n",
       "                        \n",
       "\n",
       "\n",
       "\n",
       "\n",
       "<div id=\"tocContent\"><!--totalCount7--><!--modified:1500991745000--><h2 class=\"tocHeading\"><span class=\"subj-group\">Articles </span></h2><table border=\"0\" width=\"100%\" class=\"articleEntry\"><tr><td align=\"right\" valign=\"top\" width=\"18\" class=\"nowrap\">131</td><td align=\"right\" valign=\"top\" width=\"18\"><input type=\"checkbox\" name=\"doi\" value=\"10.17813/1086-671X-22-2-131\" /><br /></td><td valign=\"top\"><span class=\"hlFld-Title\"><div class=\"art_title\">ROUTING AROUND ORGANIZATIONS: SELF-DIRECTED POLITICAL CONSUMPTION</div></span><span class=\"hlFld-ContribAuthor\">Jennifer Earl</span>, <span class=\"hlFld-ContribAuthor\">Lauren Copeland</span> and <span class=\"hlFld-ContribAuthor\">Bruce Bimber</span><br /><a class=\"ref nowrap useQueryHash\" href=\"/doi/abs/10.17813/1086-671X-22-2-131\">Abstract</a>\r\n",
       "\t\t\t| <a class=\"ref nowrap\" target=\"_blank\" title=\"Opens new window\" href=\"/doi/pdf/10.17813/1086-671X-22-2-131\">PDF (373 KB)</a>&nbsp;</td><td align=\"right\" valign=\"top\" width=\"18\"><img src=\"/templates/jsp/_style2/_AP/_pinnacle/_theme2/images/access_no.gif\" alt=\"No Access\" title=\"No Access\" class=\"accessIcon noAccess\" /></td></tr></table><table border=\"0\" width=\"100%\" class=\"articleEntry\"><tr><td align=\"right\" valign=\"top\" width=\"18\" class=\"nowrap\">155</td><td align=\"right\" valign=\"top\" width=\"18\"><input type=\"checkbox\" name=\"doi\" value=\"10.17813/1086-671X-22-2-155\" /><br /></td><td valign=\"top\"><span class=\"hlFld-Title\"><div class=\"art_title\">BRINGING THE FACTORY BACK IN: THE CRUMBLING OF CONSENT AND THE MOLDING OF COLLECTIVE CAPACITY AT WORK</div></span><span class=\"hlFld-ContribAuthor\">René Rojas</span><br /><a class=\"ref nowrap useQueryHash\" href=\"/doi/abs/10.17813/1086-671X-22-2-155\">Abstract</a>\r\n",
       "\t\t\t| <a class=\"ref nowrap\" target=\"_blank\" title=\"Opens new window\" href=\"/doi/pdf/10.17813/1086-671X-22-2-155\">PDF (357 KB)</a>&nbsp;</td><td align=\"right\" valign=\"top\" width=\"18\"><img src=\"/templates/jsp/_style2/_AP/_pinnacle/_theme2/images/access_no.gif\" alt=\"No Access\" title=\"No Access\" class=\"accessIcon noAccess\" /></td></tr></table><table border=\"0\" width=\"100%\" class=\"articleEntry\"><tr><td align=\"right\" valign=\"top\" width=\"18\" class=\"nowrap\">177</td><td align=\"right\" valign=\"top\" width=\"18\"><input type=\"checkbox\" name=\"doi\" value=\"10.17813/1086-671X-22-2-177\" /><br /></td><td valign=\"top\"><span class=\"hlFld-Title\"><div class=\"art_title\">RESPONDING TO THE STREET: GOVERNMENT RESPONSES TO MASS PROTESTS IN DEMOCRACIES</div></span><span class=\"hlFld-ContribAuthor\">Alejandro Milcíades Peña</span> and <span class=\"hlFld-ContribAuthor\">Thomas Richard Davies</span><br /><a class=\"ref nowrap useQueryHash\" href=\"/doi/abs/10.17813/1086-671X-22-2-177\">Abstract</a>\r\n",
       "\t\t\t| <a class=\"ref nowrap\" target=\"_blank\" title=\"Opens new window\" href=\"/doi/pdf/10.17813/1086-671X-22-2-177\">PDF (1662 KB)</a>&nbsp;</td><td align=\"right\" valign=\"top\" width=\"18\"><img src=\"/templates/jsp/_style2/_AP/_pinnacle/_theme2/images/access_no.gif\" alt=\"No Access\" title=\"No Access\" class=\"accessIcon noAccess\" /></td></tr></table><table border=\"0\" width=\"100%\" class=\"articleEntry\"><tr><td align=\"right\" valign=\"top\" width=\"18\" class=\"nowrap\">201</td><td align=\"right\" valign=\"top\" width=\"18\"><input type=\"checkbox\" name=\"doi\" value=\"10.17813/1086-671X-22-2-201\" /><br /></td><td valign=\"top\"><span class=\"hlFld-Title\"><div class=\"art_title\">VOICING OUTRAGE UNEVENLY: DEMOCRATIC DISSATISFACTION, NONPARTICIPATION, AND PARTICIPATION FREQUENCY IN THE 15-M CAMPAIGN</div></span><span class=\"hlFld-ContribAuthor\">Martín Portos</span> and <span class=\"hlFld-ContribAuthor\">Juan Masullo</span><br /><a class=\"ref nowrap useQueryHash\" href=\"/doi/abs/10.17813/1086-671X-22-2-201\">Abstract</a>\r\n",
       "\t\t\t| <a class=\"ref nowrap\" target=\"_blank\" title=\"Opens new window\" href=\"/doi/pdf/10.17813/1086-671X-22-2-201\">PDF (730 KB)</a>&nbsp;</td><td align=\"right\" valign=\"top\" width=\"18\"><img src=\"/templates/jsp/_style2/_AP/_pinnacle/_theme2/images/access_no.gif\" alt=\"No Access\" title=\"No Access\" class=\"accessIcon noAccess\" /></td></tr></table><table border=\"0\" width=\"100%\" class=\"articleEntry\"><tr><td align=\"right\" valign=\"top\" width=\"18\" class=\"nowrap\">223</td><td align=\"right\" valign=\"top\" width=\"18\"><input type=\"checkbox\" name=\"doi\" value=\"10.17813/1086-671X-22-2-223\" /><br /></td><td valign=\"top\"><span class=\"hlFld-Title\"><div class=\"art_title\">WHAT IS TO BE DONE? AGENCY AND THE CAUSATION OF TRANSFORMATIVE EVENTS IN IRELAND'S 1916 RISING AND 1969 LONG MARCH</div></span><span class=\"hlFld-ContribAuthor\">Lorenzo Bosi</span> and <span class=\"hlFld-ContribAuthor\">Donagh Davis</span><br /><a class=\"ref nowrap useQueryHash\" href=\"/doi/abs/10.17813/1086-671X-22-2-223\">Abstract</a>\r\n",
       "\t\t\t| <a class=\"ref nowrap\" target=\"_blank\" title=\"Opens new window\" href=\"/doi/pdf/10.17813/1086-671X-22-2-223\">PDF (307 KB)</a>&nbsp;</td><td align=\"right\" valign=\"top\" width=\"18\"><img src=\"/templates/jsp/_style2/_AP/_pinnacle/_theme2/images/access_no.gif\" alt=\"No Access\" title=\"No Access\" class=\"accessIcon noAccess\" /></td></tr></table><table border=\"0\" width=\"100%\" class=\"articleEntry\"><tr><td align=\"right\" valign=\"top\" width=\"18\" class=\"nowrap\">245</td><td align=\"right\" valign=\"top\" width=\"18\"><input type=\"checkbox\" name=\"doi\" value=\"10.17813/1086-671X-22-2-245\" /><br /></td><td valign=\"top\"><span class=\"hlFld-Title\"><div class=\"art_title\">WHY ONLY SOME LIFESTYLE ACTIVISTS AVOID STATE-ORIENTED POLITICS: A CASE STUDY IN THE BELGIAN ENVIRONMENTAL MOVEMENT</div></span><span class=\"hlFld-ContribAuthor\">Joost de Moor</span>, <span class=\"hlFld-ContribAuthor\">Sofie Marien</span> and <span class=\"hlFld-ContribAuthor\">Marc Hooghe</span><br /><a class=\"ref nowrap useQueryHash\" href=\"/doi/abs/10.17813/1086-671X-22-2-245\">Abstract</a>\r\n",
       "\t\t\t| <a class=\"ref nowrap\" target=\"_blank\" title=\"Opens new window\" href=\"/doi/pdf/10.17813/1086-671X-22-2-245\">PDF (285 KB)</a>&nbsp;</td><td align=\"right\" valign=\"top\" width=\"18\"><img src=\"/templates/jsp/_style2/_AP/_pinnacle/_theme2/images/access_no.gif\" alt=\"No Access\" title=\"No Access\" class=\"accessIcon noAccess\" /></td></tr></table><h2 class=\"tocHeading\"><span class=\"subj-group\">Book Reviews </span></h2><table border=\"0\" width=\"100%\" class=\"articleEntry\"><tr><td align=\"right\" valign=\"top\" width=\"18\" class=\"nowrap\">265</td><td align=\"right\" valign=\"top\" width=\"18\"><input type=\"checkbox\" name=\"doi\" value=\"10.17813/1086-671X-22.2.265\" /><br /></td><td valign=\"top\"><span class=\"hlFld-Title\"><div class=\"art_title\">BOOK REVIEWS</div></span><span class=\"hlFld-ContribAuthor\">Deana A. Rohlinger</span><br /><a class=\"ref nowrap useQueryHash\" href=\"/doi/abs/10.17813/1086-671X-22.2.265\">Citation</a>\r\n",
       "\t\t\t| <a class=\"ref nowrap\" target=\"_blank\" title=\"Opens new window\" href=\"/doi/pdf/10.17813/1086-671X-22.2.265\">PDF (167 KB)</a>&nbsp;</td><td align=\"right\" valign=\"top\" width=\"18\"><img src=\"/templates/jsp/_style2/_AP/_pinnacle/_theme2/images/access_no.gif\" alt=\"No Access\" title=\"No Access\" class=\"accessIcon noAccess\" /></td></tr></table></div>\n",
       "<input type=\"hidden\" name=\"href\" value=\"/toc/maiq/22/2?code=hjdm-site\" />\n",
       "\n",
       "<input type=\"hidden\" name=\"mailPageTitle\" value=\"Table of Contents for Mobilization: An International Quarterly: Volume 22, Issue 2 &lt;br/&gt;(June 2017)\" />\n",
       "\n",
       "\n",
       "                    </div>\n",
       "        \n",
       "        <img class=\"spacer\" src=\"/templates/jsp/images/singlePixel.gif\" />\n",
       "    </div>\n",
       "    <div class=\"panelFooter\">\n",
       "        <div class=\"left\"></div>\n",
       "        <div class=\"content\"></div>\n",
       "        <div class=\"right\"></div>\n",
       "    </div>\n",
       "</div>\n",
       "        </form>\n",
       "        \n",
       "        <span id=\"hide\"><a href=\"/doi/pdf/10.1046/9999-9999.99999\"><!-- Spider trap link --></a></span></div>\n",
       "                    </td>\n",
       "                    <td width=\"200\" class=\"bc\">\n",
       "                        <div id=\"rightCol\">\n",
       "\n",
       "\n",
       "\n",
       "\n",
       "\n",
       "\n",
       "\n",
       "\n",
       "\n",
       "\n",
       "\n",
       "\n",
       "\n",
       "\n",
       "\n",
       "\n",
       "\n",
       "\n",
       "\n",
       "\n",
       "\n",
       "\n",
       "\n",
       "\n",
       "\n",
       "\n",
       "<div class=\"panel_228\" id=\"journalNavPanel\">\n",
       "    <div class=\"panelHeading\">\n",
       "        <div class=\"left\"></div>\n",
       "        <div class=\"content\">\n",
       "            \n",
       "            \n",
       "                    <h3>Volume 22, Issue 2 <br/>(June 2017)</h3>\n",
       "                \n",
       "            \n",
       "        </div>\n",
       "        <div class=\"right\"></div>\n",
       "    </div>\n",
       "    <div class=\"panelBody\">\n",
       "        \n",
       "            <div id=\"nextprev\">\n",
       "                \n",
       "                    <a href=\"/toc/maiq/22/1\">\n",
       "                        &lt; Previous\n",
       "                    </a>\n",
       "                \n",
       "                \n",
       "            </div><br/>\n",
       "        \n",
       "        <div id=\"smallIssueCover\">\n",
       "            \n",
       "                    <a href=\"/loi/maiq\">\n",
       "                    <img src=\"/na101/home/literatum/publisher/pinnacle/journals/covergifs/maiq/cover.jpg\" /><br/>\n",
       "                </a>\n",
       "                \n",
       "            \n",
       "        </div>\n",
       "\n",
       "        \n",
       "\n",
       "\n",
       "\n",
       "\n",
       "\n",
       "\n",
       "<div>\n",
       "    <!-- File is left blank intentionally. -->\n",
       "</div>\n",
       "<br/>\n",
       "\n",
       "\n",
       "\n",
       "    \n",
       "        \n",
       "\n",
       "\n",
       "\n",
       "\n",
       "        <a href=\"/toc/maiq/22/2\">\n",
       "            Current Issue\n",
       "        </a><br/>\n",
       "    \n",
       "    \n",
       "\n",
       "\n",
       "\n",
       "\n",
       "<a href=\"/loi/maiq\">\n",
       "    Available Issues\n",
       "</a><br/>\n",
       "\n",
       "\n",
       "\n",
       "    \n",
       "\n",
       "\n",
       "<div>\n",
       "\n",
       "</div>\n",
       "\n",
       "\n",
       "\n",
       "    \n",
       "\n",
       "\n",
       "\n",
       "\n",
       "\n",
       "\n",
       "\n",
       "\n",
       "\n",
       "\n",
       "        \n",
       "        <img class=\"spacer\" src=\"/templates/jsp/images/singlePixel.gif\" />\n",
       "    </div>\n",
       "    <div class=\"panelFooter\">\n",
       "        <div class=\"left\"></div>\n",
       "        <div class=\"content\"></div>\n",
       "        <div class=\"right\"></div>\n",
       "    </div>\n",
       "</div>\n",
       "\n",
       "\n",
       "\n",
       "\n",
       "\n",
       "\n",
       "\n",
       "\n",
       "<div class=\"panel_228\">\n",
       "    <div class=\"panelHeading\">\n",
       "        <div class=\"left\"></div>\n",
       "        <div class=\"content\">\n",
       "            <h3>Alerts for the Journal</h3>\n",
       "        </div>\n",
       "        <div class=\"right\"></div>\n",
       "    </div>\n",
       "    <div class=\"panelBody\">\n",
       "        Click\n",
       "        \n",
       "        <a href=\"#\" class=\"subscribe-anchor\" >here</a>\n",
       "        to get an email alert for every new issue of <br/> <h3>Mobilization: An International Quarterly</h3>\n",
       "    </div>\n",
       "    <div class=\"panelFooter\">\n",
       "        <div class=\"left\"></div>\n",
       "        <div class=\"content\"></div>\n",
       "        <div class=\"right\"></div>\n",
       "    </div>\n",
       "</div>\n",
       "\n",
       "\n",
       "<div class=\"subscribe-wrapper\">\n",
       "    <span class=\"close-log\">X</span>\n",
       "    <div class=\"subscribe-form\">\n",
       "        \n",
       "\n",
       "\n",
       "<form action=\"/action/doSubscribe\" name=\"emailSubscribe\" method=\"post\"><label class=\"subscribe-form-2-label\">\n",
       "        Email Address:\n",
       "    </label>\n",
       "    <input type=\"email\" name=\"email\" autoFocus=\"autofocus\"  class=\"subscribe-form-2\" required/>\n",
       "    <br><br/>\n",
       "    <input type=\"hidden\" value=\"true\" name=\"fromsubscribe\"/>\n",
       "    <input type=\"hidden\" value=\"addJournal\" name=\"action\"/>\n",
       "    <input type=\"hidden\" value=\"maiq\" name=\"journalCode\"/>\n",
       "    <input type=\"hidden\" value=\"/toc/maiq/22/2?code=hjdm-site\" name=\"referrer\"/>\n",
       "    <input class=\"subscribe-form-2\" type=\"submit\" value=\"Subscribe\"/></form>\n",
       "    </div>\n",
       "</div>\n",
       "\n",
       "<script type=\"text/javascript\">\n",
       "    $('.subscribe-anchor').click(function(e){\n",
       "        $('.subscribe-wrapper').slideToggle();\n",
       "        e.preventDefault();\n",
       "    });\n",
       "    $('.close-log').click(function() {\n",
       "        $('.subscribe-wrapper').slideToggle();\n",
       "    });\n",
       "    $(document).keyup(function(e) {\n",
       "        if(e.which == 27){\n",
       "            if($('.subscribe-wrapper').css(\"display\") != 'none') {\n",
       "                $('.subscribe-wrapper').slideToggle();\n",
       "            }\n",
       "        }\n",
       "    });\n",
       "</script>\n",
       "\n",
       "\n",
       "\n",
       "\n",
       "\n",
       "        <!-- placeholder id=null, description=Journal Message Right 1 -->\n",
       "    \n",
       "\n",
       "\n",
       "\n",
       "\n",
       "\n",
       "\n",
       "\n",
       "\n",
       "\n",
       "\n",
       "\n",
       " \n",
       "\n",
       "\n",
       "\n",
       "\n",
       "\n",
       "\n",
       "\n",
       "    \n",
       "        \n",
       "    \n",
       "\n",
       "\n",
       "\n",
       "\n",
       "\n",
       "\n",
       "\n",
       "\n",
       "<div class=\"panel_228\" id=\"journalInfoPanel\">\n",
       "    <div class=\"panelHeading\">\n",
       "        <div class=\"left\"></div>\n",
       "        <div class=\"content\">\n",
       "            \n",
       "            \n",
       "                    \n",
       "                        <h3>Journal Information</h3>\n",
       "                    \n",
       "                \n",
       "            \n",
       "        </div>\n",
       "        <div class=\"right\"></div>\n",
       "    </div>\n",
       "    <div class=\"panelBody\">\n",
       "        \n",
       "            <table class=\"mceItemTable\">\r\n",
       "    <tbody>\r\n",
       "        <tr>\r\n",
       "            <td><b>ISSN:</b></td>\r\n",
       "            <td>1086-671X</td>\r\n",
       "        </tr>\r\n",
       "        <tr>\r\n",
       "            <td><b>Frequency:</b></td>\r\n",
       "            <td>Quarterly</td>\r\n",
       "        </tr>\r\n",
       "        <tr>\r\n",
       "            <td><b>RSS Feed:</b><br /><a href=\"/page/rss\">(What is this?)</a></td>\r\n",
       "            <td><a href=\"/action/showFeed?type=etoc&amp;feed=rss&amp;jc=maiq\"><img title=\"RSS TOC Feed\" alt=\"rrs icon\" src=\"/userimages/ContentEditor/1422297266654/Rss-icon_24px.png\" /></a></td>\r\n",
       "        </tr>\r\n",
       "    </tbody>\r\n",
       "</table>\n",
       "        \n",
       "        \n",
       "        <img class=\"spacer\" src=\"/templates/jsp/images/singlePixel.gif\" />\n",
       "    </div>\n",
       "    <div class=\"panelFooter\">\n",
       "        <div class=\"left\"></div>\n",
       "        <div class=\"content\"></div>\n",
       "        <div class=\"right\"></div>\n",
       "    </div>\n",
       "</div>\n",
       "\n",
       "\n",
       "\n",
       "\n",
       "\n",
       "\n",
       "\n",
       "\n",
       "\n",
       " \n",
       "\n",
       "\n",
       "\n",
       "\n",
       "\n",
       "\n",
       "\n",
       "    \n",
       "        \n",
       "    \n",
       "\n",
       "\n",
       "\n",
       "\n",
       "\n",
       "\n",
       "\n",
       "\n",
       "<div class=\"panel_228\" id=\"registerPanel\">\n",
       "    <div class=\"panelHeading\">\n",
       "        <div class=\"left\"></div>\n",
       "        <div class=\"content\">\n",
       "            \n",
       "            \n",
       "                    \n",
       "                        <h3>Register for a Profile</h3>\n",
       "                    \n",
       "                \n",
       "            \n",
       "        </div>\n",
       "        <div class=\"right\"></div>\n",
       "    </div>\n",
       "    <div class=\"panelBody\">\n",
       "        \n",
       "        <p><b>Not Yet Registered?</b></p><p style=\"text-align:center;\"><i>Benefits of Registration Include: </i></p><ul>    <li>A Unique User Profile that will allow you to manage your current subscriptions (including online access)</li>    <li>The ability to create favorites lists down to the article level</li>    <li>The ability to customize email alerts to receive specific notifications about the topics you care most about and special offers</li></ul><p><a href=\"/action/registration\"><b>Register Now!</b></a><br /></p>\n",
       "        \n",
       "        \n",
       "        <img class=\"spacer\" src=\"/templates/jsp/images/singlePixel.gif\" />\n",
       "    </div>\n",
       "    <div class=\"panelFooter\">\n",
       "        <div class=\"left\"></div>\n",
       "        <div class=\"content\"></div>\n",
       "        <div class=\"right\"></div>\n",
       "    </div>\n",
       "</div>\n",
       "\n",
       "\n",
       "\n",
       "\n",
       "\n",
       "\n",
       "        <!-- placeholder id=null, description=Journal Message Right 2 -->\n",
       "    \n",
       "\n",
       "\n",
       "\n",
       "\n",
       "\n",
       "\n",
       "\n",
       "\n",
       "\n",
       "        <!-- placeholder id=null, description=Journal Message Right 3 -->\n",
       "    \n",
       "\n",
       "\n",
       "\n",
       "</div>\n",
       "                    </td>\n",
       "                </tr>\n",
       "            </tbody>\n",
       "        </table>\n",
       "        </div>\n",
       "        <div class=\"clearfix\">&nbsp;</div>\n",
       "    </div>\n",
       "    <div id=\"footer\">\n",
       "        \n",
       "\n",
       "\n",
       "\n",
       "\n",
       "<div id=\"linkToTop\">    <a href=\"#pageTop\">        <img src=\"/templates/jsp/_style2/_AP/_pinnacle/images/link_top.gif\" />    </a><br /></div><div id=\"footerCopy\">    <hr /><p style=\"text-align: center;\">    Published by <a href=\"mailto:mobilization@unc.edu\" target=\"_blank\">Mobilization</a><br />    Copyright &copy; 2017 Mobilization. All rights reserved.</p></div>\n",
       "    </div>\n",
       "</div>\n",
       "\r\n",
       "\r\n",
       "\r\n",
       "    \r\n",
       "\n",
       "</body>\n",
       "</html>\n",
       "\n",
       "\n",
       "\n"
      ],
      "text/plain": [
       "<IPython.core.display.HTML object>"
      ]
     },
     "execution_count": 15,
     "metadata": {},
     "output_type": "execute_result"
    }
   ],
   "source": [
    "HTML(page.text)"
   ]
  },
  {
   "cell_type": "code",
   "execution_count": 16,
   "metadata": {
    "collapsed": true,
    "slideshow": {
     "slide_type": "slide"
    }
   },
   "outputs": [],
   "source": [
    "page_html = page.text"
   ]
  },
  {
   "cell_type": "code",
   "execution_count": 17,
   "metadata": {
    "collapsed": true,
    "slideshow": {
     "slide_type": "slide"
    }
   },
   "outputs": [],
   "source": [
    "import re"
   ]
  },
  {
   "cell_type": "code",
   "execution_count": 23,
   "metadata": {},
   "outputs": [
    {
     "data": {
      "text/plain": [
       "[]"
      ]
     },
     "execution_count": 23,
     "metadata": {},
     "output_type": "execute_result"
    }
   ],
   "source": [
    "re.findall(' dx.*?g', 'Puppies and dogs are alive. digs are not.')"
   ]
  },
  {
   "cell_type": "code",
   "execution_count": 24,
   "metadata": {},
   "outputs": [
    {
     "data": {
      "text/plain": [
       "[u'div class=\"art_title\">ROUTING AROUND ORGANIZATIONS: SELF-DIRECTED POLITICAL CONSUMPTION<']"
      ]
     },
     "execution_count": 24,
     "metadata": {},
     "output_type": "execute_result"
    }
   ],
   "source": [
    "re.findall('div class=\"art_title\">ROUTING AROUND ORGANIZATIONS: SELF-DIRECTED POLITICAL CONSUMPTION<', page_html)   "
   ]
  },
  {
   "cell_type": "code",
   "execution_count": 25,
   "metadata": {
    "slideshow": {
     "slide_type": "slide"
    }
   },
   "outputs": [
    {
     "data": {
      "text/plain": [
       "[u'div class=\"art_title\">ROUTING AROUND ORGANIZATIONS: SELF-DIRECTED POLITICAL CONSUMPTION<',\n",
       " u'div class=\"art_title\">BRINGING THE FACTORY BACK IN: THE CRUMBLING OF CONSENT AND THE MOLDING OF COLLECTIVE CAPACITY AT WORK<',\n",
       " u'div class=\"art_title\">RESPONDING TO THE STREET: GOVERNMENT RESPONSES TO MASS PROTESTS IN DEMOCRACIES<',\n",
       " u'div class=\"art_title\">VOICING OUTRAGE UNEVENLY: DEMOCRATIC DISSATISFACTION, NONPARTICIPATION, AND PARTICIPATION FREQUENCY IN THE 15-M CAMPAIGN<',\n",
       " u'div class=\"art_title\">WHAT IS TO BE DONE? AGENCY AND THE CAUSATION OF TRANSFORMATIVE EVENTS IN IRELAND\\'S 1916 RISING AND 1969 LONG MARCH<',\n",
       " u'div class=\"art_title\">WHY ONLY SOME LIFESTYLE ACTIVISTS AVOID STATE-ORIENTED POLITICS: A CASE STUDY IN THE BELGIAN ENVIRONMENTAL MOVEMENT<',\n",
       " u'div class=\"art_title\">BOOK REVIEWS<']"
      ]
     },
     "execution_count": 25,
     "metadata": {},
     "output_type": "execute_result"
    }
   ],
   "source": [
    "re.findall('div class=\"art_title\">.*?<', page_html)   "
   ]
  },
  {
   "cell_type": "code",
   "execution_count": 26,
   "metadata": {
    "slideshow": {
     "slide_type": "fragment"
    }
   },
   "outputs": [
    {
     "data": {
      "text/plain": [
       "[u'ROUTING AROUND ORGANIZATIONS: SELF-DIRECTED POLITICAL CONSUMPTION',\n",
       " u'BRINGING THE FACTORY BACK IN: THE CRUMBLING OF CONSENT AND THE MOLDING OF COLLECTIVE CAPACITY AT WORK',\n",
       " u'RESPONDING TO THE STREET: GOVERNMENT RESPONSES TO MASS PROTESTS IN DEMOCRACIES',\n",
       " u'VOICING OUTRAGE UNEVENLY: DEMOCRATIC DISSATISFACTION, NONPARTICIPATION, AND PARTICIPATION FREQUENCY IN THE 15-M CAMPAIGN',\n",
       " u\"WHAT IS TO BE DONE? AGENCY AND THE CAUSATION OF TRANSFORMATIVE EVENTS IN IRELAND'S 1916 RISING AND 1969 LONG MARCH\",\n",
       " u'WHY ONLY SOME LIFESTYLE ACTIVISTS AVOID STATE-ORIENTED POLITICS: A CASE STUDY IN THE BELGIAN ENVIRONMENTAL MOVEMENT',\n",
       " u'BOOK REVIEWS']"
      ]
     },
     "execution_count": 26,
     "metadata": {},
     "output_type": "execute_result"
    }
   ],
   "source": [
    "re.findall('div class=\"art_title\">(.*?)<', page_html)   "
   ]
  },
  {
   "cell_type": "code",
   "execution_count": 34,
   "metadata": {
    "slideshow": {
     "slide_type": "fragment"
    }
   },
   "outputs": [
    {
     "data": {
      "text/plain": [
       "[u'ROUTING AROUND ORGANIZATIONS: SELF-DIRECTED POLITICAL CONSUMPTION',\n",
       " u'BRINGING THE FACTORY BACK IN: THE CRUMBLING OF CONSENT AND THE MOLDING OF COLLECTIVE CAPACITY AT WORK',\n",
       " u'RESPONDING TO THE STREET: GOVERNMENT RESPONSES TO MASS PROTESTS IN DEMOCRACIES',\n",
       " u'VOICING OUTRAGE UNEVENLY: DEMOCRATIC DISSATISFACTION, NONPARTICIPATION, AND PARTICIPATION FREQUENCY IN THE 15-M CAMPAIGN',\n",
       " u\"WHAT IS TO BE DONE? AGENCY AND THE CAUSATION OF TRANSFORMATIVE EVENTS IN IRELAND'S 1916 RISING AND 1969 LONG MARCH\",\n",
       " u'WHY ONLY SOME LIFESTYLE ACTIVISTS AVOID STATE-ORIENTED POLITICS: A CASE STUDY IN THE BELGIAN ENVIRONMENTAL MOVEMENT',\n",
       " u'BOOK REVIEWS']"
      ]
     },
     "execution_count": 34,
     "metadata": {},
     "output_type": "execute_result"
    }
   ],
   "source": [
    "re.findall('div class=\"art_title\">(.*?)<\\/div', page_html)   "
   ]
  },
  {
   "cell_type": "markdown",
   "metadata": {
    "slideshow": {
     "slide_type": "slide"
    }
   },
   "source": [
    "<div class=\"alert alert-info\">\n",
    "Your turn. Find the sizes of all the linked PDFs!\n",
    "</div> "
   ]
  },
  {
   "cell_type": "code",
   "execution_count": 63,
   "metadata": {
    "slideshow": {
     "slide_type": "slide"
    }
   },
   "outputs": [],
   "source": [
    "def find_authors(url):\n",
    "    page = requests.get(url)\n",
    "    page_html = page.text\n",
    "    return re.findall('hlFld-ContribAuthor\">(.*?)<', page_html)"
   ]
  },
  {
   "cell_type": "code",
   "execution_count": 64,
   "metadata": {},
   "outputs": [
    {
     "data": {
      "text/plain": [
       "[u'Mayer Zald',\n",
       " u'Valentine Moghadam',\n",
       " u'Elham Gheytanchi',\n",
       " u'Daniel Myers',\n",
       " u'Karl-Dieter Opp',\n",
       " u'Hermann Brandst\\xe4tter',\n",
       " u'Jeroen Van Laer',\n",
       " u'Melissa Wooten']"
      ]
     },
     "execution_count": 64,
     "metadata": {},
     "output_type": "execute_result"
    }
   ],
   "source": [
    "find_authors('http://mobilizationjournal.org/toc/maiq/16/3')"
   ]
  },
  {
   "cell_type": "code",
   "execution_count": null,
   "metadata": {
    "collapsed": true,
    "slideshow": {
     "slide_type": "fragment"
    }
   },
   "outputs": [],
   "source": [
    "titles = re.findall('div class=\"art_title\">(.*?)<\\/div', page_html)   "
   ]
  },
  {
   "cell_type": "code",
   "execution_count": null,
   "metadata": {
    "collapsed": true,
    "slideshow": {
     "slide_type": "fragment"
    }
   },
   "outputs": [],
   "source": [
    "titles"
   ]
  },
  {
   "cell_type": "code",
   "execution_count": null,
   "metadata": {
    "collapsed": true,
    "slideshow": {
     "slide_type": "slide"
    }
   },
   "outputs": [],
   "source": [
    "issue  = 1\n",
    "\n",
    "url = 'http://mobilizationjournal.org/toc/maiq/%s/%s' % (volume, issue)\n",
    "\n",
    "print(url)\n",
    "\n",
    "page = requests.get(url)\n",
    "page_html = page.text\n",
    "titles =  re.findall('div class=\"art_title\">(.*?)<\\/div', page_html)  \n",
    "\n",
    "print titles\n"
   ]
  },
  {
   "cell_type": "markdown",
   "metadata": {
    "slideshow": {
     "slide_type": "slide"
    }
   },
   "source": [
    "Production time!!!"
   ]
  },
  {
   "cell_type": "code",
   "execution_count": null,
   "metadata": {
    "collapsed": true,
    "slideshow": {
     "slide_type": "fragment"
    }
   },
   "outputs": [],
   "source": [
    "volume = 20\n",
    "\n",
    "for issue in range(1,5):\n",
    "    url = 'http://mobilizationjournal.org/toc/maiq/%s/%s' % (volume, issue)\n",
    "    print url\n"
   ]
  },
  {
   "cell_type": "code",
   "execution_count": null,
   "metadata": {
    "collapsed": true,
    "slideshow": {
     "slide_type": "slide"
    }
   },
   "outputs": [],
   "source": [
    "from time import sleep"
   ]
  },
  {
   "cell_type": "code",
   "execution_count": null,
   "metadata": {
    "collapsed": true,
    "slideshow": {
     "slide_type": "fragment"
    }
   },
   "outputs": [],
   "source": [
    "def get_moby_titles(page_html):\n",
    "    titles =  re.findall('div class=\"art_title\">(.*?)<\\/div', page_html)  \n",
    "    return titles\n",
    "\n",
    "\n",
    "#somewhere to store the titles\n",
    "titles = []\n",
    "volume = 20\n",
    "\n",
    "#Loop through 1 volume pages.\n",
    "for issue in range(1,5):\n",
    "    #construct the URL\n",
    "    url = 'http://mobilizationjournal.org/toc/maiq/%s/%s' % (volume, issue)\n",
    "\n",
    "    #Open the page and grab the HTML\n",
    "    page = requests.get(url)\n",
    "    page_html = page.text\n",
    "    \n",
    "    #Extract the headlines\n",
    "    new_titles = get_moby_titles(page_html) \n",
    "\n",
    "    #Add them to our headline list\n",
    "    titles = titles + new_titles\n",
    "    \n",
    "    #Rest\n",
    "    sleep(1)\n",
    "\n",
    "    \n"
   ]
  },
  {
   "cell_type": "code",
   "execution_count": null,
   "metadata": {
    "collapsed": true,
    "slideshow": {
     "slide_type": "slide"
    }
   },
   "outputs": [],
   "source": [
    "len(titles)"
   ]
  },
  {
   "cell_type": "code",
   "execution_count": null,
   "metadata": {
    "collapsed": true,
    "slideshow": {
     "slide_type": "fragment"
    }
   },
   "outputs": [],
   "source": [
    "titles"
   ]
  },
  {
   "cell_type": "code",
   "execution_count": null,
   "metadata": {
    "collapsed": true,
    "slideshow": {
     "slide_type": "slide"
    }
   },
   "outputs": [],
   "source": [
    "titles[:10]"
   ]
  },
  {
   "cell_type": "code",
   "execution_count": null,
   "metadata": {
    "collapsed": true,
    "slideshow": {
     "slide_type": "slide"
    }
   },
   "outputs": [],
   "source": [
    "titles[-10:]"
   ]
  },
  {
   "cell_type": "code",
   "execution_count": null,
   "metadata": {
    "collapsed": true,
    "slideshow": {
     "slide_type": "fragment"
    }
   },
   "outputs": [],
   "source": [
    "import codecs\n",
    "\n",
    "with codecs.open('moby_titles.txt', 'wb', 'utf8') as outfile:\n",
    "    \n",
    "    #Loop through each of our headlines\n",
    "    for title in titles:\n",
    "        \n",
    "        #'\\n' says End of line\n",
    "        outfile.write(title + '\\n')\n"
   ]
  },
  {
   "cell_type": "code",
   "execution_count": null,
   "metadata": {
    "collapsed": true,
    "slideshow": {
     "slide_type": "fragment"
    }
   },
   "outputs": [],
   "source": [
    "!cat moby_titles.txt"
   ]
  },
  {
   "cell_type": "markdown",
   "metadata": {
    "slideshow": {
     "slide_type": "slide"
    }
   },
   "source": [
    "<div class=\"alert alert-info\"> \n",
    "<h1> Your turn</h1>\n",
    "<p>Find the email addresses of the Univeristy of North Carolina, Chapel Hill Sociology faculty. \n",
    "<p> <em> Remember to put things in functions as soon as possible. </em>\n",
    "<p>Then try your script on the Political Science faculty page. \n",
    "<p>Does the script work for your department?\n",
    "</div>\n",
    "\n"
   ]
  },
  {
   "cell_type": "markdown",
   "metadata": {
    "slideshow": {
     "slide_type": "slide"
    }
   },
   "source": [
    "### Pandas lets you cheat\n",
    "\n",
    "[You had choices.](http://www.sv.uio.no/english/research/phd/summer-school/courses-2017/)"
   ]
  },
  {
   "cell_type": "code",
   "execution_count": null,
   "metadata": {
    "collapsed": true,
    "slideshow": {
     "slide_type": "slide"
    }
   },
   "outputs": [],
   "source": [
    "import pandas as pd\n",
    "\n",
    "url = 'http://www.sv.uio.no/english/research/phd/summer-school/courses-2017/'\n",
    "\n",
    "courses = pd.read_html(url)"
   ]
  },
  {
   "cell_type": "code",
   "execution_count": null,
   "metadata": {
    "collapsed": true,
    "slideshow": {
     "slide_type": "slide"
    }
   },
   "outputs": [],
   "source": [
    "courses[0]"
   ]
  },
  {
   "cell_type": "code",
   "execution_count": null,
   "metadata": {
    "collapsed": true
   },
   "outputs": [],
   "source": [
    "courses[1]"
   ]
  },
  {
   "cell_type": "markdown",
   "metadata": {
    "slideshow": {
     "slide_type": "slide"
    }
   },
   "source": [
    "<div class=\"alert alert-info\"> \n",
    "<h1> Your turn</h1>\n",
    "<p>Scrape the 2015 course listings\n"
   ]
  },
  {
   "cell_type": "code",
   "execution_count": null,
   "metadata": {
    "collapsed": true
   },
   "outputs": [],
   "source": []
  },
  {
   "cell_type": "code",
   "execution_count": null,
   "metadata": {
    "collapsed": true,
    "slideshow": {
     "slide_type": "fragment"
    }
   },
   "outputs": [],
   "source": [
    "from bs4 import BeautifulSoup"
   ]
  },
  {
   "cell_type": "code",
   "execution_count": null,
   "metadata": {
    "collapsed": true,
    "slideshow": {
     "slide_type": "fragment"
    }
   },
   "outputs": [],
   "source": [
    "soup = BeautifulSoup(page_html, \"lxml\")"
   ]
  },
  {
   "cell_type": "code",
   "execution_count": null,
   "metadata": {
    "collapsed": true,
    "slideshow": {
     "slide_type": "fragment"
    }
   },
   "outputs": [],
   "source": [
    "soup.find_all('div', attrs={'class':'art_title'})"
   ]
  },
  {
   "cell_type": "code",
   "execution_count": null,
   "metadata": {
    "collapsed": true,
    "slideshow": {
     "slide_type": "slide"
    }
   },
   "outputs": [],
   "source": [
    "ts = soup.find_all('div', attrs={'class':'art_title'})\n",
    "\n",
    "for i in ts:\n",
    "    print i.contents[0]\n"
   ]
  },
  {
   "cell_type": "code",
   "execution_count": null,
   "metadata": {
    "collapsed": true,
    "slideshow": {
     "slide_type": "fragment"
    }
   },
   "outputs": [],
   "source": [
    "[i.contents[0] for i in ts]"
   ]
  },
  {
   "cell_type": "code",
   "execution_count": null,
   "metadata": {
    "collapsed": true,
    "slideshow": {
     "slide_type": "slide"
    }
   },
   "outputs": [],
   "source": [
    "def load_or_get(volume, issue):\n",
    "    '''\n",
    "    Tries to open a Moby issue. If not found, gets it from the internet.\n",
    "    '''\n",
    "    \n",
    "    file_name = 'moby_%s_%s.html' % (volume, issue)\n",
    "    url       = 'http://mobilizationjournal.org/toc/maiq/%s/%s' % (volume, issue)\n",
    "    \n",
    "    # First, try to find the file stored locally.\n",
    "    try:\n",
    "        with codecs.open(file_name, 'r') as infile:\n",
    "            page_html = infile.read()\n",
    "    # If that didn't work, try getting it from the interent      \n",
    "    except Exception, e:\n",
    "        print 'Going to the internet to get %s-%s' % (issue, volume)\n",
    "        page = requests.get(url)\n",
    "        page_html = page.text\n",
    "            \n",
    "        # Save the file so you only go to the page once. It is polite. \n",
    "        with codecs.open(file_name, 'wb') as outfile:\n",
    "            outfile.write(page_html)\n",
    "    \n",
    "    #don't forget to send the stuff back\n",
    "    return page_html"
   ]
  },
  {
   "cell_type": "code",
   "execution_count": null,
   "metadata": {
    "collapsed": true,
    "slideshow": {
     "slide_type": "fragment"
    }
   },
   "outputs": [],
   "source": [
    "page_html = load_or_get(8,1)"
   ]
  },
  {
   "cell_type": "code",
   "execution_count": null,
   "metadata": {
    "collapsed": true,
    "slideshow": {
     "slide_type": "fragment"
    }
   },
   "outputs": [],
   "source": [
    "page_html = load_or_get(10,1)"
   ]
  },
  {
   "cell_type": "code",
   "execution_count": null,
   "metadata": {
    "collapsed": true,
    "slideshow": {
     "slide_type": "slide"
    }
   },
   "outputs": [],
   "source": [
    "def scrape_headlines(page_html):\n",
    "    titles =  re.findall('div class=\"art_title\">(.*?)<\\/div', page_html)\n",
    "    return titles"
   ]
  },
  {
   "cell_type": "code",
   "execution_count": null,
   "metadata": {
    "collapsed": true,
    "slideshow": {
     "slide_type": "fragment"
    }
   },
   "outputs": [],
   "source": [
    "volume = 13\n",
    "\n",
    "for issue in [1,2]:\n",
    "    page_html = load_or_get(volume, issue)\n",
    "    print  scrape_headlines(page_html)"
   ]
  }
 ],
 "metadata": {
  "celltoolbar": "Slideshow",
  "kernelspec": {
   "display_name": "Python [default]",
   "language": "python",
   "name": "python2"
  },
  "language_info": {
   "codemirror_mode": {
    "name": "ipython",
    "version": 2
   },
   "file_extension": ".py",
   "mimetype": "text/x-python",
   "name": "python",
   "nbconvert_exporter": "python",
   "pygments_lexer": "ipython2",
   "version": "2.7.13"
  }
 },
 "nbformat": 4,
 "nbformat_minor": 1
}
