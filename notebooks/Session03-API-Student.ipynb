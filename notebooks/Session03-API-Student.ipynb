{
 "cells": [
  {
   "cell_type": "markdown",
   "metadata": {
    "slideshow": {
     "slide_type": "slide"
    }
   },
   "source": [
    "### A first API\n",
    "\n",
    "[Chronicling America](http://chroniclingamerica.loc.gov/about/) is a joint project of the National Endowment for the Humanities and the Library of Congress .\n",
    "\n",
    "Search for articles that mention \"[slavery](http://chroniclingamerica.loc.gov/search/pages/results/?andtext=slavery)\"."
   ]
  },
  {
   "cell_type": "markdown",
   "metadata": {
    "slideshow": {
     "slide_type": "slide"
    }
   },
   "source": [
    "<div class=\"alert alert-info\">\n",
    "\n",
    "Look at the URL. What happens if you change the word slavery to abolition? \n",
    "\n",
    "What happens to the URL when you go to the second page? Can you get to page 251?\n",
    "\n",
    "</div>"
   ]
  },
  {
   "cell_type": "markdown",
   "metadata": {
    "slideshow": {
     "slide_type": "slide"
    }
   },
   "source": [
    "What if we append ``&format=json`` to the end of the search URL? \n",
    "\n",
    "\n",
    "http://chroniclingamerica.loc.gov/search/pages/results/?andtext=slavery&format=json\n"
   ]
  },
  {
   "cell_type": "code",
   "execution_count": null,
   "metadata": {
    "collapsed": true,
    "slideshow": {
     "slide_type": "fragment"
    }
   },
   "outputs": [],
   "source": [
    "import requests"
   ]
  },
  {
   "cell_type": "code",
   "execution_count": null,
   "metadata": {
    "collapsed": true,
    "slideshow": {
     "slide_type": "fragment"
    }
   },
   "outputs": [],
   "source": [
    "base_url   = 'http://chroniclingamerica.loc.gov/search/pages/results/'\n",
    "parameters = '?andtext=slavery&format=json'"
   ]
  },
  {
   "cell_type": "code",
   "execution_count": null,
   "metadata": {
    "collapsed": true,
    "slideshow": {
     "slide_type": "fragment"
    }
   },
   "outputs": [],
   "source": [
    "r = requests.get(base_url + parameters)"
   ]
  },
  {
   "cell_type": "code",
   "execution_count": null,
   "metadata": {
    "collapsed": true,
    "slideshow": {
     "slide_type": "slide"
    }
   },
   "outputs": [],
   "source": [
    "search_json = r.json()"
   ]
  },
  {
   "cell_type": "code",
   "execution_count": null,
   "metadata": {
    "slideshow": {
     "slide_type": "fragment"
    }
   },
   "outputs": [],
   "source": [
    "print search_json.keys()"
   ]
  },
  {
   "cell_type": "code",
   "execution_count": null,
   "metadata": {
    "slideshow": {
     "slide_type": "fragment"
    }
   },
   "outputs": [],
   "source": [
    "search_json['totalItems']"
   ]
  },
  {
   "cell_type": "markdown",
   "metadata": {
    "slideshow": {
     "slide_type": "fragment"
    }
   },
   "source": [
    "<div class=\"alert alert-info\">\n",
    "What else is in there? Where is the stuff we want?\n",
    "</div>"
   ]
  },
  {
   "cell_type": "code",
   "execution_count": null,
   "metadata": {
    "slideshow": {
     "slide_type": "slide"
    }
   },
   "outputs": [],
   "source": [
    "first_item = search_json['items'][0]\n",
    "\n",
    "print first_item.keys()"
   ]
  },
  {
   "cell_type": "markdown",
   "metadata": {
    "slideshow": {
     "slide_type": "slide"
    }
   },
   "source": [
    "<div class=\"alert alert-info\">\n",
    "What is the title of the first item?\n",
    "</div>"
   ]
  },
  {
   "cell_type": "code",
   "execution_count": null,
   "metadata": {
    "slideshow": {
     "slide_type": "fragment"
    }
   },
   "outputs": [],
   "source": []
  },
  {
   "cell_type": "code",
   "execution_count": null,
   "metadata": {
    "collapsed": true,
    "slideshow": {
     "slide_type": "slide"
    }
   },
   "outputs": [],
   "source": [
    "import pandas as pd\n",
    "\n",
    "# Make sure all columns are displayed\n",
    "pd.set_option(\"display.max_columns\",101)"
   ]
  },
  {
   "cell_type": "code",
   "execution_count": null,
   "metadata": {
    "slideshow": {
     "slide_type": "slide"
    }
   },
   "outputs": [],
   "source": [
    "df = pd.DataFrame(search_json['items'])\n",
    "\n",
    "df.head(6)"
   ]
  },
  {
   "cell_type": "code",
   "execution_count": null,
   "metadata": {
    "slideshow": {
     "slide_type": "fragment"
    }
   },
   "outputs": [],
   "source": [
    "pd.DataFrame(search_json)"
   ]
  },
  {
   "cell_type": "code",
   "execution_count": null,
   "metadata": {
    "collapsed": true,
    "slideshow": {
     "slide_type": "fragment"
    }
   },
   "outputs": [],
   "source": [
    "df.to_csv('lynching_articles.csv')"
   ]
  },
  {
   "cell_type": "markdown",
   "metadata": {
    "slideshow": {
     "slide_type": "slide"
    }
   },
   "source": [
    "<div class=\"alert alert-info\">\n",
    "Look at the API guidelines. How can we get the third page?\n",
    "</div>"
   ]
  },
  {
   "cell_type": "code",
   "execution_count": null,
   "metadata": {
    "slideshow": {
     "slide_type": "slide"
    }
   },
   "outputs": [],
   "source": [
    "base_url   = 'http://chroniclingamerica.loc.gov/search/pages/results/'\n",
    "\n",
    "### edit this line\n",
    "parameters = '?andtext=slavery&format=json'\n",
    "\n",
    "\n",
    "r = requests.get(base_url + parameters)\n",
    "results =  r.json()\n",
    "\n",
    "print results['startIndex']\n",
    "print results['endIndex']"
   ]
  },
  {
   "cell_type": "code",
   "execution_count": null,
   "metadata": {
    "slideshow": {
     "slide_type": "slide"
    }
   },
   "outputs": [],
   "source": [
    "base_url = 'http://chroniclingamerica.loc.gov/search/pages/results/'\n",
    "parameters = {'andtext': 'lynching',\n",
    "              'page' : 3,\n",
    "              'format'  : 'json'}\n",
    "r = requests.get(base_url, params=parameters)\n",
    "\n",
    "results =  r.json()\n",
    "\n",
    "print results['startIndex']\n",
    "print results['endIndex']"
   ]
  },
  {
   "cell_type": "code",
   "execution_count": null,
   "metadata": {
    "collapsed": true,
    "slideshow": {
     "slide_type": "fragment"
    }
   },
   "outputs": [],
   "source": [
    "def get_articles():\n",
    "    '''\n",
    "    Make calls to the Chronicling America API.\n",
    "    '''\n",
    "    \n",
    "    base_url   = 'http://chroniclingamerica.loc.gov/search/pages/results/'\n",
    "    parameters = {'andtext': 'lynching',\n",
    "                  'page'   : 3,\n",
    "                  'format' : 'json'}\n",
    "    \n",
    "    r = requests.get(base_url, params = parameters)\n",
    "    results =  r.json()\n",
    "    \n",
    "    return results"
   ]
  },
  {
   "cell_type": "code",
   "execution_count": null,
   "metadata": {
    "slideshow": {
     "slide_type": "fragment"
    }
   },
   "outputs": [],
   "source": [
    "results = get_articles()\n",
    "\n",
    "print results['startIndex']\n",
    "print results['endIndex']"
   ]
  },
  {
   "cell_type": "code",
   "execution_count": null,
   "metadata": {
    "collapsed": true,
    "slideshow": {
     "slide_type": "fragment"
    }
   },
   "outputs": [],
   "source": [
    "def get_articles(search_term, page_number):\n",
    "    '''\n",
    "    Make calls to the Chronicling America API.\n",
    "    '''\n",
    "    \n",
    "    base_url = 'http://chroniclingamerica.loc.gov/search/pages/results/'\n",
    "    parameters = {'andtext': search_term,\n",
    "                  'page'   : page_number,\n",
    "                  'format' : 'json'}\n",
    "    \n",
    "    r = requests.get(base_url, params = parameters)\n",
    "    results =  r.json()\n",
    "\n",
    "    return results"
   ]
  },
  {
   "cell_type": "code",
   "execution_count": null,
   "metadata": {
    "slideshow": {
     "slide_type": "fragment"
    }
   },
   "outputs": [],
   "source": [
    "results = get_articles('lynching', 3)\n",
    "\n",
    "print results['startIndex']\n",
    "print results['endIndex']"
   ]
  },
  {
   "cell_type": "code",
   "execution_count": null,
   "metadata": {
    "slideshow": {
     "slide_type": "fragment"
    }
   },
   "outputs": [],
   "source": [
    "for page_number in range(1,4): # range stops before it gets to the last number\n",
    "    results = get_articles('lynching', page_number)\n",
    "    print results['startIndex'], results['endIndex']\n",
    "    "
   ]
  },
  {
   "cell_type": "code",
   "execution_count": null,
   "metadata": {
    "slideshow": {
     "slide_type": "fragment"
    }
   },
   "outputs": [],
   "source": [
    "df = pd.DataFrame() # empty dataframe to store results\n",
    "\n",
    "for page_number in range(1,4):\n",
    "    results = get_articles('lynching', page_number)\n",
    "    new_df = pd.DataFrame(results['items'])\n",
    "    df = df.append(new_df , ignore_index=True) # otherwise, index would be 0-20 3x\n",
    "    \n",
    "print len(df)\n",
    "df.head(5)"
   ]
  },
  {
   "cell_type": "markdown",
   "metadata": {
    "slideshow": {
     "slide_type": "slide"
    }
   },
   "source": [
    "<div class=\"alert alert-info\">\n",
    "<h1> Geocoding</h1>\n",
    "\n",
    "Work in groups of three!\n",
    "<p>\n",
    "You have been handed a list of addresses. You want to geocode them. \n",
    "<p>Read about the Google Maps Geocoding API.\n",
    "<p>On paper, map out your work flow. What functions will you need?\n",
    "\n",
    "</div>"
   ]
  },
  {
   "cell_type": "markdown",
   "metadata": {
    "slideshow": {
     "slide_type": "fragment"
    }
   },
   "source": [
    "File location:\n",
    "\n",
    "https://raw.githubusercontent.com/nealcaren/CSSS-CABD/master/files/locations.csv"
   ]
  },
  {
   "cell_type": "markdown",
   "metadata": {
    "slideshow": {
     "slide_type": "slide"
    }
   },
   "source": [
    "<div class=\"alert alert-info\">\n",
    "\n",
    "My workflow:   \n",
    "   \n",
    "   \n",
    "1. Use `requests` to test out a single address.    \n",
    "2. Turn that into a function that accepts a location.    \n",
    "3. Read in the CSV file with all the locations.    \n",
    "4. Store the results    \n",
    "5. Write them to a CSV.    \n",
    "</div>"
   ]
  },
  {
   "cell_type": "code",
   "execution_count": null,
   "metadata": {
    "collapsed": true,
    "slideshow": {
     "slide_type": "slide"
    }
   },
   "outputs": [],
   "source": [
    "import oauth2"
   ]
  },
  {
   "cell_type": "code",
   "execution_count": null,
   "metadata": {
    "collapsed": true,
    "slideshow": {
     "slide_type": "slide"
    }
   },
   "outputs": [],
   "source": [
    "consumer_key    = 'qDBPo9c_szHVrZwxzo-zDw'\n",
    "consumer_secret = '4we8Jz9rq5J3j15Z5yCUqmgDJjM'\n",
    "token           = 'jeRrhRey_k-emvC_VFLGrlVHrkR4P3UF'\n",
    "token_secret    = 'n-7xHNCxxedmAMYZPQtnh1hd7lI'\n",
    "\n",
    "consumer = oauth2.Consumer(consumer_key, consumer_secret)"
   ]
  },
  {
   "cell_type": "code",
   "execution_count": null,
   "metadata": {
    "slideshow": {
     "slide_type": "slide"
    }
   },
   "outputs": [],
   "source": [
    "category_filter = 'restaurants'\n",
    "location        = 'Oslo, Norway'\n",
    "\n",
    "options         =  'category_filter=%s&location=%s&sort=1' % (category_filter, location)\n",
    "url             = 'http://api.yelp.com/v2/search?' + options\n",
    "\n",
    "oauth_request = oauth2.Request('GET', url, {})\n",
    "\n",
    "oauth_request.update({'oauth_nonce'      : oauth2.generate_nonce(),\n",
    "                      'oauth_timestamp'  : oauth2.generate_timestamp(),\n",
    "                      'oauth_token'       : token,\n",
    "                      'oauth_consumer_key': consumer_key})\n",
    "\n",
    "token = oauth2.Token(token, token_secret)\n",
    "oauth_request.sign_request(oauth2.SignatureMethod_HMAC_SHA1(), consumer, token)\n",
    "signed_url = oauth_request.to_url()\n",
    "\n",
    "print signed_url"
   ]
  },
  {
   "cell_type": "code",
   "execution_count": null,
   "metadata": {
    "slideshow": {
     "slide_type": "slide"
    }
   },
   "outputs": [],
   "source": [
    "resp = requests.get(url=signed_url)\n",
    "oslo_restaurants = resp.json()\n",
    "\n",
    "print oslo_restaurants.keys()"
   ]
  },
  {
   "cell_type": "code",
   "execution_count": null,
   "metadata": {
    "slideshow": {
     "slide_type": "slide"
    }
   },
   "outputs": [],
   "source": [
    "oslo_restaurants['businesses'][1]"
   ]
  },
  {
   "cell_type": "code",
   "execution_count": null,
   "metadata": {
    "slideshow": {
     "slide_type": "slide"
    }
   },
   "outputs": [],
   "source": [
    "print oslo_restaurants['total']\n",
    "print len(oslo_restaurants['businesses'])"
   ]
  },
  {
   "cell_type": "code",
   "execution_count": null,
   "metadata": {
    "collapsed": true,
    "slideshow": {
     "slide_type": "slide"
    }
   },
   "outputs": [],
   "source": [
    "def get_yelp_page(location, offset):\n",
    "    '''\n",
    "    Retrieve one page of results from the Yelp API\n",
    "    Returns a JSON file\n",
    "    '''\n",
    "    # from https://github.com/Yelp/yelp-api/tree/master/v2/python\n",
    "    consumer_key    = 'qDBPo9c_szHVrZwxzo-zDw'\n",
    "    consumer_secret = '4we8Jz9rq5J3j15Z5yCUqmgDJjM'\n",
    "    token           = 'jeRrhRey_k-emvC_VFLGrlVHrkR4P3UF'\n",
    "    token_secret    = 'n-7xHNCxxedmAMYZPQtnh1hd7lI'\n",
    "    \n",
    "    consumer = oauth2.Consumer(consumer_key, consumer_secret)\n",
    "    \n",
    "    url = 'http://api.yelp.com/v2/search?category_filter=restaurants&location=%s&sort=1&offset=%s' % (location, offset)\n",
    "    \n",
    "    oauth_request = oauth2.Request('GET', url, {})\n",
    "    oauth_request.update({'oauth_nonce': oauth2.generate_nonce(),\n",
    "                          'oauth_timestamp': oauth2.generate_timestamp(),\n",
    "                          'oauth_token': token,\n",
    "                          'oauth_consumer_key': consumer_key})\n",
    "    \n",
    "    token = oauth2.Token(token, token_secret)\n",
    "    \n",
    "    oauth_request.sign_request(oauth2.SignatureMethod_HMAC_SHA1(), consumer, token)\n",
    "    \n",
    "    signed_url = oauth_request.to_url()\n",
    "    resp = requests.get(url=signed_url)\n",
    "    return resp.json()\n",
    "\n",
    "def get_yelp_results(location):\n",
    "    '''\n",
    "    Retrive both pages of results from the Yelp API\n",
    "    Returns a dataframe\n",
    "    '''\n",
    "    df = pd.DataFrame()\n",
    "    for offset in [1,21]:\n",
    "        results = get_yelp_page(location, offset)\n",
    "        new_df = pd.DataFrame(results['businesses'])\n",
    "        df = df.append(new_df , ignore_index=True)\n",
    "    return df"
   ]
  },
  {
   "cell_type": "code",
   "execution_count": null,
   "metadata": {
    "slideshow": {
     "slide_type": "slide"
    }
   },
   "outputs": [],
   "source": [
    "ch_df = get_yelp_results('Chapel Hill, NC')\n",
    "\n",
    "print len(ch_df)"
   ]
  },
  {
   "cell_type": "code",
   "execution_count": null,
   "metadata": {
    "slideshow": {
     "slide_type": "fragment"
    }
   },
   "outputs": [],
   "source": [
    "ch_df.keys()"
   ]
  },
  {
   "cell_type": "code",
   "execution_count": null,
   "metadata": {
    "slideshow": {
     "slide_type": "slide"
    }
   },
   "outputs": [],
   "source": [
    "ch_df[['name','categories','review_count','rating']].sort_values(by='rating', ascending=False)"
   ]
  },
  {
   "cell_type": "code",
   "execution_count": null,
   "metadata": {
    "slideshow": {
     "slide_type": "slide"
    }
   },
   "outputs": [],
   "source": [
    "oslo_df = get_yelp_results('Oslo, Norway')\n",
    "oslo_df[['name','categories','review_count','rating']].sort_values(by='rating', ascending=False)\n"
   ]
  },
  {
   "cell_type": "markdown",
   "metadata": {},
   "source": [
    "<div class=\"alert alert-info\">\n",
    "Your turn. Modify the function to take different kinds of business. \n",
    "\n",
    "You can also add a category of business to search for from the [list](https://www.yelp.com/developers/documentation/v2/category_list) of acceptable values. \n",
    "</div>"
   ]
  },
  {
   "cell_type": "markdown",
   "metadata": {
    "slideshow": {
     "slide_type": "slide"
    }
   },
   "source": [
    "<div class=\"alert alert-info\">\n",
    "Your turn. Sign up to be a developer on Twitter. Figure out the next steps...\n",
    "</div>"
   ]
  }
 ],
 "metadata": {
  "anaconda-cloud": {},
  "celltoolbar": "Slideshow",
  "kernelspec": {
   "display_name": "Python [default]",
   "language": "python",
   "name": "python2"
  },
  "language_info": {
   "codemirror_mode": {
    "name": "ipython",
    "version": 2
   },
   "file_extension": ".py",
   "mimetype": "text/x-python",
   "name": "python",
   "nbconvert_exporter": "python",
   "pygments_lexer": "ipython2",
   "version": "2.7.13"
  }
 },
 "nbformat": 4,
 "nbformat_minor": 1
}
