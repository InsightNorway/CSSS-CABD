{
 "cells": [
  {
   "cell_type": "markdown",
   "metadata": {
    "slideshow": {
     "slide_type": "slide"
    }
   },
   "source": [
    "## Scraping websites"
   ]
  },
  {
   "cell_type": "markdown",
   "metadata": {
    "slideshow": {
     "slide_type": "slide"
    }
   },
   "source": [
    "<div class=\"alert alert-info\"> \n",
    "<h1> Your turn</h1>\n",
    "<p>Find the email addresses for the [NYU Sociology faculty](http://as.nyu.edu/sociology/people/faculty.html). \n",
    "<p> <em> Remember to put things in functions as soon as possible. </em>\n",
    "<p>Then try your script on the politics faculty page. Did it work? If not, fix it.\n",
    "</div>\n",
    "\n"
   ]
  },
  {
   "cell_type": "code",
   "execution_count": null,
   "metadata": {
    "collapsed": true,
    "slideshow": {
     "slide_type": "slide"
    }
   },
   "outputs": [],
   "source": [
    "import requests\n",
    "import re\n",
    "import pandas as pd"
   ]
  },
  {
   "cell_type": "code",
   "execution_count": null,
   "metadata": {
    "collapsed": true,
    "slideshow": {
     "slide_type": "fragment"
    }
   },
   "outputs": [],
   "source": [
    "text = 'My email address is mailto:neal.caren@gmail.com so be sure to send me notes.'\n",
    "\n",
    "re.findall('mailto:neal.caren@gmail.com so', text)"
   ]
  },
  {
   "cell_type": "code",
   "execution_count": null,
   "metadata": {
    "collapsed": true,
    "slideshow": {
     "slide_type": "fragment"
    }
   },
   "outputs": [],
   "source": [
    "re.findall('mailto:(.*?) so', text)"
   ]
  },
  {
   "cell_type": "code",
   "execution_count": null,
   "metadata": {
    "collapsed": true,
    "slideshow": {
     "slide_type": "slide"
    }
   },
   "outputs": [],
   "source": [
    "emails = re.findall('mailto:(.*?) so', text)\n",
    "df = pd.DataFrame(emails, columns = ['email_address'])\n",
    "df['department'] = 'Sociology'\n",
    "df"
   ]
  },
  {
   "cell_type": "code",
   "execution_count": null,
   "metadata": {
    "collapsed": true,
    "slideshow": {
     "slide_type": "fragment"
    }
   },
   "outputs": [],
   "source": [
    "df.to_csv('emails.csv')"
   ]
  },
  {
   "cell_type": "markdown",
   "metadata": {
    "slideshow": {
     "slide_type": "slide"
    }
   },
   "source": [
    "Tip 1: You can split the HTML and process each section"
   ]
  },
  {
   "cell_type": "code",
   "execution_count": null,
   "metadata": {
    "collapsed": true,
    "slideshow": {
     "slide_type": "slide"
    }
   },
   "outputs": [],
   "source": [
    "def find_name(slice):\n",
    "    return re.findall('title=\"(.*?)\"', slice)[0]"
   ]
  },
  {
   "cell_type": "code",
   "execution_count": null,
   "metadata": {
    "collapsed": true,
    "slideshow": {
     "slide_type": "slide"
    }
   },
   "outputs": [],
   "source": [
    "def find_email(slice):\n",
    "    return re.findall('mailto:(.*?)\"', slice)[0]"
   ]
  },
  {
   "cell_type": "code",
   "execution_count": null,
   "metadata": {
    "collapsed": true,
    "slideshow": {
     "slide_type": "slide"
    }
   },
   "outputs": [],
   "source": [
    "def scrape_person(slice):\n",
    "    name = find_name(slice)\n",
    "    email = find_email(slice)\n",
    "    entry = {'name' : name,\n",
    "             'email': email }\n",
    "    return entry"
   ]
  },
  {
   "cell_type": "code",
   "execution_count": null,
   "metadata": {
    "collapsed": true,
    "slideshow": {
     "slide_type": "slide"
    }
   },
   "outputs": [],
   "source": [
    "directory = []\n",
    "\n",
    "for slice in slices:\n",
    "    try:\n",
    "        entry = scrape_person(slice)\n",
    "        directory.append(entry)\n",
    "    except:\n",
    "        print 'Empty'\n",
    "              "
   ]
  },
  {
   "cell_type": "code",
   "execution_count": null,
   "metadata": {
    "collapsed": true,
    "slideshow": {
     "slide_type": "slide"
    }
   },
   "outputs": [],
   "source": [
    "df = pd.DataFrame(directory)\n",
    "df"
   ]
  },
  {
   "cell_type": "markdown",
   "metadata": {
    "slideshow": {
     "slide_type": "slide"
    }
   },
   "source": [
    "<div class=\"alert alert-info\"> \n",
    "<h1> Your turn</h1>\n",
    "<p>Add a field for faculty rank (such as Associate or Assistant Professor) to scrape_person.\n",
    "<p> Bonus: Add some try/except to scrape person so it returns results even when it is missing a field (like Abend).\n",
    "</div>\n",
    "\n"
   ]
  },
  {
   "cell_type": "markdown",
   "metadata": {
    "slideshow": {
     "slide_type": "slide"
    }
   },
   "source": [
    "Tip 2: Download Once, Load Many Times"
   ]
  },
  {
   "cell_type": "code",
   "execution_count": null,
   "metadata": {
    "collapsed": true,
    "slideshow": {
     "slide_type": "fragment"
    }
   },
   "outputs": [],
   "source": [
    "import codecs\n",
    "\n",
    "def save_file(text, file_name):\n",
    "    with codecs.open(file_name, 'wb', 'utf8') as outfile:\n",
    "        outfile.write(text)\n"
   ]
  },
  {
   "cell_type": "code",
   "execution_count": null,
   "metadata": {
    "collapsed": true,
    "slideshow": {
     "slide_type": "slide"
    }
   },
   "outputs": [],
   "source": [
    "url = 'http://mobilizationjournal.org/toc/maiq/22/2'\n",
    "html= requests.get(url).text\n",
    "\n",
    "save_file(html, 'moby_22_2.html')\n"
   ]
  },
  {
   "cell_type": "code",
   "execution_count": null,
   "metadata": {
    "collapsed": true,
    "slideshow": {
     "slide_type": "slide"
    }
   },
   "outputs": [],
   "source": [
    "def load_file(file_name):\n",
    "    with codecs.open(file_name, 'rb', 'utf8') as infile:\n",
    "        text = infile.read()\n",
    "    return text"
   ]
  },
  {
   "cell_type": "code",
   "execution_count": null,
   "metadata": {
    "collapsed": true,
    "slideshow": {
     "slide_type": "slide"
    }
   },
   "outputs": [],
   "source": [
    "def download_file(volume, issue):\n",
    "    url = 'http://mobilizationjournal.org/toc/maiq/' + str(issue) + '/' + str(issue)\n",
    "    html= requests.get(url).text\n",
    "    return html"
   ]
  },
  {
   "cell_type": "code",
   "execution_count": null,
   "metadata": {
    "collapsed": true,
    "slideshow": {
     "slide_type": "slide"
    }
   },
   "outputs": [],
   "source": [
    "def load_or_download(volume, issue):\n",
    "    '''Loads a local HTML. If not found, gets the file from the internet.'''\n",
    "    \n",
    "    file_name = 'moby_' + str(volume) + '_' + str(issue) + '.html'\n",
    "    \n",
    "    try:\n",
    "        html = load_file(file_name)\n",
    "    except:\n",
    "        print('Could not find it. Going to the internet')\n",
    "        html = download_file(volume, issue)\n",
    "        save_file(html, file_name)\n",
    "        \n",
    "    return html"
   ]
  },
  {
   "cell_type": "markdown",
   "metadata": {
    "slideshow": {
     "slide_type": "slide"
    }
   },
   "source": [
    "<div class=\"alert alert-info\"> \n",
    "<h1> Your turn. </h1>\n",
    "<p>\n",
    "Modify the functions above to work to download UNC faculty web pages.\n",
    "<p> Hint 1: load_file doesn't need to be changed.\n",
    "<p> Hint 2: Instead of volume and issue, we only have one thing: department, such as sociology or politicalscience (keep it 1 word). \n",
    "<p> Hint 3: download_file needs a new url and to modified based on Hint 2\n",
    "</div>"
   ]
  },
  {
   "cell_type": "code",
   "execution_count": 1,
   "metadata": {
    "collapsed": true,
    "slideshow": {
     "slide_type": "slide"
    }
   },
   "outputs": [],
   "source": [
    "import pandas as pd\n",
    "\n",
    "url = 'http://www.sv.uio.no/english/research/phd/summer-school/courses-2017/'\n",
    "\n",
    "courses = pd.read_html(url)"
   ]
  },
  {
   "cell_type": "code",
   "execution_count": 2,
   "metadata": {
    "collapsed": true,
    "slideshow": {
     "slide_type": "slide"
    }
   },
   "outputs": [],
   "source": [
    "week1_df = courses[0]\n",
    "week2_df = courses[1]"
   ]
  },
  {
   "cell_type": "code",
   "execution_count": 3,
   "metadata": {
    "collapsed": true,
    "slideshow": {
     "slide_type": "slide"
    }
   },
   "outputs": [],
   "source": [
    "week1_df.columns = ['title', 'instructor', 'disciplines']\n",
    "week1_df['date'] = '24 - 28 July 2017'\n"
   ]
  },
  {
   "cell_type": "code",
   "execution_count": 4,
   "metadata": {
    "collapsed": true,
    "slideshow": {
     "slide_type": "slide"
    }
   },
   "outputs": [],
   "source": [
    "week2_df.columns = ['title', 'instructor', 'disciplines']\n",
    "week2_df['date'] = '31 July - 4 August 2017'\n"
   ]
  },
  {
   "cell_type": "code",
   "execution_count": 5,
   "metadata": {
    "slideshow": {
     "slide_type": "slide"
    }
   },
   "outputs": [
    {
     "data": {
      "text/html": [
       "<div>\n",
       "<style>\n",
       "    .dataframe thead tr:only-child th {\n",
       "        text-align: right;\n",
       "    }\n",
       "\n",
       "    .dataframe thead th {\n",
       "        text-align: left;\n",
       "    }\n",
       "\n",
       "    .dataframe tbody tr th {\n",
       "        vertical-align: top;\n",
       "    }\n",
       "</style>\n",
       "<table border=\"1\" class=\"dataframe\">\n",
       "  <thead>\n",
       "    <tr style=\"text-align: right;\">\n",
       "      <th></th>\n",
       "      <th>title</th>\n",
       "      <th>instructor</th>\n",
       "      <th>disciplines</th>\n",
       "      <th>date</th>\n",
       "    </tr>\n",
       "  </thead>\n",
       "  <tbody>\n",
       "    <tr>\n",
       "      <th>0</th>\n",
       "      <td>Mixed Methods: Towards a Methodological Pluralism</td>\n",
       "      <td>Professor Giampietro Gobo, University of Milan...</td>\n",
       "      <td>Research Methodology, Political Science, Socio...</td>\n",
       "      <td>24 - 28 July 2017</td>\n",
       "    </tr>\n",
       "    <tr>\n",
       "      <th>1</th>\n",
       "      <td>Political Violence: A Relational Approach</td>\n",
       "      <td>Professor Donatella della Porta and Assistant ...</td>\n",
       "      <td>Sociology, Political Science</td>\n",
       "      <td>24 - 28 July 2017</td>\n",
       "    </tr>\n",
       "    <tr>\n",
       "      <th>2</th>\n",
       "      <td>Case Study Research Methods</td>\n",
       "      <td>Professor Andrew Bennett, Georgetown Universit...</td>\n",
       "      <td>Research Methodology, Political Science, Socio...</td>\n",
       "      <td>24 - 28 July 2017</td>\n",
       "    </tr>\n",
       "    <tr>\n",
       "      <th>3</th>\n",
       "      <td>Democracy and Democratization</td>\n",
       "      <td>Professor David J. Samuels, University of Minn...</td>\n",
       "      <td>Political Science</td>\n",
       "      <td>24 - 28 July 2017</td>\n",
       "    </tr>\n",
       "    <tr>\n",
       "      <th>4</th>\n",
       "      <td>Democracy and Justice</td>\n",
       "      <td>Professor Ian Shapiro, Yale University, USA</td>\n",
       "      <td>Political Science</td>\n",
       "      <td>24 - 28 July 2017</td>\n",
       "    </tr>\n",
       "    <tr>\n",
       "      <th>0</th>\n",
       "      <td>Climate Change Adaptation and Transformations ...</td>\n",
       "      <td>Professor Karen O'Brien, University of Oslo, N...</td>\n",
       "      <td>Human Geography, Environment and Climate</td>\n",
       "      <td>31 July - 4 August 2017</td>\n",
       "    </tr>\n",
       "    <tr>\n",
       "      <th>1</th>\n",
       "      <td>The Politics of Nature in the Anthropocene: An...</td>\n",
       "      <td>Associate Professor Andrew S. Mathews, Univers...</td>\n",
       "      <td>Anthropology, Environment and Climate</td>\n",
       "      <td>31 July - 4 August 2017</td>\n",
       "    </tr>\n",
       "    <tr>\n",
       "      <th>2</th>\n",
       "      <td>Responsible Research and Innovation</td>\n",
       "      <td>Professor Richard Owen and Senior Lecturer Sar...</td>\n",
       "      <td>Innovation Studies, STS</td>\n",
       "      <td>31 July - 4 August 2017</td>\n",
       "    </tr>\n",
       "    <tr>\n",
       "      <th>3</th>\n",
       "      <td>Collecting and Analyzing Big Data</td>\n",
       "      <td>Associate Professor Neal Caren, University of ...</td>\n",
       "      <td>Economics, Sociology, Big Data</td>\n",
       "      <td>31 July - 4 August 2017</td>\n",
       "    </tr>\n",
       "    <tr>\n",
       "      <th>4</th>\n",
       "      <td>Exploring Educational Transfer</td>\n",
       "      <td>Professor Dr. Florian Waldow, Humboldt-Univers...</td>\n",
       "      <td>Comparative Education, Sociology</td>\n",
       "      <td>31 July - 4 August 2017</td>\n",
       "    </tr>\n",
       "    <tr>\n",
       "      <th>5</th>\n",
       "      <td>Political Psychology</td>\n",
       "      <td>Professor Fathali M. Moghaddam, Georgetown Uni...</td>\n",
       "      <td>Psychology, Political Science</td>\n",
       "      <td>31 July - 4 August 2017</td>\n",
       "    </tr>\n",
       "  </tbody>\n",
       "</table>\n",
       "</div>"
      ],
      "text/plain": [
       "                                               title  \\\n",
       "0  Mixed Methods: Towards a Methodological Pluralism   \n",
       "1          Political Violence: A Relational Approach   \n",
       "2                        Case Study Research Methods   \n",
       "3                      Democracy and Democratization   \n",
       "4                              Democracy and Justice   \n",
       "0  Climate Change Adaptation and Transformations ...   \n",
       "1  The Politics of Nature in the Anthropocene: An...   \n",
       "2                Responsible Research and Innovation   \n",
       "3                  Collecting and Analyzing Big Data   \n",
       "4                     Exploring Educational Transfer   \n",
       "5                               Political Psychology   \n",
       "\n",
       "                                          instructor  \\\n",
       "0  Professor Giampietro Gobo, University of Milan...   \n",
       "1  Professor Donatella della Porta and Assistant ...   \n",
       "2  Professor Andrew Bennett, Georgetown Universit...   \n",
       "3  Professor David J. Samuels, University of Minn...   \n",
       "4        Professor Ian Shapiro, Yale University, USA   \n",
       "0  Professor Karen O'Brien, University of Oslo, N...   \n",
       "1  Associate Professor Andrew S. Mathews, Univers...   \n",
       "2  Professor Richard Owen and Senior Lecturer Sar...   \n",
       "3  Associate Professor Neal Caren, University of ...   \n",
       "4  Professor Dr. Florian Waldow, Humboldt-Univers...   \n",
       "5  Professor Fathali M. Moghaddam, Georgetown Uni...   \n",
       "\n",
       "                                         disciplines                     date  \n",
       "0  Research Methodology, Political Science, Socio...        24 - 28 July 2017  \n",
       "1                       Sociology, Political Science        24 - 28 July 2017  \n",
       "2  Research Methodology, Political Science, Socio...        24 - 28 July 2017  \n",
       "3                                  Political Science        24 - 28 July 2017  \n",
       "4                                  Political Science        24 - 28 July 2017  \n",
       "0           Human Geography, Environment and Climate  31 July - 4 August 2017  \n",
       "1              Anthropology, Environment and Climate  31 July - 4 August 2017  \n",
       "2                            Innovation Studies, STS  31 July - 4 August 2017  \n",
       "3                     Economics, Sociology, Big Data  31 July - 4 August 2017  \n",
       "4                   Comparative Education, Sociology  31 July - 4 August 2017  \n",
       "5                      Psychology, Political Science  31 July - 4 August 2017  "
      ]
     },
     "execution_count": 5,
     "metadata": {},
     "output_type": "execute_result"
    }
   ],
   "source": [
    "catalog_df = week1_df.append(week2_df)\n",
    "\n",
    "catalog_df"
   ]
  },
  {
   "cell_type": "code",
   "execution_count": 6,
   "metadata": {
    "collapsed": true
   },
   "outputs": [],
   "source": [
    "catalog_df.to_csv('catalog.csv', encoding='utf8')"
   ]
  },
  {
   "cell_type": "markdown",
   "metadata": {
    "slideshow": {
     "slide_type": "slide"
    }
   },
   "source": [
    "<div class=\"alert alert-info\"> \n",
    "<h1> Your turn</h1>\n",
    "<p>Scrape the 2016 course listings. Add it to our catalog.\n"
   ]
  },
  {
   "cell_type": "markdown",
   "metadata": {
    "collapsed": true,
    "slideshow": {
     "slide_type": "slide"
    }
   },
   "source": [
    "### Still stuck?\n"
   ]
  },
  {
   "cell_type": "markdown",
   "metadata": {
    "slideshow": {
     "slide_type": "fragment"
    }
   },
   "source": [
    "Tip 5: Spoofing a browser\n",
    "\n",
    "`headers = {'user-agent': 'Mozilla/5.0 (Macintosh; Intel Mac OS X 10_12_5) AppleWebKit/537.36 (KHTML, like Gecko) Chrome/59.0.3071.115 Safari/537.36'}`\n",
    "\n",
    "`r = requests.get(url, headers=headers)`"
   ]
  },
  {
   "cell_type": "markdown",
   "metadata": {
    "slideshow": {
     "slide_type": "slide"
    }
   },
   "source": [
    "Tip 6: Keep cookies\n",
    "\n",
    "`s = requests.Session()`\n",
    "\n",
    "`s.get('http://httpbin.org/get')`\n"
   ]
  },
  {
   "cell_type": "markdown",
   "metadata": {
    "slideshow": {
     "slide_type": "slide"
    }
   },
   "source": [
    "Tip 7: Authentication in requests\n",
    "\n",
    "`requests.get('https://api.github.com/user', auth=('user', 'pass'))`"
   ]
  },
  {
   "cell_type": "markdown",
   "metadata": {
    "slideshow": {
     "slide_type": "slide"
    }
   },
   "source": [
    "### Tip 8: Still still stuck\n",
    "\n",
    "\n",
    "3. Selenium - control the browser. "
   ]
  }
 ],
 "metadata": {
  "celltoolbar": "Slideshow",
  "kernelspec": {
   "display_name": "Python [default]",
   "language": "python",
   "name": "python2"
  },
  "language_info": {
   "codemirror_mode": {
    "name": "ipython",
    "version": 2
   },
   "file_extension": ".py",
   "mimetype": "text/x-python",
   "name": "python",
   "nbconvert_exporter": "python",
   "pygments_lexer": "ipython2",
   "version": "2.7.13"
  }
 },
 "nbformat": 4,
 "nbformat_minor": 1
}
