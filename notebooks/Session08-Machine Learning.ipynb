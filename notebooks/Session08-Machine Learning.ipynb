{
 "cells": [
  {
   "cell_type": "code",
   "execution_count": 61,
   "metadata": {
    "collapsed": true,
    "slideshow": {
     "slide_type": "slide"
    }
   },
   "outputs": [],
   "source": [
    "%matplotlib inline\n",
    "\n",
    "import numpy as np\n",
    "import pandas as pd"
   ]
  },
  {
   "cell_type": "code",
   "execution_count": 63,
   "metadata": {
    "slideshow": {
     "slide_type": "slide"
    }
   },
   "outputs": [
    {
     "data": {
      "text/html": [
       "<div>\n",
       "<style>\n",
       "    .dataframe thead tr:only-child th {\n",
       "        text-align: right;\n",
       "    }\n",
       "\n",
       "    .dataframe thead th {\n",
       "        text-align: left;\n",
       "    }\n",
       "\n",
       "    .dataframe tbody tr th {\n",
       "        vertical-align: top;\n",
       "    }\n",
       "</style>\n",
       "<table border=\"1\" class=\"dataframe\">\n",
       "  <thead>\n",
       "    <tr style=\"text-align: right;\">\n",
       "      <th></th>\n",
       "      <th>population_ln</th>\n",
       "      <th>infant_mort_ln</th>\n",
       "      <th>leader_tenure</th>\n",
       "      <th>CPI_sqrt</th>\n",
       "      <th>cell_phones_ln</th>\n",
       "      <th>country_age</th>\n",
       "      <th>coups_recent</th>\n",
       "      <th>regime_age</th>\n",
       "      <th>ethnic_salient</th>\n",
       "      <th>non_violent_camp</th>\n",
       "      <th>...</th>\n",
       "      <th>democracy</th>\n",
       "      <th>wto_gatt</th>\n",
       "      <th>secondary_school</th>\n",
       "      <th>state_discriminate</th>\n",
       "      <th>civil_war</th>\n",
       "      <th>torture</th>\n",
       "      <th>manufactoring</th>\n",
       "      <th>year</th>\n",
       "      <th>country</th>\n",
       "      <th>sftgcode</th>\n",
       "    </tr>\n",
       "  </thead>\n",
       "  <tbody>\n",
       "    <tr>\n",
       "      <th>0</th>\n",
       "      <td>-0.339538</td>\n",
       "      <td>0.922286</td>\n",
       "      <td>-0.203367</td>\n",
       "      <td>0.412326</td>\n",
       "      <td>-0.630919</td>\n",
       "      <td>-0.199921</td>\n",
       "      <td>-0.434257</td>\n",
       "      <td>-1.035258</td>\n",
       "      <td>1.233154</td>\n",
       "      <td>0</td>\n",
       "      <td>...</td>\n",
       "      <td>-0.901949</td>\n",
       "      <td>-1.311178</td>\n",
       "      <td>-1.046873</td>\n",
       "      <td>-0.730525</td>\n",
       "      <td>-0.407993</td>\n",
       "      <td>-0.121010</td>\n",
       "      <td>-0.227413</td>\n",
       "      <td>1955</td>\n",
       "      <td>Afghanistan</td>\n",
       "      <td>AFG</td>\n",
       "    </tr>\n",
       "    <tr>\n",
       "      <th>1</th>\n",
       "      <td>0.149004</td>\n",
       "      <td>0.943597</td>\n",
       "      <td>0.016110</td>\n",
       "      <td>0.412750</td>\n",
       "      <td>-0.630919</td>\n",
       "      <td>-0.181113</td>\n",
       "      <td>-0.434257</td>\n",
       "      <td>-0.816862</td>\n",
       "      <td>1.233154</td>\n",
       "      <td>0</td>\n",
       "      <td>...</td>\n",
       "      <td>-0.901949</td>\n",
       "      <td>-1.311178</td>\n",
       "      <td>-1.412841</td>\n",
       "      <td>-0.730525</td>\n",
       "      <td>-0.407993</td>\n",
       "      <td>-0.111487</td>\n",
       "      <td>-0.106150</td>\n",
       "      <td>1956</td>\n",
       "      <td>Afghanistan</td>\n",
       "      <td>AFG</td>\n",
       "    </tr>\n",
       "    <tr>\n",
       "      <th>2</th>\n",
       "      <td>0.170371</td>\n",
       "      <td>0.951562</td>\n",
       "      <td>0.195436</td>\n",
       "      <td>0.413069</td>\n",
       "      <td>-0.630919</td>\n",
       "      <td>-0.162793</td>\n",
       "      <td>-0.434257</td>\n",
       "      <td>-0.589357</td>\n",
       "      <td>1.233154</td>\n",
       "      <td>0</td>\n",
       "      <td>...</td>\n",
       "      <td>-0.901949</td>\n",
       "      <td>-1.311178</td>\n",
       "      <td>-1.459804</td>\n",
       "      <td>-0.730525</td>\n",
       "      <td>-0.407993</td>\n",
       "      <td>-0.114191</td>\n",
       "      <td>-0.586161</td>\n",
       "      <td>1957</td>\n",
       "      <td>Afghanistan</td>\n",
       "      <td>AFG</td>\n",
       "    </tr>\n",
       "    <tr>\n",
       "      <th>3</th>\n",
       "      <td>0.190971</td>\n",
       "      <td>1.001087</td>\n",
       "      <td>0.347054</td>\n",
       "      <td>0.413309</td>\n",
       "      <td>-0.630919</td>\n",
       "      <td>-0.144936</td>\n",
       "      <td>-0.434257</td>\n",
       "      <td>-0.411288</td>\n",
       "      <td>1.233154</td>\n",
       "      <td>0</td>\n",
       "      <td>...</td>\n",
       "      <td>-0.901949</td>\n",
       "      <td>-1.311178</td>\n",
       "      <td>-1.455450</td>\n",
       "      <td>-0.730525</td>\n",
       "      <td>-0.407993</td>\n",
       "      <td>-0.135524</td>\n",
       "      <td>-1.197223</td>\n",
       "      <td>1958</td>\n",
       "      <td>Afghanistan</td>\n",
       "      <td>AFG</td>\n",
       "    </tr>\n",
       "    <tr>\n",
       "      <th>4</th>\n",
       "      <td>0.195270</td>\n",
       "      <td>0.991788</td>\n",
       "      <td>0.478392</td>\n",
       "      <td>0.413492</td>\n",
       "      <td>-0.630919</td>\n",
       "      <td>-0.127521</td>\n",
       "      <td>-0.434257</td>\n",
       "      <td>-0.382373</td>\n",
       "      <td>1.233154</td>\n",
       "      <td>0</td>\n",
       "      <td>...</td>\n",
       "      <td>-0.901949</td>\n",
       "      <td>-1.311178</td>\n",
       "      <td>-1.387465</td>\n",
       "      <td>-0.730525</td>\n",
       "      <td>-0.407993</td>\n",
       "      <td>-0.175916</td>\n",
       "      <td>-1.208143</td>\n",
       "      <td>1959</td>\n",
       "      <td>Afghanistan</td>\n",
       "      <td>AFG</td>\n",
       "    </tr>\n",
       "  </tbody>\n",
       "</table>\n",
       "<p>5 rows × 25 columns</p>\n",
       "</div>"
      ],
      "text/plain": [
       "   population_ln  infant_mort_ln  leader_tenure  CPI_sqrt  cell_phones_ln  \\\n",
       "0      -0.339538        0.922286      -0.203367  0.412326       -0.630919   \n",
       "1       0.149004        0.943597       0.016110  0.412750       -0.630919   \n",
       "2       0.170371        0.951562       0.195436  0.413069       -0.630919   \n",
       "3       0.190971        1.001087       0.347054  0.413309       -0.630919   \n",
       "4       0.195270        0.991788       0.478392  0.413492       -0.630919   \n",
       "\n",
       "   country_age  coups_recent  regime_age  ethnic_salient  non_violent_camp  \\\n",
       "0    -0.199921     -0.434257   -1.035258        1.233154                 0   \n",
       "1    -0.181113     -0.434257   -0.816862        1.233154                 0   \n",
       "2    -0.162793     -0.434257   -0.589357        1.233154                 0   \n",
       "3    -0.144936     -0.434257   -0.411288        1.233154                 0   \n",
       "4    -0.127521     -0.434257   -0.382373        1.233154                 0   \n",
       "\n",
       "     ...     democracy  wto_gatt  secondary_school  state_discriminate  \\\n",
       "0    ...     -0.901949 -1.311178         -1.046873           -0.730525   \n",
       "1    ...     -0.901949 -1.311178         -1.412841           -0.730525   \n",
       "2    ...     -0.901949 -1.311178         -1.459804           -0.730525   \n",
       "3    ...     -0.901949 -1.311178         -1.455450           -0.730525   \n",
       "4    ...     -0.901949 -1.311178         -1.387465           -0.730525   \n",
       "\n",
       "   civil_war   torture  manufactoring  year      country  sftgcode  \n",
       "0  -0.407993 -0.121010      -0.227413  1955  Afghanistan       AFG  \n",
       "1  -0.407993 -0.111487      -0.106150  1956  Afghanistan       AFG  \n",
       "2  -0.407993 -0.114191      -0.586161  1957  Afghanistan       AFG  \n",
       "3  -0.407993 -0.135524      -1.197223  1958  Afghanistan       AFG  \n",
       "4  -0.407993 -0.175916      -1.208143  1959  Afghanistan       AFG  \n",
       "\n",
       "[5 rows x 25 columns]"
      ]
     },
     "execution_count": 63,
     "metadata": {},
     "output_type": "execute_result"
    }
   ],
   "source": [
    "# Load data\n",
    "\n",
    "df = pd.read_csv('https://raw.githubusercontent.com/nealcaren/CSSS-CABD/master/files/nonviolent_imputed.csv')\n",
    "# df = pd.read_csv('files/nonviolent_imputed.csv')\n",
    "df.head()"
   ]
  },
  {
   "cell_type": "code",
   "execution_count": 64,
   "metadata": {
    "slideshow": {
     "slide_type": "slide"
    }
   },
   "outputs": [
    {
     "data": {
      "text/html": [
       "<div>\n",
       "<style>\n",
       "    .dataframe thead tr:only-child th {\n",
       "        text-align: right;\n",
       "    }\n",
       "\n",
       "    .dataframe thead th {\n",
       "        text-align: left;\n",
       "    }\n",
       "\n",
       "    .dataframe tbody tr th {\n",
       "        vertical-align: top;\n",
       "    }\n",
       "</style>\n",
       "<table border=\"1\" class=\"dataframe\">\n",
       "  <thead>\n",
       "    <tr style=\"text-align: right;\">\n",
       "      <th></th>\n",
       "      <th>population_ln</th>\n",
       "      <th>infant_mort_ln</th>\n",
       "      <th>leader_tenure</th>\n",
       "      <th>CPI_sqrt</th>\n",
       "      <th>cell_phones_ln</th>\n",
       "      <th>country_age</th>\n",
       "      <th>coups_recent</th>\n",
       "      <th>regime_age</th>\n",
       "      <th>ethnic_salient</th>\n",
       "      <th>non_violent_camp</th>\n",
       "      <th>...</th>\n",
       "      <th>election_year</th>\n",
       "      <th>urban_pop</th>\n",
       "      <th>democracy</th>\n",
       "      <th>wto_gatt</th>\n",
       "      <th>secondary_school</th>\n",
       "      <th>state_discriminate</th>\n",
       "      <th>civil_war</th>\n",
       "      <th>torture</th>\n",
       "      <th>manufactoring</th>\n",
       "      <th>year</th>\n",
       "    </tr>\n",
       "  </thead>\n",
       "  <tbody>\n",
       "    <tr>\n",
       "      <th>count</th>\n",
       "      <td>8402.000000</td>\n",
       "      <td>8402.000000</td>\n",
       "      <td>8402.000000</td>\n",
       "      <td>8402.000000</td>\n",
       "      <td>8402.000000</td>\n",
       "      <td>8.402000e+03</td>\n",
       "      <td>8.402000e+03</td>\n",
       "      <td>8402.000000</td>\n",
       "      <td>8402.000000</td>\n",
       "      <td>8402.000000</td>\n",
       "      <td>...</td>\n",
       "      <td>8402.000000</td>\n",
       "      <td>8402.000000</td>\n",
       "      <td>8.402000e+03</td>\n",
       "      <td>8402.000000</td>\n",
       "      <td>8402.000000</td>\n",
       "      <td>8402.000000</td>\n",
       "      <td>8.402000e+03</td>\n",
       "      <td>8402.000000</td>\n",
       "      <td>8402.000000</td>\n",
       "      <td>8402.000000</td>\n",
       "    </tr>\n",
       "    <tr>\n",
       "      <th>mean</th>\n",
       "      <td>-0.030833</td>\n",
       "      <td>-0.012787</td>\n",
       "      <td>-0.005094</td>\n",
       "      <td>-0.128226</td>\n",
       "      <td>0.001525</td>\n",
       "      <td>-8.572554e-14</td>\n",
       "      <td>3.710276e-14</td>\n",
       "      <td>0.001832</td>\n",
       "      <td>-0.004073</td>\n",
       "      <td>0.020233</td>\n",
       "      <td>...</td>\n",
       "      <td>-0.002704</td>\n",
       "      <td>-0.005739</td>\n",
       "      <td>-9.193241e-13</td>\n",
       "      <td>-0.010834</td>\n",
       "      <td>-0.017671</td>\n",
       "      <td>0.002679</td>\n",
       "      <td>6.074133e-13</td>\n",
       "      <td>0.017268</td>\n",
       "      <td>-0.004019</td>\n",
       "      <td>1986.633064</td>\n",
       "    </tr>\n",
       "    <tr>\n",
       "      <th>std</th>\n",
       "      <td>1.003495</td>\n",
       "      <td>0.996577</td>\n",
       "      <td>0.985715</td>\n",
       "      <td>0.968674</td>\n",
       "      <td>0.997866</td>\n",
       "      <td>1.000060e+00</td>\n",
       "      <td>1.000060e+00</td>\n",
       "      <td>0.994059</td>\n",
       "      <td>0.986946</td>\n",
       "      <td>0.140806</td>\n",
       "      <td>...</td>\n",
       "      <td>0.986260</td>\n",
       "      <td>0.989674</td>\n",
       "      <td>1.000060e+00</td>\n",
       "      <td>0.995436</td>\n",
       "      <td>0.989974</td>\n",
       "      <td>0.990191</td>\n",
       "      <td>1.000060e+00</td>\n",
       "      <td>0.949296</td>\n",
       "      <td>0.987986</td>\n",
       "      <td>16.441083</td>\n",
       "    </tr>\n",
       "    <tr>\n",
       "      <th>min</th>\n",
       "      <td>-2.653114</td>\n",
       "      <td>-2.660282</td>\n",
       "      <td>-1.566884</td>\n",
       "      <td>-1.771548</td>\n",
       "      <td>-0.630919</td>\n",
       "      <td>-2.746625e+00</td>\n",
       "      <td>-4.342567e-01</td>\n",
       "      <td>-1.892400</td>\n",
       "      <td>-0.810929</td>\n",
       "      <td>0.000000</td>\n",
       "      <td>...</td>\n",
       "      <td>-0.576683</td>\n",
       "      <td>-2.422264</td>\n",
       "      <td>-9.019489e-01</td>\n",
       "      <td>-1.311178</td>\n",
       "      <td>-3.057288</td>\n",
       "      <td>-0.730525</td>\n",
       "      <td>-4.079932e-01</td>\n",
       "      <td>-2.055927</td>\n",
       "      <td>-2.819823</td>\n",
       "      <td>1955.000000</td>\n",
       "    </tr>\n",
       "    <tr>\n",
       "      <th>25%</th>\n",
       "      <td>-0.640009</td>\n",
       "      <td>-0.705913</td>\n",
       "      <td>-0.885125</td>\n",
       "      <td>-0.967937</td>\n",
       "      <td>-0.630919</td>\n",
       "      <td>-5.993879e-01</td>\n",
       "      <td>-4.342567e-01</td>\n",
       "      <td>-0.644421</td>\n",
       "      <td>-0.810929</td>\n",
       "      <td>0.000000</td>\n",
       "      <td>...</td>\n",
       "      <td>-0.576683</td>\n",
       "      <td>-0.811835</td>\n",
       "      <td>-9.019489e-01</td>\n",
       "      <td>-1.311178</td>\n",
       "      <td>-0.856424</td>\n",
       "      <td>-0.730525</td>\n",
       "      <td>-4.079932e-01</td>\n",
       "      <td>-0.712063</td>\n",
       "      <td>-0.733926</td>\n",
       "      <td>1973.000000</td>\n",
       "    </tr>\n",
       "    <tr>\n",
       "      <th>50%</th>\n",
       "      <td>-0.027865</td>\n",
       "      <td>0.170572</td>\n",
       "      <td>0.016110</td>\n",
       "      <td>-0.073663</td>\n",
       "      <td>-0.630919</td>\n",
       "      <td>-6.186653e-02</td>\n",
       "      <td>-4.342567e-01</td>\n",
       "      <td>0.096495</td>\n",
       "      <td>-0.810929</td>\n",
       "      <td>0.000000</td>\n",
       "      <td>...</td>\n",
       "      <td>-0.576683</td>\n",
       "      <td>-0.036817</td>\n",
       "      <td>-9.019489e-01</td>\n",
       "      <td>0.762673</td>\n",
       "      <td>-0.069091</td>\n",
       "      <td>-0.730525</td>\n",
       "      <td>-4.079932e-01</td>\n",
       "      <td>0.115305</td>\n",
       "      <td>-0.053474</td>\n",
       "      <td>1988.000000</td>\n",
       "    </tr>\n",
       "    <tr>\n",
       "      <th>75%</th>\n",
       "      <td>0.608845</td>\n",
       "      <td>0.759931</td>\n",
       "      <td>0.697869</td>\n",
       "      <td>0.734304</td>\n",
       "      <td>0.535758</td>\n",
       "      <td>6.863441e-01</td>\n",
       "      <td>-4.342567e-01</td>\n",
       "      <td>0.718644</td>\n",
       "      <td>1.233154</td>\n",
       "      <td>0.000000</td>\n",
       "      <td>...</td>\n",
       "      <td>0.184118</td>\n",
       "      <td>0.806736</td>\n",
       "      <td>1.108710e+00</td>\n",
       "      <td>0.762673</td>\n",
       "      <td>0.820713</td>\n",
       "      <td>1.368879</td>\n",
       "      <td>-4.079932e-01</td>\n",
       "      <td>0.838514</td>\n",
       "      <td>0.610350</td>\n",
       "      <td>2001.000000</td>\n",
       "    </tr>\n",
       "    <tr>\n",
       "      <th>max</th>\n",
       "      <td>3.222762</td>\n",
       "      <td>2.087941</td>\n",
       "      <td>2.260993</td>\n",
       "      <td>8.474751</td>\n",
       "      <td>2.506153</td>\n",
       "      <td>2.692483e+00</td>\n",
       "      <td>5.723972e+00</td>\n",
       "      <td>2.235130</td>\n",
       "      <td>1.233154</td>\n",
       "      <td>1.000000</td>\n",
       "      <td>...</td>\n",
       "      <td>1.734055</td>\n",
       "      <td>2.598726</td>\n",
       "      <td>1.108710e+00</td>\n",
       "      <td>0.762673</td>\n",
       "      <td>3.117111</td>\n",
       "      <td>1.368879</td>\n",
       "      <td>2.451021e+00</td>\n",
       "      <td>1.418044</td>\n",
       "      <td>4.226637</td>\n",
       "      <td>2013.000000</td>\n",
       "    </tr>\n",
       "  </tbody>\n",
       "</table>\n",
       "<p>8 rows × 23 columns</p>\n",
       "</div>"
      ],
      "text/plain": [
       "       population_ln  infant_mort_ln  leader_tenure     CPI_sqrt  \\\n",
       "count    8402.000000     8402.000000    8402.000000  8402.000000   \n",
       "mean       -0.030833       -0.012787      -0.005094    -0.128226   \n",
       "std         1.003495        0.996577       0.985715     0.968674   \n",
       "min        -2.653114       -2.660282      -1.566884    -1.771548   \n",
       "25%        -0.640009       -0.705913      -0.885125    -0.967937   \n",
       "50%        -0.027865        0.170572       0.016110    -0.073663   \n",
       "75%         0.608845        0.759931       0.697869     0.734304   \n",
       "max         3.222762        2.087941       2.260993     8.474751   \n",
       "\n",
       "       cell_phones_ln   country_age  coups_recent   regime_age  \\\n",
       "count     8402.000000  8.402000e+03  8.402000e+03  8402.000000   \n",
       "mean         0.001525 -8.572554e-14  3.710276e-14     0.001832   \n",
       "std          0.997866  1.000060e+00  1.000060e+00     0.994059   \n",
       "min         -0.630919 -2.746625e+00 -4.342567e-01    -1.892400   \n",
       "25%         -0.630919 -5.993879e-01 -4.342567e-01    -0.644421   \n",
       "50%         -0.630919 -6.186653e-02 -4.342567e-01     0.096495   \n",
       "75%          0.535758  6.863441e-01 -4.342567e-01     0.718644   \n",
       "max          2.506153  2.692483e+00  5.723972e+00     2.235130   \n",
       "\n",
       "       ethnic_salient  non_violent_camp     ...       election_year  \\\n",
       "count     8402.000000       8402.000000     ...         8402.000000   \n",
       "mean        -0.004073          0.020233     ...           -0.002704   \n",
       "std          0.986946          0.140806     ...            0.986260   \n",
       "min         -0.810929          0.000000     ...           -0.576683   \n",
       "25%         -0.810929          0.000000     ...           -0.576683   \n",
       "50%         -0.810929          0.000000     ...           -0.576683   \n",
       "75%          1.233154          0.000000     ...            0.184118   \n",
       "max          1.233154          1.000000     ...            1.734055   \n",
       "\n",
       "         urban_pop     democracy     wto_gatt  secondary_school  \\\n",
       "count  8402.000000  8.402000e+03  8402.000000       8402.000000   \n",
       "mean     -0.005739 -9.193241e-13    -0.010834         -0.017671   \n",
       "std       0.989674  1.000060e+00     0.995436          0.989974   \n",
       "min      -2.422264 -9.019489e-01    -1.311178         -3.057288   \n",
       "25%      -0.811835 -9.019489e-01    -1.311178         -0.856424   \n",
       "50%      -0.036817 -9.019489e-01     0.762673         -0.069091   \n",
       "75%       0.806736  1.108710e+00     0.762673          0.820713   \n",
       "max       2.598726  1.108710e+00     0.762673          3.117111   \n",
       "\n",
       "       state_discriminate     civil_war      torture  manufactoring  \\\n",
       "count         8402.000000  8.402000e+03  8402.000000    8402.000000   \n",
       "mean             0.002679  6.074133e-13     0.017268      -0.004019   \n",
       "std              0.990191  1.000060e+00     0.949296       0.987986   \n",
       "min             -0.730525 -4.079932e-01    -2.055927      -2.819823   \n",
       "25%             -0.730525 -4.079932e-01    -0.712063      -0.733926   \n",
       "50%             -0.730525 -4.079932e-01     0.115305      -0.053474   \n",
       "75%              1.368879 -4.079932e-01     0.838514       0.610350   \n",
       "max              1.368879  2.451021e+00     1.418044       4.226637   \n",
       "\n",
       "              year  \n",
       "count  8402.000000  \n",
       "mean   1986.633064  \n",
       "std      16.441083  \n",
       "min    1955.000000  \n",
       "25%    1973.000000  \n",
       "50%    1988.000000  \n",
       "75%    2001.000000  \n",
       "max    2013.000000  \n",
       "\n",
       "[8 rows x 23 columns]"
      ]
     },
     "execution_count": 64,
     "metadata": {},
     "output_type": "execute_result"
    }
   ],
   "source": [
    "df.describe()"
   ]
  },
  {
   "cell_type": "code",
   "execution_count": 65,
   "metadata": {
    "slideshow": {
     "slide_type": "slide"
    }
   },
   "outputs": [
    {
     "data": {
      "text/plain": [
       "0.020233277791002143"
      ]
     },
     "execution_count": 65,
     "metadata": {},
     "output_type": "execute_result"
    }
   ],
   "source": [
    "df['non_violent_camp'].mean()"
   ]
  },
  {
   "cell_type": "code",
   "execution_count": 66,
   "metadata": {
    "slideshow": {
     "slide_type": "slide"
    }
   },
   "outputs": [
    {
     "data": {
      "text/plain": [
       "Index([u'population_ln', u'infant_mort_ln', u'leader_tenure', u'CPI_sqrt',\n",
       "       u'cell_phones_ln', u'country_age', u'coups_recent', u'regime_age',\n",
       "       u'ethnic_salient', u'non_violent_camp', u'service', u'GDP_change',\n",
       "       u'youth_bulge', u'election_year', u'urban_pop', u'democracy',\n",
       "       u'wto_gatt', u'secondary_school', u'state_discriminate', u'civil_war',\n",
       "       u'torture', u'manufactoring', u'year', u'country', u'sftgcode'],\n",
       "      dtype='object')"
      ]
     },
     "execution_count": 66,
     "metadata": {},
     "output_type": "execute_result"
    }
   ],
   "source": [
    "df.keys()"
   ]
  },
  {
   "cell_type": "code",
   "execution_count": 67,
   "metadata": {
    "collapsed": true,
    "slideshow": {
     "slide_type": "slide"
    }
   },
   "outputs": [],
   "source": [
    "x_names = ['population_ln',\n",
    "           'infant_mort_ln',\n",
    "           'leader_tenure',\n",
    "           'CPI_sqrt',\n",
    "           'cell_phones_ln',\n",
    "           'country_age',\n",
    "           'coups_recent',\n",
    "           'regime_age',\n",
    "           'ethnic_salient',\n",
    "           'service',\n",
    "           'GDP_change',\n",
    "           'youth_bulge',\n",
    "           'election_year',\n",
    "           'urban_pop',\n",
    "           'democracy',\n",
    "           'wto_gatt',\n",
    "           'secondary_school',\n",
    "           'state_discriminate',\n",
    "           'civil_war',\n",
    "           'torture',\n",
    "           'manufactoring']"
   ]
  },
  {
   "cell_type": "code",
   "execution_count": 68,
   "metadata": {
    "collapsed": true,
    "slideshow": {
     "slide_type": "slide"
    }
   },
   "outputs": [],
   "source": [
    "from sklearn.linear_model import LogisticRegression"
   ]
  },
  {
   "cell_type": "code",
   "execution_count": 69,
   "metadata": {
    "slideshow": {
     "slide_type": "fragment"
    }
   },
   "outputs": [
    {
     "data": {
      "text/plain": [
       "LogisticRegression(C=1.0, class_weight=None, dual=False, fit_intercept=True,\n",
       "          intercept_scaling=1, max_iter=100, multi_class='ovr', n_jobs=1,\n",
       "          penalty='l2', random_state=None, solver='liblinear', tol=0.0001,\n",
       "          verbose=0, warm_start=False)"
      ]
     },
     "execution_count": 69,
     "metadata": {},
     "output_type": "execute_result"
    }
   ],
   "source": [
    "model = LogisticRegression(fit_intercept=True)\n",
    "model\n"
   ]
  },
  {
   "cell_type": "code",
   "execution_count": 70,
   "metadata": {
    "slideshow": {
     "slide_type": "fragment"
    }
   },
   "outputs": [
    {
     "data": {
      "text/plain": [
       "LogisticRegression(C=1.0, class_weight=None, dual=False, fit_intercept=True,\n",
       "          intercept_scaling=1, max_iter=100, multi_class='ovr', n_jobs=1,\n",
       "          penalty='l2', random_state=None, solver='liblinear', tol=0.0001,\n",
       "          verbose=0, warm_start=False)"
      ]
     },
     "execution_count": 70,
     "metadata": {},
     "output_type": "execute_result"
    }
   ],
   "source": [
    "model.fit(df[x_names], df['non_violent_camp'])"
   ]
  },
  {
   "cell_type": "code",
   "execution_count": 76,
   "metadata": {},
   "outputs": [
    {
     "data": {
      "text/plain": [
       "array([ 0.47791211,  0.04469287, -0.35297559,  0.03245137,  0.30191543,\n",
       "        0.09949501, -0.12282279, -0.31173392,  0.11297625,  0.00704924,\n",
       "       -0.24260101,  0.07955214,  0.19702094, -0.10491849, -0.47736276,\n",
       "        0.24299145,  0.26203557,  0.0474878 , -0.18934415, -0.47406417,\n",
       "        0.0587169 ])"
      ]
     },
     "execution_count": 76,
     "metadata": {},
     "output_type": "execute_result"
    }
   ],
   "source": [
    "model.coef_[0]"
   ]
  },
  {
   "cell_type": "code",
   "execution_count": 77,
   "metadata": {
    "slideshow": {
     "slide_type": "slide"
    }
   },
   "outputs": [
    {
     "data": {
      "text/plain": [
       "[('population_ln', 0.47791210890693592),\n",
       " ('infant_mort_ln', 0.044692865307696228),\n",
       " ('leader_tenure', -0.35297558743407748),\n",
       " ('CPI_sqrt', 0.032451368603759197),\n",
       " ('cell_phones_ln', 0.30191543458500325),\n",
       " ('country_age', 0.099495011294013599),\n",
       " ('coups_recent', -0.12282279314344524),\n",
       " ('regime_age', -0.31173392462384103),\n",
       " ('ethnic_salient', 0.11297624837003262),\n",
       " ('service', 0.0070492370371006774),\n",
       " ('GDP_change', -0.24260100859491349),\n",
       " ('youth_bulge', 0.079552144550826029),\n",
       " ('election_year', 0.19702093584145711),\n",
       " ('urban_pop', -0.10491849128311737),\n",
       " ('democracy', -0.4773627574364227),\n",
       " ('wto_gatt', 0.24299145138359088),\n",
       " ('secondary_school', 0.26203557425835688),\n",
       " ('state_discriminate', 0.04748779560351718),\n",
       " ('civil_war', -0.18934414957503065),\n",
       " ('torture', -0.47406416808092244),\n",
       " ('manufactoring', 0.058716903602805397)]"
      ]
     },
     "execution_count": 77,
     "metadata": {},
     "output_type": "execute_result"
    }
   ],
   "source": [
    "zip(x_names, model.coef_[0])"
   ]
  },
  {
   "cell_type": "code",
   "execution_count": 78,
   "metadata": {
    "slideshow": {
     "slide_type": "slide"
    }
   },
   "outputs": [
    {
     "data": {
      "text/html": [
       "<div>\n",
       "<style>\n",
       "    .dataframe thead tr:only-child th {\n",
       "        text-align: right;\n",
       "    }\n",
       "\n",
       "    .dataframe thead th {\n",
       "        text-align: left;\n",
       "    }\n",
       "\n",
       "    .dataframe tbody tr th {\n",
       "        vertical-align: top;\n",
       "    }\n",
       "</style>\n",
       "<table border=\"1\" class=\"dataframe\">\n",
       "  <thead>\n",
       "    <tr style=\"text-align: right;\">\n",
       "      <th></th>\n",
       "      <th>0</th>\n",
       "      <th>1</th>\n",
       "    </tr>\n",
       "  </thead>\n",
       "  <tbody>\n",
       "    <tr>\n",
       "      <th>0</th>\n",
       "      <td>population_ln</td>\n",
       "      <td>0.477912</td>\n",
       "    </tr>\n",
       "    <tr>\n",
       "      <th>1</th>\n",
       "      <td>infant_mort_ln</td>\n",
       "      <td>0.044693</td>\n",
       "    </tr>\n",
       "    <tr>\n",
       "      <th>2</th>\n",
       "      <td>leader_tenure</td>\n",
       "      <td>-0.352976</td>\n",
       "    </tr>\n",
       "    <tr>\n",
       "      <th>3</th>\n",
       "      <td>CPI_sqrt</td>\n",
       "      <td>0.032451</td>\n",
       "    </tr>\n",
       "    <tr>\n",
       "      <th>4</th>\n",
       "      <td>cell_phones_ln</td>\n",
       "      <td>0.301915</td>\n",
       "    </tr>\n",
       "    <tr>\n",
       "      <th>5</th>\n",
       "      <td>country_age</td>\n",
       "      <td>0.099495</td>\n",
       "    </tr>\n",
       "    <tr>\n",
       "      <th>6</th>\n",
       "      <td>coups_recent</td>\n",
       "      <td>-0.122823</td>\n",
       "    </tr>\n",
       "    <tr>\n",
       "      <th>7</th>\n",
       "      <td>regime_age</td>\n",
       "      <td>-0.311734</td>\n",
       "    </tr>\n",
       "    <tr>\n",
       "      <th>8</th>\n",
       "      <td>ethnic_salient</td>\n",
       "      <td>0.112976</td>\n",
       "    </tr>\n",
       "    <tr>\n",
       "      <th>9</th>\n",
       "      <td>service</td>\n",
       "      <td>0.007049</td>\n",
       "    </tr>\n",
       "    <tr>\n",
       "      <th>10</th>\n",
       "      <td>GDP_change</td>\n",
       "      <td>-0.242601</td>\n",
       "    </tr>\n",
       "    <tr>\n",
       "      <th>11</th>\n",
       "      <td>youth_bulge</td>\n",
       "      <td>0.079552</td>\n",
       "    </tr>\n",
       "    <tr>\n",
       "      <th>12</th>\n",
       "      <td>election_year</td>\n",
       "      <td>0.197021</td>\n",
       "    </tr>\n",
       "    <tr>\n",
       "      <th>13</th>\n",
       "      <td>urban_pop</td>\n",
       "      <td>-0.104918</td>\n",
       "    </tr>\n",
       "    <tr>\n",
       "      <th>14</th>\n",
       "      <td>democracy</td>\n",
       "      <td>-0.477363</td>\n",
       "    </tr>\n",
       "    <tr>\n",
       "      <th>15</th>\n",
       "      <td>wto_gatt</td>\n",
       "      <td>0.242991</td>\n",
       "    </tr>\n",
       "    <tr>\n",
       "      <th>16</th>\n",
       "      <td>secondary_school</td>\n",
       "      <td>0.262036</td>\n",
       "    </tr>\n",
       "    <tr>\n",
       "      <th>17</th>\n",
       "      <td>state_discriminate</td>\n",
       "      <td>0.047488</td>\n",
       "    </tr>\n",
       "    <tr>\n",
       "      <th>18</th>\n",
       "      <td>civil_war</td>\n",
       "      <td>-0.189344</td>\n",
       "    </tr>\n",
       "    <tr>\n",
       "      <th>19</th>\n",
       "      <td>torture</td>\n",
       "      <td>-0.474064</td>\n",
       "    </tr>\n",
       "    <tr>\n",
       "      <th>20</th>\n",
       "      <td>manufactoring</td>\n",
       "      <td>0.058717</td>\n",
       "    </tr>\n",
       "  </tbody>\n",
       "</table>\n",
       "</div>"
      ],
      "text/plain": [
       "                     0         1\n",
       "0        population_ln  0.477912\n",
       "1       infant_mort_ln  0.044693\n",
       "2        leader_tenure -0.352976\n",
       "3             CPI_sqrt  0.032451\n",
       "4       cell_phones_ln  0.301915\n",
       "5          country_age  0.099495\n",
       "6         coups_recent -0.122823\n",
       "7           regime_age -0.311734\n",
       "8       ethnic_salient  0.112976\n",
       "9              service  0.007049\n",
       "10          GDP_change -0.242601\n",
       "11         youth_bulge  0.079552\n",
       "12       election_year  0.197021\n",
       "13           urban_pop -0.104918\n",
       "14           democracy -0.477363\n",
       "15            wto_gatt  0.242991\n",
       "16    secondary_school  0.262036\n",
       "17  state_discriminate  0.047488\n",
       "18           civil_war -0.189344\n",
       "19             torture -0.474064\n",
       "20       manufactoring  0.058717"
      ]
     },
     "execution_count": 78,
     "metadata": {},
     "output_type": "execute_result"
    }
   ],
   "source": [
    "pd.DataFrame(zip(x_names, model.coef_[0]))"
   ]
  },
  {
   "cell_type": "code",
   "execution_count": 18,
   "metadata": {
    "slideshow": {
     "slide_type": "slide"
    }
   },
   "outputs": [
    {
     "data": {
      "text/plain": [
       "0.97964770292787429"
      ]
     },
     "execution_count": 18,
     "metadata": {},
     "output_type": "execute_result"
    }
   ],
   "source": [
    "from sklearn.metrics import accuracy_score\n",
    "\n",
    "accuracy_score(df['non_violent_camp'], \n",
    "               model.predict(df[x_names]))"
   ]
  },
  {
   "cell_type": "code",
   "execution_count": 19,
   "metadata": {
    "slideshow": {
     "slide_type": "slide"
    }
   },
   "outputs": [
    {
     "data": {
      "text/plain": [
       "array([[8231,    1],\n",
       "       [ 170,    0]])"
      ]
     },
     "execution_count": 19,
     "metadata": {},
     "output_type": "execute_result"
    }
   ],
   "source": [
    "from sklearn.metrics import confusion_matrix\n",
    "\n",
    "confusion_matrix(df['non_violent_camp'], model.predict(df[x_names]))"
   ]
  },
  {
   "cell_type": "code",
   "execution_count": 20,
   "metadata": {
    "collapsed": true,
    "slideshow": {
     "slide_type": "slide"
    }
   },
   "outputs": [],
   "source": [
    "from sklearn.metrics import classification_report"
   ]
  },
  {
   "cell_type": "code",
   "execution_count": 21,
   "metadata": {
    "slideshow": {
     "slide_type": "fragment"
    }
   },
   "outputs": [
    {
     "name": "stdout",
     "output_type": "stream",
     "text": [
      "             precision    recall  f1-score   support\n",
      "\n",
      "          0       0.98      1.00      0.99      8232\n",
      "          1       0.00      0.00      0.00       170\n",
      "\n",
      "avg / total       0.96      0.98      0.97      8402\n",
      "\n"
     ]
    }
   ],
   "source": [
    "y =     df['non_violent_camp']\n",
    "y_hat = model.predict(df[x_names])\n",
    "\n",
    "print(classification_report(y, y_hat))"
   ]
  },
  {
   "cell_type": "code",
   "execution_count": 22,
   "metadata": {
    "slideshow": {
     "slide_type": "slide"
    }
   },
   "outputs": [
    {
     "data": {
      "text/plain": [
       "array([[ 0.9746461 ,  0.0253539 ],\n",
       "       [ 0.97439087,  0.02560913],\n",
       "       [ 0.98269715,  0.01730285],\n",
       "       ..., \n",
       "       [ 0.96974872,  0.03025128],\n",
       "       [ 0.93281961,  0.06718039],\n",
       "       [ 0.91835259,  0.08164741]])"
      ]
     },
     "execution_count": 22,
     "metadata": {},
     "output_type": "execute_result"
    }
   ],
   "source": [
    "model.predict_proba(df[x_names])"
   ]
  },
  {
   "cell_type": "code",
   "execution_count": 23,
   "metadata": {
    "collapsed": true,
    "slideshow": {
     "slide_type": "slide"
    }
   },
   "outputs": [],
   "source": [
    "import matplotlib as mpl\n",
    "import matplotlib.pyplot as plt\n",
    "import seaborn as sns\n",
    "\n",
    "def calibration_plot(truth, preds):\n",
    "    \"\"\"Produces a calibration plot for the win probability model.\n",
    "    Splits the predictions into percentiles and calculates the\n",
    "    percentage of predictions per percentile that were wins. A perfectly\n",
    "    calibrated model means that plays with a win probability of n%\n",
    "    win about n% of the time.\n",
    "    \"\"\"\n",
    "    cal_df = pd.DataFrame({'pred': preds, 'true': truth})\n",
    "    bins = [0, .10, .20, .30, .40, .50, .60, .70, .80, .90, 1.00]\n",
    "    cal_df['pred_bin'] = pd.cut(cal_df.pred, bins, labels=False)\n",
    "\n",
    "    win_means = cal_df.groupby('pred_bin')['true'].mean()\n",
    "\n",
    "    plt.figure()\n",
    "    plt.plot([10 * v + 5 for v  in win_means.index.values],\n",
    "             [100 * v for v in win_means.values], color='SteelBlue')\n",
    "    plt.plot(np.arange(0, 100), np.arange(0, 100), 'k--', alpha=0.3)\n",
    "    plt.xlim([0.0, 100])\n",
    "    plt.ylim([0.0, 100])  \n",
    "    plt.axes().set_aspect('equal')\n",
    "    plt.xlabel('Estimated probability')\n",
    "    plt.ylabel('True percentage')\n",
    "    plt.title('Probability calibration, binned by percent')\n",
    "    plt.show()\n",
    "\n",
    "    return"
   ]
  },
  {
   "cell_type": "code",
   "execution_count": 97,
   "metadata": {},
   "outputs": [
    {
     "data": {
      "text/plain": [
       "0.01660318971673411"
      ]
     },
     "execution_count": 97,
     "metadata": {},
     "output_type": "execute_result"
    }
   ],
   "source": [
    "y_hat.mean()"
   ]
  },
  {
   "cell_type": "code",
   "execution_count": 93,
   "metadata": {
    "slideshow": {
     "slide_type": "slide"
    }
   },
   "outputs": [
    {
     "data": {
      "image/png": "[encoded data removed]",
      "text/plain": [
       "<matplotlib.figure.Figure at 0x117c5ebd0>"
      ]
     },
     "metadata": {},
     "output_type": "display_data"
    }
   ],
   "source": [
    "y_hat = knn_classifier.predict_proba(df[x_names])[:,1]\n",
    "\n",
    "calibration_plot(df['non_violent_camp'], y_hat)"
   ]
  },
  {
   "cell_type": "markdown",
   "metadata": {
    "slideshow": {
     "slide_type": "slide"
    }
   },
   "source": [
    "### Your turn. \n",
    "\n",
    "Does a nearest neighbor classifer do any better?\n",
    "\n",
    "What if you try 4 neighbors? 10 neighbors? 20 neighbors"
   ]
  },
  {
   "cell_type": "code",
   "execution_count": 90,
   "metadata": {
    "collapsed": true,
    "slideshow": {
     "slide_type": "fragment"
    }
   },
   "outputs": [],
   "source": [
    "from sklearn.neighbors import KNeighborsClassifier\n",
    "\n",
    "knn_classifier = KNeighborsClassifier(n_neighbors=2)"
   ]
  },
  {
   "cell_type": "code",
   "execution_count": 91,
   "metadata": {
    "slideshow": {
     "slide_type": "skip"
    }
   },
   "outputs": [
    {
     "data": {
      "text/plain": [
       "KNeighborsClassifier(algorithm='auto', leaf_size=30, metric='minkowski',\n",
       "           metric_params=None, n_jobs=1, n_neighbors=2, p=2,\n",
       "           weights='uniform')"
      ]
     },
     "execution_count": 91,
     "metadata": {},
     "output_type": "execute_result"
    }
   ],
   "source": [
    "knn_classifier.fit(df[x_names], df['non_violent_camp'])\n",
    "\n",
    "\n"
   ]
  },
  {
   "cell_type": "code",
   "execution_count": 92,
   "metadata": {},
   "outputs": [
    {
     "data": {
      "text/plain": [
       "array([[8232,    0],\n",
       "       [ 144,   26]])"
      ]
     },
     "execution_count": 92,
     "metadata": {},
     "output_type": "execute_result"
    }
   ],
   "source": [
    "confusion_matrix(df['non_violent_camp'], \n",
    "                 knn_classifier.predict(df[x_names]) )"
   ]
  },
  {
   "cell_type": "markdown",
   "metadata": {
    "collapsed": true,
    "slideshow": {
     "slide_type": "slide"
    }
   },
   "source": [
    "## We probably overfit the data."
   ]
  },
  {
   "cell_type": "code",
   "execution_count": 26,
   "metadata": {
    "collapsed": true,
    "slideshow": {
     "slide_type": "slide"
    }
   },
   "outputs": [],
   "source": [
    "from sklearn.model_selection import train_test_split"
   ]
  },
  {
   "cell_type": "code",
   "execution_count": 27,
   "metadata": {
    "collapsed": true,
    "slideshow": {
     "slide_type": "fragment"
    }
   },
   "outputs": [],
   "source": [
    "X_train, X_test, y_train, y_test = train_test_split(df[x_names], \n",
    "                                                    df['non_violent_camp'], \n",
    "                                                    test_size=0.7)"
   ]
  },
  {
   "cell_type": "code",
   "execution_count": 28,
   "metadata": {
    "slideshow": {
     "slide_type": "slide"
    }
   },
   "outputs": [
    {
     "data": {
      "text/plain": [
       "LogisticRegression(C=1.0, class_weight=None, dual=False, fit_intercept=True,\n",
       "          intercept_scaling=1, max_iter=100, multi_class='ovr', n_jobs=1,\n",
       "          penalty='l2', random_state=None, solver='liblinear', tol=0.0001,\n",
       "          verbose=0, warm_start=False)"
      ]
     },
     "execution_count": 28,
     "metadata": {},
     "output_type": "execute_result"
    }
   ],
   "source": [
    "logistic = LogisticRegression(fit_intercept=True)\n",
    "logistic.fit(X_train,  y_train)"
   ]
  },
  {
   "cell_type": "code",
   "execution_count": 29,
   "metadata": {
    "slideshow": {
     "slide_type": "slide"
    }
   },
   "outputs": [
    {
     "data": {
      "text/plain": [
       "array([[2469,    0],\n",
       "       [  51,    0]])"
      ]
     },
     "execution_count": 29,
     "metadata": {},
     "output_type": "execute_result"
    }
   ],
   "source": [
    "confusion_matrix(y_train, logistic.predict(X_train))"
   ]
  },
  {
   "cell_type": "code",
   "execution_count": 30,
   "metadata": {
    "slideshow": {
     "slide_type": "fragment"
    }
   },
   "outputs": [
    {
     "data": {
      "text/plain": [
       "0.97976190476190472"
      ]
     },
     "execution_count": 30,
     "metadata": {},
     "output_type": "execute_result"
    }
   ],
   "source": [
    "accuracy_score(y_train, logistic.predict(X_train))"
   ]
  },
  {
   "cell_type": "code",
   "execution_count": 31,
   "metadata": {
    "slideshow": {
     "slide_type": "slide"
    }
   },
   "outputs": [
    {
     "data": {
      "text/plain": [
       "array([[5759,    4],\n",
       "       [ 119,    0]])"
      ]
     },
     "execution_count": 31,
     "metadata": {},
     "output_type": "execute_result"
    }
   ],
   "source": [
    "confusion_matrix(y_test, logistic.predict(X_test))"
   ]
  },
  {
   "cell_type": "code",
   "execution_count": 32,
   "metadata": {
    "slideshow": {
     "slide_type": "fragment"
    }
   },
   "outputs": [
    {
     "data": {
      "text/plain": [
       "0.97908874532471946"
      ]
     },
     "execution_count": 32,
     "metadata": {},
     "output_type": "execute_result"
    }
   ],
   "source": [
    "accuracy_score(y_test, logistic.predict(X_test))"
   ]
  },
  {
   "cell_type": "markdown",
   "metadata": {
    "slideshow": {
     "slide_type": "slide"
    }
   },
   "source": [
    "### This is good, but we lost information."
   ]
  },
  {
   "cell_type": "code",
   "execution_count": 33,
   "metadata": {
    "collapsed": true,
    "slideshow": {
     "slide_type": "slide"
    }
   },
   "outputs": [],
   "source": [
    "from sklearn.model_selection import cross_val_score"
   ]
  },
  {
   "cell_type": "code",
   "execution_count": 34,
   "metadata": {
    "slideshow": {
     "slide_type": "fragment"
    }
   },
   "outputs": [
    {
     "data": {
      "text/plain": [
       "array([ 0.97977394,  0.97858418,  0.97678571,  0.9797619 ,  0.97916667])"
      ]
     },
     "execution_count": 34,
     "metadata": {},
     "output_type": "execute_result"
    }
   ],
   "source": [
    "cross_val_score(model, df[x_names], df['non_violent_camp'], cv=5)"
   ]
  },
  {
   "cell_type": "code",
   "execution_count": 140,
   "metadata": {
    "slideshow": {
     "slide_type": "slide"
    }
   },
   "outputs": [
    {
     "data": {
      "text/plain": [
       "0.97833836151950371"
      ]
     },
     "execution_count": 140,
     "metadata": {},
     "output_type": "execute_result"
    }
   ],
   "source": [
    "scores = cross_val_score(model, df[x_names], df['non_violent_camp'], cv=5)\n",
    "\n",
    "scores.mean()"
   ]
  },
  {
   "cell_type": "markdown",
   "metadata": {
    "slideshow": {
     "slide_type": "slide"
    }
   },
   "source": [
    "### Your turn. Figure out the cross val score on your nearest neighbor model."
   ]
  },
  {
   "cell_type": "markdown",
   "metadata": {
    "slideshow": {
     "slide_type": "slide"
    }
   },
   "source": [
    "### Speeding up your parameter search"
   ]
  },
  {
   "cell_type": "code",
   "execution_count": 40,
   "metadata": {
    "slideshow": {
     "slide_type": "slide"
    }
   },
   "outputs": [
    {
     "name": "stdout",
     "output_type": "stream",
     "text": [
      "3 neighbors\n",
      "0.973814764454\n",
      "5 neighbors\n",
      "0.97833836152\n",
      "10 neighbors\n",
      "0.97964774369\n"
     ]
    }
   ],
   "source": [
    "for n in [3,5, 10]:\n",
    "    print str(n) + ' neighbors'\n",
    "    kmodel = KNeighborsClassifier(n_neighbors= n)\n",
    "    scores = cross_val_score(kmodel, df[x_names], df['non_violent_camp'], cv=5)\n",
    "    print(scores.mean())\n"
   ]
  },
  {
   "cell_type": "code",
   "execution_count": 107,
   "metadata": {
    "collapsed": true,
    "slideshow": {
     "slide_type": "slide"
    }
   },
   "outputs": [],
   "source": [
    "from sklearn.model_selection import GridSearchCV\n",
    "\n",
    "param_grid = {'n_neighbors': [1, 3, 5, 7, 9, 11],\n",
    "             'weights' : ['uniform', 'distance']}\n",
    "\n",
    "grid = GridSearchCV(KNeighborsClassifier(), param_grid, cv=5)"
   ]
  },
  {
   "cell_type": "code",
   "execution_count": 108,
   "metadata": {
    "slideshow": {
     "slide_type": "fragment"
    }
   },
   "outputs": [
    {
     "data": {
      "text/plain": [
       "GridSearchCV(cv=5, error_score='raise',\n",
       "       estimator=KNeighborsClassifier(algorithm='auto', leaf_size=30, metric='minkowski',\n",
       "           metric_params=None, n_jobs=1, n_neighbors=5, p=2,\n",
       "           weights='uniform'),\n",
       "       fit_params={}, iid=True, n_jobs=1,\n",
       "       param_grid={'n_neighbors': [1, 3, 5, 7, 9, 11], 'weights': ['uniform', 'distance']},\n",
       "       pre_dispatch='2*n_jobs', refit=True, return_train_score=True,\n",
       "       scoring=None, verbose=0)"
      ]
     },
     "execution_count": 108,
     "metadata": {},
     "output_type": "execute_result"
    }
   ],
   "source": [
    "grid.fit(df[x_names], df['non_violent_camp'])"
   ]
  },
  {
   "cell_type": "code",
   "execution_count": 109,
   "metadata": {
    "slideshow": {
     "slide_type": "slide"
    }
   },
   "outputs": [
    {
     "data": {
      "text/html": [
       "<div>\n",
       "<style>\n",
       "    .dataframe thead tr:only-child th {\n",
       "        text-align: right;\n",
       "    }\n",
       "\n",
       "    .dataframe thead th {\n",
       "        text-align: left;\n",
       "    }\n",
       "\n",
       "    .dataframe tbody tr th {\n",
       "        vertical-align: top;\n",
       "    }\n",
       "</style>\n",
       "<table border=\"1\" class=\"dataframe\">\n",
       "  <thead>\n",
       "    <tr style=\"text-align: right;\">\n",
       "      <th></th>\n",
       "      <th>mean_fit_time</th>\n",
       "      <th>mean_score_time</th>\n",
       "      <th>mean_test_score</th>\n",
       "      <th>mean_train_score</th>\n",
       "      <th>param_n_neighbors</th>\n",
       "      <th>param_weights</th>\n",
       "      <th>params</th>\n",
       "      <th>rank_test_score</th>\n",
       "      <th>split0_test_score</th>\n",
       "      <th>split0_train_score</th>\n",
       "      <th>...</th>\n",
       "      <th>split2_test_score</th>\n",
       "      <th>split2_train_score</th>\n",
       "      <th>split3_test_score</th>\n",
       "      <th>split3_train_score</th>\n",
       "      <th>split4_test_score</th>\n",
       "      <th>split4_train_score</th>\n",
       "      <th>std_fit_time</th>\n",
       "      <th>std_score_time</th>\n",
       "      <th>std_test_score</th>\n",
       "      <th>std_train_score</th>\n",
       "    </tr>\n",
       "  </thead>\n",
       "  <tbody>\n",
       "    <tr>\n",
       "      <th>0</th>\n",
       "      <td>0.011358</td>\n",
       "      <td>0.396259</td>\n",
       "      <td>0.949417</td>\n",
       "      <td>1.000000</td>\n",
       "      <td>1</td>\n",
       "      <td>uniform</td>\n",
       "      <td>{u'n_neighbors': 1, u'weights': u'uniform'}</td>\n",
       "      <td>11</td>\n",
       "      <td>0.966092</td>\n",
       "      <td>1.000000</td>\n",
       "      <td>...</td>\n",
       "      <td>0.927381</td>\n",
       "      <td>1.000000</td>\n",
       "      <td>0.951786</td>\n",
       "      <td>1.000000</td>\n",
       "      <td>0.936310</td>\n",
       "      <td>1.000000</td>\n",
       "      <td>0.003054</td>\n",
       "      <td>0.032552</td>\n",
       "      <td>0.015490</td>\n",
       "      <td>0.000000</td>\n",
       "    </tr>\n",
       "    <tr>\n",
       "      <th>1</th>\n",
       "      <td>0.009322</td>\n",
       "      <td>0.376367</td>\n",
       "      <td>0.949417</td>\n",
       "      <td>1.000000</td>\n",
       "      <td>1</td>\n",
       "      <td>distance</td>\n",
       "      <td>{u'n_neighbors': 1, u'weights': u'distance'}</td>\n",
       "      <td>11</td>\n",
       "      <td>0.966092</td>\n",
       "      <td>1.000000</td>\n",
       "      <td>...</td>\n",
       "      <td>0.927381</td>\n",
       "      <td>1.000000</td>\n",
       "      <td>0.951786</td>\n",
       "      <td>1.000000</td>\n",
       "      <td>0.936310</td>\n",
       "      <td>1.000000</td>\n",
       "      <td>0.000738</td>\n",
       "      <td>0.056277</td>\n",
       "      <td>0.015490</td>\n",
       "      <td>0.000000</td>\n",
       "    </tr>\n",
       "    <tr>\n",
       "      <th>2</th>\n",
       "      <td>0.008700</td>\n",
       "      <td>0.381519</td>\n",
       "      <td>0.973816</td>\n",
       "      <td>0.982980</td>\n",
       "      <td>3</td>\n",
       "      <td>uniform</td>\n",
       "      <td>{u'n_neighbors': 3, u'weights': u'uniform'}</td>\n",
       "      <td>9</td>\n",
       "      <td>0.977989</td>\n",
       "      <td>0.982741</td>\n",
       "      <td>...</td>\n",
       "      <td>0.961310</td>\n",
       "      <td>0.983338</td>\n",
       "      <td>0.977381</td>\n",
       "      <td>0.983041</td>\n",
       "      <td>0.974405</td>\n",
       "      <td>0.982446</td>\n",
       "      <td>0.000751</td>\n",
       "      <td>0.004096</td>\n",
       "      <td>0.006392</td>\n",
       "      <td>0.000347</td>\n",
       "    </tr>\n",
       "    <tr>\n",
       "      <th>3</th>\n",
       "      <td>0.009584</td>\n",
       "      <td>0.386599</td>\n",
       "      <td>0.971911</td>\n",
       "      <td>1.000000</td>\n",
       "      <td>3</td>\n",
       "      <td>distance</td>\n",
       "      <td>{u'n_neighbors': 3, u'weights': u'distance'}</td>\n",
       "      <td>10</td>\n",
       "      <td>0.977989</td>\n",
       "      <td>1.000000</td>\n",
       "      <td>...</td>\n",
       "      <td>0.955952</td>\n",
       "      <td>1.000000</td>\n",
       "      <td>0.974405</td>\n",
       "      <td>1.000000</td>\n",
       "      <td>0.973810</td>\n",
       "      <td>1.000000</td>\n",
       "      <td>0.002529</td>\n",
       "      <td>0.012037</td>\n",
       "      <td>0.008142</td>\n",
       "      <td>0.000000</td>\n",
       "    </tr>\n",
       "    <tr>\n",
       "      <th>4</th>\n",
       "      <td>0.008915</td>\n",
       "      <td>0.415213</td>\n",
       "      <td>0.978338</td>\n",
       "      <td>0.980630</td>\n",
       "      <td>5</td>\n",
       "      <td>uniform</td>\n",
       "      <td>{u'n_neighbors': 5, u'weights': u'uniform'}</td>\n",
       "      <td>6</td>\n",
       "      <td>0.979179</td>\n",
       "      <td>0.980360</td>\n",
       "      <td>...</td>\n",
       "      <td>0.974405</td>\n",
       "      <td>0.980958</td>\n",
       "      <td>0.979762</td>\n",
       "      <td>0.980363</td>\n",
       "      <td>0.979762</td>\n",
       "      <td>0.980661</td>\n",
       "      <td>0.001296</td>\n",
       "      <td>0.018512</td>\n",
       "      <td>0.002014</td>\n",
       "      <td>0.000238</td>\n",
       "    </tr>\n",
       "    <tr>\n",
       "      <th>5</th>\n",
       "      <td>0.010082</td>\n",
       "      <td>0.408703</td>\n",
       "      <td>0.976791</td>\n",
       "      <td>1.000000</td>\n",
       "      <td>5</td>\n",
       "      <td>distance</td>\n",
       "      <td>{u'n_neighbors': 5, u'weights': u'distance'}</td>\n",
       "      <td>8</td>\n",
       "      <td>0.979179</td>\n",
       "      <td>1.000000</td>\n",
       "      <td>...</td>\n",
       "      <td>0.968452</td>\n",
       "      <td>1.000000</td>\n",
       "      <td>0.978571</td>\n",
       "      <td>1.000000</td>\n",
       "      <td>0.979167</td>\n",
       "      <td>1.000000</td>\n",
       "      <td>0.002221</td>\n",
       "      <td>0.010320</td>\n",
       "      <td>0.004177</td>\n",
       "      <td>0.000000</td>\n",
       "    </tr>\n",
       "    <tr>\n",
       "      <th>6</th>\n",
       "      <td>0.008653</td>\n",
       "      <td>0.428472</td>\n",
       "      <td>0.979291</td>\n",
       "      <td>0.980392</td>\n",
       "      <td>7</td>\n",
       "      <td>uniform</td>\n",
       "      <td>{u'n_neighbors': 7, u'weights': u'uniform'}</td>\n",
       "      <td>3</td>\n",
       "      <td>0.979774</td>\n",
       "      <td>0.980360</td>\n",
       "      <td>...</td>\n",
       "      <td>0.977976</td>\n",
       "      <td>0.980661</td>\n",
       "      <td>0.979762</td>\n",
       "      <td>0.980512</td>\n",
       "      <td>0.979762</td>\n",
       "      <td>0.979768</td>\n",
       "      <td>0.000546</td>\n",
       "      <td>0.011199</td>\n",
       "      <td>0.000695</td>\n",
       "      <td>0.000331</td>\n",
       "    </tr>\n",
       "    <tr>\n",
       "      <th>7</th>\n",
       "      <td>0.008972</td>\n",
       "      <td>0.480198</td>\n",
       "      <td>0.978100</td>\n",
       "      <td>1.000000</td>\n",
       "      <td>7</td>\n",
       "      <td>distance</td>\n",
       "      <td>{u'n_neighbors': 7, u'weights': u'distance'}</td>\n",
       "      <td>7</td>\n",
       "      <td>0.979774</td>\n",
       "      <td>1.000000</td>\n",
       "      <td>...</td>\n",
       "      <td>0.972619</td>\n",
       "      <td>1.000000</td>\n",
       "      <td>0.979762</td>\n",
       "      <td>1.000000</td>\n",
       "      <td>0.979167</td>\n",
       "      <td>1.000000</td>\n",
       "      <td>0.001130</td>\n",
       "      <td>0.091524</td>\n",
       "      <td>0.002753</td>\n",
       "      <td>0.000000</td>\n",
       "    </tr>\n",
       "    <tr>\n",
       "      <th>8</th>\n",
       "      <td>0.012173</td>\n",
       "      <td>0.618863</td>\n",
       "      <td>0.979529</td>\n",
       "      <td>0.979826</td>\n",
       "      <td>9</td>\n",
       "      <td>uniform</td>\n",
       "      <td>{u'n_neighbors': 9, u'weights': u'uniform'}</td>\n",
       "      <td>2</td>\n",
       "      <td>0.979774</td>\n",
       "      <td>0.979765</td>\n",
       "      <td>...</td>\n",
       "      <td>0.979167</td>\n",
       "      <td>0.979917</td>\n",
       "      <td>0.979762</td>\n",
       "      <td>0.979768</td>\n",
       "      <td>0.979762</td>\n",
       "      <td>0.979768</td>\n",
       "      <td>0.000520</td>\n",
       "      <td>0.020691</td>\n",
       "      <td>0.000291</td>\n",
       "      <td>0.000073</td>\n",
       "    </tr>\n",
       "    <tr>\n",
       "      <th>9</th>\n",
       "      <td>0.013664</td>\n",
       "      <td>0.593168</td>\n",
       "      <td>0.978815</td>\n",
       "      <td>1.000000</td>\n",
       "      <td>9</td>\n",
       "      <td>distance</td>\n",
       "      <td>{u'n_neighbors': 9, u'weights': u'distance'}</td>\n",
       "      <td>5</td>\n",
       "      <td>0.979774</td>\n",
       "      <td>1.000000</td>\n",
       "      <td>...</td>\n",
       "      <td>0.975595</td>\n",
       "      <td>1.000000</td>\n",
       "      <td>0.979762</td>\n",
       "      <td>1.000000</td>\n",
       "      <td>0.979762</td>\n",
       "      <td>1.000000</td>\n",
       "      <td>0.002999</td>\n",
       "      <td>0.088248</td>\n",
       "      <td>0.001625</td>\n",
       "      <td>0.000000</td>\n",
       "    </tr>\n",
       "    <tr>\n",
       "      <th>10</th>\n",
       "      <td>0.010664</td>\n",
       "      <td>0.513002</td>\n",
       "      <td>0.979648</td>\n",
       "      <td>0.979796</td>\n",
       "      <td>11</td>\n",
       "      <td>uniform</td>\n",
       "      <td>{u'n_neighbors': 11, u'weights': u'uniform'}</td>\n",
       "      <td>1</td>\n",
       "      <td>0.979774</td>\n",
       "      <td>0.979765</td>\n",
       "      <td>...</td>\n",
       "      <td>0.979762</td>\n",
       "      <td>0.979768</td>\n",
       "      <td>0.979762</td>\n",
       "      <td>0.979768</td>\n",
       "      <td>0.979762</td>\n",
       "      <td>0.979768</td>\n",
       "      <td>0.000795</td>\n",
       "      <td>0.025677</td>\n",
       "      <td>0.000234</td>\n",
       "      <td>0.000059</td>\n",
       "    </tr>\n",
       "    <tr>\n",
       "      <th>11</th>\n",
       "      <td>0.011377</td>\n",
       "      <td>0.641297</td>\n",
       "      <td>0.979053</td>\n",
       "      <td>1.000000</td>\n",
       "      <td>11</td>\n",
       "      <td>distance</td>\n",
       "      <td>{u'n_neighbors': 11, u'weights': u'distance'}</td>\n",
       "      <td>4</td>\n",
       "      <td>0.979774</td>\n",
       "      <td>1.000000</td>\n",
       "      <td>...</td>\n",
       "      <td>0.976786</td>\n",
       "      <td>1.000000</td>\n",
       "      <td>0.979762</td>\n",
       "      <td>1.000000</td>\n",
       "      <td>0.979762</td>\n",
       "      <td>1.000000</td>\n",
       "      <td>0.001496</td>\n",
       "      <td>0.055202</td>\n",
       "      <td>0.001156</td>\n",
       "      <td>0.000000</td>\n",
       "    </tr>\n",
       "  </tbody>\n",
       "</table>\n",
       "<p>12 rows × 22 columns</p>\n",
       "</div>"
      ],
      "text/plain": [
       "    mean_fit_time  mean_score_time  mean_test_score  mean_train_score  \\\n",
       "0        0.011358         0.396259         0.949417          1.000000   \n",
       "1        0.009322         0.376367         0.949417          1.000000   \n",
       "2        0.008700         0.381519         0.973816          0.982980   \n",
       "3        0.009584         0.386599         0.971911          1.000000   \n",
       "4        0.008915         0.415213         0.978338          0.980630   \n",
       "5        0.010082         0.408703         0.976791          1.000000   \n",
       "6        0.008653         0.428472         0.979291          0.980392   \n",
       "7        0.008972         0.480198         0.978100          1.000000   \n",
       "8        0.012173         0.618863         0.979529          0.979826   \n",
       "9        0.013664         0.593168         0.978815          1.000000   \n",
       "10       0.010664         0.513002         0.979648          0.979796   \n",
       "11       0.011377         0.641297         0.979053          1.000000   \n",
       "\n",
       "   param_n_neighbors param_weights  \\\n",
       "0                  1       uniform   \n",
       "1                  1      distance   \n",
       "2                  3       uniform   \n",
       "3                  3      distance   \n",
       "4                  5       uniform   \n",
       "5                  5      distance   \n",
       "6                  7       uniform   \n",
       "7                  7      distance   \n",
       "8                  9       uniform   \n",
       "9                  9      distance   \n",
       "10                11       uniform   \n",
       "11                11      distance   \n",
       "\n",
       "                                           params  rank_test_score  \\\n",
       "0     {u'n_neighbors': 1, u'weights': u'uniform'}               11   \n",
       "1    {u'n_neighbors': 1, u'weights': u'distance'}               11   \n",
       "2     {u'n_neighbors': 3, u'weights': u'uniform'}                9   \n",
       "3    {u'n_neighbors': 3, u'weights': u'distance'}               10   \n",
       "4     {u'n_neighbors': 5, u'weights': u'uniform'}                6   \n",
       "5    {u'n_neighbors': 5, u'weights': u'distance'}                8   \n",
       "6     {u'n_neighbors': 7, u'weights': u'uniform'}                3   \n",
       "7    {u'n_neighbors': 7, u'weights': u'distance'}                7   \n",
       "8     {u'n_neighbors': 9, u'weights': u'uniform'}                2   \n",
       "9    {u'n_neighbors': 9, u'weights': u'distance'}                5   \n",
       "10   {u'n_neighbors': 11, u'weights': u'uniform'}                1   \n",
       "11  {u'n_neighbors': 11, u'weights': u'distance'}                4   \n",
       "\n",
       "    split0_test_score  split0_train_score       ...         split2_test_score  \\\n",
       "0            0.966092            1.000000       ...                  0.927381   \n",
       "1            0.966092            1.000000       ...                  0.927381   \n",
       "2            0.977989            0.982741       ...                  0.961310   \n",
       "3            0.977989            1.000000       ...                  0.955952   \n",
       "4            0.979179            0.980360       ...                  0.974405   \n",
       "5            0.979179            1.000000       ...                  0.968452   \n",
       "6            0.979774            0.980360       ...                  0.977976   \n",
       "7            0.979774            1.000000       ...                  0.972619   \n",
       "8            0.979774            0.979765       ...                  0.979167   \n",
       "9            0.979774            1.000000       ...                  0.975595   \n",
       "10           0.979774            0.979765       ...                  0.979762   \n",
       "11           0.979774            1.000000       ...                  0.976786   \n",
       "\n",
       "    split2_train_score  split3_test_score  split3_train_score  \\\n",
       "0             1.000000           0.951786            1.000000   \n",
       "1             1.000000           0.951786            1.000000   \n",
       "2             0.983338           0.977381            0.983041   \n",
       "3             1.000000           0.974405            1.000000   \n",
       "4             0.980958           0.979762            0.980363   \n",
       "5             1.000000           0.978571            1.000000   \n",
       "6             0.980661           0.979762            0.980512   \n",
       "7             1.000000           0.979762            1.000000   \n",
       "8             0.979917           0.979762            0.979768   \n",
       "9             1.000000           0.979762            1.000000   \n",
       "10            0.979768           0.979762            0.979768   \n",
       "11            1.000000           0.979762            1.000000   \n",
       "\n",
       "    split4_test_score  split4_train_score  std_fit_time  std_score_time  \\\n",
       "0            0.936310            1.000000      0.003054        0.032552   \n",
       "1            0.936310            1.000000      0.000738        0.056277   \n",
       "2            0.974405            0.982446      0.000751        0.004096   \n",
       "3            0.973810            1.000000      0.002529        0.012037   \n",
       "4            0.979762            0.980661      0.001296        0.018512   \n",
       "5            0.979167            1.000000      0.002221        0.010320   \n",
       "6            0.979762            0.979768      0.000546        0.011199   \n",
       "7            0.979167            1.000000      0.001130        0.091524   \n",
       "8            0.979762            0.979768      0.000520        0.020691   \n",
       "9            0.979762            1.000000      0.002999        0.088248   \n",
       "10           0.979762            0.979768      0.000795        0.025677   \n",
       "11           0.979762            1.000000      0.001496        0.055202   \n",
       "\n",
       "    std_test_score  std_train_score  \n",
       "0         0.015490         0.000000  \n",
       "1         0.015490         0.000000  \n",
       "2         0.006392         0.000347  \n",
       "3         0.008142         0.000000  \n",
       "4         0.002014         0.000238  \n",
       "5         0.004177         0.000000  \n",
       "6         0.000695         0.000331  \n",
       "7         0.002753         0.000000  \n",
       "8         0.000291         0.000073  \n",
       "9         0.001625         0.000000  \n",
       "10        0.000234         0.000059  \n",
       "11        0.001156         0.000000  \n",
       "\n",
       "[12 rows x 22 columns]"
      ]
     },
     "execution_count": 109,
     "metadata": {},
     "output_type": "execute_result"
    }
   ],
   "source": [
    "import pandas as pd\n",
    "\n",
    "results = pd.DataFrame(grid.cv_results_)\n",
    "\n",
    "results"
   ]
  },
  {
   "cell_type": "code",
   "execution_count": 110,
   "metadata": {
    "slideshow": {
     "slide_type": "slide"
    }
   },
   "outputs": [
    {
     "data": {
      "text/plain": [
       "<matplotlib.axes._subplots.AxesSubplot at 0x1199a67d0>"
      ]
     },
     "execution_count": 110,
     "metadata": {},
     "output_type": "execute_result"
    },
    {
     "data": {
      "image/png": "[encoded data removed]",
      "text/plain": [
       "<matplotlib.figure.Figure at 0x111e23890>"
      ]
     },
     "metadata": {},
     "output_type": "display_data"
    }
   ],
   "source": [
    "results.plot.scatter( x= 'param_n_neighbors',\n",
    "                     y = 'mean_test_score')\n",
    "\n"
   ]
  },
  {
   "cell_type": "markdown",
   "metadata": {
    "slideshow": {
     "slide_type": "slide"
    }
   },
   "source": [
    "Your turn. Search a wider range of parameters. What would you pick for your final model?"
   ]
  },
  {
   "cell_type": "code",
   "execution_count": null,
   "metadata": {
    "collapsed": true,
    "slideshow": {
     "slide_type": "skip"
    }
   },
   "outputs": [],
   "source": []
  },
  {
   "cell_type": "markdown",
   "metadata": {
    "slideshow": {
     "slide_type": "slide"
    }
   },
   "source": [
    "#### A decision tree  is a fairly simple and intuitive machine learning classifier. "
   ]
  },
  {
   "cell_type": "code",
   "execution_count": 149,
   "metadata": {
    "collapsed": true,
    "slideshow": {
     "slide_type": "slide"
    }
   },
   "outputs": [],
   "source": [
    "from sklearn.tree import DecisionTreeClassifier\n",
    "\n",
    "from sklearn.tree import export_graphviz\n",
    "from IPython.display import Image\n",
    "\n",
    "\n",
    "\n",
    "dtc = DecisionTreeClassifier(max_depth = 3, #  Split the sample only three times.\n",
    "                             min_samples_leaf = 10) # Make sure each leaf \n",
    "\n"
   ]
  },
  {
   "cell_type": "code",
   "execution_count": 150,
   "metadata": {
    "slideshow": {
     "slide_type": "slide"
    }
   },
   "outputs": [
    {
     "data": {
      "text/plain": [
       "DecisionTreeClassifier(class_weight=None, criterion='gini', max_depth=3,\n",
       "            max_features=None, max_leaf_nodes=None,\n",
       "            min_impurity_split=1e-07, min_samples_leaf=10,\n",
       "            min_samples_split=2, min_weight_fraction_leaf=0.0,\n",
       "            presort=False, random_state=None, splitter='best')"
      ]
     },
     "execution_count": 150,
     "metadata": {},
     "output_type": "execute_result"
    }
   ],
   "source": [
    "dtc.fit(X_train, y_train)\n"
   ]
  },
  {
   "cell_type": "code",
   "execution_count": 151,
   "metadata": {
    "slideshow": {
     "slide_type": "slide"
    }
   },
   "outputs": [
    {
     "data": {
      "image/png": "[encoded data removed]",
      "text/plain": [
       "<IPython.core.display.Image object>"
      ]
     },
     "execution_count": 151,
     "metadata": {},
     "output_type": "execute_result"
    }
   ],
   "source": [
    "export_graphviz(dtc, \n",
    "                out_file='dtc.dot', \n",
    "                feature_names=x_names)\n",
    "                \n",
    "!dot -Tpng dtc.dot -o  dtc.png\n",
    "Image(filename='dtc.png') "
   ]
  },
  {
   "cell_type": "code",
   "execution_count": 112,
   "metadata": {
    "collapsed": true,
    "slideshow": {
     "slide_type": "slide"
    }
   },
   "outputs": [],
   "source": [
    "from sklearn.ensemble import RandomForestClassifier\n",
    "\n"
   ]
  },
  {
   "cell_type": "code",
   "execution_count": 48,
   "metadata": {},
   "outputs": [
    {
     "data": {
      "text/plain": [
       "RandomForestClassifier(bootstrap=True, class_weight=None, criterion='gini',\n",
       "            max_depth=None, max_features='auto', max_leaf_nodes=None,\n",
       "            min_impurity_split=1e-07, min_samples_leaf=1,\n",
       "            min_samples_split=2, min_weight_fraction_leaf=0.0,\n",
       "            n_estimators=10, n_jobs=1, oob_score=False, random_state=None,\n",
       "            verbose=0, warm_start=False)"
      ]
     },
     "execution_count": 48,
     "metadata": {},
     "output_type": "execute_result"
    }
   ],
   "source": [
    "rf = RandomForestClassifier()\n",
    "rf"
   ]
  },
  {
   "cell_type": "code",
   "execution_count": 49,
   "metadata": {
    "slideshow": {
     "slide_type": "slide"
    }
   },
   "outputs": [
    {
     "data": {
      "text/plain": [
       "RandomForestClassifier(bootstrap=True, class_weight=None, criterion='gini',\n",
       "            max_depth=None, max_features='auto', max_leaf_nodes=None,\n",
       "            min_impurity_split=1e-07, min_samples_leaf=1,\n",
       "            min_samples_split=2, min_weight_fraction_leaf=0.0,\n",
       "            n_estimators=10, n_jobs=1, oob_score=False, random_state=None,\n",
       "            verbose=0, warm_start=False)"
      ]
     },
     "execution_count": 49,
     "metadata": {},
     "output_type": "execute_result"
    }
   ],
   "source": [
    "rf.fit(df[x_names], df['non_violent_camp'])"
   ]
  },
  {
   "cell_type": "code",
   "execution_count": 50,
   "metadata": {
    "slideshow": {
     "slide_type": "slide"
    }
   },
   "outputs": [
    {
     "data": {
      "text/plain": [
       "array([ 0.09756491,  0.06168025,  0.04169318,  0.06012296,  0.03663848,\n",
       "        0.08373661,  0.01316168,  0.0514611 ,  0.00488327,  0.06171675,\n",
       "        0.08178452,  0.09455906,  0.01274902,  0.06878534,  0.01088415,\n",
       "        0.00637521,  0.06008929,  0.0067915 ,  0.0070107 ,  0.06228983,\n",
       "        0.07602219])"
      ]
     },
     "execution_count": 50,
     "metadata": {},
     "output_type": "execute_result"
    }
   ],
   "source": [
    "rf.feature_importances_"
   ]
  },
  {
   "cell_type": "code",
   "execution_count": 51,
   "metadata": {
    "slideshow": {
     "slide_type": "slide"
    }
   },
   "outputs": [
    {
     "data": {
      "text/html": [
       "<div>\n",
       "<style>\n",
       "    .dataframe thead tr:only-child th {\n",
       "        text-align: right;\n",
       "    }\n",
       "\n",
       "    .dataframe thead th {\n",
       "        text-align: left;\n",
       "    }\n",
       "\n",
       "    .dataframe tbody tr th {\n",
       "        vertical-align: top;\n",
       "    }\n",
       "</style>\n",
       "<table border=\"1\" class=\"dataframe\">\n",
       "  <thead>\n",
       "    <tr style=\"text-align: right;\">\n",
       "      <th></th>\n",
       "      <th>0</th>\n",
       "      <th>1</th>\n",
       "    </tr>\n",
       "  </thead>\n",
       "  <tbody>\n",
       "    <tr>\n",
       "      <th>0</th>\n",
       "      <td>population_ln</td>\n",
       "      <td>0.097565</td>\n",
       "    </tr>\n",
       "    <tr>\n",
       "      <th>1</th>\n",
       "      <td>infant_mort_ln</td>\n",
       "      <td>0.061680</td>\n",
       "    </tr>\n",
       "    <tr>\n",
       "      <th>2</th>\n",
       "      <td>leader_tenure</td>\n",
       "      <td>0.041693</td>\n",
       "    </tr>\n",
       "    <tr>\n",
       "      <th>3</th>\n",
       "      <td>CPI_sqrt</td>\n",
       "      <td>0.060123</td>\n",
       "    </tr>\n",
       "    <tr>\n",
       "      <th>4</th>\n",
       "      <td>cell_phones_ln</td>\n",
       "      <td>0.036638</td>\n",
       "    </tr>\n",
       "    <tr>\n",
       "      <th>5</th>\n",
       "      <td>country_age</td>\n",
       "      <td>0.083737</td>\n",
       "    </tr>\n",
       "    <tr>\n",
       "      <th>6</th>\n",
       "      <td>coups_recent</td>\n",
       "      <td>0.013162</td>\n",
       "    </tr>\n",
       "    <tr>\n",
       "      <th>7</th>\n",
       "      <td>regime_age</td>\n",
       "      <td>0.051461</td>\n",
       "    </tr>\n",
       "    <tr>\n",
       "      <th>8</th>\n",
       "      <td>ethnic_salient</td>\n",
       "      <td>0.004883</td>\n",
       "    </tr>\n",
       "    <tr>\n",
       "      <th>9</th>\n",
       "      <td>service</td>\n",
       "      <td>0.061717</td>\n",
       "    </tr>\n",
       "    <tr>\n",
       "      <th>10</th>\n",
       "      <td>GDP_change</td>\n",
       "      <td>0.081785</td>\n",
       "    </tr>\n",
       "    <tr>\n",
       "      <th>11</th>\n",
       "      <td>youth_bulge</td>\n",
       "      <td>0.094559</td>\n",
       "    </tr>\n",
       "    <tr>\n",
       "      <th>12</th>\n",
       "      <td>election_year</td>\n",
       "      <td>0.012749</td>\n",
       "    </tr>\n",
       "    <tr>\n",
       "      <th>13</th>\n",
       "      <td>urban_pop</td>\n",
       "      <td>0.068785</td>\n",
       "    </tr>\n",
       "    <tr>\n",
       "      <th>14</th>\n",
       "      <td>democracy</td>\n",
       "      <td>0.010884</td>\n",
       "    </tr>\n",
       "    <tr>\n",
       "      <th>15</th>\n",
       "      <td>wto_gatt</td>\n",
       "      <td>0.006375</td>\n",
       "    </tr>\n",
       "    <tr>\n",
       "      <th>16</th>\n",
       "      <td>secondary_school</td>\n",
       "      <td>0.060089</td>\n",
       "    </tr>\n",
       "    <tr>\n",
       "      <th>17</th>\n",
       "      <td>state_discriminate</td>\n",
       "      <td>0.006791</td>\n",
       "    </tr>\n",
       "    <tr>\n",
       "      <th>18</th>\n",
       "      <td>civil_war</td>\n",
       "      <td>0.007011</td>\n",
       "    </tr>\n",
       "    <tr>\n",
       "      <th>19</th>\n",
       "      <td>torture</td>\n",
       "      <td>0.062290</td>\n",
       "    </tr>\n",
       "    <tr>\n",
       "      <th>20</th>\n",
       "      <td>manufactoring</td>\n",
       "      <td>0.076022</td>\n",
       "    </tr>\n",
       "  </tbody>\n",
       "</table>\n",
       "</div>"
      ],
      "text/plain": [
       "                     0         1\n",
       "0        population_ln  0.097565\n",
       "1       infant_mort_ln  0.061680\n",
       "2        leader_tenure  0.041693\n",
       "3             CPI_sqrt  0.060123\n",
       "4       cell_phones_ln  0.036638\n",
       "5          country_age  0.083737\n",
       "6         coups_recent  0.013162\n",
       "7           regime_age  0.051461\n",
       "8       ethnic_salient  0.004883\n",
       "9              service  0.061717\n",
       "10          GDP_change  0.081785\n",
       "11         youth_bulge  0.094559\n",
       "12       election_year  0.012749\n",
       "13           urban_pop  0.068785\n",
       "14           democracy  0.010884\n",
       "15            wto_gatt  0.006375\n",
       "16    secondary_school  0.060089\n",
       "17  state_discriminate  0.006791\n",
       "18           civil_war  0.007011\n",
       "19             torture  0.062290\n",
       "20       manufactoring  0.076022"
      ]
     },
     "execution_count": 51,
     "metadata": {},
     "output_type": "execute_result"
    }
   ],
   "source": [
    "imp = pd.DataFrame(zip(x_names, rf.feature_importances_))\n",
    "imp"
   ]
  },
  {
   "cell_type": "code",
   "execution_count": 52,
   "metadata": {
    "slideshow": {
     "slide_type": "slide"
    }
   },
   "outputs": [
    {
     "data": {
      "text/html": [
       "<div>\n",
       "<style>\n",
       "    .dataframe thead tr:only-child th {\n",
       "        text-align: right;\n",
       "    }\n",
       "\n",
       "    .dataframe thead th {\n",
       "        text-align: left;\n",
       "    }\n",
       "\n",
       "    .dataframe tbody tr th {\n",
       "        vertical-align: top;\n",
       "    }\n",
       "</style>\n",
       "<table border=\"1\" class=\"dataframe\">\n",
       "  <thead>\n",
       "    <tr style=\"text-align: right;\">\n",
       "      <th></th>\n",
       "      <th>0</th>\n",
       "      <th>1</th>\n",
       "    </tr>\n",
       "  </thead>\n",
       "  <tbody>\n",
       "    <tr>\n",
       "      <th>0</th>\n",
       "      <td>population_ln</td>\n",
       "      <td>0.097565</td>\n",
       "    </tr>\n",
       "    <tr>\n",
       "      <th>11</th>\n",
       "      <td>youth_bulge</td>\n",
       "      <td>0.094559</td>\n",
       "    </tr>\n",
       "    <tr>\n",
       "      <th>5</th>\n",
       "      <td>country_age</td>\n",
       "      <td>0.083737</td>\n",
       "    </tr>\n",
       "    <tr>\n",
       "      <th>10</th>\n",
       "      <td>GDP_change</td>\n",
       "      <td>0.081785</td>\n",
       "    </tr>\n",
       "    <tr>\n",
       "      <th>20</th>\n",
       "      <td>manufactoring</td>\n",
       "      <td>0.076022</td>\n",
       "    </tr>\n",
       "    <tr>\n",
       "      <th>13</th>\n",
       "      <td>urban_pop</td>\n",
       "      <td>0.068785</td>\n",
       "    </tr>\n",
       "    <tr>\n",
       "      <th>19</th>\n",
       "      <td>torture</td>\n",
       "      <td>0.062290</td>\n",
       "    </tr>\n",
       "    <tr>\n",
       "      <th>9</th>\n",
       "      <td>service</td>\n",
       "      <td>0.061717</td>\n",
       "    </tr>\n",
       "    <tr>\n",
       "      <th>1</th>\n",
       "      <td>infant_mort_ln</td>\n",
       "      <td>0.061680</td>\n",
       "    </tr>\n",
       "    <tr>\n",
       "      <th>3</th>\n",
       "      <td>CPI_sqrt</td>\n",
       "      <td>0.060123</td>\n",
       "    </tr>\n",
       "    <tr>\n",
       "      <th>16</th>\n",
       "      <td>secondary_school</td>\n",
       "      <td>0.060089</td>\n",
       "    </tr>\n",
       "    <tr>\n",
       "      <th>7</th>\n",
       "      <td>regime_age</td>\n",
       "      <td>0.051461</td>\n",
       "    </tr>\n",
       "    <tr>\n",
       "      <th>2</th>\n",
       "      <td>leader_tenure</td>\n",
       "      <td>0.041693</td>\n",
       "    </tr>\n",
       "    <tr>\n",
       "      <th>4</th>\n",
       "      <td>cell_phones_ln</td>\n",
       "      <td>0.036638</td>\n",
       "    </tr>\n",
       "    <tr>\n",
       "      <th>6</th>\n",
       "      <td>coups_recent</td>\n",
       "      <td>0.013162</td>\n",
       "    </tr>\n",
       "    <tr>\n",
       "      <th>12</th>\n",
       "      <td>election_year</td>\n",
       "      <td>0.012749</td>\n",
       "    </tr>\n",
       "    <tr>\n",
       "      <th>14</th>\n",
       "      <td>democracy</td>\n",
       "      <td>0.010884</td>\n",
       "    </tr>\n",
       "    <tr>\n",
       "      <th>18</th>\n",
       "      <td>civil_war</td>\n",
       "      <td>0.007011</td>\n",
       "    </tr>\n",
       "    <tr>\n",
       "      <th>17</th>\n",
       "      <td>state_discriminate</td>\n",
       "      <td>0.006791</td>\n",
       "    </tr>\n",
       "    <tr>\n",
       "      <th>15</th>\n",
       "      <td>wto_gatt</td>\n",
       "      <td>0.006375</td>\n",
       "    </tr>\n",
       "    <tr>\n",
       "      <th>8</th>\n",
       "      <td>ethnic_salient</td>\n",
       "      <td>0.004883</td>\n",
       "    </tr>\n",
       "  </tbody>\n",
       "</table>\n",
       "</div>"
      ],
      "text/plain": [
       "                     0         1\n",
       "0        population_ln  0.097565\n",
       "11         youth_bulge  0.094559\n",
       "5          country_age  0.083737\n",
       "10          GDP_change  0.081785\n",
       "20       manufactoring  0.076022\n",
       "13           urban_pop  0.068785\n",
       "19             torture  0.062290\n",
       "9              service  0.061717\n",
       "1       infant_mort_ln  0.061680\n",
       "3             CPI_sqrt  0.060123\n",
       "16    secondary_school  0.060089\n",
       "7           regime_age  0.051461\n",
       "2        leader_tenure  0.041693\n",
       "4       cell_phones_ln  0.036638\n",
       "6         coups_recent  0.013162\n",
       "12       election_year  0.012749\n",
       "14           democracy  0.010884\n",
       "18           civil_war  0.007011\n",
       "17  state_discriminate  0.006791\n",
       "15            wto_gatt  0.006375\n",
       "8       ethnic_salient  0.004883"
      ]
     },
     "execution_count": 52,
     "metadata": {},
     "output_type": "execute_result"
    }
   ],
   "source": [
    "imp.sort_values(by=1, ascending=False)"
   ]
  },
  {
   "cell_type": "code",
   "execution_count": 128,
   "metadata": {
    "collapsed": true,
    "slideshow": {
     "slide_type": "slide"
    }
   },
   "outputs": [],
   "source": [
    "\n",
    "\n",
    "from sklearn.model_selection import GridSearchCV\n",
    "\n",
    "param_dist = {\"max_features\": [4],\n",
    "              \"min_samples_split\": [10], \n",
    "             \"class_weight\" : [\"balanced\", None],\n",
    "             \"n_estimators\" : [3, 5, 10, 15, 25, 50]}\n",
    "\n",
    "\n",
    "rfgs = GridSearchCV( RandomForestClassifier(),\n",
    "                  param_dist, \n",
    "                  cv = 5,                  \n",
    "                  verbose=1 )"
   ]
  },
  {
   "cell_type": "code",
   "execution_count": 134,
   "metadata": {
    "slideshow": {
     "slide_type": "slide"
    }
   },
   "outputs": [
    {
     "name": "stdout",
     "output_type": "stream",
     "text": [
      "Fitting 5 folds for each of 12 candidates, totalling 60 fits\n"
     ]
    },
    {
     "name": "stderr",
     "output_type": "stream",
     "text": [
      "[Parallel(n_jobs=1)]: Done  60 out of  60 | elapsed:    8.0s finished\n"
     ]
    },
    {
     "data": {
      "text/plain": [
       "GridSearchCV(cv=5, error_score='raise',\n",
       "       estimator=RandomForestClassifier(bootstrap=True, class_weight=None, criterion='gini',\n",
       "            max_depth=None, max_features='auto', max_leaf_nodes=None,\n",
       "            min_impurity_split=1e-07, min_samples_leaf=1,\n",
       "            min_samples_split=2, min_weight_fraction_leaf=0.0,\n",
       "            n_estimators=10, n_jobs=1, oob_score=False, random_state=None,\n",
       "            verbose=0, warm_start=False),\n",
       "       fit_params={}, iid=True, n_jobs=1,\n",
       "       param_grid={'max_features': [4], 'min_samples_split': [10], 'n_estimators': [3, 5, 10, 15, 25, 50], 'class_weight': ['balanced', None]},\n",
       "       pre_dispatch='2*n_jobs', refit=True, return_train_score=True,\n",
       "       scoring=None, verbose=1)"
      ]
     },
     "execution_count": 134,
     "metadata": {},
     "output_type": "execute_result"
    }
   ],
   "source": [
    "rfgs.fit(X_train, y_train)"
   ]
  },
  {
   "cell_type": "code",
   "execution_count": 135,
   "metadata": {
    "slideshow": {
     "slide_type": "slide"
    }
   },
   "outputs": [
    {
     "data": {
      "text/plain": [
       "<bound method RandomForestClassifier.get_params of RandomForestClassifier(bootstrap=True, class_weight='balanced',\n",
       "            criterion='gini', max_depth=None, max_features=4,\n",
       "            max_leaf_nodes=None, min_impurity_split=1e-07,\n",
       "            min_samples_leaf=1, min_samples_split=10,\n",
       "            min_weight_fraction_leaf=0.0, n_estimators=50, n_jobs=1,\n",
       "            oob_score=False, random_state=None, verbose=0,\n",
       "            warm_start=False)>"
      ]
     },
     "execution_count": 135,
     "metadata": {},
     "output_type": "execute_result"
    }
   ],
   "source": [
    "rf_best = rfgs.best_estimator_\n",
    "rf_best.get_params"
   ]
  },
  {
   "cell_type": "code",
   "execution_count": 133,
   "metadata": {},
   "outputs": [
    {
     "data": {
      "text/html": [
       "<div>\n",
       "<style>\n",
       "    .dataframe thead tr:only-child th {\n",
       "        text-align: right;\n",
       "    }\n",
       "\n",
       "    .dataframe thead th {\n",
       "        text-align: left;\n",
       "    }\n",
       "\n",
       "    .dataframe tbody tr th {\n",
       "        vertical-align: top;\n",
       "    }\n",
       "</style>\n",
       "<table border=\"1\" class=\"dataframe\">\n",
       "  <thead>\n",
       "    <tr style=\"text-align: right;\">\n",
       "      <th></th>\n",
       "      <th>mean_fit_time</th>\n",
       "      <th>mean_score_time</th>\n",
       "      <th>mean_test_score</th>\n",
       "      <th>mean_train_score</th>\n",
       "      <th>param_class_weight</th>\n",
       "      <th>param_max_features</th>\n",
       "      <th>param_min_samples_split</th>\n",
       "      <th>param_n_estimators</th>\n",
       "      <th>params</th>\n",
       "      <th>rank_test_score</th>\n",
       "      <th>...</th>\n",
       "      <th>split2_test_score</th>\n",
       "      <th>split2_train_score</th>\n",
       "      <th>split3_test_score</th>\n",
       "      <th>split3_train_score</th>\n",
       "      <th>split4_test_score</th>\n",
       "      <th>split4_train_score</th>\n",
       "      <th>std_fit_time</th>\n",
       "      <th>std_score_time</th>\n",
       "      <th>std_test_score</th>\n",
       "      <th>std_train_score</th>\n",
       "    </tr>\n",
       "  </thead>\n",
       "  <tbody>\n",
       "    <tr>\n",
       "      <th>0</th>\n",
       "      <td>0.042132</td>\n",
       "      <td>0.003649</td>\n",
       "      <td>0.957986</td>\n",
       "      <td>0.989020</td>\n",
       "      <td>balanced</td>\n",
       "      <td>4</td>\n",
       "      <td>10</td>\n",
       "      <td>3</td>\n",
       "      <td>{u'max_features': 4, u'min_samples_split': 10,...</td>\n",
       "      <td>12</td>\n",
       "      <td>...</td>\n",
       "      <td>0.942262</td>\n",
       "      <td>0.987950</td>\n",
       "      <td>0.966071</td>\n",
       "      <td>0.990628</td>\n",
       "      <td>0.949405</td>\n",
       "      <td>0.988843</td>\n",
       "      <td>0.006765</td>\n",
       "      <td>0.000964</td>\n",
       "      <td>0.010848</td>\n",
       "      <td>0.000952</td>\n",
       "    </tr>\n",
       "    <tr>\n",
       "      <th>1</th>\n",
       "      <td>0.063091</td>\n",
       "      <td>0.004540</td>\n",
       "      <td>0.969055</td>\n",
       "      <td>0.993871</td>\n",
       "      <td>balanced</td>\n",
       "      <td>4</td>\n",
       "      <td>10</td>\n",
       "      <td>5</td>\n",
       "      <td>{u'max_features': 4, u'min_samples_split': 10,...</td>\n",
       "      <td>11</td>\n",
       "      <td>...</td>\n",
       "      <td>0.948810</td>\n",
       "      <td>0.994198</td>\n",
       "      <td>0.969643</td>\n",
       "      <td>0.993008</td>\n",
       "      <td>0.970833</td>\n",
       "      <td>0.993008</td>\n",
       "      <td>0.009060</td>\n",
       "      <td>0.000511</td>\n",
       "      <td>0.010712</td>\n",
       "      <td>0.000789</td>\n",
       "    </tr>\n",
       "    <tr>\n",
       "      <th>2</th>\n",
       "      <td>0.123158</td>\n",
       "      <td>0.008615</td>\n",
       "      <td>0.977624</td>\n",
       "      <td>0.995805</td>\n",
       "      <td>balanced</td>\n",
       "      <td>4</td>\n",
       "      <td>10</td>\n",
       "      <td>10</td>\n",
       "      <td>{u'max_features': 4, u'min_samples_split': 10,...</td>\n",
       "      <td>3</td>\n",
       "      <td>...</td>\n",
       "      <td>0.970833</td>\n",
       "      <td>0.995983</td>\n",
       "      <td>0.979762</td>\n",
       "      <td>0.995537</td>\n",
       "      <td>0.979167</td>\n",
       "      <td>0.995388</td>\n",
       "      <td>0.012762</td>\n",
       "      <td>0.001455</td>\n",
       "      <td>0.003423</td>\n",
       "      <td>0.000317</td>\n",
       "    </tr>\n",
       "    <tr>\n",
       "      <th>3</th>\n",
       "      <td>0.185349</td>\n",
       "      <td>0.025905</td>\n",
       "      <td>0.974530</td>\n",
       "      <td>0.997828</td>\n",
       "      <td>balanced</td>\n",
       "      <td>4</td>\n",
       "      <td>10</td>\n",
       "      <td>15</td>\n",
       "      <td>{u'max_features': 4, u'min_samples_split': 10,...</td>\n",
       "      <td>9</td>\n",
       "      <td>...</td>\n",
       "      <td>0.959524</td>\n",
       "      <td>0.997471</td>\n",
       "      <td>0.974405</td>\n",
       "      <td>0.997322</td>\n",
       "      <td>0.979762</td>\n",
       "      <td>0.998215</td>\n",
       "      <td>0.013998</td>\n",
       "      <td>0.027379</td>\n",
       "      <td>0.007767</td>\n",
       "      <td>0.000359</td>\n",
       "    </tr>\n",
       "    <tr>\n",
       "      <th>4</th>\n",
       "      <td>0.300260</td>\n",
       "      <td>0.020114</td>\n",
       "      <td>0.975482</td>\n",
       "      <td>0.999078</td>\n",
       "      <td>balanced</td>\n",
       "      <td>4</td>\n",
       "      <td>10</td>\n",
       "      <td>25</td>\n",
       "      <td>{u'max_features': 4, u'min_samples_split': 10,...</td>\n",
       "      <td>7</td>\n",
       "      <td>...</td>\n",
       "      <td>0.961310</td>\n",
       "      <td>0.998810</td>\n",
       "      <td>0.977381</td>\n",
       "      <td>0.999554</td>\n",
       "      <td>0.979762</td>\n",
       "      <td>0.999256</td>\n",
       "      <td>0.017544</td>\n",
       "      <td>0.002194</td>\n",
       "      <td>0.007139</td>\n",
       "      <td>0.000369</td>\n",
       "    </tr>\n",
       "    <tr>\n",
       "      <th>5</th>\n",
       "      <td>0.769327</td>\n",
       "      <td>0.054636</td>\n",
       "      <td>0.976672</td>\n",
       "      <td>0.999673</td>\n",
       "      <td>balanced</td>\n",
       "      <td>4</td>\n",
       "      <td>10</td>\n",
       "      <td>50</td>\n",
       "      <td>{u'max_features': 4, u'min_samples_split': 10,...</td>\n",
       "      <td>6</td>\n",
       "      <td>...</td>\n",
       "      <td>0.969048</td>\n",
       "      <td>0.999702</td>\n",
       "      <td>0.976190</td>\n",
       "      <td>0.999405</td>\n",
       "      <td>0.979762</td>\n",
       "      <td>1.000000</td>\n",
       "      <td>0.126538</td>\n",
       "      <td>0.009130</td>\n",
       "      <td>0.004029</td>\n",
       "      <td>0.000197</td>\n",
       "    </tr>\n",
       "    <tr>\n",
       "      <th>6</th>\n",
       "      <td>0.063456</td>\n",
       "      <td>0.004551</td>\n",
       "      <td>0.972388</td>\n",
       "      <td>0.985986</td>\n",
       "      <td>None</td>\n",
       "      <td>4</td>\n",
       "      <td>10</td>\n",
       "      <td>3</td>\n",
       "      <td>{u'max_features': 4, u'min_samples_split': 10,...</td>\n",
       "      <td>10</td>\n",
       "      <td>...</td>\n",
       "      <td>0.949405</td>\n",
       "      <td>0.985272</td>\n",
       "      <td>0.978571</td>\n",
       "      <td>0.986611</td>\n",
       "      <td>0.976786</td>\n",
       "      <td>0.985123</td>\n",
       "      <td>0.003748</td>\n",
       "      <td>0.000464</td>\n",
       "      <td>0.011535</td>\n",
       "      <td>0.000654</td>\n",
       "    </tr>\n",
       "    <tr>\n",
       "      <th>7</th>\n",
       "      <td>0.104991</td>\n",
       "      <td>0.007637</td>\n",
       "      <td>0.977148</td>\n",
       "      <td>0.986045</td>\n",
       "      <td>None</td>\n",
       "      <td>4</td>\n",
       "      <td>10</td>\n",
       "      <td>5</td>\n",
       "      <td>{u'max_features': 4, u'min_samples_split': 10,...</td>\n",
       "      <td>5</td>\n",
       "      <td>...</td>\n",
       "      <td>0.971429</td>\n",
       "      <td>0.986611</td>\n",
       "      <td>0.977381</td>\n",
       "      <td>0.987504</td>\n",
       "      <td>0.977381</td>\n",
       "      <td>0.985570</td>\n",
       "      <td>0.003140</td>\n",
       "      <td>0.000877</td>\n",
       "      <td>0.003053</td>\n",
       "      <td>0.000925</td>\n",
       "    </tr>\n",
       "    <tr>\n",
       "      <th>8</th>\n",
       "      <td>0.203994</td>\n",
       "      <td>0.012838</td>\n",
       "      <td>0.974768</td>\n",
       "      <td>0.985093</td>\n",
       "      <td>None</td>\n",
       "      <td>4</td>\n",
       "      <td>10</td>\n",
       "      <td>10</td>\n",
       "      <td>{u'max_features': 4, u'min_samples_split': 10,...</td>\n",
       "      <td>8</td>\n",
       "      <td>...</td>\n",
       "      <td>0.955357</td>\n",
       "      <td>0.985719</td>\n",
       "      <td>0.979762</td>\n",
       "      <td>0.985272</td>\n",
       "      <td>0.979762</td>\n",
       "      <td>0.984380</td>\n",
       "      <td>0.009003</td>\n",
       "      <td>0.001971</td>\n",
       "      <td>0.009707</td>\n",
       "      <td>0.000455</td>\n",
       "    </tr>\n",
       "    <tr>\n",
       "      <th>9</th>\n",
       "      <td>0.321053</td>\n",
       "      <td>0.019843</td>\n",
       "      <td>0.978815</td>\n",
       "      <td>0.984676</td>\n",
       "      <td>None</td>\n",
       "      <td>4</td>\n",
       "      <td>10</td>\n",
       "      <td>15</td>\n",
       "      <td>{u'max_features': 4, u'min_samples_split': 10,...</td>\n",
       "      <td>1</td>\n",
       "      <td>...</td>\n",
       "      <td>0.975595</td>\n",
       "      <td>0.985421</td>\n",
       "      <td>0.979762</td>\n",
       "      <td>0.984082</td>\n",
       "      <td>0.979167</td>\n",
       "      <td>0.983785</td>\n",
       "      <td>0.023651</td>\n",
       "      <td>0.002615</td>\n",
       "      <td>0.001626</td>\n",
       "      <td>0.001017</td>\n",
       "    </tr>\n",
       "    <tr>\n",
       "      <th>10</th>\n",
       "      <td>0.494213</td>\n",
       "      <td>0.030725</td>\n",
       "      <td>0.977267</td>\n",
       "      <td>0.983605</td>\n",
       "      <td>None</td>\n",
       "      <td>4</td>\n",
       "      <td>10</td>\n",
       "      <td>25</td>\n",
       "      <td>{u'max_features': 4, u'min_samples_split': 10,...</td>\n",
       "      <td>4</td>\n",
       "      <td>...</td>\n",
       "      <td>0.967262</td>\n",
       "      <td>0.984380</td>\n",
       "      <td>0.979762</td>\n",
       "      <td>0.983636</td>\n",
       "      <td>0.979762</td>\n",
       "      <td>0.982892</td>\n",
       "      <td>0.048962</td>\n",
       "      <td>0.004579</td>\n",
       "      <td>0.005002</td>\n",
       "      <td>0.000493</td>\n",
       "    </tr>\n",
       "    <tr>\n",
       "      <th>11</th>\n",
       "      <td>0.933161</td>\n",
       "      <td>0.054231</td>\n",
       "      <td>0.977743</td>\n",
       "      <td>0.982742</td>\n",
       "      <td>None</td>\n",
       "      <td>4</td>\n",
       "      <td>10</td>\n",
       "      <td>50</td>\n",
       "      <td>{u'max_features': 4, u'min_samples_split': 10,...</td>\n",
       "      <td>2</td>\n",
       "      <td>...</td>\n",
       "      <td>0.969643</td>\n",
       "      <td>0.983487</td>\n",
       "      <td>0.979762</td>\n",
       "      <td>0.982892</td>\n",
       "      <td>0.979762</td>\n",
       "      <td>0.982148</td>\n",
       "      <td>0.039766</td>\n",
       "      <td>0.000702</td>\n",
       "      <td>0.004050</td>\n",
       "      <td>0.000480</td>\n",
       "    </tr>\n",
       "  </tbody>\n",
       "</table>\n",
       "<p>12 rows × 24 columns</p>\n",
       "</div>"
      ],
      "text/plain": [
       "    mean_fit_time  mean_score_time  mean_test_score  mean_train_score  \\\n",
       "0        0.042132         0.003649         0.957986          0.989020   \n",
       "1        0.063091         0.004540         0.969055          0.993871   \n",
       "2        0.123158         0.008615         0.977624          0.995805   \n",
       "3        0.185349         0.025905         0.974530          0.997828   \n",
       "4        0.300260         0.020114         0.975482          0.999078   \n",
       "5        0.769327         0.054636         0.976672          0.999673   \n",
       "6        0.063456         0.004551         0.972388          0.985986   \n",
       "7        0.104991         0.007637         0.977148          0.986045   \n",
       "8        0.203994         0.012838         0.974768          0.985093   \n",
       "9        0.321053         0.019843         0.978815          0.984676   \n",
       "10       0.494213         0.030725         0.977267          0.983605   \n",
       "11       0.933161         0.054231         0.977743          0.982742   \n",
       "\n",
       "   param_class_weight param_max_features param_min_samples_split  \\\n",
       "0            balanced                  4                      10   \n",
       "1            balanced                  4                      10   \n",
       "2            balanced                  4                      10   \n",
       "3            balanced                  4                      10   \n",
       "4            balanced                  4                      10   \n",
       "5            balanced                  4                      10   \n",
       "6                None                  4                      10   \n",
       "7                None                  4                      10   \n",
       "8                None                  4                      10   \n",
       "9                None                  4                      10   \n",
       "10               None                  4                      10   \n",
       "11               None                  4                      10   \n",
       "\n",
       "   param_n_estimators                                             params  \\\n",
       "0                   3  {u'max_features': 4, u'min_samples_split': 10,...   \n",
       "1                   5  {u'max_features': 4, u'min_samples_split': 10,...   \n",
       "2                  10  {u'max_features': 4, u'min_samples_split': 10,...   \n",
       "3                  15  {u'max_features': 4, u'min_samples_split': 10,...   \n",
       "4                  25  {u'max_features': 4, u'min_samples_split': 10,...   \n",
       "5                  50  {u'max_features': 4, u'min_samples_split': 10,...   \n",
       "6                   3  {u'max_features': 4, u'min_samples_split': 10,...   \n",
       "7                   5  {u'max_features': 4, u'min_samples_split': 10,...   \n",
       "8                  10  {u'max_features': 4, u'min_samples_split': 10,...   \n",
       "9                  15  {u'max_features': 4, u'min_samples_split': 10,...   \n",
       "10                 25  {u'max_features': 4, u'min_samples_split': 10,...   \n",
       "11                 50  {u'max_features': 4, u'min_samples_split': 10,...   \n",
       "\n",
       "    rank_test_score       ...         split2_test_score  split2_train_score  \\\n",
       "0                12       ...                  0.942262            0.987950   \n",
       "1                11       ...                  0.948810            0.994198   \n",
       "2                 3       ...                  0.970833            0.995983   \n",
       "3                 9       ...                  0.959524            0.997471   \n",
       "4                 7       ...                  0.961310            0.998810   \n",
       "5                 6       ...                  0.969048            0.999702   \n",
       "6                10       ...                  0.949405            0.985272   \n",
       "7                 5       ...                  0.971429            0.986611   \n",
       "8                 8       ...                  0.955357            0.985719   \n",
       "9                 1       ...                  0.975595            0.985421   \n",
       "10                4       ...                  0.967262            0.984380   \n",
       "11                2       ...                  0.969643            0.983487   \n",
       "\n",
       "    split3_test_score  split3_train_score  split4_test_score  \\\n",
       "0            0.966071            0.990628           0.949405   \n",
       "1            0.969643            0.993008           0.970833   \n",
       "2            0.979762            0.995537           0.979167   \n",
       "3            0.974405            0.997322           0.979762   \n",
       "4            0.977381            0.999554           0.979762   \n",
       "5            0.976190            0.999405           0.979762   \n",
       "6            0.978571            0.986611           0.976786   \n",
       "7            0.977381            0.987504           0.977381   \n",
       "8            0.979762            0.985272           0.979762   \n",
       "9            0.979762            0.984082           0.979167   \n",
       "10           0.979762            0.983636           0.979762   \n",
       "11           0.979762            0.982892           0.979762   \n",
       "\n",
       "    split4_train_score  std_fit_time  std_score_time  std_test_score  \\\n",
       "0             0.988843      0.006765        0.000964        0.010848   \n",
       "1             0.993008      0.009060        0.000511        0.010712   \n",
       "2             0.995388      0.012762        0.001455        0.003423   \n",
       "3             0.998215      0.013998        0.027379        0.007767   \n",
       "4             0.999256      0.017544        0.002194        0.007139   \n",
       "5             1.000000      0.126538        0.009130        0.004029   \n",
       "6             0.985123      0.003748        0.000464        0.011535   \n",
       "7             0.985570      0.003140        0.000877        0.003053   \n",
       "8             0.984380      0.009003        0.001971        0.009707   \n",
       "9             0.983785      0.023651        0.002615        0.001626   \n",
       "10            0.982892      0.048962        0.004579        0.005002   \n",
       "11            0.982148      0.039766        0.000702        0.004050   \n",
       "\n",
       "    std_train_score  \n",
       "0          0.000952  \n",
       "1          0.000789  \n",
       "2          0.000317  \n",
       "3          0.000359  \n",
       "4          0.000369  \n",
       "5          0.000197  \n",
       "6          0.000654  \n",
       "7          0.000925  \n",
       "8          0.000455  \n",
       "9          0.001017  \n",
       "10         0.000493  \n",
       "11         0.000480  \n",
       "\n",
       "[12 rows x 24 columns]"
      ]
     },
     "execution_count": 133,
     "metadata": {},
     "output_type": "execute_result"
    }
   ],
   "source": [
    "results = pd.DataFrame(rfgs.cv_results_)\n",
    "\n",
    "results"
   ]
  },
  {
   "cell_type": "code",
   "execution_count": 131,
   "metadata": {
    "slideshow": {
     "slide_type": "slide"
    }
   },
   "outputs": [
    {
     "data": {
      "text/plain": [
       "array([[8232,    0],\n",
       "       [ 136,   34]])"
      ]
     },
     "execution_count": 131,
     "metadata": {},
     "output_type": "execute_result"
    }
   ],
   "source": [
    "confusion_matrix(df['non_violent_camp'], rf_best.predict(df[x_names]) )"
   ]
  },
  {
   "cell_type": "code",
   "execution_count": 124,
   "metadata": {
    "slideshow": {
     "slide_type": "slide"
    }
   },
   "outputs": [
    {
     "data": {
      "image/png": "[encoded data removed]",
      "text/plain": [
       "<matplotlib.figure.Figure at 0x11803cfd0>"
      ]
     },
     "metadata": {},
     "output_type": "display_data"
    }
   ],
   "source": [
    "y_hat_test = rf_best.predict_proba(df[x_names])[:,1]\n",
    "\n",
    "calibration_plot(df['non_violent_camp'], y_hat_test)"
   ]
  },
  {
   "cell_type": "code",
   "execution_count": 125,
   "metadata": {
    "collapsed": true,
    "slideshow": {
     "slide_type": "slide"
    }
   },
   "outputs": [],
   "source": [
    "# feature importance\n",
    "\n",
    "importances = rf_best.feature_importances_"
   ]
  },
  {
   "cell_type": "code",
   "execution_count": 126,
   "metadata": {
    "slideshow": {
     "slide_type": "slide"
    }
   },
   "outputs": [
    {
     "data": {
      "text/html": [
       "<div>\n",
       "<style>\n",
       "    .dataframe thead tr:only-child th {\n",
       "        text-align: right;\n",
       "    }\n",
       "\n",
       "    .dataframe thead th {\n",
       "        text-align: left;\n",
       "    }\n",
       "\n",
       "    .dataframe tbody tr th {\n",
       "        vertical-align: top;\n",
       "    }\n",
       "</style>\n",
       "<table border=\"1\" class=\"dataframe\">\n",
       "  <thead>\n",
       "    <tr style=\"text-align: right;\">\n",
       "      <th></th>\n",
       "      <th>Feature</th>\n",
       "      <th>Importance</th>\n",
       "    </tr>\n",
       "  </thead>\n",
       "  <tbody>\n",
       "    <tr>\n",
       "      <th>10</th>\n",
       "      <td>GDP_change</td>\n",
       "      <td>0.110561</td>\n",
       "    </tr>\n",
       "    <tr>\n",
       "      <th>11</th>\n",
       "      <td>youth_bulge</td>\n",
       "      <td>0.100115</td>\n",
       "    </tr>\n",
       "    <tr>\n",
       "      <th>0</th>\n",
       "      <td>population_ln</td>\n",
       "      <td>0.086728</td>\n",
       "    </tr>\n",
       "    <tr>\n",
       "      <th>20</th>\n",
       "      <td>manufactoring</td>\n",
       "      <td>0.081496</td>\n",
       "    </tr>\n",
       "    <tr>\n",
       "      <th>1</th>\n",
       "      <td>infant_mort_ln</td>\n",
       "      <td>0.076221</td>\n",
       "    </tr>\n",
       "    <tr>\n",
       "      <th>13</th>\n",
       "      <td>urban_pop</td>\n",
       "      <td>0.073962</td>\n",
       "    </tr>\n",
       "    <tr>\n",
       "      <th>19</th>\n",
       "      <td>torture</td>\n",
       "      <td>0.069652</td>\n",
       "    </tr>\n",
       "    <tr>\n",
       "      <th>5</th>\n",
       "      <td>country_age</td>\n",
       "      <td>0.066819</td>\n",
       "    </tr>\n",
       "    <tr>\n",
       "      <th>3</th>\n",
       "      <td>CPI_sqrt</td>\n",
       "      <td>0.059837</td>\n",
       "    </tr>\n",
       "    <tr>\n",
       "      <th>7</th>\n",
       "      <td>regime_age</td>\n",
       "      <td>0.056777</td>\n",
       "    </tr>\n",
       "    <tr>\n",
       "      <th>4</th>\n",
       "      <td>cell_phones_ln</td>\n",
       "      <td>0.055159</td>\n",
       "    </tr>\n",
       "    <tr>\n",
       "      <th>16</th>\n",
       "      <td>secondary_school</td>\n",
       "      <td>0.049690</td>\n",
       "    </tr>\n",
       "    <tr>\n",
       "      <th>2</th>\n",
       "      <td>leader_tenure</td>\n",
       "      <td>0.041253</td>\n",
       "    </tr>\n",
       "    <tr>\n",
       "      <th>9</th>\n",
       "      <td>service</td>\n",
       "      <td>0.033027</td>\n",
       "    </tr>\n",
       "    <tr>\n",
       "      <th>6</th>\n",
       "      <td>coups_recent</td>\n",
       "      <td>0.008363</td>\n",
       "    </tr>\n",
       "    <tr>\n",
       "      <th>12</th>\n",
       "      <td>election_year</td>\n",
       "      <td>0.006840</td>\n",
       "    </tr>\n",
       "    <tr>\n",
       "      <th>8</th>\n",
       "      <td>ethnic_salient</td>\n",
       "      <td>0.006283</td>\n",
       "    </tr>\n",
       "    <tr>\n",
       "      <th>14</th>\n",
       "      <td>democracy</td>\n",
       "      <td>0.005741</td>\n",
       "    </tr>\n",
       "    <tr>\n",
       "      <th>17</th>\n",
       "      <td>state_discriminate</td>\n",
       "      <td>0.005146</td>\n",
       "    </tr>\n",
       "    <tr>\n",
       "      <th>18</th>\n",
       "      <td>civil_war</td>\n",
       "      <td>0.003266</td>\n",
       "    </tr>\n",
       "    <tr>\n",
       "      <th>15</th>\n",
       "      <td>wto_gatt</td>\n",
       "      <td>0.003064</td>\n",
       "    </tr>\n",
       "  </tbody>\n",
       "</table>\n",
       "</div>"
      ],
      "text/plain": [
       "               Feature  Importance\n",
       "10          GDP_change    0.110561\n",
       "11         youth_bulge    0.100115\n",
       "0        population_ln    0.086728\n",
       "20       manufactoring    0.081496\n",
       "1       infant_mort_ln    0.076221\n",
       "13           urban_pop    0.073962\n",
       "19             torture    0.069652\n",
       "5          country_age    0.066819\n",
       "3             CPI_sqrt    0.059837\n",
       "7           regime_age    0.056777\n",
       "4       cell_phones_ln    0.055159\n",
       "16    secondary_school    0.049690\n",
       "2        leader_tenure    0.041253\n",
       "9              service    0.033027\n",
       "6         coups_recent    0.008363\n",
       "12       election_year    0.006840\n",
       "8       ethnic_salient    0.006283\n",
       "14           democracy    0.005741\n",
       "17  state_discriminate    0.005146\n",
       "18           civil_war    0.003266\n",
       "15            wto_gatt    0.003064"
      ]
     },
     "execution_count": 126,
     "metadata": {},
     "output_type": "execute_result"
    }
   ],
   "source": [
    "idf = pd.DataFrame(zip(x_names,importances), columns = ['Feature', 'Importance'])\n",
    "idf.sort_values(by='Importance', ascending=False)"
   ]
  },
  {
   "cell_type": "code",
   "execution_count": 127,
   "metadata": {
    "slideshow": {
     "slide_type": "slide"
    }
   },
   "outputs": [
    {
     "data": {
      "text/plain": [
       "<matplotlib.axes._subplots.AxesSubplot at 0x117dd7390>"
      ]
     },
     "execution_count": 127,
     "metadata": {},
     "output_type": "execute_result"
    },
    {
     "data": {
      "image/png": "[encoded data removed]",
      "text/plain": [
       "<matplotlib.figure.Figure at 0x117dd7c90>"
      ]
     },
     "metadata": {},
     "output_type": "display_data"
    }
   ],
   "source": [
    "idf = pd.DataFrame(importances, index = x_names, columns=['Importance'])\n",
    "idf.sort_values(by='Importance').plot(kind='barh', )"
   ]
  },
  {
   "cell_type": "markdown",
   "metadata": {
    "slideshow": {
     "slide_type": "slide"
    }
   },
   "source": [
    "### Your turn! \n",
    "\n",
    "Read the scikitlearn page on Random Forest Classifiers. Know, understand and tweak the model. What's the best you can do?\n",
    "http://scikit-learn.org/stable/modules/generated/sklearn.ensemble.RandomForestClassifier.html . \n",
    "\n",
    "\n",
    "### Bonus Challenge\n",
    "We of course have been overfitting the data still. Rerun your analysis, but save out 20% to test your final, final, final model. \n",
    "\n",
    "### Bonus Bonus Challenge\n",
    "Use only the data up to 1989. How well does it predict post 1989 movements?\n",
    "\n"
   ]
  },
  {
   "cell_type": "code",
   "execution_count": 218,
   "metadata": {},
   "outputs": [
    {
     "name": "stdout",
     "output_type": "stream",
     "text": [
      "Accuracy: 0.601 (+/- 0.066) [Random Forest]\n",
      "Accuracy: 0.551 (+/- 0.047) [KNN]\n",
      "Accuracy: 0.758 (+/- 0.063) [SVC]\n",
      "Accuracy: 0.779 (+/- 0.046) [Logistic]\n",
      "Accuracy: 0.781 (+/- 0.049) [Ensemble]\n"
     ]
    }
   ],
   "source": [
    "from sklearn.ensemble import VotingClassifier\n",
    "from sklearn.linear_model import LogisticRegression\n",
    "from sklearn.neighbors import KNeighborsClassifier\n",
    "from sklearn.svm import SVC\n",
    "from itertools import product\n",
    "\n",
    "\n",
    "X = X_train\n",
    "y = y_train\n",
    "\n",
    "# Training classifiers\n",
    "clf1 = RandomForestClassifier()\n",
    "clf2 = KNeighborsClassifier(n_neighbors=3)\n",
    "clf3 = SVC(kernel='rbf', probability=True)\n",
    "clf4 = LogisticRegression()\n",
    "\n",
    "\n",
    "\n",
    "\n",
    "clf1 = clf1.fit(X,y)\n",
    "clf2 = clf2.fit(X,y)\n",
    "clf3 = clf3.fit(X,y)\n",
    "clf4 = clf4.fit(X,y)\n",
    "\n",
    "\n",
    "eclf = VotingClassifier(estimators=[('rf', clf1), ('knn', clf2), ('svc', clf3),  ('lr', clf4)], voting='soft')\n",
    "\n",
    "\n"
   ]
  },
  {
   "cell_type": "code",
   "execution_count": 221,
   "metadata": {},
   "outputs": [
    {
     "name": "stdout",
     "output_type": "stream",
     "text": [
      "Accuracy: -0.450 (+/- 0.096) [Random Forest]\n",
      "Accuracy: -0.617 (+/- 0.062) [KNN]\n",
      "Accuracy: -0.092 (+/- 0.002) [SVC]\n",
      "Accuracy: -0.090 (+/- 0.005) [Logistic]\n",
      "Accuracy: -0.089 (+/- 0.002) [Ensemble]\n"
     ]
    }
   ],
   "source": [
    "for clf, label in zip([clf1, clf2, clf3, clf4, eclf], ['Random Forest', 'KNN', 'SVC', 'Logistic', 'Ensemble']):\n",
    "    scores = cross_validation.cross_val_score(clf, X_test, y_test, cv=5, scoring='log_loss')\n",
    "    print(\"Accuracy: %0.3f (+/- %0.3f) [%s]\" % (scores.mean(), scores.std(), label))"
   ]
  },
  {
   "cell_type": "code",
   "execution_count": null,
   "metadata": {
    "collapsed": true
   },
   "outputs": [],
   "source": [
    "from sklearn import svm"
   ]
  },
  {
   "cell_type": "code",
   "execution_count": 28,
   "metadata": {},
   "outputs": [
    {
     "name": "stdout",
     "output_type": "stream",
     "text": [
      "Fitting 10 folds for each of 4 candidates, totalling 40 fits\n"
     ]
    },
    {
     "name": "stderr",
     "output_type": "stream",
     "text": [
      "[Parallel(n_jobs=4)]: Done  40 out of  40 | elapsed:  1.4min finished\n"
     ]
    }
   ],
   "source": [
    "param_dist = {\"kernel\": ['linear', 'poly', 'rbf', 'sigmoid']}\n",
    "\n",
    "\n",
    "\n",
    "svc_gs = GridSearchCV(svm.SVC(kernel='linear',\n",
    "                              probability = True,\n",
    "                              class_weight = 'balanced'),\n",
    "                      param_dist,\n",
    "                      cv = 10,\n",
    "                      n_jobs=4,\n",
    "                      scoring = 'log_loss',\n",
    "                      verbose=1 ).fit(X_train,y_train)\n",
    "    "
   ]
  },
  {
   "cell_type": "code",
   "execution_count": 30,
   "metadata": {
    "collapsed": true
   },
   "outputs": [],
   "source": [
    "svc = svc_gs.best_estimator_"
   ]
  },
  {
   "cell_type": "code",
   "execution_count": 31,
   "metadata": {},
   "outputs": [
    {
     "data": {
      "text/plain": [
       "array([[2581,  125],\n",
       "       [  50,   17]])"
      ]
     },
     "execution_count": 31,
     "metadata": {},
     "output_type": "execute_result"
    }
   ],
   "source": [
    "confusion_matrix(y_test, svc.predict(X_test) )"
   ]
  },
  {
   "cell_type": "code",
   "execution_count": 61,
   "metadata": {},
   "outputs": [
    {
     "data": {
      "text/plain": [
       "VotingClassifier(estimators=[('rf', RandomForestClassifier(bootstrap=True, class_weight='balanced',\n",
       "            criterion='gini', max_depth=None, max_features=6,\n",
       "            max_leaf_nodes=None, min_samples_leaf=1, min_samples_split=25,\n",
       "            min_weight_fraction_leaf=0.0, n_estimators=15, n_jobs=1,\n",
       "           ...ty='l2', random_state=None, solver='liblinear', tol=0.0001,\n",
       "          verbose=0, warm_start=False))],\n",
       "         voting='soft', weights=None)"
      ]
     },
     "execution_count": 61,
     "metadata": {},
     "output_type": "execute_result"
    }
   ],
   "source": [
    "from sklearn.ensemble import VotingClassifier\n",
    "from sklearn.linear_model import LogisticRegression\n",
    "from sklearn.neighbors import KNeighborsClassifier\n",
    "from sklearn.svm import SVC\n",
    "from itertools import product\n",
    "\n",
    "\n",
    "lr = LogisticRegression()\n",
    "lr.fit(X_train, y_train)\n",
    "\n",
    "eclf = VotingClassifier(estimators=[('rf', rf_best), ('svc', svc),  ('lr', lr)], voting='soft')\n",
    "eclf.fit(X_train, y_train)"
   ]
  },
  {
   "cell_type": "code",
   "execution_count": 62,
   "metadata": {},
   "outputs": [
    {
     "name": "stdout",
     "output_type": "stream",
     "text": [
      "Accuracy: -0.232 (+/- 0.077) [Random Forest]\n",
      "Accuracy: -0.104 (+/- 0.008) [SVC]\n",
      "Accuracy: -0.107 (+/- 0.010) [Logistic]\n",
      "Accuracy: -0.106 (+/- 0.008) [Ensemble]\n"
     ]
    }
   ],
   "source": [
    "for clf, label in zip([rf_best, svc, lr, eclf], ['Random Forest', 'SVC', 'Logistic', 'Ensemble']):\n",
    "    scores = cross_validation.cross_val_score(clf, X_test, y_test, cv=5, scoring='log_loss')\n",
    "    print(\"Accuracy: %0.3f (+/- %0.3f) [%s]\" % (scores.mean(), scores.std(), label))"
   ]
  },
  {
   "cell_type": "code",
   "execution_count": 51,
   "metadata": {
    "collapsed": true
   },
   "outputs": [],
   "source": [
    "eclf_y_hat = eclf.predict_proba(df[x_names])[:,1]"
   ]
  },
  {
   "cell_type": "code",
   "execution_count": 53,
   "metadata": {},
   "outputs": [
    {
     "data": {
      "image/png": "[encoded data removed]",
      "text/plain": [
       "<matplotlib.figure.Figure at 0x11b2ef810>"
      ]
     },
     "metadata": {},
     "output_type": "display_data"
    }
   ],
   "source": [
    "calibration_plot(df['non_violent_camp'], eclf_y_hat)"
   ]
  },
  {
   "cell_type": "code",
   "execution_count": 57,
   "metadata": {},
   "outputs": [
    {
     "name": "stdout",
     "output_type": "stream",
     "text": [
      "Fitting 10 folds for each of 9 candidates, totalling 90 fits\n"
     ]
    },
    {
     "name": "stderr",
     "output_type": "stream",
     "text": [
      "[Parallel(n_jobs=4)]: Done  90 out of  90 | elapsed:    1.7s finished\n"
     ]
    }
   ],
   "source": [
    "param_grid = {'C': [0.001, 0.01, 0.1, 1, 10, 100, 1000, 5000, 10000] }\n",
    "\n",
    "\n",
    "l_b   = GridSearchCV( LogisticRegression(class_weight =\"balanced\"),\n",
    "                  param_grid, \n",
    "                  cv = 10,\n",
    "                    n_jobs=4,\n",
    "                  \n",
    "                  scoring = 'log_loss',\n",
    "                  verbose=1 ).fit(X_train,y_train)"
   ]
  }
 ],
 "metadata": {
  "anaconda-cloud": {},
  "celltoolbar": "Slideshow",
  "kernelspec": {
   "display_name": "Python [default]",
   "language": "python",
   "name": "python2"
  },
  "language_info": {
   "codemirror_mode": {
    "name": "ipython",
    "version": 2
   },
   "file_extension": ".py",
   "mimetype": "text/x-python",
   "name": "python",
   "nbconvert_exporter": "python",
   "pygments_lexer": "ipython2",
   "version": "2.7.13"
  }
 },
 "nbformat": 4,
 "nbformat_minor": 1
}
